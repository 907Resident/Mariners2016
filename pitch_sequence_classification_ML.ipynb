{
  "nbformat": 4,
  "nbformat_minor": 0,
  "metadata": {
    "colab": {
      "name": "pitch-sequence-classification-ML",
      "provenance": [],
      "collapsed_sections": [
        "-O2129bc2bfA"
      ],
      "toc_visible": true,
      "include_colab_link": true
    },
    "kernelspec": {
      "display_name": "Python 3",
      "name": "python3"
    },
    "language_info": {
      "name": "python"
    }
  },
  "cells": [
    {
      "cell_type": "markdown",
      "metadata": {
        "id": "view-in-github",
        "colab_type": "text"
      },
      "source": [
        "<a href=\"https://colab.research.google.com/github/907Resident/pitch-sequence/blob/main/pitch_sequence_classification_ML.ipynb\" target=\"_parent\"><img src=\"https://colab.research.google.com/assets/colab-badge.svg\" alt=\"Open In Colab\"/></a>"
      ]
    },
    {
      "cell_type": "markdown",
      "metadata": {
        "id": "WDZn86trlvti"
      },
      "source": [
        "# Classifying Baseball Events\n",
        "Using pitch data, can we predict what pitch type will lead to specific events?\n",
        "\n",
        "See [pitch-sequence repo](https://github.com/907Resident/pitch-sequence) for more details."
      ]
    },
    {
      "cell_type": "markdown",
      "metadata": {
        "id": "BiBB-G8Rm9BZ"
      },
      "source": [
        "## Mount Google Drive \n",
        "This can be accomplished manually using the by clicking the file folder icon on the left or can be accomplished programmatically by executing the code in this cell"
      ]
    },
    {
      "cell_type": "code",
      "metadata": {
        "colab": {
          "base_uri": "https://localhost:8080/"
        },
        "id": "YYSpTESXlisA",
        "outputId": "052ecdbc-266d-4d44-f2d1-f3ef5565c8d7"
      },
      "source": [
        "# Mount Google Drive\n",
        "from google.colab import drive\n",
        "drive.mount('/content/gdrive')"
      ],
      "execution_count": 1,
      "outputs": [
        {
          "output_type": "stream",
          "text": [
            "Mounted at /content/gdrive\n"
          ],
          "name": "stdout"
        }
      ]
    },
    {
      "cell_type": "code",
      "metadata": {
        "colab": {
          "base_uri": "https://localhost:8080/"
        },
        "id": "9pKZLTwenlNw",
        "outputId": "20c3adff-464b-4fb9-89a0-f6e70eee31ee"
      },
      "source": [
        "# Point toward pitch-sequence subdirectory\n",
        "%cd /content/gdrive/My Drive/Colab Notebooks/pitch-sequence"
      ],
      "execution_count": 2,
      "outputs": [
        {
          "output_type": "stream",
          "text": [
            "/content/gdrive/My Drive/Colab Notebooks/pitch-sequence\n"
          ],
          "name": "stdout"
        }
      ]
    },
    {
      "cell_type": "markdown",
      "metadata": {
        "id": "CVTymyfcrJhR"
      },
      "source": [
        "### Import modules and data"
      ]
    },
    {
      "cell_type": "code",
      "metadata": {
        "id": "OLFYxbEcoHuA"
      },
      "source": [
        "# Import necessary libaries\n",
        "import pandas as pd\n",
        "import numpy as np\n",
        "import matplotlib.pyplot as plt\n",
        "import seaborn as sns"
      ],
      "execution_count": 3,
      "outputs": []
    },
    {
      "cell_type": "markdown",
      "metadata": {
        "id": "yHLMkkH2n1WR"
      },
      "source": [
        "## Preprocessing and ML Preparation\n",
        "Import necessary modules, updates, data files, and organize data for heavier lifting in the subsequent sections"
      ]
    },
    {
      "cell_type": "markdown",
      "metadata": {
        "id": "Gh4ysD4lrNPR"
      },
      "source": [
        "`clean_pitching_data_all.csv` was created in the EDA phase with another notebook. This .csv contains cleaned data for the 2016-2019 seasons(pitch-sequence-SO.ipynb). Several features were engineered during that phase and more may be added below."
      ]
    },
    {
      "cell_type": "markdown",
      "metadata": {
        "id": "Z3GARWArJzlx"
      },
      "source": [
        "### Import data\n"
      ]
    },
    {
      "cell_type": "code",
      "metadata": {
        "colab": {
          "base_uri": "https://localhost:8080/",
          "height": 236
        },
        "id": "fVVj4veLodrJ",
        "outputId": "e9e57ade-7419-43a8-8c3a-9543280a49ba"
      },
      "source": [
        "# Establish preferred data types\n",
        "preferred_dtypes ={\n",
        "    \"px\":\"float32\", \"pz\":\"float32\",\"break_angle\":\"float32\", \n",
        "    \"break_length\":\"float32\",\"start_speed\":\"float32\", \"end_speed\":\"float32\", \n",
        "    \"sz_bot\":\"float32\", \"sz_top\":\"float32\",\n",
        "    \"code\":\"category\", \"pitch_type\":\"category\",\n",
        "    \"outs\":\"int\", \"event\":\"category\", \"b_count\":\"int\",\n",
        "    \"s_count\":\"int\", \"p_score\":\"int\", \"pitch_num\":\"int\",\n",
        "    \"inning\":\"int\", \"ab_id\":\"str\", \"first_name\":\"str\",\n",
        "    \"last_name\":\"str\", \"speed_diff\":\"float32\",\n",
        "    }\n",
        "# Import data into workspace\n",
        "df_main = pd.read_csv(\"clean_pitching_data_all.csv\", dtype=preferred_dtypes)\n",
        "# Confirm that \"ab_id\" is a string so that it does not show up in scientific\n",
        "# notation\n",
        "df_main[\"ab_id\"] = df_main.ab_id.astype(\"int64\").astype(\"str\")\n",
        "# Confirm \"pitch_type\" and \"code\" are categories\n",
        "df_main[\"code\"] = df_main.code.astype(\"category\")\n",
        "df_main[\"pitch_type\"] = df_main.pitch_type.astype(\"category\")\n",
        "## From the EDA notebook, we know to drop three of the pitch types\n",
        "relevant_pitch_types = ['CH', 'CU', 'FC', 'FF', 'FS', 'FT', 'KC', \n",
        "                        'SI', 'SL']\n",
        "filter_mask = df_main.pitch_type.isin(relevant_pitch_types)\n",
        "df_main = df_main.loc[filter_mask]\n",
        "\n",
        "# Drop redundant features as well as useless\n",
        "df_main.drop(columns=[\"px\", \"pz\", \"sz_bot\", \"sz_top\"], \n",
        "             inplace=True)\n",
        "\n",
        "# Preview dataframe\n",
        "print(df_main.shape)\n",
        "df_main.head()"
      ],
      "execution_count": 4,
      "outputs": [
        {
          "output_type": "stream",
          "text": [
            "(2860885, 25)\n"
          ],
          "name": "stdout"
        },
        {
          "output_type": "execute_result",
          "data": {
            "text/html": [
              "<div>\n",
              "<style scoped>\n",
              "    .dataframe tbody tr th:only-of-type {\n",
              "        vertical-align: middle;\n",
              "    }\n",
              "\n",
              "    .dataframe tbody tr th {\n",
              "        vertical-align: top;\n",
              "    }\n",
              "\n",
              "    .dataframe thead th {\n",
              "        text-align: right;\n",
              "    }\n",
              "</style>\n",
              "<table border=\"1\" class=\"dataframe\">\n",
              "  <thead>\n",
              "    <tr style=\"text-align: right;\">\n",
              "      <th></th>\n",
              "      <th>start_speed</th>\n",
              "      <th>end_speed</th>\n",
              "      <th>spin_rate</th>\n",
              "      <th>spin_dir</th>\n",
              "      <th>break_angle</th>\n",
              "      <th>break_length</th>\n",
              "      <th>code</th>\n",
              "      <th>pitch_type</th>\n",
              "      <th>b_score</th>\n",
              "      <th>ab_id</th>\n",
              "      <th>b_count</th>\n",
              "      <th>s_count</th>\n",
              "      <th>outs</th>\n",
              "      <th>pitch_num</th>\n",
              "      <th>event</th>\n",
              "      <th>inning</th>\n",
              "      <th>p_score</th>\n",
              "      <th>p_throws</th>\n",
              "      <th>pitcher_id</th>\n",
              "      <th>first_name</th>\n",
              "      <th>last_name</th>\n",
              "      <th>break_y</th>\n",
              "      <th>speed_diff</th>\n",
              "      <th>located_strike</th>\n",
              "      <th>location_call</th>\n",
              "    </tr>\n",
              "  </thead>\n",
              "  <tbody>\n",
              "    <tr>\n",
              "      <th>0</th>\n",
              "      <td>96.099998</td>\n",
              "      <td>87.699997</td>\n",
              "      <td>2564.835</td>\n",
              "      <td>238.878</td>\n",
              "      <td>43.099998</td>\n",
              "      <td>5.9</td>\n",
              "      <td>C</td>\n",
              "      <td>SI</td>\n",
              "      <td>0.0</td>\n",
              "      <td>2016000001</td>\n",
              "      <td>0</td>\n",
              "      <td>0</td>\n",
              "      <td>0</td>\n",
              "      <td>1</td>\n",
              "      <td>Lineout</td>\n",
              "      <td>1</td>\n",
              "      <td>0</td>\n",
              "      <td>R</td>\n",
              "      <td>450172</td>\n",
              "      <td>Edinson</td>\n",
              "      <td>Volquez</td>\n",
              "      <td>NaN</td>\n",
              "      <td>NaN</td>\n",
              "      <td>1</td>\n",
              "      <td>strike</td>\n",
              "    </tr>\n",
              "    <tr>\n",
              "      <th>1</th>\n",
              "      <td>81.900002</td>\n",
              "      <td>75.800003</td>\n",
              "      <td>1210.643</td>\n",
              "      <td>56.558</td>\n",
              "      <td>-13.200000</td>\n",
              "      <td>10.7</td>\n",
              "      <td>C</td>\n",
              "      <td>KC</td>\n",
              "      <td>0.0</td>\n",
              "      <td>2016000001</td>\n",
              "      <td>0</td>\n",
              "      <td>1</td>\n",
              "      <td>0</td>\n",
              "      <td>2</td>\n",
              "      <td>Lineout</td>\n",
              "      <td>1</td>\n",
              "      <td>0</td>\n",
              "      <td>R</td>\n",
              "      <td>450172</td>\n",
              "      <td>Edinson</td>\n",
              "      <td>Volquez</td>\n",
              "      <td>NaN</td>\n",
              "      <td>NaN</td>\n",
              "      <td>1</td>\n",
              "      <td>strike</td>\n",
              "    </tr>\n",
              "    <tr>\n",
              "      <th>2</th>\n",
              "      <td>96.199997</td>\n",
              "      <td>88.000000</td>\n",
              "      <td>2765.216</td>\n",
              "      <td>233.837</td>\n",
              "      <td>46.200001</td>\n",
              "      <td>5.3</td>\n",
              "      <td>B</td>\n",
              "      <td>SI</td>\n",
              "      <td>0.0</td>\n",
              "      <td>2016000001</td>\n",
              "      <td>0</td>\n",
              "      <td>2</td>\n",
              "      <td>0</td>\n",
              "      <td>3</td>\n",
              "      <td>Lineout</td>\n",
              "      <td>1</td>\n",
              "      <td>0</td>\n",
              "      <td>R</td>\n",
              "      <td>450172</td>\n",
              "      <td>Edinson</td>\n",
              "      <td>Volquez</td>\n",
              "      <td>NaN</td>\n",
              "      <td>NaN</td>\n",
              "      <td>0</td>\n",
              "      <td>ball</td>\n",
              "    </tr>\n",
              "    <tr>\n",
              "      <th>3</th>\n",
              "      <td>95.900002</td>\n",
              "      <td>88.199997</td>\n",
              "      <td>2727.998</td>\n",
              "      <td>242.226</td>\n",
              "      <td>45.700001</td>\n",
              "      <td>6.0</td>\n",
              "      <td>B</td>\n",
              "      <td>SI</td>\n",
              "      <td>0.0</td>\n",
              "      <td>2016000001</td>\n",
              "      <td>1</td>\n",
              "      <td>2</td>\n",
              "      <td>0</td>\n",
              "      <td>4</td>\n",
              "      <td>Lineout</td>\n",
              "      <td>1</td>\n",
              "      <td>0</td>\n",
              "      <td>R</td>\n",
              "      <td>450172</td>\n",
              "      <td>Edinson</td>\n",
              "      <td>Volquez</td>\n",
              "      <td>NaN</td>\n",
              "      <td>NaN</td>\n",
              "      <td>0</td>\n",
              "      <td>ball</td>\n",
              "    </tr>\n",
              "    <tr>\n",
              "      <th>4</th>\n",
              "      <td>83.400002</td>\n",
              "      <td>76.199997</td>\n",
              "      <td>1055.504</td>\n",
              "      <td>69.753</td>\n",
              "      <td>-13.900000</td>\n",
              "      <td>9.9</td>\n",
              "      <td>F</td>\n",
              "      <td>KC</td>\n",
              "      <td>0.0</td>\n",
              "      <td>2016000001</td>\n",
              "      <td>2</td>\n",
              "      <td>2</td>\n",
              "      <td>0</td>\n",
              "      <td>5</td>\n",
              "      <td>Lineout</td>\n",
              "      <td>1</td>\n",
              "      <td>0</td>\n",
              "      <td>R</td>\n",
              "      <td>450172</td>\n",
              "      <td>Edinson</td>\n",
              "      <td>Volquez</td>\n",
              "      <td>NaN</td>\n",
              "      <td>NaN</td>\n",
              "      <td>1</td>\n",
              "      <td>strike</td>\n",
              "    </tr>\n",
              "  </tbody>\n",
              "</table>\n",
              "</div>"
            ],
            "text/plain": [
              "   start_speed  end_speed  spin_rate  ...  speed_diff  located_strike  location_call\n",
              "0    96.099998  87.699997   2564.835  ...         NaN               1         strike\n",
              "1    81.900002  75.800003   1210.643  ...         NaN               1         strike\n",
              "2    96.199997  88.000000   2765.216  ...         NaN               0           ball\n",
              "3    95.900002  88.199997   2727.998  ...         NaN               0           ball\n",
              "4    83.400002  76.199997   1055.504  ...         NaN               1         strike\n",
              "\n",
              "[5 rows x 25 columns]"
            ]
          },
          "metadata": {
            "tags": []
          },
          "execution_count": 4
        }
      ]
    },
    {
      "cell_type": "markdown",
      "metadata": {
        "id": "wee3oiecvRj0"
      },
      "source": [
        "### Preprocess Data\n",
        "In this section the cleaned data is processed into a format that is conducive for ML. "
      ]
    },
    {
      "cell_type": "markdown",
      "metadata": {
        "id": "nQXjWIo1vcFD"
      },
      "source": [
        "Visualize the number of occurences for the target variable, `event`."
      ]
    },
    {
      "cell_type": "code",
      "metadata": {
        "colab": {
          "base_uri": "https://localhost:8080/",
          "height": 395
        },
        "id": "4vbfIH9Y085i",
        "outputId": "3f4fd16b-0c70-470f-e07a-fac3ab06a1fe"
      },
      "source": [
        "# Target variable: Graph the frequency of outcomes\n",
        "sns.set_theme(context=\"notebook\", style=\"darkgrid\", palette=\"gist_ncar_r\")\n",
        "\n",
        "# Events\n",
        "fig = plt.figure(figsize=(20,12))\n",
        "sns.countplot(y=\"event\", data=df_main, orient=\"h\")\n",
        "plt.xscale(\"linear\")\n",
        "plt.show()\n",
        "fig.savefig(\"figures/events-countplot.png\")"
      ],
      "execution_count": 5,
      "outputs": [
        {
          "output_type": "display_data",
          "data": {
            "image/png": "[encoded data removed]",
            "text/plain": [
              "<Figure size 1440x864 with 1 Axes>"
            ]
          },
          "metadata": {
            "tags": []
          }
        }
      ]
    },
    {
      "cell_type": "code",
      "metadata": {
        "colab": {
          "base_uri": "https://localhost:8080/"
        },
        "id": "VGenIsWbv3mb",
        "outputId": "3c7025e4-a0b7-4d8f-e63d-e807a865c352"
      },
      "source": [
        "# Sort Events by Occurences\n",
        "df_main.groupby(\"event\").event.count().sort_values(ascending=False)"
      ],
      "execution_count": 6,
      "outputs": [
        {
          "output_type": "execute_result",
          "data": {
            "text/plain": [
              "event\n",
              "Strikeout                       778181\n",
              "Groundout                       455963\n",
              "Single                          360114\n",
              "Walk                            336358\n",
              "Flyout                          272196\n",
              "Lineout                         151690\n",
              "Pop Out                         119214\n",
              "Double                          112379\n",
              "Home Run                         80754\n",
              "Forceout                         45984\n",
              "Grounded Into DP                 44941\n",
              "Hit By Pitch                     22669\n",
              "Field Error                      21126\n",
              "Sac Fly                          15149\n",
              "Triple                           11378\n",
              "Sac Bunt                          6735\n",
              "Double Play                       5716\n",
              "Fielders Choice Out               3883\n",
              "Runner Out                        3141\n",
              "Strikeout - DP                    2774\n",
              "Fielders Choice                   2274\n",
              "Intent Walk                       2009\n",
              "Bunt Groundout                    1929\n",
              "Strikeout Double Play              910\n",
              "Bunt Pop Out                       899\n",
              "Catcher Interference               644\n",
              "Batter Interference                588\n",
              "Caught Stealing 2B                 498\n",
              "Sac Fly DP                         175\n",
              "Fan Interference                   119\n",
              "Pickoff Caught Stealing 2B          78\n",
              "Bunt Lineout                        77\n",
              "Pickoff 1B                          74\n",
              "Triple Play                         62\n",
              "Caught Stealing Home                49\n",
              "Sac Fly Double Play                 37\n",
              "Caught Stealing 3B                  26\n",
              "Pickoff 2B                          21\n",
              "Pickoff Caught Stealing Home        14\n",
              "Wild Pitch                          13\n",
              "Pickoff 3B                          10\n",
              "Sac Bunt Double Play                 7\n",
              "Runner Double Play                   6\n",
              "Pickoff Caught Stealing 3B           6\n",
              "Game Advisory                        5\n",
              "Sacrifice Bunt DP                    4\n",
              "Passed Ball                          3\n",
              "Pickoff Error 1B                     2\n",
              "Stolen Base 2B                       1\n",
              "Name: event, dtype: int64"
            ]
          },
          "metadata": {
            "tags": []
          },
          "execution_count": 6
        }
      ]
    },
    {
      "cell_type": "markdown",
      "metadata": {
        "id": "NrFc3LwQvk-j"
      },
      "source": [
        "### Mapped data: Lumping similar together\n",
        "It is pretty clear that strikeout leads the way followed by ground, single, and walk. However, we can use our baseball knowledge to better make sense of which catrgories are similar. Since some events are relatively low, we will combine them together to increase the likelihood that our model can predict the \"lumped\" together `event`. \n",
        "\n",
        "Thus, combining the data above and knowledge of baseball, we get the following six outcomes for our target variable\n",
        "- Non-HR Hit <- Single, Double, Triple\n",
        "- HR < - Home Run\n",
        "- Defensive Out <- Groundout, Flyout, Lineout, Pop Out, Forceout, Grounded Into DP, Double Play, Bunt Groundout, Fielders Choice, Fielders Choice Out, Bunt Lineout, Bunt Pop Out, Triple Play\n",
        "- Strikeout <- Strikeout, Strikeout Double Play\n",
        "- Walk <- Walk, Hit by Pitch, Intent Walk\n",
        "- Sacrifice <- Sac Fly, Sac Bunt, Sac Fly Double Play, Sac Bunt Double Play\n",
        "- Other <- Field Error, Catcher Interference, Batter Interference, Fan Interference\n",
        "\n",
        "Sacrifice plays are an interesting subcategory because the rely on the presence and location of baserunners, the score of the game, and the prowress of the batter. Sacrifice events ($n = 5208$) such as:\n",
        "- Sac Fly\n",
        "- Sac Bunt\n",
        "- Sac Fly Double Play\n",
        "- Sac Bunt Double Play\n",
        "\n",
        "will be scruitinzed carefully due to the fact these are not registered statistically as at bats. Furthermore, it will be intriguing to see how `pitch_type`, a charactristic of the pitcher, will relate to this play that is largely guided by factors external to the pitchers decision to throw a a specific pitch.\n",
        "\n",
        "Similarly, plays that do not require the interaction between the pitcher and the batter are also dropped. For example, the [pickoff play](https://en.wikipedia.org/wiki/Pickoff) involves the pitcher throwing to a fellow defensive player to get an out. This does not require the interaction between the pitcher and the batter. Therefore the following inter-pitch events ($n = 801$) are also dropped: \n",
        "- Caught Stealing 2B\n",
        "- Pickoff Caught Stealing 2B\n",
        "- Pickoff 1B\n",
        "- Caught Stealing Home\n",
        "- Caught Stealing 3B\n",
        "- Pickoff 2B\n",
        "- Pickoff Caught Stealing Home\n",
        "- Wild Pitch\n",
        "- Pickoff 3B\n",
        "- Pickoff Caught Stealing 3B\n",
        "- Passed Ball\n",
        "- Pickoff Error 1B\n",
        "- Stolen Base 2B\n",
        "- Runner Double Play\n",
        "- Runner Out\n",
        "\n"
      ]
    },
    {
      "cell_type": "code",
      "metadata": {
        "colab": {
          "base_uri": "https://localhost:8080/"
        },
        "id": "E7_sigwEWrvp",
        "outputId": "b8e3b7e8-a193-474e-a03f-88eabc0573f6"
      },
      "source": [
        "# Create new dataframe \"df_prepped\"\n",
        "df_prepped = df_main.reset_index(drop=True)\n",
        "\n",
        "# List of non-at bat events\n",
        "non_at_bat_subs_lst = \\\n",
        "[\"Caught Stealing 2B\", \"Pickoff Caught Stealing 2B\", \"Pickoff 1B\", \n",
        " \"Caught Stealing Home\", \"Caught Stealing 3B\", \"Pickoff 2B\", \n",
        " \"Pickoff Caught Stealing Home\", \"Wild Pitch\", \"Pickoff 3B\", \n",
        " \"Pickoff Caught Stealing 3B\", \"Passed Ball\", \"Pickoff Error 1B\", \n",
        " \"Stolen Base 2B\", \"Runner Double Play\", \"Runner Out\"]\n",
        "\n",
        "# Drop non-at bat events\n",
        "mask = df_prepped.event.isin(non_at_bat_subs_lst)\n",
        "df_prepped.event.iloc[mask] = np.nan\n",
        "df_prepped = df_prepped[df_prepped[\"event\"].notna()]\n",
        "\n",
        "# Preview the loss of rows\n",
        "df_prepped.shape"
      ],
      "execution_count": 7,
      "outputs": [
        {
          "output_type": "execute_result",
          "data": {
            "text/plain": [
              "(2856943, 25)"
            ]
          },
          "metadata": {
            "tags": []
          },
          "execution_count": 7
        }
      ]
    },
    {
      "cell_type": "markdown",
      "metadata": {
        "id": "Sl1CH4qk0fEi"
      },
      "source": [
        "Roughly 901 rows (0.13 %) were dropped when the non-at bat scenarios were removed from the dataset. These seem a little low because Bill James [reports](https://www.billjamesonline.com/legally_stolen_bases/#:~:text=The%202019%20Philadelphia%20Phillies%20allowed%2066%20stolen%20bases%2C,is%20the%20starting%20point%20of%20our%20process%20here.) that the Philadelphia Phillies caught 50 runners stealing bases in 2019. Expanded to all 30 teams that would mean 1500 runners were caught stealing, which almost doubles the amount here. Finding caught stealing stats proves to be difficult."
      ]
    },
    {
      "cell_type": "code",
      "metadata": {
        "colab": {
          "base_uri": "https://localhost:8080/"
        },
        "id": "l8MI-ozqCevu",
        "outputId": "b9c78093-46d2-4883-c8bd-aa59d6cced6a"
      },
      "source": [
        "# Organize the subevents into lists\n",
        "## Non-Hit HR\n",
        "non_hit_HR_subs_lst = [\"Single\", \"Double\", \"Triple\"]\n",
        "## HR\n",
        "HR_subs_lst = [\"Home Run\"]\n",
        "## Defensive Out\n",
        "defensive_out_subs_lst =\\\n",
        " [\"Groundout\", \"Flyout\", \"Lineout\", \"Pop Out\",  \"Forceout\", \"Grounded Into DP\", \n",
        "  \"Double Play\",\"Bunt Groundout\", \"Fielders Choice\", \"Fielders Choice Out\", \n",
        "  \"Bunt Lineout\", \"Bunt Pop Out\", \"Triple Play\"]\n",
        "## Strikeout\n",
        "strikeout_subs_lst = [\"Strikeout\", \"Strikeout Double Play\"]\n",
        "## Walk\n",
        "walk_subs_lst = [\"Walk\", \"Hit By Pitch\", \"Intent Walk\"]\n",
        "## Sacrifice\n",
        "sac_subs_lst = [\"Sac Fly\", \"Sac Bunt\", \n",
        "                \"Sac Fly Double Play\", \"Sac Bunt Double Play\"]\n",
        "## Other\n",
        "other_subs_lst = [\"Field Error\", \"Catcher Interference\", \"Batter Interference\",\n",
        "                  \"Fan Interference\"]\n",
        "# Create empty series for updated events\n",
        "event_new = pd.Series(index=range(len(df_main)))\n",
        "\n",
        "# Map subcategories of event\n",
        "relev_events = [\"Non-HR Hit\", \"HR\", \"Def Out\", \"Strikeout\", \"Walk\", \"Sacrifice\",\n",
        "                \"Other\"]\n",
        "\n",
        "# Use boolean masks to map the data accordingly\n",
        "## Non-Hit HR\n",
        "mask = df_main.event.isin(non_hit_HR_subs_lst)\n",
        "event_new.iloc[mask] = relev_events[0]\n",
        "## HR\n",
        "mask = df_main.event.isin(HR_subs_lst)\n",
        "event_new.iloc[mask] = relev_events[1]\n",
        "## Defensive Out\n",
        "mask = df_main.event.isin(defensive_out_subs_lst)\n",
        "event_new.iloc[mask] = relev_events[2]\n",
        "## Strikeout\n",
        "mask = df_main.event.isin(strikeout_subs_lst)\n",
        "event_new.iloc[mask] = relev_events[3]\n",
        "## Walk\n",
        "mask = df_main.event.isin(walk_subs_lst)\n",
        "event_new.iloc[mask] = relev_events[4]\n",
        "## Sacrifice\n",
        "mask = df_main.event.isin(sac_subs_lst)\n",
        "event_new.iloc[mask] = relev_events[5]\n",
        "## Other\n",
        "mask = df_main.event.isin(other_subs_lst)\n",
        "event_new.iloc[mask] = relev_events[-1]\n",
        "\n",
        "# Add event_new to dataframe \n",
        "df_prepped.insert(0, \"event_new\", event_new)"
      ],
      "execution_count": 8,
      "outputs": [
        {
          "output_type": "stream",
          "text": [
            "/usr/local/lib/python3.7/dist-packages/ipykernel_launcher.py:21: DeprecationWarning: The default dtype for empty Series will be 'object' instead of 'float64' in a future version. Specify a dtype explicitly to silence this warning.\n"
          ],
          "name": "stderr"
        }
      ]
    },
    {
      "cell_type": "markdown",
      "metadata": {
        "id": "WXuw6D9a3WmH"
      },
      "source": [
        "From a previous iteration of the ML model, we know that `code` is an unfair feature to use because it effectively records what happens after the pitch is thrown. Since the objective is predict what pitches and scenarios lead to the various events, `code` is dropped from the dataframe."
      ]
    },
    {
      "cell_type": "code",
      "metadata": {
        "id": "cj-lYUKV3ycn"
      },
      "source": [
        "# Drop \"code\"\n",
        "df_prepped = df_prepped.drop(axis=1, columns=[\"code\"])\n",
        "\n",
        "# Also, drop the un-lumped \"event\", \"first_name\", \"last_name\", \"pitcher_id\", \n",
        "# and \"ab_id\" columns. \"event_new\" will be the new target variable and \"ab_id\"\n",
        "# is not useful \n",
        "df_prepped = df_prepped.drop(axis=1, columns=[\"event\", \"pitcher_id\", \"ab_id\", \n",
        "                                              \"first_name\", \"last_name\"])"
      ],
      "execution_count": 9,
      "outputs": []
    },
    {
      "cell_type": "code",
      "metadata": {
        "colab": {
          "base_uri": "https://localhost:8080/",
          "height": 218
        },
        "id": "g0-sDkWBi3AT",
        "outputId": "736bb01f-33cc-48fd-e7f8-d6b2a97a530e"
      },
      "source": [
        "df_prepped.head()"
      ],
      "execution_count": 10,
      "outputs": [
        {
          "output_type": "execute_result",
          "data": {
            "text/html": [
              "<div>\n",
              "<style scoped>\n",
              "    .dataframe tbody tr th:only-of-type {\n",
              "        vertical-align: middle;\n",
              "    }\n",
              "\n",
              "    .dataframe tbody tr th {\n",
              "        vertical-align: top;\n",
              "    }\n",
              "\n",
              "    .dataframe thead th {\n",
              "        text-align: right;\n",
              "    }\n",
              "</style>\n",
              "<table border=\"1\" class=\"dataframe\">\n",
              "  <thead>\n",
              "    <tr style=\"text-align: right;\">\n",
              "      <th></th>\n",
              "      <th>event_new</th>\n",
              "      <th>start_speed</th>\n",
              "      <th>end_speed</th>\n",
              "      <th>spin_rate</th>\n",
              "      <th>spin_dir</th>\n",
              "      <th>break_angle</th>\n",
              "      <th>break_length</th>\n",
              "      <th>pitch_type</th>\n",
              "      <th>b_score</th>\n",
              "      <th>b_count</th>\n",
              "      <th>s_count</th>\n",
              "      <th>outs</th>\n",
              "      <th>pitch_num</th>\n",
              "      <th>inning</th>\n",
              "      <th>p_score</th>\n",
              "      <th>p_throws</th>\n",
              "      <th>break_y</th>\n",
              "      <th>speed_diff</th>\n",
              "      <th>located_strike</th>\n",
              "      <th>location_call</th>\n",
              "    </tr>\n",
              "  </thead>\n",
              "  <tbody>\n",
              "    <tr>\n",
              "      <th>0</th>\n",
              "      <td>Def Out</td>\n",
              "      <td>96.099998</td>\n",
              "      <td>87.699997</td>\n",
              "      <td>2564.835</td>\n",
              "      <td>238.878</td>\n",
              "      <td>43.099998</td>\n",
              "      <td>5.9</td>\n",
              "      <td>SI</td>\n",
              "      <td>0.0</td>\n",
              "      <td>0</td>\n",
              "      <td>0</td>\n",
              "      <td>0</td>\n",
              "      <td>1</td>\n",
              "      <td>1</td>\n",
              "      <td>0</td>\n",
              "      <td>R</td>\n",
              "      <td>NaN</td>\n",
              "      <td>NaN</td>\n",
              "      <td>1</td>\n",
              "      <td>strike</td>\n",
              "    </tr>\n",
              "    <tr>\n",
              "      <th>1</th>\n",
              "      <td>Def Out</td>\n",
              "      <td>81.900002</td>\n",
              "      <td>75.800003</td>\n",
              "      <td>1210.643</td>\n",
              "      <td>56.558</td>\n",
              "      <td>-13.200000</td>\n",
              "      <td>10.7</td>\n",
              "      <td>KC</td>\n",
              "      <td>0.0</td>\n",
              "      <td>0</td>\n",
              "      <td>1</td>\n",
              "      <td>0</td>\n",
              "      <td>2</td>\n",
              "      <td>1</td>\n",
              "      <td>0</td>\n",
              "      <td>R</td>\n",
              "      <td>NaN</td>\n",
              "      <td>NaN</td>\n",
              "      <td>1</td>\n",
              "      <td>strike</td>\n",
              "    </tr>\n",
              "    <tr>\n",
              "      <th>2</th>\n",
              "      <td>Def Out</td>\n",
              "      <td>96.199997</td>\n",
              "      <td>88.000000</td>\n",
              "      <td>2765.216</td>\n",
              "      <td>233.837</td>\n",
              "      <td>46.200001</td>\n",
              "      <td>5.3</td>\n",
              "      <td>SI</td>\n",
              "      <td>0.0</td>\n",
              "      <td>0</td>\n",
              "      <td>2</td>\n",
              "      <td>0</td>\n",
              "      <td>3</td>\n",
              "      <td>1</td>\n",
              "      <td>0</td>\n",
              "      <td>R</td>\n",
              "      <td>NaN</td>\n",
              "      <td>NaN</td>\n",
              "      <td>0</td>\n",
              "      <td>ball</td>\n",
              "    </tr>\n",
              "    <tr>\n",
              "      <th>3</th>\n",
              "      <td>Def Out</td>\n",
              "      <td>95.900002</td>\n",
              "      <td>88.199997</td>\n",
              "      <td>2727.998</td>\n",
              "      <td>242.226</td>\n",
              "      <td>45.700001</td>\n",
              "      <td>6.0</td>\n",
              "      <td>SI</td>\n",
              "      <td>0.0</td>\n",
              "      <td>1</td>\n",
              "      <td>2</td>\n",
              "      <td>0</td>\n",
              "      <td>4</td>\n",
              "      <td>1</td>\n",
              "      <td>0</td>\n",
              "      <td>R</td>\n",
              "      <td>NaN</td>\n",
              "      <td>NaN</td>\n",
              "      <td>0</td>\n",
              "      <td>ball</td>\n",
              "    </tr>\n",
              "    <tr>\n",
              "      <th>4</th>\n",
              "      <td>Def Out</td>\n",
              "      <td>83.400002</td>\n",
              "      <td>76.199997</td>\n",
              "      <td>1055.504</td>\n",
              "      <td>69.753</td>\n",
              "      <td>-13.900000</td>\n",
              "      <td>9.9</td>\n",
              "      <td>KC</td>\n",
              "      <td>0.0</td>\n",
              "      <td>2</td>\n",
              "      <td>2</td>\n",
              "      <td>0</td>\n",
              "      <td>5</td>\n",
              "      <td>1</td>\n",
              "      <td>0</td>\n",
              "      <td>R</td>\n",
              "      <td>NaN</td>\n",
              "      <td>NaN</td>\n",
              "      <td>1</td>\n",
              "      <td>strike</td>\n",
              "    </tr>\n",
              "  </tbody>\n",
              "</table>\n",
              "</div>"
            ],
            "text/plain": [
              "  event_new  start_speed  end_speed  ...  speed_diff  located_strike  location_call\n",
              "0   Def Out    96.099998  87.699997  ...         NaN               1         strike\n",
              "1   Def Out    81.900002  75.800003  ...         NaN               1         strike\n",
              "2   Def Out    96.199997  88.000000  ...         NaN               0           ball\n",
              "3   Def Out    95.900002  88.199997  ...         NaN               0           ball\n",
              "4   Def Out    83.400002  76.199997  ...         NaN               1         strike\n",
              "\n",
              "[5 rows x 20 columns]"
            ]
          },
          "metadata": {
            "tags": []
          },
          "execution_count": 10
        }
      ]
    },
    {
      "cell_type": "code",
      "metadata": {
        "id": "CWwnWYAJz_qX"
      },
      "source": [
        "relev_event_new = [\"Def Out\", \"HR\", \"Non-HR Hit\", \"Walk\", \"Sacrifice\", \n",
        "                   \"Strikeout\", \"Other\"]"
      ],
      "execution_count": 11,
      "outputs": []
    },
    {
      "cell_type": "code",
      "metadata": {
        "colab": {
          "base_uri": "https://localhost:8080/",
          "height": 463
        },
        "id": "sdNWq8bl-l4M",
        "outputId": "8d84b25c-d604-41e5-845a-3f9395570d5c"
      },
      "source": [
        "# Visualize lumped events\n",
        "fig = plt.figure(figsize=(12,8))\n",
        "sns.countplot(y=\"event_new\", order=relev_event_new, data=df_prepped, orient=\"h\")\n",
        "plt.xscale(\"linear\")\n",
        "plt.show()\n",
        "fig.savefig(\"figures/lumped_events.png\", dpi=300)"
      ],
      "execution_count": 12,
      "outputs": [
        {
          "output_type": "display_data",
          "data": {
            "image/png": "[encoded data removed]",
            "text/plain": [
              "<Figure size 864x576 with 1 Axes>"
            ]
          },
          "metadata": {
            "tags": []
          }
        }
      ]
    },
    {
      "cell_type": "markdown",
      "metadata": {
        "id": "zlpL38xk-50d"
      },
      "source": [
        "## Model with sklearn"
      ]
    },
    {
      "cell_type": "markdown",
      "metadata": {
        "id": "nnQdQzISd89A"
      },
      "source": [
        "### Feature Engineering\n",
        "Build features to help model with predictions. Please read the accompanying EDA notebook and post to see the other features that have been engineered for this project."
      ]
    },
    {
      "cell_type": "code",
      "metadata": {
        "id": "8O-iakj9Un6g"
      },
      "source": [
        "# Create a feature score_delta that relates the score of the game relative \n",
        "# to pitcher\n",
        "df_prepped[\"score_delta\"] = df_prepped.p_score - df_prepped.b_score"
      ],
      "execution_count": 13,
      "outputs": []
    },
    {
      "cell_type": "code",
      "metadata": {
        "colab": {
          "base_uri": "https://localhost:8080/"
        },
        "id": "mbNC4pFoetbY",
        "outputId": "c95f866a-3110-47cb-9138-b32ea512a794"
      },
      "source": [
        "# Preview datatype\n",
        "df_prepped.dtypes"
      ],
      "execution_count": 14,
      "outputs": [
        {
          "output_type": "execute_result",
          "data": {
            "text/plain": [
              "event_new           object\n",
              "start_speed        float32\n",
              "end_speed          float32\n",
              "spin_rate          float64\n",
              "spin_dir           float64\n",
              "break_angle        float32\n",
              "break_length       float32\n",
              "pitch_type        category\n",
              "b_score            float64\n",
              "b_count              int64\n",
              "s_count              int64\n",
              "outs                 int64\n",
              "pitch_num            int64\n",
              "inning               int64\n",
              "p_score              int64\n",
              "p_throws            object\n",
              "break_y            float64\n",
              "speed_diff         float32\n",
              "located_strike       int64\n",
              "location_call       object\n",
              "score_delta        float64\n",
              "dtype: object"
            ]
          },
          "metadata": {
            "tags": []
          },
          "execution_count": 14
        }
      ]
    },
    {
      "cell_type": "markdown",
      "metadata": {
        "id": "6GAK3JDVAK1i"
      },
      "source": [
        "### Impute missing values\n",
        "For many of the models to be able to run, we will need to find if how many and where missing values may reside. To do this, the `msno` mask plot is used below. "
      ]
    },
    {
      "cell_type": "code",
      "metadata": {
        "colab": {
          "base_uri": "https://localhost:8080/",
          "height": 346
        },
        "id": "malCWiQW_Ox5",
        "outputId": "b650ff63-8bec-431f-d53c-27b628863f3d"
      },
      "source": [
        "import missingno as msno\n",
        "%matplotlib inline\n",
        "msno.matrix(df_prepped)"
      ],
      "execution_count": 15,
      "outputs": [
        {
          "output_type": "execute_result",
          "data": {
            "text/plain": [
              "<matplotlib.axes._subplots.AxesSubplot at 0x7f4b8a771850>"
            ]
          },
          "metadata": {
            "tags": []
          },
          "execution_count": 15
        },
        {
          "output_type": "display_data",
          "data": {
            "image/png": "[encoded data removed]",
            "text/plain": [
              "<Figure size 1800x720 with 2 Axes>"
            ]
          },
          "metadata": {
            "tags": [],
            "needs_background": "light"
          }
        }
      ]
    },
    {
      "cell_type": "markdown",
      "metadata": {
        "id": "B-Z9EckECaOK"
      },
      "source": [
        "From the plot above, the columns containing many >50 missing values are: `spin_dir`, `spin_rate`, `speed_diff`, and `break_y`.  Therefore, we will need to impute the missing values by entering the median value for all missing values. \n",
        "\n",
        "_Note: a simple imputer has been commented out because of the length of time that was required to run. Instead, the median value was used in columns where 50% or more was present. If a column did not meet that requirement, then it was dropped_"
      ]
    },
    {
      "cell_type": "code",
      "metadata": {
        "colab": {
          "base_uri": "https://localhost:8080/",
          "height": 346
        },
        "id": "1h_re9zIA9Rb",
        "outputId": "ea284659-5bc5-4dc6-d9e5-cb9d524d32e9"
      },
      "source": [
        "'''\n",
        "from sklearn.impute import SimpleImputer\n",
        "imp_median = SimpleImputer(strategy=\"most_frequent\")\n",
        "df_prepped = imp_median.fit_transform(df_prepped.iloc[:,1:])\n",
        "\n",
        "# Export to csv\n",
        "df_prepped.to_csv(\"df_prepped.csv\", sep=\",\", index=False)\n",
        "'''\n",
        "\n",
        "# Find the values that will be imputed for the missing variables - the median \n",
        "# will be placed here\n",
        "vals  = {\"spin_rate\":np.nanmedian(df_prepped.spin_rate), \n",
        "         \"spin_dir\":np.nanmedian(df_prepped.spin_dir)}\n",
        "df_prepped.fillna(value=vals, inplace=True)\n",
        "# Drop excess columns that have more than 50% rows missing\n",
        "df_prepped.drop(columns=[\"break_y\", \"speed_diff\"], axis=1, inplace=True)\n",
        "# Plot data after alterations\n",
        "msno.matrix(df_prepped)"
      ],
      "execution_count": 16,
      "outputs": [
        {
          "output_type": "execute_result",
          "data": {
            "text/plain": [
              "<matplotlib.axes._subplots.AxesSubplot at 0x7f4b8abdf4d0>"
            ]
          },
          "metadata": {
            "tags": []
          },
          "execution_count": 16
        },
        {
          "output_type": "display_data",
          "data": {
            "image/png": "[encoded data removed]",
            "text/plain": [
              "<Figure size 1800x720 with 2 Axes>"
            ]
          },
          "metadata": {
            "tags": [],
            "needs_background": "light"
          }
        }
      ]
    },
    {
      "cell_type": "markdown",
      "metadata": {
        "id": "ZQGbEK2uBxiG"
      },
      "source": [
        "Drop the small number of rows with NaN in the `event_new` column"
      ]
    },
    {
      "cell_type": "code",
      "metadata": {
        "id": "nYM8ihnwCFFf"
      },
      "source": [
        "df_prepped.dropna(subset=[\"event_new\"], inplace=True)\n",
        "df_prepped.reset_index(drop=True, inplace=True)"
      ],
      "execution_count": 17,
      "outputs": []
    },
    {
      "cell_type": "code",
      "metadata": {
        "colab": {
          "base_uri": "https://localhost:8080/",
          "height": 427
        },
        "id": "VvrF4uSlDW5A",
        "outputId": "94cb943c-6de4-4758-80ae-c7fc0709d861"
      },
      "source": [
        "# Preview the dataframe and dimensions\n",
        "df_prepped"
      ],
      "execution_count": 18,
      "outputs": [
        {
          "output_type": "execute_result",
          "data": {
            "text/html": [
              "<div>\n",
              "<style scoped>\n",
              "    .dataframe tbody tr th:only-of-type {\n",
              "        vertical-align: middle;\n",
              "    }\n",
              "\n",
              "    .dataframe tbody tr th {\n",
              "        vertical-align: top;\n",
              "    }\n",
              "\n",
              "    .dataframe thead th {\n",
              "        text-align: right;\n",
              "    }\n",
              "</style>\n",
              "<table border=\"1\" class=\"dataframe\">\n",
              "  <thead>\n",
              "    <tr style=\"text-align: right;\">\n",
              "      <th></th>\n",
              "      <th>event_new</th>\n",
              "      <th>start_speed</th>\n",
              "      <th>end_speed</th>\n",
              "      <th>spin_rate</th>\n",
              "      <th>spin_dir</th>\n",
              "      <th>break_angle</th>\n",
              "      <th>break_length</th>\n",
              "      <th>pitch_type</th>\n",
              "      <th>b_score</th>\n",
              "      <th>b_count</th>\n",
              "      <th>s_count</th>\n",
              "      <th>outs</th>\n",
              "      <th>pitch_num</th>\n",
              "      <th>inning</th>\n",
              "      <th>p_score</th>\n",
              "      <th>p_throws</th>\n",
              "      <th>located_strike</th>\n",
              "      <th>location_call</th>\n",
              "      <th>score_delta</th>\n",
              "    </tr>\n",
              "  </thead>\n",
              "  <tbody>\n",
              "    <tr>\n",
              "      <th>0</th>\n",
              "      <td>Def Out</td>\n",
              "      <td>96.099998</td>\n",
              "      <td>87.699997</td>\n",
              "      <td>2564.835</td>\n",
              "      <td>238.878</td>\n",
              "      <td>43.099998</td>\n",
              "      <td>5.9</td>\n",
              "      <td>SI</td>\n",
              "      <td>0.0</td>\n",
              "      <td>0</td>\n",
              "      <td>0</td>\n",
              "      <td>0</td>\n",
              "      <td>1</td>\n",
              "      <td>1</td>\n",
              "      <td>0</td>\n",
              "      <td>R</td>\n",
              "      <td>1</td>\n",
              "      <td>strike</td>\n",
              "      <td>0.0</td>\n",
              "    </tr>\n",
              "    <tr>\n",
              "      <th>1</th>\n",
              "      <td>Def Out</td>\n",
              "      <td>81.900002</td>\n",
              "      <td>75.800003</td>\n",
              "      <td>1210.643</td>\n",
              "      <td>56.558</td>\n",
              "      <td>-13.200000</td>\n",
              "      <td>10.7</td>\n",
              "      <td>KC</td>\n",
              "      <td>0.0</td>\n",
              "      <td>0</td>\n",
              "      <td>1</td>\n",
              "      <td>0</td>\n",
              "      <td>2</td>\n",
              "      <td>1</td>\n",
              "      <td>0</td>\n",
              "      <td>R</td>\n",
              "      <td>1</td>\n",
              "      <td>strike</td>\n",
              "      <td>0.0</td>\n",
              "    </tr>\n",
              "    <tr>\n",
              "      <th>2</th>\n",
              "      <td>Def Out</td>\n",
              "      <td>96.199997</td>\n",
              "      <td>88.000000</td>\n",
              "      <td>2765.216</td>\n",
              "      <td>233.837</td>\n",
              "      <td>46.200001</td>\n",
              "      <td>5.3</td>\n",
              "      <td>SI</td>\n",
              "      <td>0.0</td>\n",
              "      <td>0</td>\n",
              "      <td>2</td>\n",
              "      <td>0</td>\n",
              "      <td>3</td>\n",
              "      <td>1</td>\n",
              "      <td>0</td>\n",
              "      <td>R</td>\n",
              "      <td>0</td>\n",
              "      <td>ball</td>\n",
              "      <td>0.0</td>\n",
              "    </tr>\n",
              "    <tr>\n",
              "      <th>3</th>\n",
              "      <td>Def Out</td>\n",
              "      <td>95.900002</td>\n",
              "      <td>88.199997</td>\n",
              "      <td>2727.998</td>\n",
              "      <td>242.226</td>\n",
              "      <td>45.700001</td>\n",
              "      <td>6.0</td>\n",
              "      <td>SI</td>\n",
              "      <td>0.0</td>\n",
              "      <td>1</td>\n",
              "      <td>2</td>\n",
              "      <td>0</td>\n",
              "      <td>4</td>\n",
              "      <td>1</td>\n",
              "      <td>0</td>\n",
              "      <td>R</td>\n",
              "      <td>0</td>\n",
              "      <td>ball</td>\n",
              "      <td>0.0</td>\n",
              "    </tr>\n",
              "    <tr>\n",
              "      <th>4</th>\n",
              "      <td>Def Out</td>\n",
              "      <td>83.400002</td>\n",
              "      <td>76.199997</td>\n",
              "      <td>1055.504</td>\n",
              "      <td>69.753</td>\n",
              "      <td>-13.900000</td>\n",
              "      <td>9.9</td>\n",
              "      <td>KC</td>\n",
              "      <td>0.0</td>\n",
              "      <td>2</td>\n",
              "      <td>2</td>\n",
              "      <td>0</td>\n",
              "      <td>5</td>\n",
              "      <td>1</td>\n",
              "      <td>0</td>\n",
              "      <td>R</td>\n",
              "      <td>1</td>\n",
              "      <td>strike</td>\n",
              "      <td>0.0</td>\n",
              "    </tr>\n",
              "    <tr>\n",
              "      <th>...</th>\n",
              "      <td>...</td>\n",
              "      <td>...</td>\n",
              "      <td>...</td>\n",
              "      <td>...</td>\n",
              "      <td>...</td>\n",
              "      <td>...</td>\n",
              "      <td>...</td>\n",
              "      <td>...</td>\n",
              "      <td>...</td>\n",
              "      <td>...</td>\n",
              "      <td>...</td>\n",
              "      <td>...</td>\n",
              "      <td>...</td>\n",
              "      <td>...</td>\n",
              "      <td>...</td>\n",
              "      <td>...</td>\n",
              "      <td>...</td>\n",
              "      <td>...</td>\n",
              "      <td>...</td>\n",
              "    </tr>\n",
              "    <tr>\n",
              "      <th>2853980</th>\n",
              "      <td>Def Out</td>\n",
              "      <td>95.800003</td>\n",
              "      <td>87.300003</td>\n",
              "      <td>1879.442</td>\n",
              "      <td>196.291</td>\n",
              "      <td>40.799999</td>\n",
              "      <td>3.6</td>\n",
              "      <td>FF</td>\n",
              "      <td>1.0</td>\n",
              "      <td>2</td>\n",
              "      <td>0</td>\n",
              "      <td>1</td>\n",
              "      <td>4</td>\n",
              "      <td>9</td>\n",
              "      <td>4</td>\n",
              "      <td>R</td>\n",
              "      <td>1</td>\n",
              "      <td>strike</td>\n",
              "      <td>3.0</td>\n",
              "    </tr>\n",
              "    <tr>\n",
              "      <th>2853981</th>\n",
              "      <td>Strikeout</td>\n",
              "      <td>87.199997</td>\n",
              "      <td>80.300003</td>\n",
              "      <td>1879.442</td>\n",
              "      <td>196.291</td>\n",
              "      <td>7.200000</td>\n",
              "      <td>7.2</td>\n",
              "      <td>SL</td>\n",
              "      <td>1.0</td>\n",
              "      <td>0</td>\n",
              "      <td>0</td>\n",
              "      <td>2</td>\n",
              "      <td>1</td>\n",
              "      <td>9</td>\n",
              "      <td>4</td>\n",
              "      <td>R</td>\n",
              "      <td>0</td>\n",
              "      <td>ball</td>\n",
              "      <td>3.0</td>\n",
              "    </tr>\n",
              "    <tr>\n",
              "      <th>2853982</th>\n",
              "      <td>Strikeout</td>\n",
              "      <td>95.000000</td>\n",
              "      <td>86.599998</td>\n",
              "      <td>1879.442</td>\n",
              "      <td>196.291</td>\n",
              "      <td>33.599998</td>\n",
              "      <td>3.6</td>\n",
              "      <td>FF</td>\n",
              "      <td>1.0</td>\n",
              "      <td>1</td>\n",
              "      <td>0</td>\n",
              "      <td>2</td>\n",
              "      <td>2</td>\n",
              "      <td>9</td>\n",
              "      <td>4</td>\n",
              "      <td>R</td>\n",
              "      <td>1</td>\n",
              "      <td>strike</td>\n",
              "      <td>3.0</td>\n",
              "    </tr>\n",
              "    <tr>\n",
              "      <th>2853983</th>\n",
              "      <td>Strikeout</td>\n",
              "      <td>84.000000</td>\n",
              "      <td>75.300003</td>\n",
              "      <td>1879.442</td>\n",
              "      <td>196.291</td>\n",
              "      <td>2.400000</td>\n",
              "      <td>8.4</td>\n",
              "      <td>SL</td>\n",
              "      <td>1.0</td>\n",
              "      <td>1</td>\n",
              "      <td>0</td>\n",
              "      <td>2</td>\n",
              "      <td>3</td>\n",
              "      <td>9</td>\n",
              "      <td>4</td>\n",
              "      <td>R</td>\n",
              "      <td>1</td>\n",
              "      <td>strike</td>\n",
              "      <td>3.0</td>\n",
              "    </tr>\n",
              "    <tr>\n",
              "      <th>2853984</th>\n",
              "      <td>Strikeout</td>\n",
              "      <td>85.800003</td>\n",
              "      <td>77.599998</td>\n",
              "      <td>1879.442</td>\n",
              "      <td>196.291</td>\n",
              "      <td>4.800000</td>\n",
              "      <td>8.4</td>\n",
              "      <td>SL</td>\n",
              "      <td>1.0</td>\n",
              "      <td>1</td>\n",
              "      <td>0</td>\n",
              "      <td>2</td>\n",
              "      <td>4</td>\n",
              "      <td>9</td>\n",
              "      <td>4</td>\n",
              "      <td>R</td>\n",
              "      <td>0</td>\n",
              "      <td>ball</td>\n",
              "      <td>3.0</td>\n",
              "    </tr>\n",
              "  </tbody>\n",
              "</table>\n",
              "<p>2853985 rows × 19 columns</p>\n",
              "</div>"
            ],
            "text/plain": [
              "         event_new  start_speed  ...  location_call  score_delta\n",
              "0          Def Out    96.099998  ...         strike          0.0\n",
              "1          Def Out    81.900002  ...         strike          0.0\n",
              "2          Def Out    96.199997  ...           ball          0.0\n",
              "3          Def Out    95.900002  ...           ball          0.0\n",
              "4          Def Out    83.400002  ...         strike          0.0\n",
              "...            ...          ...  ...            ...          ...\n",
              "2853980    Def Out    95.800003  ...         strike          3.0\n",
              "2853981  Strikeout    87.199997  ...           ball          3.0\n",
              "2853982  Strikeout    95.000000  ...         strike          3.0\n",
              "2853983  Strikeout    84.000000  ...         strike          3.0\n",
              "2853984  Strikeout    85.800003  ...           ball          3.0\n",
              "\n",
              "[2853985 rows x 19 columns]"
            ]
          },
          "metadata": {
            "tags": []
          },
          "execution_count": 18
        }
      ]
    },
    {
      "cell_type": "markdown",
      "metadata": {
        "id": "VR9wSwPjrjrI"
      },
      "source": [
        "### Encode categorical variables\n",
        "There are several categorical variables in this dataset including the target variable, \"event.\" For the ML algorithms to prcesss them appropriately, they need to be encoded as numeric values. Further guidance on incorporating categorical variables into ML models was gleaned from [Frank and Hall (2001)](https://www.cs.waikato.ac.nz/~eibe/pubs/ordinal_tech_report.pdf) and [Chen et al.](https://statistics.berkeley.edu/sites/default/files/tech-reports/666.pdf)"
      ]
    },
    {
      "cell_type": "markdown",
      "metadata": {
        "id": "G7pINJ8cH0EP"
      },
      "source": [
        "Target Variable: `event_new`\n",
        "\n",
        "To use `sklearn` we will need to apply an encoder to ensure that the target is recorded as numerical information instead of text\n",
        "\n",
        "The `sklearn` [`label_encoder()`](https://sklearn.org/modules/generated/sklearn.preprocessing.LabelEncoder.html#:~:text=sklearn.preprocessing%20.LabelEncoder%20%C2%B6%20%20%20fit%20%28y%29%20,of%20this%20estimator.%20%201%20more%20rows%20) works well for this purpose. "
      ]
    },
    {
      "cell_type": "code",
      "metadata": {
        "id": "gJTscMVg-SEm"
      },
      "source": [
        "from sklearn.preprocessing import LabelEncoder\n",
        "# Instantiate the encoder\n",
        "target_encoder_le = LabelEncoder()\n",
        "\n",
        "# Fit and transform the encoder to the target variable\n",
        "## Separate target variable from explanatory features\n",
        "y = df_prepped.iloc[:,0].values\n",
        "## Apply encoder\n",
        "y = target_encoder_le.fit_transform(y.astype(str))"
      ],
      "execution_count": 19,
      "outputs": []
    },
    {
      "cell_type": "markdown",
      "metadata": {
        "id": "qj5XxgI0jbwI"
      },
      "source": [
        "Features: All variables that are not the target\n",
        "\n",
        "Just like the target variable, the categorical variables from the explanatory data (i.e. features) will need to transformed with encoding."
      ]
    },
    {
      "cell_type": "code",
      "metadata": {
        "id": "ZSUFShFQjWrw"
      },
      "source": [
        "# Instantiate the encoder\n",
        "explanatory_encoder_le = LabelEncoder()\n",
        "\n",
        "# Fit and transform the encoder to the explanatory variable\n",
        "## Separate explanatory variables from the target variable\n",
        "X = df_prepped.iloc[:, 1:].values\n",
        "\n",
        "## Apply encoder\n",
        "### pitch_type\n",
        "X[:,6] = explanatory_encoder_le.fit_transform(X[:,6].astype(str))\n",
        "### b_count\n",
        "X[:,8] = explanatory_encoder_le.fit_transform(X[:,8].astype(str))\n",
        "### s_count\n",
        "X[:,9] = explanatory_encoder_le.fit_transform(X[:,9].astype(str))\n",
        "### p_throws\n",
        "X[:,14] = explanatory_encoder_le.fit_transform(X[:,14].astype(str))\n",
        "### location_call\n",
        "X[:,-2] = explanatory_encoder_le.fit_transform(X[:,-2].astype(str))"
      ],
      "execution_count": 20,
      "outputs": []
    },
    {
      "cell_type": "markdown",
      "metadata": {
        "id": "pATY9xcNknr6"
      },
      "source": [
        "### Execute ML Algorithm(s)"
      ]
    },
    {
      "cell_type": "markdown",
      "metadata": {
        "id": "iA953k1ExqFR"
      },
      "source": [
        "- iteration 1.0.0: H2O only\n",
        "- iteration 2.0.0: `RandomForestClassifier()` with max depth at 2 and seed at 42 (`code`) dropped as discussed with Josh (After 10 Jun 2021, this section was accidently overwritten with the entire data set)\n",
        "- iteration 2.0.1: `RandomForestClassifier()` with same parameters as 2.0.0 but trained on the entire dataset of 2016-2019 with more engineered features (e.g., `speed_diff` and `location_call`). Moving forward, all iterations ≥ 2.0.1 and < 2.1.+ use this dataset.\n",
        "- iteration 2.0.2: a `HistGradientClassifier()` is used on the dataset in a mo\n",
        "- iteration 2.1.0: grid search across parameters for `RandomForestClassifier()`\n",
        "- iteration 2.2.0: One-vs-Many SVM classifier"
      ]
    },
    {
      "cell_type": "code",
      "metadata": {
        "id": "AK_ZR4gaaWFX"
      },
      "source": [
        "# Split dataframe into test and train sets\n",
        "from sklearn.model_selection import train_test_split\n",
        "\n",
        "# Train-test-split \n",
        "X_train, X_test, y_train, y_test = train_test_split(X, y, test_size=0.2, \n",
        "                                                    random_state=0)\n"
      ],
      "execution_count": 21,
      "outputs": []
    },
    {
      "cell_type": "code",
      "metadata": {
        "colab": {
          "base_uri": "https://localhost:8080/",
          "height": 346
        },
        "id": "86pIA1rL0qOK",
        "outputId": "24ccd268-a643-41d1-8943-ca0e0c9815ad"
      },
      "source": [
        "import missingno as msno\n",
        "%matplotlib inline\n",
        "msno.matrix(df_prepped)"
      ],
      "execution_count": 22,
      "outputs": [
        {
          "output_type": "execute_result",
          "data": {
            "text/plain": [
              "<matplotlib.axes._subplots.AxesSubplot at 0x7f4b866ecb90>"
            ]
          },
          "metadata": {
            "tags": []
          },
          "execution_count": 22
        },
        {
          "output_type": "display_data",
          "data": {
            "image/png": "[encoded data removed]",
            "text/plain": [
              "<Figure size 1800x720 with 2 Axes>"
            ]
          },
          "metadata": {
            "tags": [],
            "needs_background": "light"
          }
        }
      ]
    },
    {
      "cell_type": "markdown",
      "metadata": {
        "id": "h9D2L0Sz0KOo"
      },
      "source": [
        "#### Iteration 2.0.0"
      ]
    },
    {
      "cell_type": "code",
      "metadata": {
        "id": "tXUlPGZWbBNS"
      },
      "source": [
        "from sklearn.ensemble import RandomForestClassifier\n",
        "# Instantiate classifier\n",
        "RF_clf = RandomForestClassifier(max_depth=2, random_state=42)\n",
        "# Fit Classifier\n",
        "RF_clf.fit(X_train, y_train)\n",
        "\n",
        "# Best Fit for the Classifier (only added for consistency across iteration)\n",
        "best_RF_clf = RF_clf\n",
        "\n",
        "# Time to train: 5  min"
      ],
      "execution_count": null,
      "outputs": []
    },
    {
      "cell_type": "markdown",
      "metadata": {
        "id": "_6blUcj_wHq1"
      },
      "source": [
        "Print Precision-Recall Table"
      ]
    },
    {
      "cell_type": "code",
      "metadata": {
        "colab": {
          "base_uri": "https://localhost:8080/"
        },
        "id": "4EIBoJUadblP",
        "outputId": "a699b6ff-34ea-4db4-cdb5-150669955d75"
      },
      "source": [
        "# Estimate perfromance metrics\n",
        "from sklearn.metrics import accuracy_score\n",
        "from sklearn.metrics import classification_report as clf_report\n",
        "# Predict with test data and best model\n",
        "y_pred = best_RF_clf.predict(X_test)\n",
        "\n",
        "# Print Report\n",
        "mdl_path = \"/content/gdrive/My Drive/Colab Notebooks/pitch-sequence/serialized-models/\"\n",
        "report_file = \"RF_clf_iter-2.0.0.txt\"\n",
        "print(clf_report(y_test, y_pred, target_names=relev_event_new), \n",
        "      file=open(mdl_path+report_file, \"w\"))\n",
        "# View the report in Colab\n",
        "print(clf_report(y_test, y_pred, target_names=relev_event_new))"
      ],
      "execution_count": null,
      "outputs": [
        {
          "output_type": "stream",
          "text": [
            "/usr/local/lib/python3.7/dist-packages/sklearn/metrics/_classification.py:1272: UndefinedMetricWarning: Precision and F-score are ill-defined and being set to 0.0 in labels with no predicted samples. Use `zero_division` parameter to control this behavior.\n",
            "  _warn_prf(average, modifier, msg_start, len(result))\n"
          ],
          "name": "stderr"
        },
        {
          "output_type": "stream",
          "text": [
            "              precision    recall  f1-score   support\n",
            "\n",
            "     Def Out       0.39      1.00      0.56    220539\n",
            "          HR       0.00      0.00      0.00     16370\n",
            "  Non-HR Hit       0.00      0.00      0.00     97122\n",
            "        Walk       0.00      0.00      0.00      4429\n",
            "   Sacrifice       0.00      0.00      0.00      4478\n",
            "   Strikeout       0.31      0.00      0.00    155299\n",
            "       Other       0.00      0.00      0.00     72560\n",
            "\n",
            "    accuracy                           0.39    570797\n",
            "   macro avg       0.10      0.14      0.08    570797\n",
            "weighted avg       0.23      0.39      0.22    570797\n",
            "\n"
          ],
          "name": "stdout"
        }
      ]
    },
    {
      "cell_type": "markdown",
      "metadata": {
        "id": "sX3gifYJwFn4"
      },
      "source": [
        "Visualize Results"
      ]
    },
    {
      "cell_type": "code",
      "metadata": {
        "colab": {
          "base_uri": "https://localhost:8080/",
          "height": 689
        },
        "id": "oOOK05C7LxEp",
        "outputId": "7411c741-843b-48b0-94cd-3bc7963de49e"
      },
      "source": [
        "from sklearn.metrics import plot_confusion_matrix\n",
        "fig, ax = plt.subplots(figsize=(12,12))\n",
        "plot_confusion_matrix(best_RF_clf, X_test, y_test,\n",
        "                      cmap=\"gist_ncar_r\",\n",
        "                      display_labels=relev_event_new,\n",
        "                      normalize=\"all\",\n",
        "                      ax=ax)\n",
        "plt.show()\n",
        "fig.savefig(\"figures/confusion_matrix_RF_iter-2.0.0.png\", dpi=300)"
      ],
      "execution_count": null,
      "outputs": [
        {
          "output_type": "display_data",
          "data": {
            "image/png": "[encoded data removed]",
            "text/plain": [
              "<Figure size 864x864 with 2 Axes>"
            ]
          },
          "metadata": {
            "tags": []
          }
        }
      ]
    },
    {
      "cell_type": "markdown",
      "metadata": {
        "id": "OFJzS21twPL4"
      },
      "source": [
        "Pickle RF model to be used later"
      ]
    },
    {
      "cell_type": "code",
      "metadata": {
        "id": "iiZ58nPwtrPm"
      },
      "source": [
        "# Pickle the model for later\n",
        "import pickle\n",
        "\n",
        "# Path to save model\n",
        "mdl_path = \"/content/gdrive/My Drive/Colab Notebooks/pitch-sequence/serialized-models/\"\n",
        "# mdl file name\n",
        "mdl_filename = \"RF_clf_iter-2.0.0.pkl\"\n",
        "\n",
        "# Open a file to store model\n",
        "outfile = open(mdl_path+mdl_filename, \"wb\")\n",
        "# Open file to be pickled\n",
        "pickle.dump(best_RF_clf, outfile)\n",
        "# Close pickled model\n",
        "outfile.close()"
      ],
      "execution_count": null,
      "outputs": []
    },
    {
      "cell_type": "markdown",
      "metadata": {
        "id": "I-pSWzjUDjyd"
      },
      "source": [
        "#### Iteration 2.0.1\n"
      ]
    },
    {
      "cell_type": "code",
      "metadata": {
        "id": "Lw23w4F6DoFT"
      },
      "source": [
        "from sklearn.ensemble import RandomForestClassifier\n",
        "# Instantiate classifier\n",
        "RF_clf = RandomForestClassifier(max_depth=2, random_state=42)\n",
        "# Fit Classifier\n",
        "RF_clf.fit(X_train, y_train)\n",
        "\n",
        "# Best Fit for the Classifier (only added for consistency across iteration)\n",
        "best_RF_clf = RF_clf\n",
        "\n",
        "# Time to train: <10 min"
      ],
      "execution_count": null,
      "outputs": []
    },
    {
      "cell_type": "markdown",
      "metadata": {
        "id": "txoG5QVEDu5v"
      },
      "source": [
        "Print Precision-Recall Table"
      ]
    },
    {
      "cell_type": "code",
      "metadata": {
        "colab": {
          "base_uri": "https://localhost:8080/"
        },
        "id": "BFtXapBtDsuL",
        "outputId": "817a510d-43ca-4f5d-df65-208f4f604597"
      },
      "source": [
        "# Estimate perfromance metrics\n",
        "from sklearn.metrics import accuracy_score\n",
        "from sklearn.metrics import classification_report as clf_report\n",
        "# Predict with test data and best model\n",
        "y_pred = best_RF_clf.predict(X_test)\n",
        "\n",
        "# Print Report\n",
        "mdl_path = \"/content/gdrive/My Drive/Colab Notebooks/pitch-sequence/serialized-models/\"\n",
        "report_file = \"RF_clf_iter-2.0.1.txt\"\n",
        "print(clf_report(y_test, y_pred, target_names=relev_event_new), \n",
        "      file=open(mdl_path+report_file, \"w\"))\n",
        "# View the report in Colab\n",
        "print(clf_report(y_test, y_pred, target_names=relev_event_new))"
      ],
      "execution_count": null,
      "outputs": [
        {
          "output_type": "stream",
          "text": [
            "/usr/local/lib/python3.7/dist-packages/sklearn/metrics/_classification.py:1272: UndefinedMetricWarning: Precision and F-score are ill-defined and being set to 0.0 in labels with no predicted samples. Use `zero_division` parameter to control this behavior.\n",
            "  _warn_prf(average, modifier, msg_start, len(result))\n"
          ],
          "name": "stderr"
        },
        {
          "output_type": "stream",
          "text": [
            "              precision    recall  f1-score   support\n",
            "\n",
            "     Def Out       0.39      1.00      0.56    220539\n",
            "          HR       0.00      0.00      0.00     16370\n",
            "  Non-HR Hit       0.00      0.00      0.00     97122\n",
            "        Walk       0.00      0.00      0.00      4429\n",
            "   Sacrifice       0.00      0.00      0.00      4478\n",
            "   Strikeout       0.31      0.00      0.00    155299\n",
            "       Other       0.00      0.00      0.00     72560\n",
            "\n",
            "    accuracy                           0.39    570797\n",
            "   macro avg       0.10      0.14      0.08    570797\n",
            "weighted avg       0.23      0.39      0.22    570797\n",
            "\n"
          ],
          "name": "stdout"
        }
      ]
    },
    {
      "cell_type": "markdown",
      "metadata": {
        "id": "8QH_kFwYDzsv"
      },
      "source": [
        "Visualize Results"
      ]
    },
    {
      "cell_type": "code",
      "metadata": {
        "colab": {
          "base_uri": "https://localhost:8080/",
          "height": 590
        },
        "id": "HTpjMJpkDzcW",
        "outputId": "6e9ffc0f-a3b1-4d6c-cb67-6235dbb53173"
      },
      "source": [
        "from sklearn.metrics import plot_confusion_matrix\n",
        "fig, ax = plt.subplots(figsize=(12,12))\n",
        "plot_confusion_matrix(best_RF_clf, X_test, y_test,\n",
        "                      cmap=\"gist_ncar_r\",\n",
        "                      display_labels=relev_event_new,\n",
        "                      normalize=\"all\",\n",
        "                      ax=ax)\n",
        "plt.show()\n",
        "fig.savefig(\"figures/confusion_matrix_RF_iter-2.0.1.png\", dpi=300)"
      ],
      "execution_count": null,
      "outputs": [
        {
          "output_type": "display_data",
          "data": {
            "image/png": "[encoded data removed]",
            "text/plain": [
              "<Figure size 864x864 with 2 Axes>"
            ]
          },
          "metadata": {
            "tags": []
          }
        }
      ]
    },
    {
      "cell_type": "markdown",
      "metadata": {
        "id": "f4nSsl1pD6K4"
      },
      "source": [
        "Pickle RF model to be used later"
      ]
    },
    {
      "cell_type": "code",
      "metadata": {
        "id": "fIZarF_lD6xs"
      },
      "source": [
        "# Pickle the model for later\n",
        "import pickle\n",
        "\n",
        "# Path to save model\n",
        "mdl_path = \"/content/gdrive/My Drive/Colab Notebooks/pitch-sequence/serialized-models/\"\n",
        "# mdl file name\n",
        "mdl_filename = \"RF_clf_iter-2.0.1.pkl\"\n",
        "\n",
        "# Open a file to store model\n",
        "outfile = open(mdl_path+mdl_filename, \"wb\")\n",
        "# Open file to be pickled\n",
        "pickle.dump(best_RF_clf, outfile)\n",
        "# Close pickled model\n",
        "outfile.close()"
      ],
      "execution_count": null,
      "outputs": []
    },
    {
      "cell_type": "markdown",
      "metadata": {
        "id": "SrUJTIygbwfd"
      },
      "source": [
        "#### Iteration 2.0.2\n",
        "\n",
        "This iteration uses the default parameters for a `HistGradientBoostingClassifier` except for a slightly higher learning rate of 0.25. "
      ]
    },
    {
      "cell_type": "code",
      "metadata": {
        "colab": {
          "base_uri": "https://localhost:8080/"
        },
        "id": "djfMgjKhSWYw",
        "outputId": "ae3ff8df-9fec-43df-f71e-855d5b9c0237"
      },
      "source": [
        "from sklearn.experimental import enable_hist_gradient_boosting\n",
        "from sklearn.ensemble import HistGradientBoostingClassifier\n",
        "from sklearn.metrics import classification_report as clf_report\n",
        "from tqdm import tqdm\n",
        "import random\n",
        "\n",
        "# List possible scenarios\n",
        "lr = [0.1, 0.25, 0.50]\n",
        "l2 = [0, 1, 2]\n",
        "mln = [21, 31, 41]\n",
        "\n",
        "params = []\n",
        "\n",
        "for i in tqdm(range(3)):\n",
        "  print(\"Iteration Number: \", i)\n",
        "  p = [np.random.choice(lr), \n",
        "       np.random.choice(l2), \n",
        "       np.random.choice(mln)]\n",
        "  HGBC = HistGradientBoostingClassifier(loss=\"categorical_crossentropy\",\n",
        "                                        learning_rate=p[0],\n",
        "                                        l2_regularization=p[1],\n",
        "                                        max_leaf_nodes=p[2],\n",
        "                                        verbose=2,\n",
        "                                        random_state=0)\n",
        "  params.append(p)\n",
        "  print(p)\n",
        "  HGBC.fit(X_train, y_train)\n",
        "  y_pred = HGBC.predict(X_test)\n",
        "  # Print Report\n",
        "  mdl_path = \"/content/gdrive/My Drive/Colab Notebooks/pitch-sequence/serialized-models/\"\n",
        "  report_file = \"HGBC_iter-2.0.2.{}.txt\".format(i)\n",
        "  print(clf_report(y_test, y_pred, target_names=relev_event_new),\n",
        "        file=open(mdl_path+report_file, \"w\"))\n",
        "  print(\"The learning rate, l2 regualization strategy, and max leaf nodes are {}, respectively\".format(p), file=open(mdl_path+report_file, \"a\"))\n",
        "  # View in colab\n",
        "  print(clf_report(y_test, y_pred, target_names=relev_event_new))\n",
        "\n",
        "  # Pickle the model for later\n",
        "  import pickle\n",
        "\n",
        "  # mdl file name\n",
        "  mdl_filename = \"HGBC_iter-2.0.2.{}.pkl\".format(i)\n",
        "\n",
        "  # Open a file to store model\n",
        "  outfile = open(mdl_path+mdl_filename, \"wb\")\n",
        "  # Open file to be pickled\n",
        "  pickle.dump(HGBC, outfile)\n",
        "  # Close pickled model\n",
        "  outfile.close()\n",
        "\n",
        "# Time to train: 10 min\n"
      ],
      "execution_count": null,
      "outputs": [
        {
          "output_type": "stream",
          "text": [
            "\n",
            "\n",
            "  0%|          | 0/3 [00:00<?, ?it/s]\u001b[A\u001b[A"
          ],
          "name": "stderr"
        },
        {
          "output_type": "stream",
          "text": [
            "Iteration Number:  0\n",
            "[0.25, 0, 41]\n",
            "Binning 0.329 GB of training data: 1.645 s\n",
            "Fitting gradient boosted rounds:\n",
            "[1/100] 7 trees, 287 leaves (41 on avg), max depth = 12, in 3.437s\n",
            "[2/100] 7 trees, 287 leaves (41 on avg), max depth = 15, in 3.399s\n",
            "[3/100] 7 trees, 287 leaves (41 on avg), max depth = 18, in 3.319s\n",
            "[4/100] 7 trees, 287 leaves (41 on avg), max depth = 13, in 3.266s\n",
            "[5/100] 7 trees, 287 leaves (41 on avg), max depth = 14, in 3.302s\n",
            "[6/100] 7 trees, 287 leaves (41 on avg), max depth = 13, in 3.194s\n",
            "[7/100] 7 trees, 287 leaves (41 on avg), max depth = 14, in 2.992s\n",
            "[8/100] 7 trees, 287 leaves (41 on avg), max depth = 13, in 3.008s\n",
            "[9/100] 7 trees, 287 leaves (41 on avg), max depth = 13, in 3.007s\n",
            "[10/100] 7 trees, 287 leaves (41 on avg), max depth = 14, in 2.812s\n",
            "[11/100] 7 trees, 287 leaves (41 on avg), max depth = 14, in 2.681s\n",
            "[12/100] 7 trees, 287 leaves (41 on avg), max depth = 16, in 2.694s\n",
            "[13/100] 7 trees, 287 leaves (41 on avg), max depth = 14, in 2.477s\n",
            "[14/100] 7 trees, 287 leaves (41 on avg), max depth = 17, in 2.557s\n",
            "[15/100] 7 trees, 287 leaves (41 on avg), max depth = 17, in 2.489s\n",
            "[16/100] 7 trees, 287 leaves (41 on avg), max depth = 14, in 2.234s\n",
            "[17/100] 7 trees, 287 leaves (41 on avg), max depth = 17, in 2.419s\n",
            "[18/100] 7 trees, 287 leaves (41 on avg), max depth = 18, in 2.335s\n",
            "[19/100] 7 trees, 287 leaves (41 on avg), max depth = 15, in 1.862s\n",
            "[20/100] 7 trees, 287 leaves (41 on avg), max depth = 16, in 2.099s\n",
            "[21/100] 7 trees, 287 leaves (41 on avg), max depth = 14, in 2.037s\n",
            "[22/100] 7 trees, 287 leaves (41 on avg), max depth = 15, in 1.754s\n",
            "[23/100] 7 trees, 287 leaves (41 on avg), max depth = 14, in 2.005s\n",
            "[24/100] 7 trees, 287 leaves (41 on avg), max depth = 14, in 1.716s\n",
            "[25/100] 7 trees, 287 leaves (41 on avg), max depth = 15, in 1.635s\n",
            "[26/100] 7 trees, 287 leaves (41 on avg), max depth = 15, in 1.719s\n",
            "[27/100] 7 trees, 287 leaves (41 on avg), max depth = 17, in 1.789s\n",
            "[28/100] 7 trees, 287 leaves (41 on avg), max depth = 17, in 1.836s\n",
            "[29/100] 7 trees, 287 leaves (41 on avg), max depth = 12, in 1.438s\n",
            "[30/100] 7 trees, 287 leaves (41 on avg), max depth = 15, in 1.753s\n",
            "[31/100] 7 trees, 287 leaves (41 on avg), max depth = 17, in 1.896s\n",
            "[32/100] 7 trees, 287 leaves (41 on avg), max depth = 18, in 1.840s\n",
            "[33/100] 7 trees, 287 leaves (41 on avg), max depth = 14, in 1.644s\n",
            "[34/100] 7 trees, 287 leaves (41 on avg), max depth = 15, in 1.517s\n",
            "[35/100] 7 trees, 287 leaves (41 on avg), max depth = 16, in 1.591s\n",
            "[36/100] 7 trees, 287 leaves (41 on avg), max depth = 19, in 1.730s\n",
            "[37/100] 7 trees, 287 leaves (41 on avg), max depth = 18, in 1.594s\n",
            "[38/100] 7 trees, 287 leaves (41 on avg), max depth = 15, in 1.551s\n",
            "[39/100] 7 trees, 287 leaves (41 on avg), max depth = 20, in 1.502s\n",
            "[40/100] 7 trees, 287 leaves (41 on avg), max depth = 14, in 1.667s\n",
            "[41/100] 7 trees, 287 leaves (41 on avg), max depth = 12, in 1.769s\n",
            "[42/100] 7 trees, 287 leaves (41 on avg), max depth = 17, in 1.619s\n",
            "[43/100] 7 trees, 287 leaves (41 on avg), max depth = 15, in 1.410s\n",
            "[44/100] 7 trees, 287 leaves (41 on avg), max depth = 15, in 1.641s\n",
            "[45/100] 7 trees, 287 leaves (41 on avg), max depth = 18, in 1.737s\n",
            "[46/100] 7 trees, 287 leaves (41 on avg), max depth = 15, in 1.294s\n",
            "[47/100] 7 trees, 287 leaves (41 on avg), max depth = 16, in 1.518s\n",
            "[48/100] 7 trees, 287 leaves (41 on avg), max depth = 14, in 1.703s\n",
            "[49/100] 7 trees, 287 leaves (41 on avg), max depth = 16, in 1.584s\n",
            "[50/100] 7 trees, 287 leaves (41 on avg), max depth = 17, in 1.459s\n",
            "[51/100] 7 trees, 287 leaves (41 on avg), max depth = 15, in 1.451s\n",
            "[52/100] 7 trees, 287 leaves (41 on avg), max depth = 19, in 1.532s\n",
            "[53/100] 7 trees, 287 leaves (41 on avg), max depth = 19, in 1.657s\n",
            "[54/100] 7 trees, 287 leaves (41 on avg), max depth = 19, in 1.536s\n",
            "[55/100] 7 trees, 287 leaves (41 on avg), max depth = 18, in 1.425s\n",
            "[56/100] 7 trees, 287 leaves (41 on avg), max depth = 21, in 1.586s\n",
            "[57/100] 7 trees, 287 leaves (41 on avg), max depth = 22, in 1.598s\n",
            "[58/100] 7 trees, 287 leaves (41 on avg), max depth = 12, in 1.580s\n",
            "[59/100] 7 trees, 287 leaves (41 on avg), max depth = 19, in 1.527s\n",
            "[60/100] 7 trees, 287 leaves (41 on avg), max depth = 16, in 1.454s\n",
            "[61/100] 7 trees, 287 leaves (41 on avg), max depth = 13, in 1.615s\n",
            "[62/100] 7 trees, 287 leaves (41 on avg), max depth = 16, in 1.516s\n",
            "[63/100] 7 trees, 287 leaves (41 on avg), max depth = 18, in 1.435s\n",
            "[64/100] 7 trees, 287 leaves (41 on avg), max depth = 14, in 1.443s\n",
            "[65/100] 7 trees, 287 leaves (41 on avg), max depth = 18, in 1.408s\n",
            "[66/100] 7 trees, 287 leaves (41 on avg), max depth = 14, in 1.520s\n",
            "[67/100] 7 trees, 287 leaves (41 on avg), max depth = 20, in 1.375s\n",
            "[68/100] 7 trees, 287 leaves (41 on avg), max depth = 15, in 1.477s\n",
            "[69/100] 7 trees, 287 leaves (41 on avg), max depth = 14, in 1.524s\n",
            "[70/100] 7 trees, 287 leaves (41 on avg), max depth = 15, in 1.547s\n",
            "[71/100] 7 trees, 287 leaves (41 on avg), max depth = 17, in 1.572s\n",
            "[72/100] 7 trees, 287 leaves (41 on avg), max depth = 16, in 1.421s\n",
            "[73/100] 7 trees, 287 leaves (41 on avg), max depth = 18, in 1.458s\n",
            "[74/100] 7 trees, 287 leaves (41 on avg), max depth = 18, in 1.402s\n",
            "[75/100] 7 trees, 287 leaves (41 on avg), max depth = 14, in 1.453s\n",
            "[76/100] 7 trees, 287 leaves (41 on avg), max depth = 16, in 1.490s\n",
            "[77/100] 7 trees, 287 leaves (41 on avg), max depth = 16, in 1.505s\n",
            "[78/100] 7 trees, 287 leaves (41 on avg), max depth = 13, in 1.505s\n",
            "[79/100] 7 trees, 287 leaves (41 on avg), max depth = 16, in 1.400s\n",
            "[80/100] 7 trees, 287 leaves (41 on avg), max depth = 17, in 1.626s\n",
            "[81/100] 7 trees, 287 leaves (41 on avg), max depth = 14, in 1.596s\n",
            "[82/100] 7 trees, 287 leaves (41 on avg), max depth = 15, in 1.501s\n",
            "[83/100] 7 trees, 287 leaves (41 on avg), max depth = 16, in 1.503s\n",
            "[84/100] 7 trees, 287 leaves (41 on avg), max depth = 16, in 1.613s\n",
            "[85/100] 7 trees, 287 leaves (41 on avg), max depth = 19, in 1.402s\n",
            "[86/100] 7 trees, 287 leaves (41 on avg), max depth = 15, in 1.674s\n",
            "[87/100] 7 trees, 287 leaves (41 on avg), max depth = 16, in 1.374s\n",
            "[88/100] 7 trees, 287 leaves (41 on avg), max depth = 17, in 1.564s\n",
            "[89/100] 7 trees, 287 leaves (41 on avg), max depth = 14, in 1.529s\n",
            "[90/100] 7 trees, 287 leaves (41 on avg), max depth = 17, in 1.580s\n",
            "[91/100] 7 trees, 287 leaves (41 on avg), max depth = 15, in 1.542s\n",
            "[92/100] 7 trees, 287 leaves (41 on avg), max depth = 17, in 1.462s\n",
            "[93/100] 7 trees, 287 leaves (41 on avg), max depth = 16, in 1.415s\n",
            "[94/100] 7 trees, 287 leaves (41 on avg), max depth = 17, in 1.642s\n",
            "[95/100] 7 trees, 287 leaves (41 on avg), max depth = 18, in 1.597s\n",
            "[96/100] 7 trees, 287 leaves (41 on avg), max depth = 18, in 1.753s\n",
            "[97/100] 7 trees, 287 leaves (41 on avg), max depth = 15, in 1.529s\n",
            "[98/100] 7 trees, 287 leaves (41 on avg), max depth = 14, in 1.547s\n",
            "[99/100] 7 trees, 287 leaves (41 on avg), max depth = 20, in 1.382s\n",
            "[100/100] 7 trees, 287 leaves (41 on avg), max depth = 16, in 1.321s\n",
            "Fit 700 trees in 187.330 s, (28700 total leaves)\n",
            "Time spent computing histograms: 49.276s\n",
            "Time spent finding best splits:  1.207s\n",
            "Time spent applying splits:      21.062s\n",
            "Time spent predicting:           5.370s\n"
          ],
          "name": "stdout"
        },
        {
          "output_type": "stream",
          "text": [
            "\n",
            "\n",
            " 33%|███▎      | 1/3 [03:21<06:43, 201.96s/it]\u001b[A\u001b[A"
          ],
          "name": "stderr"
        },
        {
          "output_type": "stream",
          "text": [
            "              precision    recall  f1-score   support\n",
            "\n",
            "     Def Out       0.42      0.80      0.55    220539\n",
            "          HR       0.14      0.00      0.01     16370\n",
            "  Non-HR Hit       0.37      0.00      0.00     97122\n",
            "        Walk       0.02      0.00      0.01      4429\n",
            "   Sacrifice       0.04      0.01      0.01      4478\n",
            "   Strikeout       0.44      0.32      0.37    155299\n",
            "       Other       0.51      0.27      0.35     72560\n",
            "\n",
            "    accuracy                           0.43    570797\n",
            "   macro avg       0.28      0.20      0.19    570797\n",
            "weighted avg       0.41      0.43      0.36    570797\n",
            "\n",
            "Iteration Number:  1\n",
            "[0.25, 2, 21]\n",
            "Binning 0.329 GB of training data: 1.547 s\n",
            "Fitting gradient boosted rounds:\n",
            "[1/100] 7 trees, 147 leaves (21 on avg), max depth = 8, in 2.804s\n",
            "[2/100] 7 trees, 147 leaves (21 on avg), max depth = 11, in 2.770s\n",
            "[3/100] 7 trees, 147 leaves (21 on avg), max depth = 9, in 2.710s\n",
            "[4/100] 7 trees, 147 leaves (21 on avg), max depth = 12, in 2.661s\n",
            "[5/100] 7 trees, 147 leaves (21 on avg), max depth = 9, in 2.756s\n",
            "[6/100] 7 trees, 147 leaves (21 on avg), max depth = 10, in 2.608s\n",
            "[7/100] 7 trees, 147 leaves (21 on avg), max depth = 12, in 2.614s\n",
            "[8/100] 7 trees, 147 leaves (21 on avg), max depth = 10, in 2.572s\n",
            "[9/100] 7 trees, 147 leaves (21 on avg), max depth = 14, in 2.428s\n",
            "[10/100] 7 trees, 147 leaves (21 on avg), max depth = 13, in 2.615s\n",
            "[11/100] 7 trees, 147 leaves (21 on avg), max depth = 12, in 2.510s\n",
            "[12/100] 7 trees, 147 leaves (21 on avg), max depth = 11, in 2.403s\n",
            "[13/100] 7 trees, 147 leaves (21 on avg), max depth = 13, in 2.336s\n",
            "[14/100] 7 trees, 147 leaves (21 on avg), max depth = 13, in 2.294s\n",
            "[15/100] 7 trees, 147 leaves (21 on avg), max depth = 12, in 2.443s\n",
            "[16/100] 7 trees, 147 leaves (21 on avg), max depth = 13, in 2.238s\n",
            "[17/100] 7 trees, 147 leaves (21 on avg), max depth = 12, in 2.249s\n",
            "[18/100] 7 trees, 147 leaves (21 on avg), max depth = 11, in 2.155s\n",
            "[19/100] 7 trees, 147 leaves (21 on avg), max depth = 10, in 1.966s\n",
            "[20/100] 7 trees, 147 leaves (21 on avg), max depth = 11, in 2.183s\n",
            "[21/100] 7 trees, 147 leaves (21 on avg), max depth = 12, in 1.836s\n",
            "[22/100] 7 trees, 147 leaves (21 on avg), max depth = 13, in 1.796s\n",
            "[23/100] 7 trees, 147 leaves (21 on avg), max depth = 13, in 1.833s\n",
            "[24/100] 7 trees, 147 leaves (21 on avg), max depth = 10, in 1.763s\n",
            "[25/100] 7 trees, 147 leaves (21 on avg), max depth = 11, in 1.926s\n",
            "[26/100] 7 trees, 147 leaves (21 on avg), max depth = 13, in 1.920s\n",
            "[27/100] 7 trees, 147 leaves (21 on avg), max depth = 10, in 1.681s\n",
            "[28/100] 7 trees, 147 leaves (21 on avg), max depth = 10, in 1.556s\n",
            "[29/100] 7 trees, 147 leaves (21 on avg), max depth = 15, in 1.635s\n",
            "[30/100] 7 trees, 147 leaves (21 on avg), max depth = 11, in 1.737s\n",
            "[31/100] 7 trees, 147 leaves (21 on avg), max depth = 12, in 1.513s\n",
            "[32/100] 7 trees, 147 leaves (21 on avg), max depth = 12, in 1.702s\n",
            "[33/100] 7 trees, 147 leaves (21 on avg), max depth = 11, in 1.569s\n",
            "[34/100] 7 trees, 147 leaves (21 on avg), max depth = 12, in 1.573s\n",
            "[35/100] 7 trees, 147 leaves (21 on avg), max depth = 11, in 1.699s\n",
            "[36/100] 7 trees, 147 leaves (21 on avg), max depth = 12, in 1.763s\n",
            "[37/100] 7 trees, 147 leaves (21 on avg), max depth = 11, in 1.595s\n",
            "[38/100] 7 trees, 147 leaves (21 on avg), max depth = 12, in 1.390s\n",
            "[39/100] 7 trees, 147 leaves (21 on avg), max depth = 11, in 1.634s\n",
            "[40/100] 7 trees, 147 leaves (21 on avg), max depth = 13, in 1.406s\n",
            "[41/100] 7 trees, 147 leaves (21 on avg), max depth = 13, in 1.502s\n",
            "[42/100] 7 trees, 147 leaves (21 on avg), max depth = 11, in 1.691s\n",
            "[43/100] 7 trees, 147 leaves (21 on avg), max depth = 13, in 1.594s\n",
            "[44/100] 7 trees, 147 leaves (21 on avg), max depth = 13, in 1.532s\n",
            "[45/100] 7 trees, 147 leaves (21 on avg), max depth = 13, in 1.625s\n",
            "[46/100] 7 trees, 147 leaves (21 on avg), max depth = 11, in 1.513s\n",
            "[47/100] 7 trees, 147 leaves (21 on avg), max depth = 11, in 1.429s\n",
            "[48/100] 7 trees, 147 leaves (21 on avg), max depth = 12, in 1.542s\n",
            "[49/100] 7 trees, 147 leaves (21 on avg), max depth = 13, in 1.639s\n",
            "[50/100] 7 trees, 147 leaves (21 on avg), max depth = 12, in 1.573s\n",
            "[51/100] 7 trees, 147 leaves (21 on avg), max depth = 13, in 1.525s\n",
            "[52/100] 7 trees, 147 leaves (21 on avg), max depth = 12, in 1.534s\n",
            "[53/100] 7 trees, 147 leaves (21 on avg), max depth = 10, in 1.338s\n",
            "[54/100] 7 trees, 147 leaves (21 on avg), max depth = 11, in 1.601s\n",
            "[55/100] 7 trees, 147 leaves (21 on avg), max depth = 11, in 1.423s\n",
            "[56/100] 7 trees, 147 leaves (21 on avg), max depth = 12, in 1.452s\n",
            "[57/100] 7 trees, 147 leaves (21 on avg), max depth = 11, in 1.521s\n",
            "[58/100] 7 trees, 147 leaves (21 on avg), max depth = 11, in 1.605s\n",
            "[59/100] 7 trees, 147 leaves (21 on avg), max depth = 12, in 1.490s\n",
            "[60/100] 7 trees, 147 leaves (21 on avg), max depth = 11, in 1.514s\n",
            "[61/100] 7 trees, 147 leaves (21 on avg), max depth = 10, in 1.520s\n",
            "[62/100] 7 trees, 147 leaves (21 on avg), max depth = 12, in 1.521s\n",
            "[63/100] 7 trees, 147 leaves (21 on avg), max depth = 13, in 1.486s\n",
            "[64/100] 7 trees, 147 leaves (21 on avg), max depth = 11, in 1.387s\n",
            "[65/100] 7 trees, 147 leaves (21 on avg), max depth = 10, in 1.439s\n",
            "[66/100] 7 trees, 147 leaves (21 on avg), max depth = 10, in 1.534s\n",
            "[67/100] 7 trees, 147 leaves (21 on avg), max depth = 12, in 1.371s\n",
            "[68/100] 7 trees, 147 leaves (21 on avg), max depth = 12, in 1.401s\n",
            "[69/100] 7 trees, 147 leaves (21 on avg), max depth = 14, in 1.447s\n",
            "[70/100] 7 trees, 147 leaves (21 on avg), max depth = 12, in 1.392s\n",
            "[71/100] 7 trees, 147 leaves (21 on avg), max depth = 10, in 1.519s\n",
            "[72/100] 7 trees, 147 leaves (21 on avg), max depth = 10, in 1.474s\n",
            "[73/100] 7 trees, 147 leaves (21 on avg), max depth = 14, in 1.509s\n",
            "[74/100] 7 trees, 147 leaves (21 on avg), max depth = 13, in 1.624s\n",
            "[75/100] 7 trees, 147 leaves (21 on avg), max depth = 14, in 1.465s\n",
            "[76/100] 7 trees, 147 leaves (21 on avg), max depth = 13, in 1.399s\n",
            "[77/100] 7 trees, 147 leaves (21 on avg), max depth = 11, in 1.472s\n",
            "[78/100] 7 trees, 147 leaves (21 on avg), max depth = 12, in 1.499s\n",
            "[79/100] 7 trees, 147 leaves (21 on avg), max depth = 12, in 1.447s\n",
            "[80/100] 7 trees, 147 leaves (21 on avg), max depth = 13, in 1.429s\n",
            "[81/100] 7 trees, 147 leaves (21 on avg), max depth = 10, in 1.366s\n",
            "[82/100] 7 trees, 147 leaves (21 on avg), max depth = 11, in 1.560s\n",
            "[83/100] 7 trees, 147 leaves (21 on avg), max depth = 14, in 1.438s\n",
            "[84/100] 7 trees, 147 leaves (21 on avg), max depth = 14, in 1.430s\n",
            "[85/100] 7 trees, 147 leaves (21 on avg), max depth = 11, in 1.642s\n",
            "[86/100] 7 trees, 147 leaves (21 on avg), max depth = 12, in 1.440s\n",
            "[87/100] 7 trees, 147 leaves (21 on avg), max depth = 12, in 1.474s\n",
            "[88/100] 7 trees, 147 leaves (21 on avg), max depth = 11, in 1.561s\n",
            "[89/100] 7 trees, 147 leaves (21 on avg), max depth = 12, in 1.475s\n",
            "[90/100] 7 trees, 147 leaves (21 on avg), max depth = 14, in 1.537s\n",
            "[91/100] 7 trees, 147 leaves (21 on avg), max depth = 10, in 1.385s\n",
            "[92/100] 7 trees, 147 leaves (21 on avg), max depth = 11, in 1.444s\n",
            "[93/100] 7 trees, 147 leaves (21 on avg), max depth = 12, in 1.458s\n",
            "[94/100] 7 trees, 147 leaves (21 on avg), max depth = 12, in 1.525s\n",
            "[95/100] 7 trees, 147 leaves (21 on avg), max depth = 11, in 1.595s\n",
            "[96/100] 7 trees, 147 leaves (21 on avg), max depth = 13, in 1.547s\n",
            "[97/100] 7 trees, 147 leaves (21 on avg), max depth = 12, in 1.405s\n",
            "[98/100] 7 trees, 147 leaves (21 on avg), max depth = 12, in 1.442s\n",
            "[99/100] 7 trees, 147 leaves (21 on avg), max depth = 12, in 1.401s\n",
            "[100/100] 7 trees, 147 leaves (21 on avg), max depth = 11, in 1.334s\n",
            "Fit 700 trees in 178.220 s, (14700 total leaves)\n",
            "Time spent computing histograms: 43.704s\n",
            "Time spent finding best splits:  0.764s\n",
            "Time spent applying splits:      18.799s\n",
            "Time spent predicting:           5.001s\n"
          ],
          "name": "stdout"
        },
        {
          "output_type": "stream",
          "text": [
            "\n",
            "\n",
            " 67%|██████▋   | 2/3 [06:34<03:19, 199.11s/it]\u001b[A\u001b[A"
          ],
          "name": "stderr"
        },
        {
          "output_type": "stream",
          "text": [
            "              precision    recall  f1-score   support\n",
            "\n",
            "     Def Out       0.42      0.80      0.55    220539\n",
            "          HR       0.78      0.00      0.00     16370\n",
            "  Non-HR Hit       0.44      0.00      0.00     97122\n",
            "        Walk       0.00      0.00      0.00      4429\n",
            "   Sacrifice       0.67      0.00      0.00      4478\n",
            "   Strikeout       0.44      0.33      0.37    155299\n",
            "       Other       0.51      0.27      0.35     72560\n",
            "\n",
            "    accuracy                           0.43    570797\n",
            "   macro avg       0.46      0.20      0.18    570797\n",
            "weighted avg       0.45      0.43      0.36    570797\n",
            "\n",
            "Iteration Number:  2\n",
            "[0.5, 2, 21]\n",
            "Binning 0.329 GB of training data: 1.571 s\n",
            "Fitting gradient boosted rounds:\n",
            "[1/100] 7 trees, 147 leaves (21 on avg), max depth = 8, in 2.812s\n",
            "[2/100] 7 trees, 147 leaves (21 on avg), max depth = 10, in 2.658s\n",
            "[3/100] 7 trees, 147 leaves (21 on avg), max depth = 10, in 2.713s\n",
            "[4/100] 7 trees, 147 leaves (21 on avg), max depth = 11, in 2.550s\n",
            "[5/100] 7 trees, 147 leaves (21 on avg), max depth = 11, in 2.474s\n",
            "[6/100] 7 trees, 147 leaves (21 on avg), max depth = 10, in 2.533s\n",
            "[7/100] 7 trees, 147 leaves (21 on avg), max depth = 11, in 2.466s\n",
            "[8/100] 7 trees, 147 leaves (21 on avg), max depth = 10, in 2.224s\n",
            "[9/100] 7 trees, 147 leaves (21 on avg), max depth = 10, in 1.871s\n",
            "[10/100] 7 trees, 147 leaves (21 on avg), max depth = 11, in 2.242s\n",
            "[11/100] 7 trees, 147 leaves (21 on avg), max depth = 13, in 1.865s\n",
            "[12/100] 7 trees, 147 leaves (21 on avg), max depth = 13, in 1.791s\n",
            "[13/100] 7 trees, 147 leaves (21 on avg), max depth = 13, in 1.899s\n",
            "[14/100] 7 trees, 147 leaves (21 on avg), max depth = 10, in 1.811s\n",
            "[15/100] 7 trees, 147 leaves (21 on avg), max depth = 13, in 1.802s\n",
            "[16/100] 7 trees, 147 leaves (21 on avg), max depth = 12, in 1.594s\n",
            "[17/100] 7 trees, 147 leaves (21 on avg), max depth = 12, in 1.811s\n",
            "[18/100] 7 trees, 147 leaves (21 on avg), max depth = 11, in 1.669s\n",
            "[19/100] 7 trees, 147 leaves (21 on avg), max depth = 12, in 1.373s\n",
            "[20/100] 7 trees, 147 leaves (21 on avg), max depth = 11, in 1.546s\n",
            "[21/100] 7 trees, 147 leaves (21 on avg), max depth = 9, in 1.799s\n",
            "[22/100] 7 trees, 147 leaves (21 on avg), max depth = 11, in 1.506s\n",
            "[23/100] 7 trees, 147 leaves (21 on avg), max depth = 13, in 1.720s\n",
            "[24/100] 7 trees, 147 leaves (21 on avg), max depth = 13, in 1.507s\n",
            "[25/100] 7 trees, 147 leaves (21 on avg), max depth = 14, in 1.416s\n",
            "[26/100] 7 trees, 147 leaves (21 on avg), max depth = 11, in 1.427s\n",
            "[27/100] 7 trees, 147 leaves (21 on avg), max depth = 10, in 1.447s\n",
            "[28/100] 7 trees, 147 leaves (21 on avg), max depth = 11, in 1.536s\n",
            "[29/100] 7 trees, 147 leaves (21 on avg), max depth = 12, in 1.345s\n",
            "[30/100] 7 trees, 147 leaves (21 on avg), max depth = 12, in 1.624s\n",
            "[31/100] 7 trees, 147 leaves (21 on avg), max depth = 12, in 1.642s\n",
            "[32/100] 7 trees, 147 leaves (21 on avg), max depth = 10, in 1.372s\n",
            "[33/100] 7 trees, 147 leaves (21 on avg), max depth = 12, in 1.546s\n",
            "[34/100] 7 trees, 147 leaves (21 on avg), max depth = 12, in 1.538s\n",
            "[35/100] 7 trees, 147 leaves (21 on avg), max depth = 11, in 1.558s\n",
            "[36/100] 7 trees, 147 leaves (21 on avg), max depth = 10, in 1.359s\n",
            "[37/100] 7 trees, 147 leaves (21 on avg), max depth = 12, in 1.475s\n",
            "[38/100] 7 trees, 147 leaves (21 on avg), max depth = 12, in 1.721s\n",
            "[39/100] 7 trees, 147 leaves (21 on avg), max depth = 14, in 1.421s\n",
            "[40/100] 7 trees, 147 leaves (21 on avg), max depth = 11, in 1.446s\n",
            "[41/100] 7 trees, 147 leaves (21 on avg), max depth = 13, in 1.323s\n",
            "[42/100] 7 trees, 147 leaves (21 on avg), max depth = 12, in 1.437s\n",
            "[43/100] 7 trees, 147 leaves (21 on avg), max depth = 12, in 1.496s\n",
            "[44/100] 7 trees, 147 leaves (21 on avg), max depth = 12, in 1.687s\n",
            "[45/100] 7 trees, 147 leaves (21 on avg), max depth = 13, in 1.417s\n",
            "[46/100] 7 trees, 147 leaves (21 on avg), max depth = 11, in 1.533s\n",
            "[47/100] 7 trees, 147 leaves (21 on avg), max depth = 14, in 1.557s\n",
            "[48/100] 7 trees, 147 leaves (21 on avg), max depth = 12, in 1.607s\n",
            "[49/100] 7 trees, 147 leaves (21 on avg), max depth = 11, in 1.359s\n",
            "[50/100] 7 trees, 147 leaves (21 on avg), max depth = 13, in 1.385s\n",
            "[51/100] 7 trees, 147 leaves (21 on avg), max depth = 11, in 1.342s\n",
            "[52/100] 7 trees, 147 leaves (21 on avg), max depth = 11, in 1.502s\n",
            "[53/100] 7 trees, 147 leaves (21 on avg), max depth = 10, in 1.487s\n",
            "[54/100] 7 trees, 147 leaves (21 on avg), max depth = 10, in 1.356s\n",
            "[55/100] 7 trees, 147 leaves (21 on avg), max depth = 13, in 1.484s\n",
            "[56/100] 7 trees, 147 leaves (21 on avg), max depth = 13, in 1.402s\n",
            "[57/100] 7 trees, 147 leaves (21 on avg), max depth = 9, in 1.362s\n",
            "[58/100] 7 trees, 147 leaves (21 on avg), max depth = 15, in 1.491s\n",
            "[59/100] 7 trees, 147 leaves (21 on avg), max depth = 14, in 1.463s\n",
            "[60/100] 7 trees, 147 leaves (21 on avg), max depth = 14, in 1.386s\n",
            "[61/100] 7 trees, 147 leaves (21 on avg), max depth = 15, in 1.469s\n",
            "[62/100] 7 trees, 147 leaves (21 on avg), max depth = 11, in 1.566s\n",
            "[63/100] 7 trees, 147 leaves (21 on avg), max depth = 12, in 1.336s\n",
            "[64/100] 7 trees, 147 leaves (21 on avg), max depth = 11, in 1.527s\n",
            "[65/100] 7 trees, 147 leaves (21 on avg), max depth = 11, in 1.507s\n",
            "[66/100] 7 trees, 147 leaves (21 on avg), max depth = 14, in 1.525s\n",
            "[67/100] 7 trees, 147 leaves (21 on avg), max depth = 14, in 1.490s\n",
            "[68/100] 7 trees, 147 leaves (21 on avg), max depth = 12, in 1.439s\n",
            "[69/100] 7 trees, 147 leaves (21 on avg), max depth = 13, in 1.431s\n",
            "[70/100] 7 trees, 147 leaves (21 on avg), max depth = 12, in 1.409s\n",
            "[71/100] 7 trees, 147 leaves (21 on avg), max depth = 11, in 1.516s\n",
            "[72/100] 7 trees, 147 leaves (21 on avg), max depth = 11, in 1.371s\n",
            "[73/100] 7 trees, 147 leaves (21 on avg), max depth = 12, in 1.497s\n",
            "[74/100] 7 trees, 147 leaves (21 on avg), max depth = 11, in 1.383s\n",
            "[75/100] 7 trees, 147 leaves (21 on avg), max depth = 11, in 1.382s\n",
            "[76/100] 7 trees, 147 leaves (21 on avg), max depth = 13, in 1.549s\n",
            "[77/100] 7 trees, 147 leaves (21 on avg), max depth = 12, in 1.404s\n",
            "[78/100] 7 trees, 147 leaves (21 on avg), max depth = 12, in 1.291s\n",
            "[79/100] 7 trees, 147 leaves (21 on avg), max depth = 12, in 1.432s\n",
            "[80/100] 7 trees, 147 leaves (21 on avg), max depth = 11, in 1.271s\n",
            "[81/100] 7 trees, 147 leaves (21 on avg), max depth = 11, in 1.318s\n",
            "[82/100] 7 trees, 147 leaves (21 on avg), max depth = 11, in 1.439s\n",
            "[83/100] 7 trees, 147 leaves (21 on avg), max depth = 15, in 1.300s\n",
            "[84/100] 7 trees, 147 leaves (21 on avg), max depth = 11, in 1.485s\n",
            "[85/100] 7 trees, 147 leaves (21 on avg), max depth = 11, in 1.403s\n",
            "[86/100] 7 trees, 147 leaves (21 on avg), max depth = 11, in 1.452s\n",
            "[87/100] 7 trees, 147 leaves (21 on avg), max depth = 13, in 1.434s\n",
            "[88/100] 7 trees, 147 leaves (21 on avg), max depth = 10, in 1.338s\n",
            "[89/100] 7 trees, 147 leaves (21 on avg), max depth = 11, in 1.416s\n",
            "[90/100] 7 trees, 147 leaves (21 on avg), max depth = 12, in 1.452s\n",
            "[91/100] 7 trees, 147 leaves (21 on avg), max depth = 11, in 1.473s\n",
            "[92/100] 7 trees, 147 leaves (21 on avg), max depth = 12, in 1.613s\n",
            "[93/100] 7 trees, 147 leaves (21 on avg), max depth = 12, in 1.389s\n",
            "[94/100] 7 trees, 147 leaves (21 on avg), max depth = 14, in 1.431s\n",
            "[95/100] 7 trees, 147 leaves (21 on avg), max depth = 12, in 1.494s\n",
            "[96/100] 7 trees, 147 leaves (21 on avg), max depth = 12, in 1.350s\n",
            "[97/100] 7 trees, 147 leaves (21 on avg), max depth = 12, in 1.412s\n",
            "[98/100] 7 trees, 147 leaves (21 on avg), max depth = 12, in 1.450s\n",
            "[99/100] 7 trees, 147 leaves (21 on avg), max depth = 13, in 1.469s\n",
            "[100/100] 7 trees, 147 leaves (21 on avg), max depth = 12, in 1.272s\n",
            "Fit 700 trees in 164.426 s, (14700 total leaves)\n",
            "Time spent computing histograms: 33.896s\n",
            "Time spent finding best splits:  0.708s\n",
            "Time spent applying splits:      15.206s\n",
            "Time spent predicting:           4.249s\n"
          ],
          "name": "stdout"
        },
        {
          "output_type": "stream",
          "text": [
            "\n",
            "\n",
            "100%|██████████| 3/3 [09:32<00:00, 190.90s/it]"
          ],
          "name": "stderr"
        },
        {
          "output_type": "stream",
          "text": [
            "              precision    recall  f1-score   support\n",
            "\n",
            "     Def Out       0.42      0.79      0.55    220539\n",
            "          HR       0.27      0.00      0.00     16370\n",
            "  Non-HR Hit       0.33      0.00      0.01     97122\n",
            "        Walk       0.18      0.00      0.00      4429\n",
            "   Sacrifice       0.31      0.00      0.00      4478\n",
            "   Strikeout       0.43      0.33      0.37    155299\n",
            "       Other       0.50      0.27      0.35     72560\n",
            "\n",
            "    accuracy                           0.43    570797\n",
            "   macro avg       0.35      0.20      0.18    570797\n",
            "weighted avg       0.41      0.43      0.36    570797\n",
            "\n"
          ],
          "name": "stdout"
        },
        {
          "output_type": "stream",
          "text": [
            "\n"
          ],
          "name": "stderr"
        }
      ]
    },
    {
      "cell_type": "markdown",
      "metadata": {
        "id": "nvhrDU9zyLGK"
      },
      "source": [
        "#### Iteration 2.0.3\n",
        "AdaBoost `for` loop gridsearch. Base estimator is the same as in 2.0.1 (i.e., this is a boosted RF)"
      ]
    },
    {
      "cell_type": "code",
      "metadata": {
        "colab": {
          "background_save": true,
          "base_uri": "https://localhost:8080/"
        },
        "id": "sTv4jkGJyBtV",
        "outputId": "a910a7d2-5824-4016-9b8f-b0e5a5a0360d"
      },
      "source": [
        "from sklearn.ensemble import RandomForestClassifier\n",
        "from sklearn.ensemble import AdaBoostClassifier\n",
        "from sklearn.metrics import classification_report as clf_report\n",
        "from tqdm import tqdm\n",
        "\n",
        "# Base estimator\n",
        "RF_clf = RandomForestClassifier(max_depth=2, random_state=42)\n",
        "\n",
        "n_est = [100,125,150]\n",
        "\n",
        "for i in tqdm(range(len(n_est))):\n",
        "  print(n_est[i])\n",
        "  ABC = AdaBoostClassifier(base_estimator=RF_clf,\n",
        "                           n_estimators=n_est[i],\n",
        "                           random_state=0)\n",
        "  ABC.fit(X_train, y_train)\n",
        "  y_pred = ABC.predict(X_test)\n",
        "\n",
        "   # Print Report\n",
        "  mdl_path = \"/content/gdrive/My Drive/Colab Notebooks/pitch-sequence/serialized-models/\"\n",
        "  report_file = \"ABC_iter-2.0.3.{}.txt\".format(i)\n",
        "  print(clf_report(y_test, y_pred, target_names=relev_event_new),\n",
        "        file=open(mdl_path+report_file, \"w\"))\n",
        "  print(\"The number of estimators for this run of AdaBoostClassifier is {}\"\\\n",
        "        .format(n_est[i]), \n",
        "        file=open(mdl_path+report_file, \"a\"))\n",
        "  # View in colab\n",
        "  print(clf_report(y_test, y_pred, target_names=relev_event_new))\n",
        "\n",
        "  # Pickle the model for later\n",
        "  import pickle\n",
        "\n",
        "  # mdl file name\n",
        "  mdl_filename = \"ABC_iter-2.0.3.{}.pkl\".format(i)\n",
        "\n",
        "  # Open a file to store model\n",
        "  outfile = open(mdl_path+mdl_filename, \"wb\")\n",
        "  # Open file to be pickled\n",
        "  pickle.dump(ABC, outfile)\n",
        "  # Close pickled model\n",
        "  outfile.close()\n",
        "\n",
        "\n",
        "# Time to train: "
      ],
      "execution_count": null,
      "outputs": [
        {
          "output_type": "stream",
          "text": [
            "\n",
            "\n",
            "\n",
            "  0%|          | 0/3 [00:00<?, ?it/s]\u001b[A\u001b[A\u001b[A"
          ],
          "name": "stderr"
        },
        {
          "output_type": "stream",
          "text": [
            "100\n"
          ],
          "name": "stdout"
        }
      ]
    },
    {
      "cell_type": "markdown",
      "metadata": {
        "id": "Bgk-TWDPqRYN"
      },
      "source": [
        "#### Iteration 2.0.4\n",
        "This iteration uses `XGBoost`"
      ]
    },
    {
      "cell_type": "code",
      "metadata": {
        "id": "rGpONMagqQvE"
      },
      "source": [
        "import xgboost as xgb\n",
        "\n"
      ],
      "execution_count": null,
      "outputs": []
    },
    {
      "cell_type": "markdown",
      "metadata": {
        "id": "uaq0Qu1p6_iz"
      },
      "source": [
        "#### Iteration 2.0.4\n",
        "\n",
        "In this iteration, a function is defined to train the model used in 2.0.1 and 2.0.2; however, the function uses merges minority oversampling and statified K-folding. The parameters are chosen after conducting gridsearches in iterations ≥ 2.1.1."
      ]
    },
    {
      "cell_type": "code",
      "metadata": {
        "colab": {
          "base_uri": "https://localhost:8080/"
        },
        "id": "sKMByJlS9jKZ",
        "outputId": "de8d639e-f4f3-481b-9e76-1b5afd5789a9"
      },
      "source": [
        "# Install imbalacned-learn\n",
        "!pip install -U imbalanced-learn"
      ],
      "execution_count": null,
      "outputs": [
        {
          "output_type": "stream",
          "text": [
            "Collecting imbalanced-learn\n",
            "\u001b[?25l  Downloading https://files.pythonhosted.org/packages/80/98/dc784205a7e3034e84d41ac4781660c67ad6327f2f5a80c568df31673d1c/imbalanced_learn-0.8.0-py3-none-any.whl (206kB)\n",
            "\r\u001b[K     |█▋                              | 10kB 11.4MB/s eta 0:00:01\r\u001b[K     |███▏                            | 20kB 9.8MB/s eta 0:00:01\r\u001b[K     |████▊                           | 30kB 8.1MB/s eta 0:00:01\r\u001b[K     |██████▍                         | 40kB 7.7MB/s eta 0:00:01\r\u001b[K     |████████                        | 51kB 4.1MB/s eta 0:00:01\r\u001b[K     |█████████▌                      | 61kB 4.4MB/s eta 0:00:01\r\u001b[K     |███████████                     | 71kB 4.8MB/s eta 0:00:01\r\u001b[K     |████████████▊                   | 81kB 5.3MB/s eta 0:00:01\r\u001b[K     |██████████████▎                 | 92kB 5.4MB/s eta 0:00:01\r\u001b[K     |███████████████▉                | 102kB 4.3MB/s eta 0:00:01\r\u001b[K     |█████████████████▌              | 112kB 4.3MB/s eta 0:00:01\r\u001b[K     |███████████████████             | 122kB 4.3MB/s eta 0:00:01\r\u001b[K     |████████████████████▋           | 133kB 4.3MB/s eta 0:00:01\r\u001b[K     |██████████████████████▏         | 143kB 4.3MB/s eta 0:00:01\r\u001b[K     |███████████████████████▉        | 153kB 4.3MB/s eta 0:00:01\r\u001b[K     |█████████████████████████▍      | 163kB 4.3MB/s eta 0:00:01\r\u001b[K     |███████████████████████████     | 174kB 4.3MB/s eta 0:00:01\r\u001b[K     |████████████████████████████▋   | 184kB 4.3MB/s eta 0:00:01\r\u001b[K     |██████████████████████████████▏ | 194kB 4.3MB/s eta 0:00:01\r\u001b[K     |███████████████████████████████▊| 204kB 4.3MB/s eta 0:00:01\r\u001b[K     |████████████████████████████████| 215kB 4.3MB/s \n",
            "\u001b[?25hRequirement already satisfied, skipping upgrade: numpy>=1.13.3 in /usr/local/lib/python3.7/dist-packages (from imbalanced-learn) (1.19.5)\n",
            "Requirement already satisfied, skipping upgrade: joblib>=0.11 in /usr/local/lib/python3.7/dist-packages (from imbalanced-learn) (1.0.1)\n",
            "Requirement already satisfied, skipping upgrade: scipy>=0.19.1 in /usr/local/lib/python3.7/dist-packages (from imbalanced-learn) (1.4.1)\n",
            "Collecting scikit-learn>=0.24\n",
            "\u001b[?25l  Downloading https://files.pythonhosted.org/packages/a8/eb/a48f25c967526b66d5f1fa7a984594f0bf0a5afafa94a8c4dbc317744620/scikit_learn-0.24.2-cp37-cp37m-manylinux2010_x86_64.whl (22.3MB)\n",
            "\u001b[K     |████████████████████████████████| 22.3MB 1.4MB/s \n",
            "\u001b[?25hCollecting threadpoolctl>=2.0.0\n",
            "  Downloading https://files.pythonhosted.org/packages/f7/12/ec3f2e203afa394a149911729357aa48affc59c20e2c1c8297a60f33f133/threadpoolctl-2.1.0-py3-none-any.whl\n",
            "Installing collected packages: threadpoolctl, scikit-learn, imbalanced-learn\n",
            "  Found existing installation: scikit-learn 0.22.2.post1\n",
            "    Uninstalling scikit-learn-0.22.2.post1:\n",
            "      Successfully uninstalled scikit-learn-0.22.2.post1\n",
            "  Found existing installation: imbalanced-learn 0.4.3\n",
            "    Uninstalling imbalanced-learn-0.4.3:\n",
            "      Successfully uninstalled imbalanced-learn-0.4.3\n",
            "Successfully installed imbalanced-learn-0.8.0 scikit-learn-0.24.2 threadpoolctl-2.1.0\n"
          ],
          "name": "stdout"
        }
      ]
    },
    {
      "cell_type": "code",
      "metadata": {
        "id": "ESRgyJPo7AdD"
      },
      "source": [
        "from imblearn.over_sampling import SMOTE\n",
        "from collections import Counter\n",
        "from sklearn.model_selection import StratifiedKFold\n",
        "from sklearn.ensemble import RandomForestClassifier\n",
        "from sklearn.ensemble import HistGradientBoostingClassifier\n",
        "from sklearn.ensemble import AdaBoostClassifier\n",
        "from sklearn.metrics import classification_report as clf_report\n",
        "\n",
        "# Instantiate and create a list of models to be analyzed - parameters were chosen from the \n",
        "## Random Forest\n",
        "RF_clf = RandomForestClassifier(n_estimators=150,\n",
        "                                max_depth=30,\n",
        "                                min_samples_split=2,\n",
        "                                min_samples_leaf=1,\n",
        "                                verbose=2,\n",
        "                                n_jobs=-1,\n",
        "                                random_state=0)\n",
        "## HistGradientBoostingClassifier\n",
        "HGBC = HistGradientBoostingClassifier(verbose=2,\n",
        "                                      random_state=0))\n",
        "\n",
        "## AdaBoostClassifier\n",
        "ABC = AdaBoostClassifier()\n",
        "\n",
        "mdls = [RF_clf, HGBC, ABC] \n",
        "\n",
        "# Define function to oversample minority classes and then apply stratified K \n",
        "# folding followed by training and reporting the results\n",
        "def smote_skf_trainer(X, y, mdl):\n",
        "  # Acquire the counting stats for the distribution of classes\n",
        "  n_per_class = pd.Series(index=range(len(np.unique(y))))\n",
        "  for i in range(len(np.unique(y))):\n",
        "    n_per_class[i] = np.count_nonzero(y == i)\n",
        "\n",
        "  # Estalish the class with the highest number of occurences\n",
        "  max_class = max_class = np.int_(np.max(n_per_class))\n",
        "\n",
        "  # Instantiate a SMOTE object with specific percentages for the smallest the minority classes\n",
        "  over = SMOTE(sampling_strategy={0:max_class,\n",
        "                          1:round(max_class*0.15),\n",
        "                          2:np.count_nonzero(y==2),\n",
        "                          3:round(max_class*0.20),\n",
        "                          4:round(max_class*0.075),\n",
        "                          5:np.count_nonzero(y==5),\n",
        "                          6:np.count_nonzero(y==6)},\n",
        "               random_state=0)\n",
        "  \n",
        "  # Fit and resample using the SMOTE object\n",
        "  X_resamp, y_resamp = over(X, y)\n",
        "\n",
        "  # Instantiate the Stratified K-folding Object\n",
        "  skf = StratifiedKFold(n_splits=10, shuffle=True, random_state=0)\n",
        "\n",
        "  # Split Resampled data into training and test data\n",
        "  count = 0\n",
        "  for train_idx, test_idx in skf.split(X_resamp, y_resamp):\n",
        "    print(\"Loop Number: \", count)\n",
        "    X_train, X_test = X[train_index], X[test_index]\n",
        "    y_train, y_test = y[train_index], y[test_index]\n",
        "\n",
        "    # Fit model to training data\n",
        "    for m in mdl:\n",
        "      print(mdl[m])\n",
        "      mdl[m].fit(X_train, y_train)\n",
        "      # Predict\n",
        "       y_pred = mdl[m].predict(X_test)\n",
        "      # Report\n",
        "      print(clf_report(y_test, y_pred, target_names=relev_event_new))\n",
        "\n",
        "    count = count + 1\n",
        "    \n",
        "  \n",
        "\n"
      ],
      "execution_count": null,
      "outputs": []
    },
    {
      "cell_type": "markdown",
      "metadata": {
        "id": "qjFZaVZy0QLr"
      },
      "source": [
        "#### Iteration 2.1.0\n",
        "\n",
        "_params_\n",
        "- n_estimators: [100, 125, 150]\n",
        "- max_depth: [5, 15, 30]\n",
        "- min_samples: [2, 3]\n",
        "- min_samples_leaf: [1,2]\n",
        "- random_state: 0"
      ]
    },
    {
      "cell_type": "code",
      "metadata": {
        "colab": {
          "base_uri": "https://localhost:8080/"
        },
        "id": "SDHM3tke0Pw_",
        "outputId": "ba2d54a4-5d82-4a54-8d1b-a5f393edc008"
      },
      "source": [
        "from sklearn.preprocessing import StandardScaler\n",
        "from sklearn.ensemble import RandomForestClassifier\n",
        "from sklearn.model_selection import GridSearchCV\n",
        "from sklearn.pipeline import Pipeline\n",
        "from sklearn.metrics import balanced_accuracy_score\n",
        "\n",
        "# Create a pipeline for creating RF classifier\n",
        "pipe = Pipeline([\n",
        "                 (\"scaler\", StandardScaler()),\n",
        "                 (\"RF_clf\", RandomForestClassifier())\n",
        "])\n",
        "\n",
        "# Establish parameter grid\n",
        "params = {\n",
        "    \"RF_clf__n_estimators\": [100,125,150],\n",
        "    \"RF_clf__max_depth\": [5,15,30],\n",
        "    \"RF_clf__min_samples_split\": [2, 3],\n",
        "    \"RF_clf__min_samples_leaf\": [1,2],\n",
        "    \"RF_clf__random_state\": [0],\n",
        "    \"RF_clf__verbose\": [1],\n",
        "}\n",
        "\n",
        "# Grid Search and Fit\n",
        "RF_clf_gs = GridSearchCV(pipe, param_grid=params, cv=3,\n",
        "                         scoring=\"balanced_accuracy\")\n",
        "RF_clf_gs.fit(X_train, y_train)\n",
        "\n",
        "# Get best estimator\n",
        "best_RF_clf_gs = RF_clf_gs.best_estimator_\n",
        "\n",
        "\n",
        "import pickle\n",
        "# Path to save model\n",
        "mdl_path = \"/content/gdrive/My Drive/Colab Notebooks/pitch-sequence/serialized-models/\"\n",
        "# mdl file name\n",
        "mdl_filename = \"RF_clf_GridSearch_iter-2.1.0.pkl\"\n",
        "\n",
        "# Open a file to store model\n",
        "outfile = open(mdl_path+mdl_filename, \"wb\")\n",
        "# Pickle model\n",
        "pickle.dump(best_RF_clf_gs, outfile)\n",
        "# Close pickled model\n",
        "outfile.close()"
      ],
      "execution_count": null,
      "outputs": [
        {
          "output_type": "stream",
          "text": [
            "[Parallel(n_jobs=1)]: Using backend SequentialBackend with 1 concurrent workers.\n",
            "[Parallel(n_jobs=1)]: Done 100 out of 100 | elapsed:   29.5s finished\n",
            "[Parallel(n_jobs=1)]: Using backend SequentialBackend with 1 concurrent workers.\n",
            "[Parallel(n_jobs=1)]: Done 100 out of 100 | elapsed:    1.7s finished\n",
            "[Parallel(n_jobs=1)]: Using backend SequentialBackend with 1 concurrent workers.\n",
            "[Parallel(n_jobs=1)]: Done 100 out of 100 | elapsed:   29.0s finished\n",
            "[Parallel(n_jobs=1)]: Using backend SequentialBackend with 1 concurrent workers.\n",
            "[Parallel(n_jobs=1)]: Done 100 out of 100 | elapsed:    1.7s finished\n",
            "[Parallel(n_jobs=1)]: Using backend SequentialBackend with 1 concurrent workers.\n",
            "[Parallel(n_jobs=1)]: Done 100 out of 100 | elapsed:   28.3s finished\n",
            "[Parallel(n_jobs=1)]: Using backend SequentialBackend with 1 concurrent workers.\n",
            "[Parallel(n_jobs=1)]: Done 100 out of 100 | elapsed:    1.7s finished\n",
            "[Parallel(n_jobs=1)]: Using backend SequentialBackend with 1 concurrent workers.\n",
            "[Parallel(n_jobs=1)]: Done 125 out of 125 | elapsed:   35.1s finished\n",
            "[Parallel(n_jobs=1)]: Using backend SequentialBackend with 1 concurrent workers.\n",
            "[Parallel(n_jobs=1)]: Done 125 out of 125 | elapsed:    2.0s finished\n",
            "[Parallel(n_jobs=1)]: Using backend SequentialBackend with 1 concurrent workers.\n",
            "[Parallel(n_jobs=1)]: Done 125 out of 125 | elapsed:   36.2s finished\n",
            "[Parallel(n_jobs=1)]: Using backend SequentialBackend with 1 concurrent workers.\n",
            "[Parallel(n_jobs=1)]: Done 125 out of 125 | elapsed:    2.1s finished\n",
            "[Parallel(n_jobs=1)]: Using backend SequentialBackend with 1 concurrent workers.\n",
            "[Parallel(n_jobs=1)]: Done 125 out of 125 | elapsed:   36.3s finished\n",
            "[Parallel(n_jobs=1)]: Using backend SequentialBackend with 1 concurrent workers.\n",
            "[Parallel(n_jobs=1)]: Done 125 out of 125 | elapsed:    2.2s finished\n",
            "[Parallel(n_jobs=1)]: Using backend SequentialBackend with 1 concurrent workers.\n",
            "[Parallel(n_jobs=1)]: Done 150 out of 150 | elapsed:   44.5s finished\n",
            "[Parallel(n_jobs=1)]: Using backend SequentialBackend with 1 concurrent workers.\n",
            "[Parallel(n_jobs=1)]: Done 150 out of 150 | elapsed:    2.5s finished\n",
            "[Parallel(n_jobs=1)]: Using backend SequentialBackend with 1 concurrent workers.\n",
            "[Parallel(n_jobs=1)]: Done 150 out of 150 | elapsed:   43.4s finished\n",
            "[Parallel(n_jobs=1)]: Using backend SequentialBackend with 1 concurrent workers.\n",
            "[Parallel(n_jobs=1)]: Done 150 out of 150 | elapsed:    2.6s finished\n",
            "[Parallel(n_jobs=1)]: Using backend SequentialBackend with 1 concurrent workers.\n",
            "[Parallel(n_jobs=1)]: Done 150 out of 150 | elapsed:   41.9s finished\n",
            "[Parallel(n_jobs=1)]: Using backend SequentialBackend with 1 concurrent workers.\n",
            "[Parallel(n_jobs=1)]: Done 150 out of 150 | elapsed:    2.6s finished\n",
            "[Parallel(n_jobs=1)]: Using backend SequentialBackend with 1 concurrent workers.\n",
            "[Parallel(n_jobs=1)]: Done 100 out of 100 | elapsed:   28.3s finished\n",
            "[Parallel(n_jobs=1)]: Using backend SequentialBackend with 1 concurrent workers.\n",
            "[Parallel(n_jobs=1)]: Done 100 out of 100 | elapsed:    1.7s finished\n",
            "[Parallel(n_jobs=1)]: Using backend SequentialBackend with 1 concurrent workers.\n",
            "[Parallel(n_jobs=1)]: Done 100 out of 100 | elapsed:   29.2s finished\n",
            "[Parallel(n_jobs=1)]: Using backend SequentialBackend with 1 concurrent workers.\n",
            "[Parallel(n_jobs=1)]: Done 100 out of 100 | elapsed:    1.7s finished\n",
            "[Parallel(n_jobs=1)]: Using backend SequentialBackend with 1 concurrent workers.\n",
            "[Parallel(n_jobs=1)]: Done 100 out of 100 | elapsed:   29.0s finished\n",
            "[Parallel(n_jobs=1)]: Using backend SequentialBackend with 1 concurrent workers.\n",
            "[Parallel(n_jobs=1)]: Done 100 out of 100 | elapsed:    1.8s finished\n",
            "[Parallel(n_jobs=1)]: Using backend SequentialBackend with 1 concurrent workers.\n",
            "[Parallel(n_jobs=1)]: Done 125 out of 125 | elapsed:   37.0s finished\n",
            "[Parallel(n_jobs=1)]: Using backend SequentialBackend with 1 concurrent workers.\n",
            "[Parallel(n_jobs=1)]: Done 125 out of 125 | elapsed:    2.1s finished\n",
            "[Parallel(n_jobs=1)]: Using backend SequentialBackend with 1 concurrent workers.\n",
            "[Parallel(n_jobs=1)]: Done 125 out of 125 | elapsed:   38.2s finished\n",
            "[Parallel(n_jobs=1)]: Using backend SequentialBackend with 1 concurrent workers.\n",
            "[Parallel(n_jobs=1)]: Done 125 out of 125 | elapsed:    2.2s finished\n",
            "[Parallel(n_jobs=1)]: Using backend SequentialBackend with 1 concurrent workers.\n",
            "[Parallel(n_jobs=1)]: Done 125 out of 125 | elapsed:   38.9s finished\n",
            "[Parallel(n_jobs=1)]: Using backend SequentialBackend with 1 concurrent workers.\n",
            "[Parallel(n_jobs=1)]: Done 125 out of 125 | elapsed:    2.3s finished\n",
            "[Parallel(n_jobs=1)]: Using backend SequentialBackend with 1 concurrent workers.\n",
            "[Parallel(n_jobs=1)]: Done 150 out of 150 | elapsed:   44.2s finished\n",
            "[Parallel(n_jobs=1)]: Using backend SequentialBackend with 1 concurrent workers.\n",
            "[Parallel(n_jobs=1)]: Done 150 out of 150 | elapsed:    2.7s finished\n",
            "[Parallel(n_jobs=1)]: Using backend SequentialBackend with 1 concurrent workers.\n",
            "[Parallel(n_jobs=1)]: Done 150 out of 150 | elapsed:   44.4s finished\n",
            "[Parallel(n_jobs=1)]: Using backend SequentialBackend with 1 concurrent workers.\n",
            "[Parallel(n_jobs=1)]: Done 150 out of 150 | elapsed:    2.6s finished\n",
            "[Parallel(n_jobs=1)]: Using backend SequentialBackend with 1 concurrent workers.\n",
            "[Parallel(n_jobs=1)]: Done 150 out of 150 | elapsed:   45.2s finished\n",
            "[Parallel(n_jobs=1)]: Using backend SequentialBackend with 1 concurrent workers.\n",
            "[Parallel(n_jobs=1)]: Done 150 out of 150 | elapsed:    2.6s finished\n",
            "[Parallel(n_jobs=1)]: Using backend SequentialBackend with 1 concurrent workers.\n",
            "[Parallel(n_jobs=1)]: Done 100 out of 100 | elapsed:   29.5s finished\n",
            "[Parallel(n_jobs=1)]: Using backend SequentialBackend with 1 concurrent workers.\n",
            "[Parallel(n_jobs=1)]: Done 100 out of 100 | elapsed:    1.8s finished\n",
            "[Parallel(n_jobs=1)]: Using backend SequentialBackend with 1 concurrent workers.\n",
            "[Parallel(n_jobs=1)]: Done 100 out of 100 | elapsed:   29.7s finished\n",
            "[Parallel(n_jobs=1)]: Using backend SequentialBackend with 1 concurrent workers.\n",
            "[Parallel(n_jobs=1)]: Done 100 out of 100 | elapsed:    1.7s finished\n",
            "[Parallel(n_jobs=1)]: Using backend SequentialBackend with 1 concurrent workers.\n",
            "[Parallel(n_jobs=1)]: Done 100 out of 100 | elapsed:   30.1s finished\n",
            "[Parallel(n_jobs=1)]: Using backend SequentialBackend with 1 concurrent workers.\n",
            "[Parallel(n_jobs=1)]: Done 100 out of 100 | elapsed:    1.8s finished\n",
            "[Parallel(n_jobs=1)]: Using backend SequentialBackend with 1 concurrent workers.\n",
            "[Parallel(n_jobs=1)]: Done 125 out of 125 | elapsed:   37.4s finished\n",
            "[Parallel(n_jobs=1)]: Using backend SequentialBackend with 1 concurrent workers.\n",
            "[Parallel(n_jobs=1)]: Done 125 out of 125 | elapsed:    2.1s finished\n",
            "[Parallel(n_jobs=1)]: Using backend SequentialBackend with 1 concurrent workers.\n",
            "[Parallel(n_jobs=1)]: Done 125 out of 125 | elapsed:   37.5s finished\n",
            "[Parallel(n_jobs=1)]: Using backend SequentialBackend with 1 concurrent workers.\n",
            "[Parallel(n_jobs=1)]: Done 125 out of 125 | elapsed:    2.2s finished\n",
            "[Parallel(n_jobs=1)]: Using backend SequentialBackend with 1 concurrent workers.\n",
            "[Parallel(n_jobs=1)]: Done 125 out of 125 | elapsed:   37.9s finished\n",
            "[Parallel(n_jobs=1)]: Using backend SequentialBackend with 1 concurrent workers.\n",
            "[Parallel(n_jobs=1)]: Done 125 out of 125 | elapsed:    2.1s finished\n",
            "[Parallel(n_jobs=1)]: Using backend SequentialBackend with 1 concurrent workers.\n",
            "[Parallel(n_jobs=1)]: Done 150 out of 150 | elapsed:   45.3s finished\n",
            "[Parallel(n_jobs=1)]: Using backend SequentialBackend with 1 concurrent workers.\n",
            "[Parallel(n_jobs=1)]: Done 150 out of 150 | elapsed:    2.6s finished\n",
            "[Parallel(n_jobs=1)]: Using backend SequentialBackend with 1 concurrent workers.\n",
            "[Parallel(n_jobs=1)]: Done 150 out of 150 | elapsed:   45.6s finished\n",
            "[Parallel(n_jobs=1)]: Using backend SequentialBackend with 1 concurrent workers.\n",
            "[Parallel(n_jobs=1)]: Done 150 out of 150 | elapsed:    2.5s finished\n",
            "[Parallel(n_jobs=1)]: Using backend SequentialBackend with 1 concurrent workers.\n",
            "[Parallel(n_jobs=1)]: Done 150 out of 150 | elapsed:   45.2s finished\n",
            "[Parallel(n_jobs=1)]: Using backend SequentialBackend with 1 concurrent workers.\n",
            "[Parallel(n_jobs=1)]: Done 150 out of 150 | elapsed:    2.6s finished\n",
            "[Parallel(n_jobs=1)]: Using backend SequentialBackend with 1 concurrent workers.\n",
            "[Parallel(n_jobs=1)]: Done 100 out of 100 | elapsed:   29.9s finished\n",
            "[Parallel(n_jobs=1)]: Using backend SequentialBackend with 1 concurrent workers.\n",
            "[Parallel(n_jobs=1)]: Done 100 out of 100 | elapsed:    1.7s finished\n",
            "[Parallel(n_jobs=1)]: Using backend SequentialBackend with 1 concurrent workers.\n",
            "[Parallel(n_jobs=1)]: Done 100 out of 100 | elapsed:   31.5s finished\n",
            "[Parallel(n_jobs=1)]: Using backend SequentialBackend with 1 concurrent workers.\n",
            "[Parallel(n_jobs=1)]: Done 100 out of 100 | elapsed:    1.7s finished\n",
            "[Parallel(n_jobs=1)]: Using backend SequentialBackend with 1 concurrent workers.\n",
            "[Parallel(n_jobs=1)]: Done 100 out of 100 | elapsed:   29.1s finished\n",
            "[Parallel(n_jobs=1)]: Using backend SequentialBackend with 1 concurrent workers.\n",
            "[Parallel(n_jobs=1)]: Done 100 out of 100 | elapsed:    1.7s finished\n",
            "[Parallel(n_jobs=1)]: Using backend SequentialBackend with 1 concurrent workers.\n",
            "[Parallel(n_jobs=1)]: Done 125 out of 125 | elapsed:   37.0s finished\n",
            "[Parallel(n_jobs=1)]: Using backend SequentialBackend with 1 concurrent workers.\n",
            "[Parallel(n_jobs=1)]: Done 125 out of 125 | elapsed:    2.2s finished\n",
            "[Parallel(n_jobs=1)]: Using backend SequentialBackend with 1 concurrent workers.\n",
            "[Parallel(n_jobs=1)]: Done 125 out of 125 | elapsed:   36.7s finished\n",
            "[Parallel(n_jobs=1)]: Using backend SequentialBackend with 1 concurrent workers.\n",
            "[Parallel(n_jobs=1)]: Done 125 out of 125 | elapsed:    2.2s finished\n",
            "[Parallel(n_jobs=1)]: Using backend SequentialBackend with 1 concurrent workers.\n",
            "[Parallel(n_jobs=1)]: Done 125 out of 125 | elapsed:   38.3s finished\n",
            "[Parallel(n_jobs=1)]: Using backend SequentialBackend with 1 concurrent workers.\n",
            "[Parallel(n_jobs=1)]: Done 125 out of 125 | elapsed:    2.2s finished\n",
            "[Parallel(n_jobs=1)]: Using backend SequentialBackend with 1 concurrent workers.\n",
            "[Parallel(n_jobs=1)]: Done 150 out of 150 | elapsed:   45.7s finished\n",
            "[Parallel(n_jobs=1)]: Using backend SequentialBackend with 1 concurrent workers.\n",
            "[Parallel(n_jobs=1)]: Done 150 out of 150 | elapsed:    2.6s finished\n",
            "[Parallel(n_jobs=1)]: Using backend SequentialBackend with 1 concurrent workers.\n",
            "[Parallel(n_jobs=1)]: Done 150 out of 150 | elapsed:   43.1s finished\n",
            "[Parallel(n_jobs=1)]: Using backend SequentialBackend with 1 concurrent workers.\n",
            "[Parallel(n_jobs=1)]: Done 150 out of 150 | elapsed:    2.6s finished\n",
            "[Parallel(n_jobs=1)]: Using backend SequentialBackend with 1 concurrent workers.\n",
            "[Parallel(n_jobs=1)]: Done 150 out of 150 | elapsed:   43.7s finished\n",
            "[Parallel(n_jobs=1)]: Using backend SequentialBackend with 1 concurrent workers.\n",
            "[Parallel(n_jobs=1)]: Done 150 out of 150 | elapsed:    2.6s finished\n",
            "[Parallel(n_jobs=1)]: Using backend SequentialBackend with 1 concurrent workers.\n",
            "[Parallel(n_jobs=1)]: Done 100 out of 100 | elapsed:  1.2min finished\n",
            "[Parallel(n_jobs=1)]: Using backend SequentialBackend with 1 concurrent workers.\n",
            "[Parallel(n_jobs=1)]: Done 100 out of 100 | elapsed:    3.9s finished\n",
            "[Parallel(n_jobs=1)]: Using backend SequentialBackend with 1 concurrent workers.\n",
            "[Parallel(n_jobs=1)]: Done 100 out of 100 | elapsed:  1.2min finished\n",
            "[Parallel(n_jobs=1)]: Using backend SequentialBackend with 1 concurrent workers.\n",
            "[Parallel(n_jobs=1)]: Done 100 out of 100 | elapsed:    4.1s finished\n",
            "[Parallel(n_jobs=1)]: Using backend SequentialBackend with 1 concurrent workers.\n",
            "[Parallel(n_jobs=1)]: Done 100 out of 100 | elapsed:  1.2min finished\n",
            "[Parallel(n_jobs=1)]: Using backend SequentialBackend with 1 concurrent workers.\n",
            "[Parallel(n_jobs=1)]: Done 100 out of 100 | elapsed:    3.9s finished\n",
            "[Parallel(n_jobs=1)]: Using backend SequentialBackend with 1 concurrent workers.\n",
            "[Parallel(n_jobs=1)]: Done 125 out of 125 | elapsed:  1.5min finished\n",
            "[Parallel(n_jobs=1)]: Using backend SequentialBackend with 1 concurrent workers.\n",
            "[Parallel(n_jobs=1)]: Done 125 out of 125 | elapsed:    5.0s finished\n",
            "[Parallel(n_jobs=1)]: Using backend SequentialBackend with 1 concurrent workers.\n",
            "[Parallel(n_jobs=1)]: Done 125 out of 125 | elapsed:  1.5min finished\n",
            "[Parallel(n_jobs=1)]: Using backend SequentialBackend with 1 concurrent workers.\n",
            "[Parallel(n_jobs=1)]: Done 125 out of 125 | elapsed:    5.1s finished\n",
            "[Parallel(n_jobs=1)]: Using backend SequentialBackend with 1 concurrent workers.\n",
            "[Parallel(n_jobs=1)]: Done 125 out of 125 | elapsed:  1.5min finished\n",
            "[Parallel(n_jobs=1)]: Using backend SequentialBackend with 1 concurrent workers.\n",
            "[Parallel(n_jobs=1)]: Done 125 out of 125 | elapsed:    5.0s finished\n",
            "[Parallel(n_jobs=1)]: Using backend SequentialBackend with 1 concurrent workers.\n",
            "[Parallel(n_jobs=1)]: Done 150 out of 150 | elapsed:  1.7min finished\n",
            "[Parallel(n_jobs=1)]: Using backend SequentialBackend with 1 concurrent workers.\n",
            "[Parallel(n_jobs=1)]: Done 150 out of 150 | elapsed:    5.9s finished\n",
            "[Parallel(n_jobs=1)]: Using backend SequentialBackend with 1 concurrent workers.\n",
            "[Parallel(n_jobs=1)]: Done 150 out of 150 | elapsed:  1.6min finished\n",
            "[Parallel(n_jobs=1)]: Using backend SequentialBackend with 1 concurrent workers.\n",
            "[Parallel(n_jobs=1)]: Done 150 out of 150 | elapsed:    6.1s finished\n",
            "[Parallel(n_jobs=1)]: Using backend SequentialBackend with 1 concurrent workers.\n",
            "[Parallel(n_jobs=1)]: Done 150 out of 150 | elapsed:  1.7min finished\n",
            "[Parallel(n_jobs=1)]: Using backend SequentialBackend with 1 concurrent workers.\n",
            "[Parallel(n_jobs=1)]: Done 150 out of 150 | elapsed:    6.0s finished\n",
            "[Parallel(n_jobs=1)]: Using backend SequentialBackend with 1 concurrent workers.\n",
            "[Parallel(n_jobs=1)]: Done 100 out of 100 | elapsed:  1.1min finished\n",
            "[Parallel(n_jobs=1)]: Using backend SequentialBackend with 1 concurrent workers.\n",
            "[Parallel(n_jobs=1)]: Done 100 out of 100 | elapsed:    3.9s finished\n",
            "[Parallel(n_jobs=1)]: Using backend SequentialBackend with 1 concurrent workers.\n",
            "[Parallel(n_jobs=1)]: Done 100 out of 100 | elapsed:  1.1min finished\n",
            "[Parallel(n_jobs=1)]: Using backend SequentialBackend with 1 concurrent workers.\n",
            "[Parallel(n_jobs=1)]: Done 100 out of 100 | elapsed:    3.7s finished\n",
            "[Parallel(n_jobs=1)]: Using backend SequentialBackend with 1 concurrent workers.\n",
            "[Parallel(n_jobs=1)]: Done 100 out of 100 | elapsed:  1.1min finished\n",
            "[Parallel(n_jobs=1)]: Using backend SequentialBackend with 1 concurrent workers.\n",
            "[Parallel(n_jobs=1)]: Done 100 out of 100 | elapsed:    3.9s finished\n",
            "[Parallel(n_jobs=1)]: Using backend SequentialBackend with 1 concurrent workers.\n",
            "[Parallel(n_jobs=1)]: Done 125 out of 125 | elapsed:  1.5min finished\n",
            "[Parallel(n_jobs=1)]: Using backend SequentialBackend with 1 concurrent workers.\n",
            "[Parallel(n_jobs=1)]: Done 125 out of 125 | elapsed:    4.9s finished\n",
            "[Parallel(n_jobs=1)]: Using backend SequentialBackend with 1 concurrent workers.\n",
            "[Parallel(n_jobs=1)]: Done 125 out of 125 | elapsed:  1.4min finished\n",
            "[Parallel(n_jobs=1)]: Using backend SequentialBackend with 1 concurrent workers.\n",
            "[Parallel(n_jobs=1)]: Done 125 out of 125 | elapsed:    4.9s finished\n",
            "[Parallel(n_jobs=1)]: Using backend SequentialBackend with 1 concurrent workers.\n",
            "[Parallel(n_jobs=1)]: Done 125 out of 125 | elapsed:  1.4min finished\n",
            "[Parallel(n_jobs=1)]: Using backend SequentialBackend with 1 concurrent workers.\n",
            "[Parallel(n_jobs=1)]: Done 125 out of 125 | elapsed:    4.9s finished\n",
            "[Parallel(n_jobs=1)]: Using backend SequentialBackend with 1 concurrent workers.\n",
            "[Parallel(n_jobs=1)]: Done 150 out of 150 | elapsed:  1.6min finished\n",
            "[Parallel(n_jobs=1)]: Using backend SequentialBackend with 1 concurrent workers.\n",
            "[Parallel(n_jobs=1)]: Done 150 out of 150 | elapsed:    5.9s finished\n",
            "[Parallel(n_jobs=1)]: Using backend SequentialBackend with 1 concurrent workers.\n",
            "[Parallel(n_jobs=1)]: Done 150 out of 150 | elapsed:  1.6min finished\n",
            "[Parallel(n_jobs=1)]: Using backend SequentialBackend with 1 concurrent workers.\n",
            "[Parallel(n_jobs=1)]: Done 150 out of 150 | elapsed:    5.7s finished\n",
            "[Parallel(n_jobs=1)]: Using backend SequentialBackend with 1 concurrent workers.\n",
            "[Parallel(n_jobs=1)]: Done 150 out of 150 | elapsed:  1.6min finished\n",
            "[Parallel(n_jobs=1)]: Using backend SequentialBackend with 1 concurrent workers.\n",
            "[Parallel(n_jobs=1)]: Done 150 out of 150 | elapsed:    5.6s finished\n",
            "[Parallel(n_jobs=1)]: Using backend SequentialBackend with 1 concurrent workers.\n",
            "[Parallel(n_jobs=1)]: Done 100 out of 100 | elapsed:  1.1min finished\n",
            "[Parallel(n_jobs=1)]: Using backend SequentialBackend with 1 concurrent workers.\n",
            "[Parallel(n_jobs=1)]: Done 100 out of 100 | elapsed:    3.7s finished\n",
            "[Parallel(n_jobs=1)]: Using backend SequentialBackend with 1 concurrent workers.\n",
            "[Parallel(n_jobs=1)]: Done 100 out of 100 | elapsed:  1.1min finished\n",
            "[Parallel(n_jobs=1)]: Using backend SequentialBackend with 1 concurrent workers.\n",
            "[Parallel(n_jobs=1)]: Done 100 out of 100 | elapsed:    3.8s finished\n",
            "[Parallel(n_jobs=1)]: Using backend SequentialBackend with 1 concurrent workers.\n",
            "[Parallel(n_jobs=1)]: Done 100 out of 100 | elapsed:  1.1min finished\n",
            "[Parallel(n_jobs=1)]: Using backend SequentialBackend with 1 concurrent workers.\n",
            "[Parallel(n_jobs=1)]: Done 100 out of 100 | elapsed:    3.9s finished\n",
            "[Parallel(n_jobs=1)]: Using backend SequentialBackend with 1 concurrent workers.\n",
            "[Parallel(n_jobs=1)]: Done 125 out of 125 | elapsed:  1.3min finished\n",
            "[Parallel(n_jobs=1)]: Using backend SequentialBackend with 1 concurrent workers.\n",
            "[Parallel(n_jobs=1)]: Done 125 out of 125 | elapsed:    4.8s finished\n",
            "[Parallel(n_jobs=1)]: Using backend SequentialBackend with 1 concurrent workers.\n",
            "[Parallel(n_jobs=1)]: Done 125 out of 125 | elapsed:  1.4min finished\n",
            "[Parallel(n_jobs=1)]: Using backend SequentialBackend with 1 concurrent workers.\n",
            "[Parallel(n_jobs=1)]: Done 125 out of 125 | elapsed:    4.9s finished\n",
            "[Parallel(n_jobs=1)]: Using backend SequentialBackend with 1 concurrent workers.\n",
            "[Parallel(n_jobs=1)]: Done 125 out of 125 | elapsed:  1.4min finished\n",
            "[Parallel(n_jobs=1)]: Using backend SequentialBackend with 1 concurrent workers.\n",
            "[Parallel(n_jobs=1)]: Done 125 out of 125 | elapsed:    5.2s finished\n",
            "[Parallel(n_jobs=1)]: Using backend SequentialBackend with 1 concurrent workers.\n",
            "[Parallel(n_jobs=1)]: Done 150 out of 150 | elapsed:  1.6min finished\n",
            "[Parallel(n_jobs=1)]: Using backend SequentialBackend with 1 concurrent workers.\n",
            "[Parallel(n_jobs=1)]: Done 150 out of 150 | elapsed:    5.7s finished\n",
            "[Parallel(n_jobs=1)]: Using backend SequentialBackend with 1 concurrent workers.\n",
            "[Parallel(n_jobs=1)]: Done 150 out of 150 | elapsed:  1.6min finished\n",
            "[Parallel(n_jobs=1)]: Using backend SequentialBackend with 1 concurrent workers.\n",
            "[Parallel(n_jobs=1)]: Done 150 out of 150 | elapsed:    5.7s finished\n",
            "[Parallel(n_jobs=1)]: Using backend SequentialBackend with 1 concurrent workers.\n",
            "[Parallel(n_jobs=1)]: Done 150 out of 150 | elapsed:  1.7min finished\n",
            "[Parallel(n_jobs=1)]: Using backend SequentialBackend with 1 concurrent workers.\n",
            "[Parallel(n_jobs=1)]: Done 150 out of 150 | elapsed:    5.8s finished\n",
            "[Parallel(n_jobs=1)]: Using backend SequentialBackend with 1 concurrent workers.\n",
            "[Parallel(n_jobs=1)]: Done 100 out of 100 | elapsed:  1.2min finished\n",
            "[Parallel(n_jobs=1)]: Using backend SequentialBackend with 1 concurrent workers.\n",
            "[Parallel(n_jobs=1)]: Done 100 out of 100 | elapsed:    3.9s finished\n",
            "[Parallel(n_jobs=1)]: Using backend SequentialBackend with 1 concurrent workers.\n",
            "[Parallel(n_jobs=1)]: Done 100 out of 100 | elapsed:  1.2min finished\n",
            "[Parallel(n_jobs=1)]: Using backend SequentialBackend with 1 concurrent workers.\n",
            "[Parallel(n_jobs=1)]: Done 100 out of 100 | elapsed:    3.9s finished\n",
            "[Parallel(n_jobs=1)]: Using backend SequentialBackend with 1 concurrent workers.\n",
            "[Parallel(n_jobs=1)]: Done 100 out of 100 | elapsed:  1.1min finished\n",
            "[Parallel(n_jobs=1)]: Using backend SequentialBackend with 1 concurrent workers.\n",
            "[Parallel(n_jobs=1)]: Done 100 out of 100 | elapsed:    3.9s finished\n",
            "[Parallel(n_jobs=1)]: Using backend SequentialBackend with 1 concurrent workers.\n",
            "[Parallel(n_jobs=1)]: Done 125 out of 125 | elapsed:  1.4min finished\n",
            "[Parallel(n_jobs=1)]: Using backend SequentialBackend with 1 concurrent workers.\n",
            "[Parallel(n_jobs=1)]: Done 125 out of 125 | elapsed:    4.8s finished\n",
            "[Parallel(n_jobs=1)]: Using backend SequentialBackend with 1 concurrent workers.\n",
            "[Parallel(n_jobs=1)]: Done 125 out of 125 | elapsed:  1.4min finished\n",
            "[Parallel(n_jobs=1)]: Using backend SequentialBackend with 1 concurrent workers.\n",
            "[Parallel(n_jobs=1)]: Done 125 out of 125 | elapsed:    4.9s finished\n",
            "[Parallel(n_jobs=1)]: Using backend SequentialBackend with 1 concurrent workers.\n",
            "[Parallel(n_jobs=1)]: Done 125 out of 125 | elapsed:  1.5min finished\n",
            "[Parallel(n_jobs=1)]: Using backend SequentialBackend with 1 concurrent workers.\n",
            "[Parallel(n_jobs=1)]: Done 125 out of 125 | elapsed:    5.0s finished\n",
            "[Parallel(n_jobs=1)]: Using backend SequentialBackend with 1 concurrent workers.\n",
            "[Parallel(n_jobs=1)]: Done 150 out of 150 | elapsed:  1.8min finished\n",
            "[Parallel(n_jobs=1)]: Using backend SequentialBackend with 1 concurrent workers.\n",
            "[Parallel(n_jobs=1)]: Done 150 out of 150 | elapsed:    6.1s finished\n",
            "[Parallel(n_jobs=1)]: Using backend SequentialBackend with 1 concurrent workers.\n",
            "[Parallel(n_jobs=1)]: Done 150 out of 150 | elapsed:  1.8min finished\n",
            "[Parallel(n_jobs=1)]: Using backend SequentialBackend with 1 concurrent workers.\n",
            "[Parallel(n_jobs=1)]: Done 150 out of 150 | elapsed:    6.0s finished\n",
            "[Parallel(n_jobs=1)]: Using backend SequentialBackend with 1 concurrent workers.\n",
            "[Parallel(n_jobs=1)]: Done 150 out of 150 | elapsed:  1.7min finished\n",
            "[Parallel(n_jobs=1)]: Using backend SequentialBackend with 1 concurrent workers.\n",
            "[Parallel(n_jobs=1)]: Done 150 out of 150 | elapsed:    5.7s finished\n",
            "[Parallel(n_jobs=1)]: Using backend SequentialBackend with 1 concurrent workers.\n",
            "[Parallel(n_jobs=1)]: Done 100 out of 100 | elapsed:  1.9min finished\n",
            "[Parallel(n_jobs=1)]: Using backend SequentialBackend with 1 concurrent workers.\n",
            "[Parallel(n_jobs=1)]: Done 100 out of 100 | elapsed:   10.3s finished\n",
            "[Parallel(n_jobs=1)]: Using backend SequentialBackend with 1 concurrent workers.\n",
            "[Parallel(n_jobs=1)]: Done 100 out of 100 | elapsed:  1.9min finished\n",
            "[Parallel(n_jobs=1)]: Using backend SequentialBackend with 1 concurrent workers.\n",
            "[Parallel(n_jobs=1)]: Done 100 out of 100 | elapsed:   11.6s finished\n",
            "[Parallel(n_jobs=1)]: Using backend SequentialBackend with 1 concurrent workers.\n",
            "[Parallel(n_jobs=1)]: Done 100 out of 100 | elapsed:  1.9min finished\n",
            "[Parallel(n_jobs=1)]: Using backend SequentialBackend with 1 concurrent workers.\n",
            "[Parallel(n_jobs=1)]: Done 100 out of 100 | elapsed:   10.8s finished\n",
            "[Parallel(n_jobs=1)]: Using backend SequentialBackend with 1 concurrent workers.\n",
            "[Parallel(n_jobs=1)]: Done 125 out of 125 | elapsed:  2.4min finished\n",
            "[Parallel(n_jobs=1)]: Using backend SequentialBackend with 1 concurrent workers.\n",
            "[Parallel(n_jobs=1)]: Done 125 out of 125 | elapsed:   15.6s finished\n",
            "[Parallel(n_jobs=1)]: Using backend SequentialBackend with 1 concurrent workers.\n",
            "[Parallel(n_jobs=1)]: Done 125 out of 125 | elapsed:  2.7min finished\n",
            "[Parallel(n_jobs=1)]: Using backend SequentialBackend with 1 concurrent workers.\n",
            "[Parallel(n_jobs=1)]: Done 125 out of 125 | elapsed:   12.9s finished\n",
            "[Parallel(n_jobs=1)]: Using backend SequentialBackend with 1 concurrent workers.\n",
            "[Parallel(n_jobs=1)]: Done 125 out of 125 | elapsed:  2.5min finished\n",
            "[Parallel(n_jobs=1)]: Using backend SequentialBackend with 1 concurrent workers.\n",
            "[Parallel(n_jobs=1)]: Done 125 out of 125 | elapsed:   13.5s finished\n",
            "[Parallel(n_jobs=1)]: Using backend SequentialBackend with 1 concurrent workers.\n",
            "[Parallel(n_jobs=1)]: Done 150 out of 150 | elapsed:  2.9min finished\n",
            "[Parallel(n_jobs=1)]: Using backend SequentialBackend with 1 concurrent workers.\n",
            "[Parallel(n_jobs=1)]: Done 150 out of 150 | elapsed:   17.0s finished\n",
            "[Parallel(n_jobs=1)]: Using backend SequentialBackend with 1 concurrent workers.\n",
            "[Parallel(n_jobs=1)]: Done 150 out of 150 | elapsed:  3.0min finished\n",
            "[Parallel(n_jobs=1)]: Using backend SequentialBackend with 1 concurrent workers.\n",
            "[Parallel(n_jobs=1)]: Done 150 out of 150 | elapsed:   17.0s finished\n",
            "[Parallel(n_jobs=1)]: Using backend SequentialBackend with 1 concurrent workers.\n",
            "[Parallel(n_jobs=1)]: Done 150 out of 150 | elapsed:  2.9min finished\n",
            "[Parallel(n_jobs=1)]: Using backend SequentialBackend with 1 concurrent workers.\n",
            "[Parallel(n_jobs=1)]: Done 150 out of 150 | elapsed:   16.9s finished\n",
            "[Parallel(n_jobs=1)]: Using backend SequentialBackend with 1 concurrent workers.\n",
            "[Parallel(n_jobs=1)]: Done 100 out of 100 | elapsed:  2.0min finished\n",
            "[Parallel(n_jobs=1)]: Using backend SequentialBackend with 1 concurrent workers.\n",
            "[Parallel(n_jobs=1)]: Done 100 out of 100 | elapsed:   10.9s finished\n",
            "[Parallel(n_jobs=1)]: Using backend SequentialBackend with 1 concurrent workers.\n",
            "[Parallel(n_jobs=1)]: Done 100 out of 100 | elapsed:  1.9min finished\n",
            "[Parallel(n_jobs=1)]: Using backend SequentialBackend with 1 concurrent workers.\n",
            "[Parallel(n_jobs=1)]: Done 100 out of 100 | elapsed:   10.4s finished\n",
            "[Parallel(n_jobs=1)]: Using backend SequentialBackend with 1 concurrent workers.\n",
            "[Parallel(n_jobs=1)]: Done 100 out of 100 | elapsed:  2.0min finished\n",
            "[Parallel(n_jobs=1)]: Using backend SequentialBackend with 1 concurrent workers.\n",
            "[Parallel(n_jobs=1)]: Done 100 out of 100 | elapsed:   11.4s finished\n",
            "[Parallel(n_jobs=1)]: Using backend SequentialBackend with 1 concurrent workers.\n",
            "[Parallel(n_jobs=1)]: Done 125 out of 125 | elapsed:  2.5min finished\n",
            "[Parallel(n_jobs=1)]: Using backend SequentialBackend with 1 concurrent workers.\n",
            "[Parallel(n_jobs=1)]: Done 125 out of 125 | elapsed:   14.1s finished\n",
            "[Parallel(n_jobs=1)]: Using backend SequentialBackend with 1 concurrent workers.\n",
            "[Parallel(n_jobs=1)]: Done 125 out of 125 | elapsed:  2.5min finished\n",
            "[Parallel(n_jobs=1)]: Using backend SequentialBackend with 1 concurrent workers.\n",
            "[Parallel(n_jobs=1)]: Done 125 out of 125 | elapsed:   14.4s finished\n",
            "[Parallel(n_jobs=1)]: Using backend SequentialBackend with 1 concurrent workers.\n",
            "[Parallel(n_jobs=1)]: Done 125 out of 125 | elapsed:  2.5min finished\n",
            "[Parallel(n_jobs=1)]: Using backend SequentialBackend with 1 concurrent workers.\n",
            "[Parallel(n_jobs=1)]: Done 125 out of 125 | elapsed:   14.4s finished\n",
            "[Parallel(n_jobs=1)]: Using backend SequentialBackend with 1 concurrent workers.\n",
            "[Parallel(n_jobs=1)]: Done 150 out of 150 | elapsed:  2.9min finished\n",
            "[Parallel(n_jobs=1)]: Using backend SequentialBackend with 1 concurrent workers.\n",
            "[Parallel(n_jobs=1)]: Done 150 out of 150 | elapsed:   15.5s finished\n",
            "[Parallel(n_jobs=1)]: Using backend SequentialBackend with 1 concurrent workers.\n",
            "[Parallel(n_jobs=1)]: Done 150 out of 150 | elapsed:  2.9min finished\n",
            "[Parallel(n_jobs=1)]: Using backend SequentialBackend with 1 concurrent workers.\n",
            "[Parallel(n_jobs=1)]: Done 150 out of 150 | elapsed:   15.4s finished\n",
            "[Parallel(n_jobs=1)]: Using backend SequentialBackend with 1 concurrent workers.\n",
            "[Parallel(n_jobs=1)]: Done 150 out of 150 | elapsed:  2.9min finished\n",
            "[Parallel(n_jobs=1)]: Using backend SequentialBackend with 1 concurrent workers.\n",
            "[Parallel(n_jobs=1)]: Done 150 out of 150 | elapsed:   15.6s finished\n",
            "[Parallel(n_jobs=1)]: Using backend SequentialBackend with 1 concurrent workers.\n",
            "[Parallel(n_jobs=1)]: Done 100 out of 100 | elapsed:  1.9min finished\n",
            "[Parallel(n_jobs=1)]: Using backend SequentialBackend with 1 concurrent workers.\n",
            "[Parallel(n_jobs=1)]: Done 100 out of 100 | elapsed:    9.7s finished\n",
            "[Parallel(n_jobs=1)]: Using backend SequentialBackend with 1 concurrent workers.\n",
            "[Parallel(n_jobs=1)]: Done 100 out of 100 | elapsed:  1.9min finished\n",
            "[Parallel(n_jobs=1)]: Using backend SequentialBackend with 1 concurrent workers.\n",
            "[Parallel(n_jobs=1)]: Done 100 out of 100 | elapsed:    9.7s finished\n",
            "[Parallel(n_jobs=1)]: Using backend SequentialBackend with 1 concurrent workers.\n",
            "[Parallel(n_jobs=1)]: Done 100 out of 100 | elapsed:  1.8min finished\n",
            "[Parallel(n_jobs=1)]: Using backend SequentialBackend with 1 concurrent workers.\n",
            "[Parallel(n_jobs=1)]: Done 100 out of 100 | elapsed:    9.7s finished\n",
            "[Parallel(n_jobs=1)]: Using backend SequentialBackend with 1 concurrent workers.\n",
            "[Parallel(n_jobs=1)]: Done 125 out of 125 | elapsed:  2.3min finished\n",
            "[Parallel(n_jobs=1)]: Using backend SequentialBackend with 1 concurrent workers.\n",
            "[Parallel(n_jobs=1)]: Done 125 out of 125 | elapsed:   12.2s finished\n",
            "[Parallel(n_jobs=1)]: Using backend SequentialBackend with 1 concurrent workers.\n",
            "[Parallel(n_jobs=1)]: Done 125 out of 125 | elapsed:  2.3min finished\n",
            "[Parallel(n_jobs=1)]: Using backend SequentialBackend with 1 concurrent workers.\n",
            "[Parallel(n_jobs=1)]: Done 125 out of 125 | elapsed:   12.1s finished\n",
            "[Parallel(n_jobs=1)]: Using backend SequentialBackend with 1 concurrent workers.\n",
            "[Parallel(n_jobs=1)]: Done 125 out of 125 | elapsed:  2.3min finished\n",
            "[Parallel(n_jobs=1)]: Using backend SequentialBackend with 1 concurrent workers.\n",
            "[Parallel(n_jobs=1)]: Done 125 out of 125 | elapsed:   12.1s finished\n",
            "[Parallel(n_jobs=1)]: Using backend SequentialBackend with 1 concurrent workers.\n",
            "[Parallel(n_jobs=1)]: Done 150 out of 150 | elapsed:  2.8min finished\n",
            "[Parallel(n_jobs=1)]: Using backend SequentialBackend with 1 concurrent workers.\n",
            "[Parallel(n_jobs=1)]: Done 150 out of 150 | elapsed:   15.5s finished\n",
            "[Parallel(n_jobs=1)]: Using backend SequentialBackend with 1 concurrent workers.\n",
            "[Parallel(n_jobs=1)]: Done 150 out of 150 | elapsed:  2.8min finished\n",
            "[Parallel(n_jobs=1)]: Using backend SequentialBackend with 1 concurrent workers.\n",
            "[Parallel(n_jobs=1)]: Done 150 out of 150 | elapsed:   14.8s finished\n",
            "[Parallel(n_jobs=1)]: Using backend SequentialBackend with 1 concurrent workers.\n",
            "[Parallel(n_jobs=1)]: Done 150 out of 150 | elapsed:  2.8min finished\n",
            "[Parallel(n_jobs=1)]: Using backend SequentialBackend with 1 concurrent workers.\n",
            "[Parallel(n_jobs=1)]: Done 150 out of 150 | elapsed:   15.2s finished\n",
            "[Parallel(n_jobs=1)]: Using backend SequentialBackend with 1 concurrent workers.\n",
            "[Parallel(n_jobs=1)]: Done 100 out of 100 | elapsed:  1.9min finished\n",
            "[Parallel(n_jobs=1)]: Using backend SequentialBackend with 1 concurrent workers.\n",
            "[Parallel(n_jobs=1)]: Done 100 out of 100 | elapsed:    9.9s finished\n",
            "[Parallel(n_jobs=1)]: Using backend SequentialBackend with 1 concurrent workers.\n",
            "[Parallel(n_jobs=1)]: Done 100 out of 100 | elapsed:  1.9min finished\n",
            "[Parallel(n_jobs=1)]: Using backend SequentialBackend with 1 concurrent workers.\n",
            "[Parallel(n_jobs=1)]: Done 100 out of 100 | elapsed:    9.5s finished\n",
            "[Parallel(n_jobs=1)]: Using backend SequentialBackend with 1 concurrent workers.\n",
            "[Parallel(n_jobs=1)]: Done 100 out of 100 | elapsed:  1.8min finished\n",
            "[Parallel(n_jobs=1)]: Using backend SequentialBackend with 1 concurrent workers.\n",
            "[Parallel(n_jobs=1)]: Done 100 out of 100 | elapsed:   10.5s finished\n",
            "[Parallel(n_jobs=1)]: Using backend SequentialBackend with 1 concurrent workers.\n",
            "[Parallel(n_jobs=1)]: Done 125 out of 125 | elapsed:  2.4min finished\n",
            "[Parallel(n_jobs=1)]: Using backend SequentialBackend with 1 concurrent workers.\n",
            "[Parallel(n_jobs=1)]: Done 125 out of 125 | elapsed:   13.3s finished\n",
            "[Parallel(n_jobs=1)]: Using backend SequentialBackend with 1 concurrent workers.\n",
            "[Parallel(n_jobs=1)]: Done 125 out of 125 | elapsed:  2.4min finished\n",
            "[Parallel(n_jobs=1)]: Using backend SequentialBackend with 1 concurrent workers.\n",
            "[Parallel(n_jobs=1)]: Done 125 out of 125 | elapsed:   13.7s finished\n",
            "[Parallel(n_jobs=1)]: Using backend SequentialBackend with 1 concurrent workers.\n",
            "[Parallel(n_jobs=1)]: Done 125 out of 125 | elapsed:  2.5min finished\n",
            "[Parallel(n_jobs=1)]: Using backend SequentialBackend with 1 concurrent workers.\n",
            "[Parallel(n_jobs=1)]: Done 125 out of 125 | elapsed:   13.2s finished\n",
            "[Parallel(n_jobs=1)]: Using backend SequentialBackend with 1 concurrent workers.\n",
            "[Parallel(n_jobs=1)]: Done 150 out of 150 | elapsed:  2.7min finished\n",
            "[Parallel(n_jobs=1)]: Using backend SequentialBackend with 1 concurrent workers.\n",
            "[Parallel(n_jobs=1)]: Done 150 out of 150 | elapsed:   14.8s finished\n",
            "[Parallel(n_jobs=1)]: Using backend SequentialBackend with 1 concurrent workers.\n",
            "[Parallel(n_jobs=1)]: Done 150 out of 150 | elapsed:  2.8min finished\n",
            "[Parallel(n_jobs=1)]: Using backend SequentialBackend with 1 concurrent workers.\n",
            "[Parallel(n_jobs=1)]: Done 150 out of 150 | elapsed:   15.3s finished\n",
            "[Parallel(n_jobs=1)]: Using backend SequentialBackend with 1 concurrent workers.\n",
            "[Parallel(n_jobs=1)]: Done 150 out of 150 | elapsed:  3.0min finished\n",
            "[Parallel(n_jobs=1)]: Using backend SequentialBackend with 1 concurrent workers.\n",
            "[Parallel(n_jobs=1)]: Done 150 out of 150 | elapsed:   15.8s finished\n",
            "[Parallel(n_jobs=1)]: Using backend SequentialBackend with 1 concurrent workers.\n",
            "[Parallel(n_jobs=1)]: Done 150 out of 150 | elapsed:  5.0min finished\n"
          ],
          "name": "stderr"
        }
      ]
    },
    {
      "cell_type": "code",
      "metadata": {
        "colab": {
          "base_uri": "https://localhost:8080/"
        },
        "id": "sQaQlsOZ_7we",
        "outputId": "f16464b3-5b99-4338-91b8-d0a68965cef0"
      },
      "source": [
        "print(\"Best parameters: \", RF_clf_gs.best_params_)\n",
        "print(\"Accuracy: \", RF_clf_gs.score(X_test, y_test))\n",
        "print(\"CV results: \", RF_clf_gs.cv_results_)"
      ],
      "execution_count": null,
      "outputs": [
        {
          "output_type": "stream",
          "text": [
            "Best parameters:  {'RF_clf__max_depth': 30, 'RF_clf__min_samples_leaf': 1, 'RF_clf__min_samples_split': 2, 'RF_clf__n_estimators': 150, 'RF_clf__random_state': 0, 'RF_clf__verbose': 1}\n"
          ],
          "name": "stdout"
        },
        {
          "output_type": "stream",
          "text": [
            "[Parallel(n_jobs=1)]: Using backend SequentialBackend with 1 concurrent workers.\n"
          ],
          "name": "stderr"
        },
        {
          "output_type": "stream",
          "text": [
            "Accuracy:  0.19852340006615984\n",
            "CV results:  {'mean_fit_time': array([ 30.11250257,  37.06872527,  44.47249889,  30.02428706,\n",
            "        39.25519586,  45.82754246,  31.00300924,  38.82747944,\n",
            "        46.57089504,  31.34472799,  38.57880123,  45.35176063,\n",
            "        71.23172204,  91.94051313, 102.04829804,  68.00938106,\n",
            "        86.3592306 ,  98.67675257,  65.49510495,  83.84445349,\n",
            "       101.11582756,  71.11624257,  87.46442358, 108.22276092,\n",
            "       115.75218527, 155.13003953, 178.38317124, 120.02377168,\n",
            "       152.75961423, 177.09041731, 112.62495693, 140.23747484,\n",
            "       172.60659575, 115.28358905, 146.80677541, 171.23084776]), 'std_fit_time': array([0.50417414, 0.55004806, 1.06424822, 0.38145401, 0.79027025,\n",
            "       0.42603221, 0.25052103, 0.2357014 , 0.17957171, 0.99586644,\n",
            "       0.68229719, 1.12562512, 0.7744828 , 1.05930079, 2.05556534,\n",
            "       0.82233599, 2.19788552, 1.22698787, 0.77504351, 1.21782655,\n",
            "       2.24314969, 1.78097458, 1.14992647, 3.3139969 , 1.58912705,\n",
            "       8.22337053, 1.66627709, 3.77758122, 1.97929337, 4.67372325,\n",
            "       1.80276436, 2.49116772, 3.6049714 , 3.24201936, 2.99765067,\n",
            "       5.9986986 ]), 'mean_score_time': array([ 2.06010604,  2.44575111,  2.94374728,  2.07858086,  2.57209945,\n",
            "        3.01902374,  2.12732021,  2.52202654,  2.93385545,  2.07031592,\n",
            "        2.56848669,  2.93653393,  4.33070596,  5.38892198,  6.36653654,\n",
            "        4.19488668,  5.23189425,  6.10275149,  4.1570282 ,  5.33821058,\n",
            "        6.08683912,  4.25421397,  5.29948743,  6.29425208, 11.25338332,\n",
            "       14.43939177, 17.3596677 , 11.28114422, 14.69745994, 15.83687798,\n",
            "       10.11636766, 12.49821417, 15.56298884, 10.35028044, 13.83401926,\n",
            "       15.70638529]), 'std_score_time': array([3.33396873e-02, 5.47911931e-02, 3.89448017e-02, 4.17798364e-02,\n",
            "       6.47607090e-02, 1.04990697e-02, 1.13748981e-02, 4.02229211e-02,\n",
            "       4.44485664e-02, 9.10810760e-04, 1.46472921e-02, 2.84708615e-02,\n",
            "       8.60000367e-02, 3.95010259e-02, 7.10913764e-02, 6.70832435e-02,\n",
            "       4.39826779e-03, 1.40248832e-01, 1.18917663e-01, 1.62764532e-01,\n",
            "       4.89279203e-02, 1.85444348e-02, 6.70954348e-02, 1.39453517e-01,\n",
            "       5.57713755e-01, 1.24635857e+00, 3.85934944e-02, 4.45447367e-01,\n",
            "       1.22892614e-01, 6.79222085e-02, 5.99460841e-02, 3.12731559e-02,\n",
            "       2.83749230e-01, 3.99948136e-01, 2.09576732e-01, 4.07920506e-01]), 'param_RF_clf__max_depth': masked_array(data=[5, 5, 5, 5, 5, 5, 5, 5, 5, 5, 5, 5, 15, 15, 15, 15, 15,\n",
            "                   15, 15, 15, 15, 15, 15, 15, 30, 30, 30, 30, 30, 30, 30,\n",
            "                   30, 30, 30, 30, 30],\n",
            "             mask=[False, False, False, False, False, False, False, False,\n",
            "                   False, False, False, False, False, False, False, False,\n",
            "                   False, False, False, False, False, False, False, False,\n",
            "                   False, False, False, False, False, False, False, False,\n",
            "                   False, False, False, False],\n",
            "       fill_value='?',\n",
            "            dtype=object), 'param_RF_clf__min_samples_leaf': masked_array(data=[1, 1, 1, 1, 1, 1, 2, 2, 2, 2, 2, 2, 1, 1, 1, 1, 1, 1,\n",
            "                   2, 2, 2, 2, 2, 2, 1, 1, 1, 1, 1, 1, 2, 2, 2, 2, 2, 2],\n",
            "             mask=[False, False, False, False, False, False, False, False,\n",
            "                   False, False, False, False, False, False, False, False,\n",
            "                   False, False, False, False, False, False, False, False,\n",
            "                   False, False, False, False, False, False, False, False,\n",
            "                   False, False, False, False],\n",
            "       fill_value='?',\n",
            "            dtype=object), 'param_RF_clf__min_samples_split': masked_array(data=[2, 2, 2, 3, 3, 3, 2, 2, 2, 3, 3, 3, 2, 2, 2, 3, 3, 3,\n",
            "                   2, 2, 2, 3, 3, 3, 2, 2, 2, 3, 3, 3, 2, 2, 2, 3, 3, 3],\n",
            "             mask=[False, False, False, False, False, False, False, False,\n",
            "                   False, False, False, False, False, False, False, False,\n",
            "                   False, False, False, False, False, False, False, False,\n",
            "                   False, False, False, False, False, False, False, False,\n",
            "                   False, False, False, False],\n",
            "       fill_value='?',\n",
            "            dtype=object), 'param_RF_clf__n_estimators': masked_array(data=[100, 125, 150, 100, 125, 150, 100, 125, 150, 100, 125,\n",
            "                   150, 100, 125, 150, 100, 125, 150, 100, 125, 150, 100,\n",
            "                   125, 150, 100, 125, 150, 100, 125, 150, 100, 125, 150,\n",
            "                   100, 125, 150],\n",
            "             mask=[False, False, False, False, False, False, False, False,\n",
            "                   False, False, False, False, False, False, False, False,\n",
            "                   False, False, False, False, False, False, False, False,\n",
            "                   False, False, False, False, False, False, False, False,\n",
            "                   False, False, False, False],\n",
            "       fill_value='?',\n",
            "            dtype=object), 'param_RF_clf__random_state': masked_array(data=[0, 0, 0, 0, 0, 0, 0, 0, 0, 0, 0, 0, 0, 0, 0, 0, 0, 0,\n",
            "                   0, 0, 0, 0, 0, 0, 0, 0, 0, 0, 0, 0, 0, 0, 0, 0, 0, 0],\n",
            "             mask=[False, False, False, False, False, False, False, False,\n",
            "                   False, False, False, False, False, False, False, False,\n",
            "                   False, False, False, False, False, False, False, False,\n",
            "                   False, False, False, False, False, False, False, False,\n",
            "                   False, False, False, False],\n",
            "       fill_value='?',\n",
            "            dtype=object), 'param_RF_clf__verbose': masked_array(data=[1, 1, 1, 1, 1, 1, 1, 1, 1, 1, 1, 1, 1, 1, 1, 1, 1, 1,\n",
            "                   1, 1, 1, 1, 1, 1, 1, 1, 1, 1, 1, 1, 1, 1, 1, 1, 1, 1],\n",
            "             mask=[False, False, False, False, False, False, False, False,\n",
            "                   False, False, False, False, False, False, False, False,\n",
            "                   False, False, False, False, False, False, False, False,\n",
            "                   False, False, False, False, False, False, False, False,\n",
            "                   False, False, False, False],\n",
            "       fill_value='?',\n",
            "            dtype=object), 'params': [{'RF_clf__max_depth': 5, 'RF_clf__min_samples_leaf': 1, 'RF_clf__min_samples_split': 2, 'RF_clf__n_estimators': 100, 'RF_clf__random_state': 0, 'RF_clf__verbose': 1}, {'RF_clf__max_depth': 5, 'RF_clf__min_samples_leaf': 1, 'RF_clf__min_samples_split': 2, 'RF_clf__n_estimators': 125, 'RF_clf__random_state': 0, 'RF_clf__verbose': 1}, {'RF_clf__max_depth': 5, 'RF_clf__min_samples_leaf': 1, 'RF_clf__min_samples_split': 2, 'RF_clf__n_estimators': 150, 'RF_clf__random_state': 0, 'RF_clf__verbose': 1}, {'RF_clf__max_depth': 5, 'RF_clf__min_samples_leaf': 1, 'RF_clf__min_samples_split': 3, 'RF_clf__n_estimators': 100, 'RF_clf__random_state': 0, 'RF_clf__verbose': 1}, {'RF_clf__max_depth': 5, 'RF_clf__min_samples_leaf': 1, 'RF_clf__min_samples_split': 3, 'RF_clf__n_estimators': 125, 'RF_clf__random_state': 0, 'RF_clf__verbose': 1}, {'RF_clf__max_depth': 5, 'RF_clf__min_samples_leaf': 1, 'RF_clf__min_samples_split': 3, 'RF_clf__n_estimators': 150, 'RF_clf__random_state': 0, 'RF_clf__verbose': 1}, {'RF_clf__max_depth': 5, 'RF_clf__min_samples_leaf': 2, 'RF_clf__min_samples_split': 2, 'RF_clf__n_estimators': 100, 'RF_clf__random_state': 0, 'RF_clf__verbose': 1}, {'RF_clf__max_depth': 5, 'RF_clf__min_samples_leaf': 2, 'RF_clf__min_samples_split': 2, 'RF_clf__n_estimators': 125, 'RF_clf__random_state': 0, 'RF_clf__verbose': 1}, {'RF_clf__max_depth': 5, 'RF_clf__min_samples_leaf': 2, 'RF_clf__min_samples_split': 2, 'RF_clf__n_estimators': 150, 'RF_clf__random_state': 0, 'RF_clf__verbose': 1}, {'RF_clf__max_depth': 5, 'RF_clf__min_samples_leaf': 2, 'RF_clf__min_samples_split': 3, 'RF_clf__n_estimators': 100, 'RF_clf__random_state': 0, 'RF_clf__verbose': 1}, {'RF_clf__max_depth': 5, 'RF_clf__min_samples_leaf': 2, 'RF_clf__min_samples_split': 3, 'RF_clf__n_estimators': 125, 'RF_clf__random_state': 0, 'RF_clf__verbose': 1}, {'RF_clf__max_depth': 5, 'RF_clf__min_samples_leaf': 2, 'RF_clf__min_samples_split': 3, 'RF_clf__n_estimators': 150, 'RF_clf__random_state': 0, 'RF_clf__verbose': 1}, {'RF_clf__max_depth': 15, 'RF_clf__min_samples_leaf': 1, 'RF_clf__min_samples_split': 2, 'RF_clf__n_estimators': 100, 'RF_clf__random_state': 0, 'RF_clf__verbose': 1}, {'RF_clf__max_depth': 15, 'RF_clf__min_samples_leaf': 1, 'RF_clf__min_samples_split': 2, 'RF_clf__n_estimators': 125, 'RF_clf__random_state': 0, 'RF_clf__verbose': 1}, {'RF_clf__max_depth': 15, 'RF_clf__min_samples_leaf': 1, 'RF_clf__min_samples_split': 2, 'RF_clf__n_estimators': 150, 'RF_clf__random_state': 0, 'RF_clf__verbose': 1}, {'RF_clf__max_depth': 15, 'RF_clf__min_samples_leaf': 1, 'RF_clf__min_samples_split': 3, 'RF_clf__n_estimators': 100, 'RF_clf__random_state': 0, 'RF_clf__verbose': 1}, {'RF_clf__max_depth': 15, 'RF_clf__min_samples_leaf': 1, 'RF_clf__min_samples_split': 3, 'RF_clf__n_estimators': 125, 'RF_clf__random_state': 0, 'RF_clf__verbose': 1}, {'RF_clf__max_depth': 15, 'RF_clf__min_samples_leaf': 1, 'RF_clf__min_samples_split': 3, 'RF_clf__n_estimators': 150, 'RF_clf__random_state': 0, 'RF_clf__verbose': 1}, {'RF_clf__max_depth': 15, 'RF_clf__min_samples_leaf': 2, 'RF_clf__min_samples_split': 2, 'RF_clf__n_estimators': 100, 'RF_clf__random_state': 0, 'RF_clf__verbose': 1}, {'RF_clf__max_depth': 15, 'RF_clf__min_samples_leaf': 2, 'RF_clf__min_samples_split': 2, 'RF_clf__n_estimators': 125, 'RF_clf__random_state': 0, 'RF_clf__verbose': 1}, {'RF_clf__max_depth': 15, 'RF_clf__min_samples_leaf': 2, 'RF_clf__min_samples_split': 2, 'RF_clf__n_estimators': 150, 'RF_clf__random_state': 0, 'RF_clf__verbose': 1}, {'RF_clf__max_depth': 15, 'RF_clf__min_samples_leaf': 2, 'RF_clf__min_samples_split': 3, 'RF_clf__n_estimators': 100, 'RF_clf__random_state': 0, 'RF_clf__verbose': 1}, {'RF_clf__max_depth': 15, 'RF_clf__min_samples_leaf': 2, 'RF_clf__min_samples_split': 3, 'RF_clf__n_estimators': 125, 'RF_clf__random_state': 0, 'RF_clf__verbose': 1}, {'RF_clf__max_depth': 15, 'RF_clf__min_samples_leaf': 2, 'RF_clf__min_samples_split': 3, 'RF_clf__n_estimators': 150, 'RF_clf__random_state': 0, 'RF_clf__verbose': 1}, {'RF_clf__max_depth': 30, 'RF_clf__min_samples_leaf': 1, 'RF_clf__min_samples_split': 2, 'RF_clf__n_estimators': 100, 'RF_clf__random_state': 0, 'RF_clf__verbose': 1}, {'RF_clf__max_depth': 30, 'RF_clf__min_samples_leaf': 1, 'RF_clf__min_samples_split': 2, 'RF_clf__n_estimators': 125, 'RF_clf__random_state': 0, 'RF_clf__verbose': 1}, {'RF_clf__max_depth': 30, 'RF_clf__min_samples_leaf': 1, 'RF_clf__min_samples_split': 2, 'RF_clf__n_estimators': 150, 'RF_clf__random_state': 0, 'RF_clf__verbose': 1}, {'RF_clf__max_depth': 30, 'RF_clf__min_samples_leaf': 1, 'RF_clf__min_samples_split': 3, 'RF_clf__n_estimators': 100, 'RF_clf__random_state': 0, 'RF_clf__verbose': 1}, {'RF_clf__max_depth': 30, 'RF_clf__min_samples_leaf': 1, 'RF_clf__min_samples_split': 3, 'RF_clf__n_estimators': 125, 'RF_clf__random_state': 0, 'RF_clf__verbose': 1}, {'RF_clf__max_depth': 30, 'RF_clf__min_samples_leaf': 1, 'RF_clf__min_samples_split': 3, 'RF_clf__n_estimators': 150, 'RF_clf__random_state': 0, 'RF_clf__verbose': 1}, {'RF_clf__max_depth': 30, 'RF_clf__min_samples_leaf': 2, 'RF_clf__min_samples_split': 2, 'RF_clf__n_estimators': 100, 'RF_clf__random_state': 0, 'RF_clf__verbose': 1}, {'RF_clf__max_depth': 30, 'RF_clf__min_samples_leaf': 2, 'RF_clf__min_samples_split': 2, 'RF_clf__n_estimators': 125, 'RF_clf__random_state': 0, 'RF_clf__verbose': 1}, {'RF_clf__max_depth': 30, 'RF_clf__min_samples_leaf': 2, 'RF_clf__min_samples_split': 2, 'RF_clf__n_estimators': 150, 'RF_clf__random_state': 0, 'RF_clf__verbose': 1}, {'RF_clf__max_depth': 30, 'RF_clf__min_samples_leaf': 2, 'RF_clf__min_samples_split': 3, 'RF_clf__n_estimators': 100, 'RF_clf__random_state': 0, 'RF_clf__verbose': 1}, {'RF_clf__max_depth': 30, 'RF_clf__min_samples_leaf': 2, 'RF_clf__min_samples_split': 3, 'RF_clf__n_estimators': 125, 'RF_clf__random_state': 0, 'RF_clf__verbose': 1}, {'RF_clf__max_depth': 30, 'RF_clf__min_samples_leaf': 2, 'RF_clf__min_samples_split': 3, 'RF_clf__n_estimators': 150, 'RF_clf__random_state': 0, 'RF_clf__verbose': 1}], 'split0_test_score': array([0.15483097, 0.15473701, 0.1552901 , 0.15483097, 0.15473701,\n",
            "       0.1552901 , 0.15458401, 0.1545482 , 0.15494799, 0.15458401,\n",
            "       0.1545482 , 0.15494799, 0.17121093, 0.17136265, 0.17152851,\n",
            "       0.17109063, 0.17127405, 0.17149832, 0.17146586, 0.17144165,\n",
            "       0.17164464, 0.17146586, 0.17144165, 0.17164464, 0.17272659,\n",
            "       0.17304726, 0.17345525, 0.17280806, 0.17314447, 0.17296184,\n",
            "       0.1729763 , 0.17306939, 0.17291896, 0.1729763 , 0.17306939,\n",
            "       0.17291896]), 'split1_test_score': array([0.15698828, 0.15715607, 0.15714646, 0.15676363, 0.1571121 ,\n",
            "       0.15701823, 0.156836  , 0.1572055 , 0.15709856, 0.156836  ,\n",
            "       0.1572055 , 0.15709856, 0.17141835, 0.17135819, 0.17147182,\n",
            "       0.17091614, 0.17091923, 0.17122303, 0.17122037, 0.17119151,\n",
            "       0.17145149, 0.17122037, 0.17119151, 0.17145149, 0.17227842,\n",
            "       0.17271397, 0.1728463 , 0.17236782, 0.17264359, 0.17291003,\n",
            "       0.17255427, 0.17281758, 0.17289243, 0.17255427, 0.17281758,\n",
            "       0.17289243]), 'split2_test_score': array([0.15433645, 0.15440182, 0.15459557, 0.15421361, 0.15426925,\n",
            "       0.15451953, 0.15421122, 0.15429571, 0.1548346 , 0.15421122,\n",
            "       0.15429571, 0.1548346 , 0.17162455, 0.17190392, 0.17205898,\n",
            "       0.17197364, 0.1719917 , 0.17192193, 0.17178328, 0.17179085,\n",
            "       0.17187208, 0.17178328, 0.17179085, 0.17187208, 0.17265844,\n",
            "       0.17317581, 0.17334314, 0.17267717, 0.17298517, 0.17342033,\n",
            "       0.17264385, 0.17296937, 0.17329718, 0.17264385, 0.17296937,\n",
            "       0.17329718]), 'mean_test_score': array([0.15538523, 0.15543163, 0.15567738, 0.1552694 , 0.15537279,\n",
            "       0.15560929, 0.15521041, 0.1553498 , 0.15562705, 0.15521041,\n",
            "       0.1553498 , 0.15562705, 0.17141794, 0.17154159, 0.17168644,\n",
            "       0.17132681, 0.17139499, 0.17154776, 0.17148984, 0.17147467,\n",
            "       0.17165607, 0.17148984, 0.17147467, 0.17165607, 0.17255448,\n",
            "       0.17297901, 0.1732149 , 0.17261769, 0.17292441, 0.1730974 ,\n",
            "       0.17272481, 0.17295211, 0.17303619, 0.17272481, 0.17295211,\n",
            "       0.17303619]), 'std_test_score': array([0.00115136, 0.00122702, 0.0010768 , 0.00108622, 0.00124462,\n",
            "       0.00104476, 0.0011595 , 0.00131622, 0.00104155, 0.0011595 ,\n",
            "       0.00131622, 0.00104155, 0.00016886, 0.00025621, 0.00026444,\n",
            "       0.0004629 , 0.00044611, 0.00028746, 0.00023043, 0.00024579,\n",
            "       0.0001719 , 0.00023043, 0.00024579, 0.0001719 , 0.00019718,\n",
            "       0.00019462, 0.00026462, 0.00018458, 0.00020895, 0.00022932,\n",
            "       0.00018156, 0.00010352, 0.00018487, 0.00018156, 0.00010352,\n",
            "       0.00018487]), 'rank_test_score': array([30, 29, 25, 34, 31, 28, 35, 32, 26, 35, 32, 26, 22, 17, 13, 24, 23,\n",
            "       16, 18, 20, 14, 18, 20, 14, 12,  5,  1, 11,  8,  2,  9,  6,  3,  9,\n",
            "        6,  3], dtype=int32)}\n"
          ],
          "name": "stdout"
        },
        {
          "output_type": "stream",
          "text": [
            "[Parallel(n_jobs=1)]: Done 150 out of 150 | elapsed:   15.0s finished\n"
          ],
          "name": "stderr"
        }
      ]
    },
    {
      "cell_type": "code",
      "metadata": {
        "id": "6NOHKeTyvOUF"
      },
      "source": [
        "from sklearn.metrics import plot_confusion_matrix\n",
        "from sklearn.metrics import classification_report as clf_report\n",
        "from sklearn.metrics import confusion_matrix\n",
        "# Get best prediction from grid search\n",
        "y_pred = RF_clf_gs.best_estimator_.predict(X_test)\n",
        "\n",
        "# Print Report\n",
        "print(clf_report(y_test, y_pred, target_names=relev_event_new))\n",
        "\n",
        "# Plot\n",
        "fig, ax = plt.subplots(figsize=(12,12))\n",
        "plot_confusion_matrix(RF_clf, X_test, y_test,\n",
        "                      cmap=\"gist_ncar_r\",\n",
        "                      display_labels=relev_event_new,\n",
        "                      normalize=\"all\",\n",
        "                      ax=ax)\n",
        "plt.show()\n",
        "plt.savefig(\"figures/confusion_matrix_RF-iter_2.1.0.png\", dpi=300)"
      ],
      "execution_count": null,
      "outputs": []
    },
    {
      "cell_type": "code",
      "metadata": {
        "colab": {
          "base_uri": "https://localhost:8080/"
        },
        "id": "LPNL4Xh87BWN",
        "outputId": "8200b8f3-fd8b-4402-bbdf-d419ece9132f"
      },
      "source": [
        "relev_event_new"
      ],
      "execution_count": null,
      "outputs": [
        {
          "output_type": "execute_result",
          "data": {
            "text/plain": [
              "['Def Out', 'HR', 'Non-HR Hit', 'Walk', 'Sacrifice', 'Strikeout', 'Other']"
            ]
          },
          "metadata": {
            "tags": []
          },
          "execution_count": 26
        }
      ]
    },
    {
      "cell_type": "markdown",
      "metadata": {
        "id": "shDVvpDBFnNC"
      },
      "source": [
        "#### Iteration 2.1.1\n",
        "\n",
        "Used complete dataset (16-19)\n",
        "\n",
        "_params_\n",
        "- n_estimators: [100, 125, 150]\n",
        "- max_depth: [5, 15, 30]\n",
        "- min_samples: [2, 3]\n",
        "- min_samples_leaf: [1,2]\n",
        "- random_state: 0"
      ]
    },
    {
      "cell_type": "code",
      "metadata": {
        "id": "aMMIAVmDGBpe"
      },
      "source": [
        "from sklearn.preprocessing import StandardScaler\n",
        "from sklearn.ensemble import RandomForestClassifier\n",
        "from sklearn.model_selection import GridSearchCV\n",
        "from sklearn.pipeline import Pipeline\n",
        "from sklearn.metrics import balanced_accuracy_score\n",
        "\n",
        "# Create a pipeline for creating RF classifier\n",
        "pipe = Pipeline([\n",
        "                 (\"scaler\", StandardScaler()),\n",
        "                 (\"RF_clf\", RandomForestClassifier())\n",
        "])\n",
        "\n",
        "# Establish parameter grid\n",
        "params = {\n",
        "    \"RF_clf__n_estimators\": [100,125,150],\n",
        "    \"RF_clf__max_depth\": [5,15,30],\n",
        "    \"RF_clf__min_samples_split\": [2, 3],\n",
        "    \"RF_clf__min_samples_leaf\": [1,2],\n",
        "    \"RF_clf__random_state\": [0],\n",
        "    \"RF_clf__verbose\": [3],\n",
        "}\n",
        "\n",
        "# Grid Search and Fit\n",
        "RF_clf_gs = GridSearchCV(pipe, param_grid=params, cv=3,\n",
        "                         scoring=\"balanced_accuracy\", \n",
        "                         n_jobs=-1, verbose=3)\n",
        "RF_clf_gs.fit(X_train, y_train)\n",
        "\n",
        "# Get best estimator\n",
        "best_RF_clf_gs = RF_clf_gs.best_estimator_\n",
        "\n",
        "# Time to train: 3+ hours\n",
        "\n",
        "import pickle\n",
        "\n",
        "# Path to save model\n",
        "mdl_path = \"/content/gdrive/My Drive/Colab Notebooks/pitch-sequence/serialized-models/\"\n",
        "# mdl file name\n",
        "mdl_filename = \"RF_clf_GridSearch_iter-2.1.1.pkl\"\n",
        "\n",
        "# Open a file to store model\n",
        "outfile = open(mdl_path+mdl_filename, \"wb\")\n",
        "# Pickle model\n",
        "pickle.dump(best_RF_clf_gs, outfile)\n",
        "# Close pickled model\n",
        "outfile.close()"
      ],
      "execution_count": null,
      "outputs": []
    },
    {
      "cell_type": "code",
      "metadata": {
        "id": "N_dsxsFZGTVE"
      },
      "source": [
        "print(\"Best parameters: \", RF_clf_gs.best_params_)\n",
        "print(\"Accuracy: \", RF_clf_gs.score(X_test, y_test))\n",
        "print(\"CV results: \", RF_clf_gs.cv_results_)"
      ],
      "execution_count": null,
      "outputs": []
    },
    {
      "cell_type": "code",
      "metadata": {
        "id": "PLYzXWf8GZfa"
      },
      "source": [
        "from sklearn.metrics import plot_confusion_matrix\n",
        "from sklearn.metrics import classification_report as clf_report\n",
        "from sklearn.metrics import confusion_matrix\n",
        "# Get best prediction from grid search\n",
        "y_pred = RF_clf_gs.best_estimator_.predict(X_test)\n",
        "\n",
        "# Print Report\n",
        "print(clf_report(y_test, y_pred, target_names=relev_event_new))\n",
        "\n",
        "# Plot\n",
        "fig, ax = plt.subplots(figsize=(12,12))\n",
        "plot_confusion_matrix(RF_clf, X_test, y_test,\n",
        "                      cmap=\"gist_ncar_r\",\n",
        "                      display_labels=relev_event_new,\n",
        "                      normalize=\"all\",\n",
        "                      ax=ax)\n",
        "plt.show()\n",
        "plt.savefig(\"figures/confusion_matrix_RF-iter_2.1.1.png\", dpi=300)"
      ],
      "execution_count": null,
      "outputs": []
    },
    {
      "cell_type": "code",
      "metadata": {
        "id": "IY46h0WAXbTU"
      },
      "source": [
        "# Split dataframe into test and train sets\n",
        "from sklearn.model_selection import train_test_split\n",
        "\n",
        "# Train-test-split \n",
        "X_train, X_test, y_train, y_test = train_test_split(X, y, test_size=0.2, \n",
        "                                                    random_state=0)"
      ],
      "execution_count": null,
      "outputs": []
    },
    {
      "cell_type": "markdown",
      "metadata": {
        "id": "KW2oUl5Md_dk"
      },
      "source": [
        "#### Iteration 2.1.2\n",
        "Gridsearch for `HistGradientBoostingClassifier`"
      ]
    },
    {
      "cell_type": "code",
      "metadata": {
        "colab": {
          "base_uri": "https://localhost:8080/"
        },
        "id": "SWDerNpYeJ-1",
        "outputId": "c35b346a-7845-4129-9986-faebdaa7550a"
      },
      "source": [
        "from sklearn.model_selection import GridSearchCV\n",
        "from sklearn.pipeline import Pipeline\n",
        "from sklearn.experimental import enable_hist_gradient_boosting\n",
        "from sklearn.ensemble import HistGradientBoostingClassifier\n",
        "\n",
        "# Create a pipeline for creating RF classifier\n",
        "pipe = Pipeline([\n",
        "                 (\"HGBC\", HistGradientBoostingClassifier())\n",
        "])\n",
        "\n",
        "# Establish parameter grid\n",
        "params = {\n",
        "    \"HGBC__loss\": [\"categorical_crossentropy\"],\n",
        "    \"HGBC__learning_rate\": [0.1, 0.25],\n",
        "    \"HGBC__max_iter\": [50, 100, 175],\n",
        "    \"HGBC__max_leaf_nodes\": [25, 31, 45],\n",
        "    \"HGBC__l2_regularization\": [0, 1, 2],\n",
        "    \"HGBC__min_samples_leaf\": [15, 20],\n",
        "    \"HGBC__random_state\": [0],\n",
        "    \"HGBC__verbose\": [3],\n",
        "}\n",
        "\n",
        "# Grid Search and Fit\n",
        "HGBC_gs = GridSearchCV(pipe, param_grid=params,scoring=\"balanced_accuracy\", \n",
        "                       n_jobs=31, verbose=3)\n",
        "HGBC_gs.fit(X_train, y_train)\n",
        "\n",
        "# Get best estimator\n",
        "best_HGBC_gs = HGBC_gs.best_estimator_\n",
        "\n",
        "# Time to train: 3+ hours\n",
        "\n",
        "import pickle\n",
        "\n",
        "# Path to save model\n",
        "mdl_path = \"/content/gdrive/My Drive/Colab Notebooks/pitch-sequence/serialized-models/\"\n",
        "# mdl file name\n",
        "mdl_filename = \"HGBC_GridSearch_iter-2.1.2.pkl\"\n",
        "\n",
        "# Open a file to store model\n",
        "outfile = open(mdl_path+mdl_filename, \"wb\")\n",
        "# Pickle model\n",
        "pickle.dump(best_HGBC_gs, outfile)\n",
        "# Close pickled model\n",
        "outfile.close()"
      ],
      "execution_count": null,
      "outputs": [
        {
          "output_type": "stream",
          "text": [
            "Fitting 5 folds for each of 108 candidates, totalling 540 fits\n"
          ],
          "name": "stdout"
        }
      ]
    },
    {
      "cell_type": "code",
      "metadata": {
        "id": "HixteN70gxIU"
      },
      "source": [
        "print(\"Best parameters: \", HGBC_gs.best_params_)\n",
        "print(\"Accuracy: \", HGBC_gs.score(X_test, y_test))\n",
        "print(\"CV results: \", HGBC_gs.cv_results_)"
      ],
      "execution_count": null,
      "outputs": []
    },
    {
      "cell_type": "code",
      "metadata": {
        "id": "_wgE_LUKgxIu"
      },
      "source": [
        "from sklearn.metrics import plot_confusion_matrix\n",
        "from sklearn.metrics import classification_report as clf_report\n",
        "from sklearn.metrics import confusion_matrix\n",
        "# Get best prediction from grid search\n",
        "y_pred = HGBC.best_estimator_.predict(X_test)\n",
        "\n",
        "# Print Report\n",
        "mdl_path = \"/content/gdrive/My Drive/Colab Notebooks/pitch-sequence/serialized-models/\"\n",
        "report_file = \"HGBC_gs_iter-2.1.2.txt\"\n",
        "print(clf_report(y_test, y_pred, target_names=relev_event_new), \n",
        "      file=open(mdl_path+report_file, \"w\"))\n",
        "## View report on Colab\n",
        "print(clf_report(y_test, y_pred, target_names=relev_event_new))\n",
        "\n",
        "# Plot\n",
        "fig, ax = plt.subplots(figsize=(12,12))\n",
        "plot_confusion_matrix(HGBC, X_test, y_test,\n",
        "                      cmap=\"gist_ncar_r\",\n",
        "                      display_labels=relev_event_new,\n",
        "                      normalize=\"all\",\n",
        "                      ax=ax)\n",
        "plt.show()\n",
        "plt.savefig(\"figures/confusion_matrix_HGBC_gs-iter_2.1.2.png\", dpi=300)"
      ],
      "execution_count": null,
      "outputs": []
    },
    {
      "cell_type": "markdown",
      "metadata": {
        "id": "OVx13JHB_dKF"
      },
      "source": [
        "#### Iteration 2.2.0 / 2.2.1\n",
        "\n",
        "Removing `StandardScaler()` from pipeline for RF classifier\n",
        "\n",
        "*The same code use for 2.2.0 was used for 2.2.1; the difference is that the latter used the entire dataset, where 2.2.0 only used data from 2019.*\n",
        "\n",
        "_params_\n",
        "- n_estimators: [100, 125, 150]\n",
        "- max_depth: [15, 30]\n",
        "- min_samples: [2, 3]\n",
        "- random_state: 0"
      ]
    },
    {
      "cell_type": "code",
      "metadata": {
        "colab": {
          "background_save": true,
          "base_uri": "https://localhost:8080/"
        },
        "id": "BlFrXaP8_sao",
        "outputId": "3aec7289-016f-4726-c5aa-bdb3a48a51e0"
      },
      "source": [
        "from sklearn.ensemble import RandomForestClassifier\n",
        "from sklearn.model_selection import GridSearchCV\n",
        "from sklearn.pipeline import Pipeline\n",
        "from sklearn.metrics import balanced_accuracy_score\n",
        "from sklearn.model_selection import StratifiedKFold\n",
        "\n",
        "# Create a pipeline for creating RF classifier\n",
        "pipe = Pipeline([\n",
        "                 (\"RF_clf\", RandomForestClassifier())\n",
        "])\n",
        "\n",
        "# Establish parameter grid\n",
        "params = {\n",
        "    \"RF_clf__n_estimators\": [100,125,150],\n",
        "    \"RF_clf__max_depth\": [15,30],\n",
        "    \"RF_clf__min_samples_split\": [2,3],\n",
        "    \"RF_clf__random_state\": [0],\n",
        "    \"RF_clf__verbose\": [1],\n",
        "    \"RF_clf__n_jobs\": [-1]\n",
        "}\n",
        "\n",
        "# Stratified K Fold\n",
        "skfold = StratifiedKFold(n_splits=5, shuffle=True, random_state=0)\n",
        "\n",
        "# Grid Search and Fit\n",
        "RF_clf_gs = GridSearchCV(pipe, param_grid=params, cv=skfold,\n",
        "                         scoring=\"balanced_accuracy\", \n",
        "                         verbose=2)\n",
        "\n",
        "RF_clf_gs.fit(X_train, y_train)\n",
        "\n",
        "# Get best estimator\n",
        "best_RF_clf_gs = RF_clf_gs.best_estimator_\n",
        "\n",
        "# Time to train: ≥ 4 hrs\n",
        "\n",
        "import pickle\n",
        "\n",
        "# Path to save model\n",
        "mdl_path = \"/content/gdrive/My Drive/Colab Notebooks/pitch-sequence/serialized-models/\"\n",
        "# best mdl file name\n",
        "best_mdl_filename = \"best__RF_clf_GridSearch_iter-2.2.1.pkl\"\n",
        "# mdl file name\n",
        "mdl_filename = \"RF_clf_GridSearch_iter-2.2.1.pkl\"\n",
        "\n",
        "# Open file to be pickled (best)\n",
        "outfile_best = open(mdl_path+best_mdl_filename, \"wb\")\n",
        "print(\"Opened file for best estimator\")\n",
        "# Open file to be pickled (all)\n",
        "outfile_all = open(mdl_path+mdl_filename, \"wb\")\n",
        "print(\"Opened file for all\")\n",
        "# Pickle model (best)\n",
        "pickle.dump(RF_clf_gs, outfile_best)\n",
        "# Pickle model (all)\n",
        "pickle.dump(RF_clf_gs, outfile_all)\n",
        "# Close pickled model\n",
        "outfile_best.close()\n",
        "print(\"Closed best file\")\n",
        "# Close pickled model\n",
        "outfile_all.close()\n",
        "print(\"Closed all file\")"
      ],
      "execution_count": null,
      "outputs": [
        {
          "output_type": "stream",
          "text": [
            "Fitting 5 folds for each of 12 candidates, totalling 60 fits\n"
          ],
          "name": "stdout"
        },
        {
          "output_type": "stream",
          "text": [
            "[Parallel(n_jobs=-1)]: Using backend LokyBackend with 2 concurrent workers.\n",
            "[Parallel(n_jobs=-1)]: Done  46 tasks      | elapsed:  4.0min\n",
            "[Parallel(n_jobs=-1)]: Done 100 out of 100 | elapsed:  8.7min finished\n",
            "[Parallel(n_jobs=2)]: Using backend ThreadingBackend with 2 concurrent workers.\n",
            "[Parallel(n_jobs=2)]: Done  46 tasks      | elapsed:    3.7s\n",
            "[Parallel(n_jobs=2)]: Done 100 out of 100 | elapsed:    8.0s finished\n"
          ],
          "name": "stderr"
        },
        {
          "output_type": "stream",
          "text": [
            "[CV] END RF_clf__max_depth=15, RF_clf__min_samples_split=2, RF_clf__n_estimators=100, RF_clf__n_jobs=-1, RF_clf__random_state=0, RF_clf__verbose=1; total time= 9.0min\n"
          ],
          "name": "stdout"
        },
        {
          "output_type": "stream",
          "text": [
            "[Parallel(n_jobs=-1)]: Using backend LokyBackend with 2 concurrent workers.\n",
            "[Parallel(n_jobs=-1)]: Done  46 tasks      | elapsed:  4.0min\n",
            "[Parallel(n_jobs=-1)]: Done 100 out of 100 | elapsed:  8.6min finished\n",
            "[Parallel(n_jobs=2)]: Using backend ThreadingBackend with 2 concurrent workers.\n",
            "[Parallel(n_jobs=2)]: Done  46 tasks      | elapsed:    3.5s\n",
            "[Parallel(n_jobs=2)]: Done 100 out of 100 | elapsed:    7.5s finished\n"
          ],
          "name": "stderr"
        },
        {
          "output_type": "stream",
          "text": [
            "[CV] END RF_clf__max_depth=15, RF_clf__min_samples_split=2, RF_clf__n_estimators=100, RF_clf__n_jobs=-1, RF_clf__random_state=0, RF_clf__verbose=1; total time= 8.8min\n"
          ],
          "name": "stdout"
        },
        {
          "output_type": "stream",
          "text": [
            "[Parallel(n_jobs=-1)]: Using backend LokyBackend with 2 concurrent workers.\n",
            "[Parallel(n_jobs=-1)]: Done  46 tasks      | elapsed:  3.9min\n",
            "[Parallel(n_jobs=-1)]: Done 100 out of 100 | elapsed:  8.5min finished\n",
            "[Parallel(n_jobs=2)]: Using backend ThreadingBackend with 2 concurrent workers.\n",
            "[Parallel(n_jobs=2)]: Done  46 tasks      | elapsed:    3.4s\n",
            "[Parallel(n_jobs=2)]: Done 100 out of 100 | elapsed:    9.1s finished\n"
          ],
          "name": "stderr"
        },
        {
          "output_type": "stream",
          "text": [
            "[CV] END RF_clf__max_depth=15, RF_clf__min_samples_split=2, RF_clf__n_estimators=100, RF_clf__n_jobs=-1, RF_clf__random_state=0, RF_clf__verbose=1; total time= 8.8min\n"
          ],
          "name": "stdout"
        },
        {
          "output_type": "stream",
          "text": [
            "[Parallel(n_jobs=-1)]: Using backend LokyBackend with 2 concurrent workers.\n",
            "[Parallel(n_jobs=-1)]: Done  46 tasks      | elapsed:  5.7min\n",
            "[Parallel(n_jobs=-1)]: Done 100 out of 100 | elapsed: 12.5min finished\n",
            "[Parallel(n_jobs=2)]: Using backend ThreadingBackend with 2 concurrent workers.\n",
            "[Parallel(n_jobs=2)]: Done  46 tasks      | elapsed:    3.6s\n",
            "[Parallel(n_jobs=2)]: Done 100 out of 100 | elapsed:    7.9s finished\n"
          ],
          "name": "stderr"
        },
        {
          "output_type": "stream",
          "text": [
            "[CV] END RF_clf__max_depth=15, RF_clf__min_samples_split=2, RF_clf__n_estimators=100, RF_clf__n_jobs=-1, RF_clf__random_state=0, RF_clf__verbose=1; total time=12.8min\n"
          ],
          "name": "stdout"
        },
        {
          "output_type": "stream",
          "text": [
            "[Parallel(n_jobs=-1)]: Using backend LokyBackend with 2 concurrent workers.\n",
            "[Parallel(n_jobs=-1)]: Done  46 tasks      | elapsed:  5.8min\n",
            "[Parallel(n_jobs=-1)]: Done 100 out of 100 | elapsed: 12.4min finished\n",
            "[Parallel(n_jobs=2)]: Using backend ThreadingBackend with 2 concurrent workers.\n",
            "[Parallel(n_jobs=2)]: Done  46 tasks      | elapsed:    3.5s\n",
            "[Parallel(n_jobs=2)]: Done 100 out of 100 | elapsed:    7.5s finished\n"
          ],
          "name": "stderr"
        },
        {
          "output_type": "stream",
          "text": [
            "[CV] END RF_clf__max_depth=15, RF_clf__min_samples_split=2, RF_clf__n_estimators=100, RF_clf__n_jobs=-1, RF_clf__random_state=0, RF_clf__verbose=1; total time=12.6min\n"
          ],
          "name": "stdout"
        },
        {
          "output_type": "stream",
          "text": [
            "[Parallel(n_jobs=-1)]: Using backend LokyBackend with 2 concurrent workers.\n",
            "[Parallel(n_jobs=-1)]: Done  46 tasks      | elapsed:  5.4min\n",
            "[Parallel(n_jobs=-1)]: Done 125 out of 125 | elapsed: 13.1min finished\n",
            "[Parallel(n_jobs=2)]: Using backend ThreadingBackend with 2 concurrent workers.\n",
            "[Parallel(n_jobs=2)]: Done  46 tasks      | elapsed:    3.4s\n",
            "[Parallel(n_jobs=2)]: Done 125 out of 125 | elapsed:    9.3s finished\n"
          ],
          "name": "stderr"
        },
        {
          "output_type": "stream",
          "text": [
            "[CV] END RF_clf__max_depth=15, RF_clf__min_samples_split=2, RF_clf__n_estimators=125, RF_clf__n_jobs=-1, RF_clf__random_state=0, RF_clf__verbose=1; total time=13.4min\n"
          ],
          "name": "stdout"
        },
        {
          "output_type": "stream",
          "text": [
            "[Parallel(n_jobs=-1)]: Using backend LokyBackend with 2 concurrent workers.\n",
            "[Parallel(n_jobs=-1)]: Done  46 tasks      | elapsed:  4.5min\n",
            "[Parallel(n_jobs=-1)]: Done 125 out of 125 | elapsed: 12.2min finished\n",
            "[Parallel(n_jobs=2)]: Using backend ThreadingBackend with 2 concurrent workers.\n",
            "[Parallel(n_jobs=2)]: Done  46 tasks      | elapsed:    3.4s\n",
            "[Parallel(n_jobs=2)]: Done 125 out of 125 | elapsed:    9.3s finished\n"
          ],
          "name": "stderr"
        },
        {
          "output_type": "stream",
          "text": [
            "[CV] END RF_clf__max_depth=15, RF_clf__min_samples_split=2, RF_clf__n_estimators=125, RF_clf__n_jobs=-1, RF_clf__random_state=0, RF_clf__verbose=1; total time=12.5min\n"
          ],
          "name": "stdout"
        },
        {
          "output_type": "stream",
          "text": [
            "[Parallel(n_jobs=-1)]: Using backend LokyBackend with 2 concurrent workers.\n",
            "[Parallel(n_jobs=-1)]: Done  46 tasks      | elapsed:  4.7min\n",
            "[Parallel(n_jobs=-1)]: Done 125 out of 125 | elapsed: 12.6min finished\n",
            "[Parallel(n_jobs=2)]: Using backend ThreadingBackend with 2 concurrent workers.\n",
            "[Parallel(n_jobs=2)]: Done  46 tasks      | elapsed:    4.4s\n",
            "[Parallel(n_jobs=2)]: Done 125 out of 125 | elapsed:   13.2s finished\n"
          ],
          "name": "stderr"
        },
        {
          "output_type": "stream",
          "text": [
            "[CV] END RF_clf__max_depth=15, RF_clf__min_samples_split=2, RF_clf__n_estimators=125, RF_clf__n_jobs=-1, RF_clf__random_state=0, RF_clf__verbose=1; total time=13.0min\n"
          ],
          "name": "stdout"
        },
        {
          "output_type": "stream",
          "text": [
            "[Parallel(n_jobs=-1)]: Using backend LokyBackend with 2 concurrent workers.\n",
            "[Parallel(n_jobs=-1)]: Done  46 tasks      | elapsed:  5.8min\n",
            "[Parallel(n_jobs=-1)]: Done 125 out of 125 | elapsed: 15.5min finished\n",
            "[Parallel(n_jobs=2)]: Using backend ThreadingBackend with 2 concurrent workers.\n",
            "[Parallel(n_jobs=2)]: Done  46 tasks      | elapsed:    3.6s\n",
            "[Parallel(n_jobs=2)]: Done 125 out of 125 | elapsed:    9.7s finished\n"
          ],
          "name": "stderr"
        },
        {
          "output_type": "stream",
          "text": [
            "[CV] END RF_clf__max_depth=15, RF_clf__min_samples_split=2, RF_clf__n_estimators=125, RF_clf__n_jobs=-1, RF_clf__random_state=0, RF_clf__verbose=1; total time=15.8min\n"
          ],
          "name": "stdout"
        },
        {
          "output_type": "stream",
          "text": [
            "[Parallel(n_jobs=-1)]: Using backend LokyBackend with 2 concurrent workers.\n",
            "[Parallel(n_jobs=-1)]: Done  46 tasks      | elapsed:  5.7min\n",
            "[Parallel(n_jobs=-1)]: Done 125 out of 125 | elapsed: 15.5min finished\n",
            "[Parallel(n_jobs=2)]: Using backend ThreadingBackend with 2 concurrent workers.\n",
            "[Parallel(n_jobs=2)]: Done  46 tasks      | elapsed:    3.5s\n",
            "[Parallel(n_jobs=2)]: Done 125 out of 125 | elapsed:    9.4s finished\n"
          ],
          "name": "stderr"
        },
        {
          "output_type": "stream",
          "text": [
            "[CV] END RF_clf__max_depth=15, RF_clf__min_samples_split=2, RF_clf__n_estimators=125, RF_clf__n_jobs=-1, RF_clf__random_state=0, RF_clf__verbose=1; total time=15.8min\n"
          ],
          "name": "stdout"
        },
        {
          "output_type": "stream",
          "text": [
            "[Parallel(n_jobs=-1)]: Using backend LokyBackend with 2 concurrent workers.\n",
            "[Parallel(n_jobs=-1)]: Done  46 tasks      | elapsed:  5.8min\n",
            "[Parallel(n_jobs=-1)]: Done 150 out of 150 | elapsed: 18.5min finished\n",
            "[Parallel(n_jobs=2)]: Using backend ThreadingBackend with 2 concurrent workers.\n",
            "[Parallel(n_jobs=2)]: Done  46 tasks      | elapsed:    3.5s\n",
            "[Parallel(n_jobs=2)]: Done 150 out of 150 | elapsed:   11.4s finished\n"
          ],
          "name": "stderr"
        },
        {
          "output_type": "stream",
          "text": [
            "[CV] END RF_clf__max_depth=15, RF_clf__min_samples_split=2, RF_clf__n_estimators=150, RF_clf__n_jobs=-1, RF_clf__random_state=0, RF_clf__verbose=1; total time=18.8min\n"
          ],
          "name": "stdout"
        },
        {
          "output_type": "stream",
          "text": [
            "[Parallel(n_jobs=-1)]: Using backend LokyBackend with 2 concurrent workers.\n",
            "[Parallel(n_jobs=-1)]: Done  46 tasks      | elapsed:  5.6min\n",
            "[Parallel(n_jobs=-1)]: Done 150 out of 150 | elapsed: 14.8min finished\n",
            "[Parallel(n_jobs=2)]: Using backend ThreadingBackend with 2 concurrent workers.\n",
            "[Parallel(n_jobs=2)]: Done  46 tasks      | elapsed:    3.5s\n",
            "[Parallel(n_jobs=2)]: Done 150 out of 150 | elapsed:   11.8s finished\n"
          ],
          "name": "stderr"
        },
        {
          "output_type": "stream",
          "text": [
            "[CV] END RF_clf__max_depth=15, RF_clf__min_samples_split=2, RF_clf__n_estimators=150, RF_clf__n_jobs=-1, RF_clf__random_state=0, RF_clf__verbose=1; total time=15.1min\n"
          ],
          "name": "stdout"
        },
        {
          "output_type": "stream",
          "text": [
            "[Parallel(n_jobs=-1)]: Using backend LokyBackend with 2 concurrent workers.\n",
            "[Parallel(n_jobs=-1)]: Done  46 tasks      | elapsed:  3.8min\n",
            "[Parallel(n_jobs=-1)]: Done 150 out of 150 | elapsed: 12.2min finished\n",
            "[Parallel(n_jobs=2)]: Using backend ThreadingBackend with 2 concurrent workers.\n",
            "[Parallel(n_jobs=2)]: Done  46 tasks      | elapsed:    3.5s\n",
            "[Parallel(n_jobs=2)]: Done 150 out of 150 | elapsed:   11.3s finished\n"
          ],
          "name": "stderr"
        },
        {
          "output_type": "stream",
          "text": [
            "[CV] END RF_clf__max_depth=15, RF_clf__min_samples_split=2, RF_clf__n_estimators=150, RF_clf__n_jobs=-1, RF_clf__random_state=0, RF_clf__verbose=1; total time=12.5min\n"
          ],
          "name": "stdout"
        },
        {
          "output_type": "stream",
          "text": [
            "[Parallel(n_jobs=-1)]: Using backend LokyBackend with 2 concurrent workers.\n",
            "[Parallel(n_jobs=-1)]: Done  46 tasks      | elapsed:  3.7min\n",
            "[Parallel(n_jobs=-1)]: Done 150 out of 150 | elapsed: 12.3min finished\n",
            "[Parallel(n_jobs=2)]: Using backend ThreadingBackend with 2 concurrent workers.\n",
            "[Parallel(n_jobs=2)]: Done  46 tasks      | elapsed:    3.6s\n",
            "[Parallel(n_jobs=2)]: Done 150 out of 150 | elapsed:   14.7s finished\n"
          ],
          "name": "stderr"
        },
        {
          "output_type": "stream",
          "text": [
            "[CV] END RF_clf__max_depth=15, RF_clf__min_samples_split=2, RF_clf__n_estimators=150, RF_clf__n_jobs=-1, RF_clf__random_state=0, RF_clf__verbose=1; total time=12.6min\n"
          ],
          "name": "stdout"
        },
        {
          "output_type": "stream",
          "text": [
            "[Parallel(n_jobs=-1)]: Using backend LokyBackend with 2 concurrent workers.\n",
            "[Parallel(n_jobs=-1)]: Done  46 tasks      | elapsed:  5.9min\n",
            "[Parallel(n_jobs=-1)]: Done 150 out of 150 | elapsed: 18.7min finished\n",
            "[Parallel(n_jobs=2)]: Using backend ThreadingBackend with 2 concurrent workers.\n",
            "[Parallel(n_jobs=2)]: Done  46 tasks      | elapsed:    3.6s\n",
            "[Parallel(n_jobs=2)]: Done 150 out of 150 | elapsed:   11.6s finished\n"
          ],
          "name": "stderr"
        },
        {
          "output_type": "stream",
          "text": [
            "[CV] END RF_clf__max_depth=15, RF_clf__min_samples_split=2, RF_clf__n_estimators=150, RF_clf__n_jobs=-1, RF_clf__random_state=0, RF_clf__verbose=1; total time=19.0min\n"
          ],
          "name": "stdout"
        },
        {
          "output_type": "stream",
          "text": [
            "[Parallel(n_jobs=-1)]: Using backend LokyBackend with 2 concurrent workers.\n",
            "[Parallel(n_jobs=-1)]: Done  46 tasks      | elapsed:  5.6min\n",
            "[Parallel(n_jobs=-1)]: Done 100 out of 100 | elapsed: 12.1min finished\n",
            "[Parallel(n_jobs=2)]: Using backend ThreadingBackend with 2 concurrent workers.\n",
            "[Parallel(n_jobs=2)]: Done  46 tasks      | elapsed:    3.6s\n",
            "[Parallel(n_jobs=2)]: Done 100 out of 100 | elapsed:    7.8s finished\n"
          ],
          "name": "stderr"
        },
        {
          "output_type": "stream",
          "text": [
            "[CV] END RF_clf__max_depth=15, RF_clf__min_samples_split=3, RF_clf__n_estimators=100, RF_clf__n_jobs=-1, RF_clf__random_state=0, RF_clf__verbose=1; total time=12.4min\n"
          ],
          "name": "stdout"
        },
        {
          "output_type": "stream",
          "text": [
            "[Parallel(n_jobs=-1)]: Using backend LokyBackend with 2 concurrent workers.\n",
            "[Parallel(n_jobs=-1)]: Done  46 tasks      | elapsed:  5.7min\n",
            "[Parallel(n_jobs=-1)]: Done 100 out of 100 | elapsed: 12.3min finished\n",
            "[Parallel(n_jobs=2)]: Using backend ThreadingBackend with 2 concurrent workers.\n",
            "[Parallel(n_jobs=2)]: Done  46 tasks      | elapsed:    3.6s\n",
            "[Parallel(n_jobs=2)]: Done 100 out of 100 | elapsed:    7.8s finished\n"
          ],
          "name": "stderr"
        },
        {
          "output_type": "stream",
          "text": [
            "[CV] END RF_clf__max_depth=15, RF_clf__min_samples_split=3, RF_clf__n_estimators=100, RF_clf__n_jobs=-1, RF_clf__random_state=0, RF_clf__verbose=1; total time=12.5min\n"
          ],
          "name": "stdout"
        },
        {
          "output_type": "stream",
          "text": [
            "[Parallel(n_jobs=-1)]: Using backend LokyBackend with 2 concurrent workers.\n",
            "[Parallel(n_jobs=-1)]: Done  46 tasks      | elapsed:  5.8min\n",
            "[Parallel(n_jobs=-1)]: Done 100 out of 100 | elapsed: 12.5min finished\n",
            "[Parallel(n_jobs=2)]: Using backend ThreadingBackend with 2 concurrent workers.\n",
            "[Parallel(n_jobs=2)]: Done  46 tasks      | elapsed:    3.6s\n",
            "[Parallel(n_jobs=2)]: Done 100 out of 100 | elapsed:    7.8s finished\n"
          ],
          "name": "stderr"
        },
        {
          "output_type": "stream",
          "text": [
            "[CV] END RF_clf__max_depth=15, RF_clf__min_samples_split=3, RF_clf__n_estimators=100, RF_clf__n_jobs=-1, RF_clf__random_state=0, RF_clf__verbose=1; total time=12.7min\n"
          ],
          "name": "stdout"
        },
        {
          "output_type": "stream",
          "text": [
            "[Parallel(n_jobs=-1)]: Using backend LokyBackend with 2 concurrent workers.\n",
            "[Parallel(n_jobs=-1)]: Done  46 tasks      | elapsed:  5.6min\n",
            "[Parallel(n_jobs=-1)]: Done 100 out of 100 | elapsed: 11.3min finished\n",
            "[Parallel(n_jobs=2)]: Using backend ThreadingBackend with 2 concurrent workers.\n",
            "[Parallel(n_jobs=2)]: Done  46 tasks      | elapsed:    3.6s\n",
            "[Parallel(n_jobs=2)]: Done 100 out of 100 | elapsed:    7.8s finished\n"
          ],
          "name": "stderr"
        },
        {
          "output_type": "stream",
          "text": [
            "[CV] END RF_clf__max_depth=15, RF_clf__min_samples_split=3, RF_clf__n_estimators=100, RF_clf__n_jobs=-1, RF_clf__random_state=0, RF_clf__verbose=1; total time=11.5min\n"
          ],
          "name": "stdout"
        },
        {
          "output_type": "stream",
          "text": [
            "[Parallel(n_jobs=-1)]: Using backend LokyBackend with 2 concurrent workers.\n",
            "[Parallel(n_jobs=-1)]: Done  46 tasks      | elapsed:  5.0min\n",
            "[Parallel(n_jobs=-1)]: Done 100 out of 100 | elapsed: 10.7min finished\n",
            "[Parallel(n_jobs=2)]: Using backend ThreadingBackend with 2 concurrent workers.\n",
            "[Parallel(n_jobs=2)]: Done  46 tasks      | elapsed:    3.5s\n",
            "[Parallel(n_jobs=2)]: Done 100 out of 100 | elapsed:    7.6s finished\n"
          ],
          "name": "stderr"
        },
        {
          "output_type": "stream",
          "text": [
            "[CV] END RF_clf__max_depth=15, RF_clf__min_samples_split=3, RF_clf__n_estimators=100, RF_clf__n_jobs=-1, RF_clf__random_state=0, RF_clf__verbose=1; total time=10.9min\n"
          ],
          "name": "stdout"
        },
        {
          "output_type": "stream",
          "text": [
            "[Parallel(n_jobs=-1)]: Using backend LokyBackend with 2 concurrent workers.\n",
            "[Parallel(n_jobs=-1)]: Done  46 tasks      | elapsed:  5.0min\n",
            "[Parallel(n_jobs=-1)]: Done 125 out of 125 | elapsed: 13.5min finished\n",
            "[Parallel(n_jobs=2)]: Using backend ThreadingBackend with 2 concurrent workers.\n",
            "[Parallel(n_jobs=2)]: Done  46 tasks      | elapsed:    3.5s\n",
            "[Parallel(n_jobs=2)]: Done 125 out of 125 | elapsed:    9.5s finished\n"
          ],
          "name": "stderr"
        },
        {
          "output_type": "stream",
          "text": [
            "[CV] END RF_clf__max_depth=15, RF_clf__min_samples_split=3, RF_clf__n_estimators=125, RF_clf__n_jobs=-1, RF_clf__random_state=0, RF_clf__verbose=1; total time=13.7min\n"
          ],
          "name": "stdout"
        },
        {
          "output_type": "stream",
          "text": [
            "[Parallel(n_jobs=-1)]: Using backend LokyBackend with 2 concurrent workers.\n",
            "[Parallel(n_jobs=-1)]: Done  46 tasks      | elapsed:  5.0min\n",
            "[Parallel(n_jobs=-1)]: Done 125 out of 125 | elapsed: 13.4min finished\n",
            "[Parallel(n_jobs=2)]: Using backend ThreadingBackend with 2 concurrent workers.\n",
            "[Parallel(n_jobs=2)]: Done  46 tasks      | elapsed:    3.5s\n",
            "[Parallel(n_jobs=2)]: Done 125 out of 125 | elapsed:    9.4s finished\n"
          ],
          "name": "stderr"
        },
        {
          "output_type": "stream",
          "text": [
            "[CV] END RF_clf__max_depth=15, RF_clf__min_samples_split=3, RF_clf__n_estimators=125, RF_clf__n_jobs=-1, RF_clf__random_state=0, RF_clf__verbose=1; total time=13.7min\n"
          ],
          "name": "stdout"
        },
        {
          "output_type": "stream",
          "text": [
            "[Parallel(n_jobs=-1)]: Using backend LokyBackend with 2 concurrent workers.\n",
            "[Parallel(n_jobs=-1)]: Done  46 tasks      | elapsed:  5.0min\n"
          ],
          "name": "stderr"
        }
      ]
    },
    {
      "cell_type": "code",
      "metadata": {
        "id": "uDioOGgIAS54"
      },
      "source": [
        "print(\"Best parameters: \", RF_clf_gs.best_params_)\n",
        "print(\"Accuracy: \", RF_clf_gs.score(X_test, y_test))\n",
        "print(\"CV results: \", RF_clf_gs.cv_results_)"
      ],
      "execution_count": null,
      "outputs": []
    },
    {
      "cell_type": "code",
      "metadata": {
        "id": "_6sZrkdf6j_8"
      },
      "source": [
        "from sklearn.metrics import plot_confusion_matrix\n",
        "from sklearn.metrics import classification_report as clf_report\n",
        "from sklearn.metrics import confusion_matrix\n",
        "# Get best prediction from grid search\n",
        "y_pred = RF_clf_gs.best_estimator_.predict(X_test)\n",
        "\n",
        "# Print Report\n",
        "print(clf_report(y_test, y_pred, target_names=relev_event_new))\n",
        "\n",
        "# Plot\n",
        "fig, ax = plt.subplots(figsize=(12,12))\n",
        "plot_confusion_matrix(RF_clf, X_test, y_test,\n",
        "                      cmap=\"gist_ncar_r\",\n",
        "                      display_labels=relev_event_new,\n",
        "                      normalize=\"all\",\n",
        "                      ax=ax)\n",
        "plt.show()\n",
        "plt.savefig(\"figures/confusion_matrix_RF-iter_2.2.1.png\", dpi=300)"
      ],
      "execution_count": null,
      "outputs": []
    },
    {
      "cell_type": "markdown",
      "metadata": {
        "id": "q0wmllVxs5iJ"
      },
      "source": [
        "#### Iteration 2.3.1\n",
        "\n",
        "*note: 2.3.0 was run with just the 2019 data but was never pickled*"
      ]
    },
    {
      "cell_type": "code",
      "metadata": {
        "id": "gfxbfWgQs84H"
      },
      "source": [
        "from sklearn.multiclass import OneVsRestClassifier\n",
        "from sklearn.utils import class_weight as cw\n",
        "from sklearn.svm import LinearSVC\n",
        "from sklearn.svm import SVC\n",
        "from sklearn.metrics import plot_confusion_matrix\n",
        "from mlxtend.plotting import plot_decision_regions\n",
        "\n",
        "# Calculate weight for each classes\n",
        "y_unique = np.unique(y)\n",
        "weights = cw.compute_class_weight(\"balanced\", \n",
        "                                  y_unique,\n",
        "                                  y)\n",
        "# Create the linear SVM\n",
        "svm_lin = SVC(kernel=\"rbf\", \n",
        "              decision_function_shape=\"ovr\",\n",
        "              class_weight=\"balanced\",\n",
        "              random_state=0,\n",
        "              verbose=True)\n",
        "\n",
        "# Convert linear svm to One-vs-Many classifier\n",
        "svm_OvR = OneVsRestClassifier(svm_lin)\n",
        "\n",
        "# Fit OvR to data \n",
        "svm_OvR = svm_OvR.fit(X_train, y_train)\n",
        "\n",
        "# Best Fit for the Classifier (only added for consistency across iteration)\n",
        "best_svm_OvR = svm_OvR"
      ],
      "execution_count": null,
      "outputs": []
    },
    {
      "cell_type": "code",
      "metadata": {
        "id": "AdeVdYUKwGWY"
      },
      "source": [
        "from sklearn.metrics import plot_confusion_matrix\n",
        "from sklearn.metrics import classification_report as clf_report\n",
        "from sklearn.metrics import confusion_matrix\n",
        "# Get best prediction from grid search\n",
        "y_pred = best_svm_OvR.predict(X_test)\n",
        "\n",
        "# Print Report\n",
        "print(clf_report(y_pred, y_test, target_names=relev_event_new))\n",
        "\n",
        "# Evaluate fit\n",
        "cm_matrix = plot_confusion_matrix(best_svm_OvR, X_test, y_test,\n",
        "                                  cmap=\"gist_ncar_r\",\n",
        "                                  normalize=\"true\")\n",
        "plt.title('CM for OvR Classifier')\n",
        "plt.show()\n",
        "plt.savefig(\"figures/confusion_matrix_svm_OvR-iter_2.3.1.png\", dpi=300)\n",
        "\n",
        "# Plot decision boundary\n",
        "plot_decision_regions(X_test, y_test, clf=best_svm_OvR)\n",
        "plt.show()\n",
        "plt.savefig(\"figures/decision_regions_svm_OvR-iter_2.3.1.png\", dpi=300)"
      ],
      "execution_count": null,
      "outputs": []
    },
    {
      "cell_type": "code",
      "metadata": {
        "id": "dp79w0QZ-ylw"
      },
      "source": [
        "import pickle\n",
        "\n",
        "# Path to save model\n",
        "mdl_path = \"/content/gdrive/My Drive/Colab Notebooks/pitch-sequence/serialized-models/\"\n",
        "# mdl file name\n",
        "mdl_filename = \"svm_OvR_iter-2.3.1.pkl\"\n",
        "\n",
        "# Open file to be pickled\n",
        "outfile = open(mdl_path+mdl_filename, \"wb\")\n",
        "# Pickle model\n",
        "pickle.dump(svm_OvR, outfile)\n",
        "# Close pickled model\n",
        "outfile.close()"
      ],
      "execution_count": null,
      "outputs": []
    },
    {
      "cell_type": "markdown",
      "metadata": {
        "id": "nM4tuHU0wgr_"
      },
      "source": [
        "#### Iteration 2.3.2"
      ]
    },
    {
      "cell_type": "code",
      "metadata": {
        "id": "YZedagNcwl3v"
      },
      "source": [
        "# Convert linear svm to One-vs-Many classifier\n",
        "svm_OvO = OneVsOneClassifier(svm_lin)\n",
        "\n",
        "# Fit OvR to data \n",
        "svm_OvO = svm_OvO.fit(X_train, y_train)"
      ],
      "execution_count": null,
      "outputs": []
    },
    {
      "cell_type": "code",
      "metadata": {
        "id": "rCqyIv_JyGIY"
      },
      "source": [
        "# Evaluate fit\n",
        "cm_matrix = plot_confusion_matrix(svm_OvO, X_test, y_test,\n",
        "                                  cmap=\"gist_ncar_r\",\n",
        "                                  normalize=\"true\")\n",
        "plt.title('CM for OvO Classifier')\n",
        "plt.show(matrix)\n",
        "plt.show()\n",
        "\n",
        "# Plot decision boundary\n",
        "plot_decision_regions(X_test, y_test, clf=svm_OvO)\n",
        "plt.show()"
      ],
      "execution_count": null,
      "outputs": []
    },
    {
      "cell_type": "markdown",
      "metadata": {
        "id": "U8VwJEN_oMny"
      },
      "source": [
        "#### Iteration 2.3.3\n",
        "Balanced RF\n"
      ]
    },
    {
      "cell_type": "code",
      "metadata": {
        "colab": {
          "base_uri": "https://localhost:8080/",
          "height": 441
        },
        "id": "PR48n723oZTI",
        "outputId": "db7db0b9-31c5-4662-96a5-0ab031b88f09"
      },
      "source": [
        "# Install imbalacned-learn\n",
        "!pip install -U imbalanced-learn"
      ],
      "execution_count": null,
      "outputs": [
        {
          "output_type": "stream",
          "text": [
            "Collecting imbalanced-learn\n",
            "\u001b[?25l  Downloading https://files.pythonhosted.org/packages/80/98/dc784205a7e3034e84d41ac4781660c67ad6327f2f5a80c568df31673d1c/imbalanced_learn-0.8.0-py3-none-any.whl (206kB)\n",
            "\u001b[K     |████████████████████████████████| 215kB 3.1MB/s \n",
            "\u001b[?25hRequirement already satisfied, skipping upgrade: joblib>=0.11 in /usr/local/lib/python3.7/dist-packages (from imbalanced-learn) (1.0.1)\n",
            "Collecting scikit-learn>=0.24\n",
            "\u001b[?25l  Downloading https://files.pythonhosted.org/packages/a8/eb/a48f25c967526b66d5f1fa7a984594f0bf0a5afafa94a8c4dbc317744620/scikit_learn-0.24.2-cp37-cp37m-manylinux2010_x86_64.whl (22.3MB)\n",
            "\u001b[K     |████████████████████████████████| 22.3MB 1.6MB/s \n",
            "\u001b[?25hRequirement already satisfied, skipping upgrade: scipy>=0.19.1 in /usr/local/lib/python3.7/dist-packages (from imbalanced-learn) (1.4.1)\n",
            "Requirement already satisfied, skipping upgrade: numpy>=1.13.3 in /usr/local/lib/python3.7/dist-packages (from imbalanced-learn) (1.19.5)\n",
            "Collecting threadpoolctl>=2.0.0\n",
            "  Downloading https://files.pythonhosted.org/packages/f7/12/ec3f2e203afa394a149911729357aa48affc59c20e2c1c8297a60f33f133/threadpoolctl-2.1.0-py3-none-any.whl\n",
            "Installing collected packages: threadpoolctl, scikit-learn, imbalanced-learn\n",
            "  Found existing installation: scikit-learn 0.22.2.post1\n",
            "    Uninstalling scikit-learn-0.22.2.post1:\n",
            "      Successfully uninstalled scikit-learn-0.22.2.post1\n",
            "  Found existing installation: imbalanced-learn 0.4.3\n",
            "    Uninstalling imbalanced-learn-0.4.3:\n",
            "      Successfully uninstalled imbalanced-learn-0.4.3\n",
            "Successfully installed imbalanced-learn-0.8.0 scikit-learn-0.24.2 threadpoolctl-2.1.0\n"
          ],
          "name": "stdout"
        },
        {
          "output_type": "display_data",
          "data": {
            "application/vnd.colab-display-data+json": {
              "pip_warning": {
                "packages": [
                  "sklearn"
                ]
              }
            }
          },
          "metadata": {
            "tags": []
          }
        }
      ]
    },
    {
      "cell_type": "code",
      "metadata": {
        "id": "SELoTjZ4o62w"
      },
      "source": [
        "from imblearn.ensemble import BalancedRandomForestClassifier\n",
        "\n",
        "# Instantiate BRF\n",
        "BRF = BalancedRandomForestClassifier(max_depth=15, n_estimators=150, \n",
        "                                     min_samples_split=2,\n",
        "                                     verbose=1, random_state=0,\n",
        "                                     class_weight=\"balanced\")\n",
        "\n",
        "# Fit Model to Training\n",
        "BRF.fit(X_train, y_train)\n",
        "\n",
        "# Predict outcome\n",
        "y_pred = BRF.predict(X_test)"
      ],
      "execution_count": null,
      "outputs": []
    },
    {
      "cell_type": "code",
      "metadata": {
        "id": "bpJC8ijvq1Jp"
      },
      "source": [
        "from imblearn.metrics import classification_report_imbalanced as clf_report\n",
        "\n",
        "print(clf_report(y_test, y_pred))"
      ],
      "execution_count": null,
      "outputs": []
    },
    {
      "cell_type": "markdown",
      "metadata": {
        "id": "zrBZtrW4f3hV"
      },
      "source": [
        "#### Iteration 2.3.4\n",
        "GridSearch of Hyperparameters of Imbalanced Random Forest"
      ]
    },
    {
      "cell_type": "code",
      "metadata": {
        "id": "bOKi9x9Rg3JV"
      },
      "source": [
        "# Install imbalacned-learn\n",
        "!pip install -U imbalanced-learn"
      ],
      "execution_count": null,
      "outputs": []
    },
    {
      "cell_type": "markdown",
      "metadata": {
        "id": "Ux6mKzPWA5x7"
      },
      "source": [
        "Get a smaller subset of the data (between 20-40%) for analysis to examine how well the algo works. Later, pursue with `RandomStratifiedKFold`"
      ]
    },
    {
      "cell_type": "code",
      "metadata": {
        "id": "a5jEzjgQ_5rv"
      },
      "source": [
        "# Subsample of big dataframe \n",
        "data_subsample = df_prepped.sample(frac=0.30,random_state=0)\n",
        "\n",
        "from sklearn.preprocessing import LabelEncoder\n",
        "# Instantiate the encoder\n",
        "target_encoder_le = LabelEncoder()\n",
        "\n",
        "# Fit and transform the encoder to the target variable\n",
        "## Separate target variable from explanatory features\n",
        "y = data_subsample.iloc[:,0].values\n",
        "## Apply encoder\n",
        "y = target_encoder_le.fit_transform(y.astype(str))"
      ],
      "execution_count": null,
      "outputs": []
    },
    {
      "cell_type": "code",
      "metadata": {
        "id": "x15ybidD_-RZ"
      },
      "source": [
        "# Instantiate the encoder\n",
        "explanatory_encoder_le = LabelEncoder()\n",
        "\n",
        "# Fit and transform the encoder to the explanatory variable\n",
        "## Separate explanatory variables from the target variable\n",
        "X = data_subsample.iloc[:, 1:].values\n",
        "\n",
        "## Apply encoder\n",
        "### pitch_type\n",
        "X[:,6] = explanatory_encoder_le.fit_transform(X[:,6].astype(str))\n",
        "### b_count\n",
        "X[:,8] = explanatory_encoder_le.fit_transform(X[:,8].astype(str))\n",
        "### s_count\n",
        "X[:,9] = explanatory_encoder_le.fit_transform(X[:,9].astype(str))\n",
        "### p_throws\n",
        "X[:,14] = explanatory_encoder_le.fit_transform(X[:,14].astype(str))\n",
        "### location_call\n",
        "X[:,-2] = explanatory_encoder_le.fit_transform(X[:,-2].astype(str))"
      ],
      "execution_count": null,
      "outputs": []
    },
    {
      "cell_type": "code",
      "metadata": {
        "id": "7ret1cQ3AKJi"
      },
      "source": [
        "# Split dataframe into test and train sets\n",
        "from sklearn.model_selection import train_test_split\n",
        "\n",
        "# Train-test-split \n",
        "X_train, X_test, y_train, y_test = train_test_split(X, y, test_size=0.2, \n",
        "                                                    random_state=0)"
      ],
      "execution_count": null,
      "outputs": []
    },
    {
      "cell_type": "code",
      "metadata": {
        "id": "qyZ3l4MlLyoX"
      },
      "source": [
        "e = data_subsample.event_new.astype(\"category\")\n",
        "fig = plt.figure(figsize=(8,6))\n",
        "sns.countplot(y=e, orient=\"h\")\n",
        "fig.savefig(\"figures/lumped_events_subsample_2019.png\", dpi=300)"
      ],
      "execution_count": null,
      "outputs": []
    },
    {
      "cell_type": "code",
      "metadata": {
        "id": "XFq_NKmpFzS-"
      },
      "source": [
        "from imblearn.over_sampling import SMOTE\n",
        "from imblearn.pipeline import Pipeline\n",
        "from sklearn.ensemble import RandomForestClassifier\n",
        "from sklearn.ensemble import GradientBoostingClassifier\n",
        "from sklearn.svm import SVC\n",
        "from sklearn.model_selection import cross_val_score\n",
        "from sklearn.model_selection import GridSearchCV\n",
        "from sklearn.metrics import f1_score, make_scorer\n",
        "\n",
        "class Multiple_Clf_GridSearcher:\n",
        "  # Define the initial call function \n",
        "  def __init__(self, models, params, \n",
        "               minority_sampling, minority_sampling_params):\n",
        "    self.models = models\n",
        "    self.params = params\n",
        "    self.models_keys = models.keys()\n",
        "    self.mss = minority_sampling\n",
        "    self.mss_params = minority_sampling_params\n",
        "    self.mss_keys = minority_sampling_params.keys()\n",
        "    self.grid_searches = {}\n",
        "\n",
        "\n",
        "  # Define the fitting function to train the models\n",
        "  def fit(self, X, y, **grid_kwargs):\n",
        "    for (key_mdl, key_mss) in zip(self.models_keys, self.mss_keys):\n",
        "      print(\"Applying SMOTE for imblanced classes ...\")\n",
        "      print(self.models[key_mdl])\n",
        "      print(self.mss_params[key_mss])\n",
        "      over = SMOTE(sampling_strategy= self.mss_params[key_mss])\n",
        "      X_resamp, y_resamp = over.fit_resample(X, y)\n",
        "      print(\"Running GridSearchCV for %s ...\" % key_mdl)\n",
        "      model = self.models[key_mdl]\n",
        "      params= self.params[key_mdl]\n",
        "      grid_search = GridSearchCV(model, params, **grid_kwargs)\n",
        "      grid_search.fit(X_resamp,y_resamp)\n",
        "      self.grid_searches[key_mdl] = grid_search\n",
        "      print(\"... Round of fitting complete\")\n",
        "    print(\"Done\")\n",
        "\n",
        "  # Create a dataframe of the results\n",
        "  def score_summary(self, sort_by= \"mean_test_score\"):\n",
        "    frames = []\n",
        "    for name, grid_search in self.grid_searches.items():\n",
        "      frame = pd.DataFrame(grid_search.cv_results_)\n",
        "      frame = frame.filter(regex='^(?!.*param_).*$')\n",
        "      frame['estimator'] = len(frame)*[name]\n",
        "      frames.append(frame)\n",
        "\n",
        "    df = pd.concat(frames)\n",
        "    df = df.sort_values([sort_by], ascending=False)\n",
        "    df = df.drop([\"rank_test_score\", \"index\"], 1)\n",
        "\n",
        "    cols = df.columns.tolist()\n",
        "    cols.remove(\"estimator\")\n",
        "    cols = [\"estimator\"] + cols\n",
        "    \n",
        "    df = df[cols]\n",
        "\n",
        "    return df"
      ],
      "execution_count": null,
      "outputs": []
    },
    {
      "cell_type": "code",
      "metadata": {
        "colab": {
          "base_uri": "https://localhost:8080/",
          "height": 244
        },
        "id": "FU4Jf3M1L7ks",
        "outputId": "4f9d6142-2f2b-4171-cd47-33f6ad67da50"
      },
      "source": [
        "# Grid Search\n",
        "f1_samples = make_scorer(f1_score, average=\"weighted\")\n",
        "\n",
        "mdls = {\n",
        "    \"RandomForestClassifier\": RandomForestClassifier(),\n",
        "    \"GBC\": GradientBoostingClassifier()\n",
        "}\n",
        "\n",
        "param_grid = {\n",
        "    # Random Forest\n",
        "    \"RandomForestClassifier\": [\n",
        "                               {\n",
        "                                \"n_estimators\":[125,150],\n",
        "                                \"max_depth\":[5,10],\n",
        "                                \"min_samples_split\":[2,3],\n",
        "                                \"random_state\":[0],\n",
        "                                \"verbose\":[True]\n",
        "                               }\n",
        "    ],\n",
        "    # Gradient Boost\n",
        "    \"GradientBoostingClassifier\":[\n",
        "                                  {\n",
        "                                   \"loss\":[\"deviance\",\"exponential\"],\n",
        "                                   \"learning_rate\":[0.1, 1.0],\n",
        "                                   \"n_estimators\":[100, 150, 175],\n",
        "                                   \"min_samples_split\":[3,5],\n",
        "                                   \"max_depth\":[3,5],\n",
        "                                   \"random_state\":[0],\n",
        "                                   \"max_features\":[\"auto\"],\n",
        "                                   \"verbose\":[2]\n",
        "                                  }\n",
        "    ]\n",
        "}\n",
        "\n",
        "# Establish the count for the number of occurences for each class\n",
        "n_per_class = pd.Series(index=range(len(np.unique(y_train))))\n",
        "for i in range(len(np.unique(y_train))):\n",
        "  n_per_class[i] = np.count_nonzero(y_train == i)\n",
        "\n",
        "# Estalish the class with the highest number of occurences\n",
        "max_class = max_class = np.int_(np.max(n_per_class))\n",
        "\n",
        "minority_sampling = {\n",
        "    \"sampling_strategy\":\"sampling_strategy\",\n",
        "    \"random_state\":\"random_state\"\n",
        "}\n",
        "\n",
        "minority_sampling_params = {\n",
        "    \"sampling_strategy_1\":\n",
        "                           {0:max_class,\n",
        "                            1:round(max_class*0.15),\n",
        "                            2:np.count_nonzero(y_train==2),\n",
        "                            3:round(max_class*0.20),\n",
        "                            4:round(max_class*0.075),\n",
        "                            5:np.count_nonzero(y_train==5),\n",
        "                            6:np.count_nonzero(y_train==6)},\n",
        "    \"sampling_strategy_2\":\n",
        "                           {0:max_class,\n",
        "                            1:round(max_class*0.25),\n",
        "                            2:np.count_nonzero(y_train==2),\n",
        "                            3:round(max_class*0.15),\n",
        "                            4:round(max_class*0.15),\n",
        "                            5:np.count_nonzero(y_train==5),\n",
        "                            6:np.count_nonzero(y_train==6)},\n",
        "    \"random_state\":[\n",
        "                    {0}\n",
        "                    ]\n",
        "}\n",
        "\n",
        "gsearch = Multiple_Clf_GridSearcher(mdls, param_grid,\n",
        "                                    minority_sampling, minority_sampling_params)\n",
        "gsearch.fit(X_train, y_train, scoring=f1_samples, n_jobs=-1, verbose=2)\n",
        "gsearch.score_summary()"
      ],
      "execution_count": null,
      "outputs": [
        {
          "output_type": "error",
          "ename": "NameError",
          "evalue": "ignored",
          "traceback": [
            "\u001b[0;31m---------------------------------------------------------------------------\u001b[0m",
            "\u001b[0;31mNameError\u001b[0m                                 Traceback (most recent call last)",
            "\u001b[0;32m<ipython-input-1-e436222ff630>\u001b[0m in \u001b[0;36m<module>\u001b[0;34m()\u001b[0m\n\u001b[1;32m      1\u001b[0m \u001b[0;31m# Grid Search\u001b[0m\u001b[0;34m\u001b[0m\u001b[0;34m\u001b[0m\u001b[0;34m\u001b[0m\u001b[0m\n\u001b[0;32m----> 2\u001b[0;31m \u001b[0mf1_samples\u001b[0m \u001b[0;34m=\u001b[0m \u001b[0mmake_scorer\u001b[0m\u001b[0;34m(\u001b[0m\u001b[0mf1_score\u001b[0m\u001b[0;34m,\u001b[0m \u001b[0maverage\u001b[0m\u001b[0;34m=\u001b[0m\u001b[0;34m\"weighted\"\u001b[0m\u001b[0;34m)\u001b[0m\u001b[0;34m\u001b[0m\u001b[0;34m\u001b[0m\u001b[0m\n\u001b[0m\u001b[1;32m      3\u001b[0m \u001b[0;34m\u001b[0m\u001b[0m\n\u001b[1;32m      4\u001b[0m mdls = {\n\u001b[1;32m      5\u001b[0m     \u001b[0;34m\"RandomForestClassifier\"\u001b[0m\u001b[0;34m:\u001b[0m \u001b[0mRandomForestClassifier\u001b[0m\u001b[0;34m(\u001b[0m\u001b[0;34m)\u001b[0m\u001b[0;34m,\u001b[0m\u001b[0;34m\u001b[0m\u001b[0;34m\u001b[0m\u001b[0m\n",
            "\u001b[0;31mNameError\u001b[0m: name 'make_scorer' is not defined"
          ]
        }
      ]
    },
    {
      "cell_type": "markdown",
      "metadata": {
        "id": "9bmxiiXtYasJ"
      },
      "source": [
        "[Pickle](https://medium.com/@maziarizadi/pickle-your-model-in-python-2bbe7dba2bbb) (a.k.a serialize) the model so that it can be accessed without having to retrain the model. "
      ]
    },
    {
      "cell_type": "code",
      "metadata": {
        "id": "8lnhbpLzWx55"
      },
      "source": [
        "import pickle\n",
        "# Path to save model\n",
        "mdl_path = \"/content/gdrive/My Drive/Colab Notebooks/pitch-sequence/serialized-models/\"\n",
        "mdl_filename = \"grid-searched-multi_classifier_iter-2.3.4.pkl\"\n",
        "pickle.dump(gsearch, open(mdl_path+mdl_filename,\"wb\"))"
      ],
      "execution_count": null,
      "outputs": []
    },
    {
      "cell_type": "markdown",
      "metadata": {
        "id": "xboaQU55xtrh"
      },
      "source": [
        "Plot an example of the difference between the subsampled target labels in `y_train` and the minority sampled labels using `SMOTE()`. "
      ]
    },
    {
      "cell_type": "code",
      "metadata": {
        "id": "h-UZdCRNJFgH"
      },
      "source": [
        "over = SMOTE(sampling_strategy={0:max_class,\n",
        "                          1:round(max_class*0.15),\n",
        "                          2:np.count_nonzero(y_train==2),\n",
        "                          3:round(max_class*0.20),\n",
        "                          4:round(max_class*0.075),\n",
        "                          5:np.count_nonzero(y_train==5),\n",
        "                          6:np.count_nonzero(y_train==6)}, random_state=0)\n",
        "xx,yy = over.fit_resample(X_train,y_train)\n",
        "\n",
        "# Count Plot of Subsampled Events\n",
        "fig, ax = plt.subplots(figsize=(6,4))\n",
        "sns.countplot(y)\n",
        "ax.set_xticklabels(relev_events)\n",
        "plt.show()\n",
        "fig.savefig(\"figures/countplot_subsampled_events.png\", dpi=300)\n",
        "# Minority Sampled Subsampled Events\n",
        "fig, ax = plt.subplots(figsize=(6,4))\n",
        "sns.countplot(yy)\n",
        "ax.set_xticklabels(relev_events)\n",
        "plt.show()\n",
        "fig.savefig(\"figures/countplot_subsampled_minority_sampled_events.png\", dpi=300)"
      ],
      "execution_count": null,
      "outputs": []
    },
    {
      "cell_type": "code",
      "metadata": {
        "id": "llzWupVbx854"
      },
      "source": [
        "from sklearn.metrics import multilabel_confusion_matrix as ml_cm\n",
        "from sklearn.metrics import classification_report as clf_report\n",
        "\n",
        "# Get Best Model\n",
        "best_gsearch_clf = gsearch.best_estimator_\n",
        "\n",
        "# Predict with test data and best model\n",
        "y_pred = best_gsearch_clf.predict(X_test)\n",
        "\n",
        "# Print Report\n",
        "print(clf_report(y_pred, y_test))"
      ],
      "execution_count": null,
      "outputs": []
    },
    {
      "cell_type": "code",
      "metadata": {
        "colab": {
          "base_uri": "https://localhost:8080/",
          "height": 469
        },
        "id": "Zc7n48PJf3Qn",
        "outputId": "a2e77756-ecf1-4fdb-947e-4b82dbd1b0bb"
      },
      "source": [
        "# Create steps for pipeline\n",
        "## Random Forest \n",
        "RF_clf = RandomForestClassifier()\n",
        "## SVM - OneVsRest\n",
        "svm_OvR = SVC()    \n",
        "## Minority class over sampling (makes up for imbalance)\n",
        "over = SMOTE()\n",
        "## Steps for pipeline\n",
        "steps = [(\"sampling\", over), (\"clf\", RF_clf)]\n",
        "\n",
        "# Establish pipeline\n",
        "pipeline = Pipeline(steps=steps)\n",
        "\n",
        "# Establish the count for the number of occurences for each class\n",
        "n_per_class = pd.Series(index=range(len(np.unique(y_train))))\n",
        "for i in range(len(np.unique(y_train))):\n",
        "  n_per_class[i] = np.count_nonzero(y_train == i)\n",
        "\n",
        "# Estalish the class with the highest number of occurences\n",
        "max_class = max_class = np.int_(np.max(n_per_class))\n",
        "\n",
        "# Establish parameters\n",
        "## sampling strategy has to be done by inspecting the imblance of the classes manually\n",
        "params = [\n",
        "          {\"sampling__random_state\":[0],\n",
        "           \"sampling__sampling_strategy\":[{0:max_class,\n",
        "                                           1:round(max_class*0.15, 0),\n",
        "                                           2:np.count_nonzero(y_train==2),\n",
        "                                           3:round(max_class*0.20, 0),\n",
        "                                           4:round(max_class*0.075, 0),\n",
        "                                           5:np.count_nonzero(y_train==5),\n",
        "                                           6:np.count_nonzero(y_train==6)},\n",
        "                                          \n",
        "                                          {0:max_class,\n",
        "                                           1:round(max_class*0.25, 0),\n",
        "                                           2:np.count_nonzero(y_train==2),\n",
        "                                           3:round(max_class*0.15, 0),\n",
        "                                           4:round(max_class*0.15, 0),\n",
        "                                           5:np.count_nonzero(y_train==5),\n",
        "                                           6:np.count_nonzero(y_train==6)}\n",
        "                                          ]},\n",
        "          \n",
        "          # Random Forest Classifier\n",
        "          {\"clf\":[RF_clf],\n",
        "           \"clf__n_estimators\": [125,150],\n",
        "           \"clf__max_depth\": [5,10],\n",
        "           \"clf__min_samples_split\": [2, 3],\n",
        "           \"clf__min_samples_leaf\": [1],\n",
        "           \"clf__random_state\": [0],\n",
        "           \"clf__verbose\": [True]},\n",
        "          # SVM - OneVsRest Classifier\n",
        "          {\"clf\":[svm_OvR],\n",
        "           \"clf__C\":[1, 10],\n",
        "           \"clf__random_state\":[0],\n",
        "           \"clf__kernel\":[\"rbf\", \"poly\"],\n",
        "           \"clf__decision_function_shape\":[\"ovr\"],\n",
        "           \"clf__verbose\":[True]}\n",
        "          ]\n",
        "\n",
        "# Grid Search\n",
        "f1_samples = make_scorer(f1_score, average=\"weighted\")\n",
        "gridsearch = GridSearchCV(estimator=pipeline, param_grid=params,\n",
        "                          cv=3, n_jobs=-1, \n",
        "                          scoring=f1_samples,\n",
        "                          verbose=2)\n",
        "# Train Model\n",
        "gridsearch.fit(X_train, y_train)\n",
        "# Get Best RF\n",
        "best_RF_clf = gridsearch.best_estimator_\n",
        "# Print Best parameters\n",
        "print(gridsearch.best_params_)"
      ],
      "execution_count": null,
      "outputs": [
        {
          "output_type": "stream",
          "text": [
            "/usr/local/lib/python3.7/dist-packages/ipykernel_launcher.py:23: DeprecationWarning: The default dtype for empty Series will be 'object' instead of 'float64' in a future version. Specify a dtype explicitly to silence this warning.\n"
          ],
          "name": "stderr"
        },
        {
          "output_type": "stream",
          "text": [
            "Fitting 3 folds for each of 14 candidates, totalling 42 fits\n"
          ],
          "name": "stdout"
        },
        {
          "output_type": "error",
          "ename": "NotFittedError",
          "evalue": "ignored",
          "traceback": [
            "\u001b[0;31m---------------------------------------------------------------------------\u001b[0m",
            "\u001b[0;31mNotFittedError\u001b[0m                            Traceback (most recent call last)",
            "\u001b[0;32m<ipython-input-28-cbafcf1c73d1>\u001b[0m in \u001b[0;36m<module>\u001b[0;34m()\u001b[0m\n\u001b[1;32m     73\u001b[0m                           verbose=2)\n\u001b[1;32m     74\u001b[0m \u001b[0;31m# Train Model\u001b[0m\u001b[0;34m\u001b[0m\u001b[0;34m\u001b[0m\u001b[0;34m\u001b[0m\u001b[0m\n\u001b[0;32m---> 75\u001b[0;31m \u001b[0mgridsearch\u001b[0m\u001b[0;34m.\u001b[0m\u001b[0mfit\u001b[0m\u001b[0;34m(\u001b[0m\u001b[0mX_train\u001b[0m\u001b[0;34m,\u001b[0m \u001b[0my_train\u001b[0m\u001b[0;34m)\u001b[0m\u001b[0;34m\u001b[0m\u001b[0;34m\u001b[0m\u001b[0m\n\u001b[0m\u001b[1;32m     76\u001b[0m \u001b[0;31m# Get Best RF\u001b[0m\u001b[0;34m\u001b[0m\u001b[0;34m\u001b[0m\u001b[0;34m\u001b[0m\u001b[0m\n\u001b[1;32m     77\u001b[0m \u001b[0mbest_RF_clf\u001b[0m \u001b[0;34m=\u001b[0m \u001b[0mgridsearch\u001b[0m\u001b[0;34m.\u001b[0m\u001b[0mbest_estimator_\u001b[0m\u001b[0;34m\u001b[0m\u001b[0;34m\u001b[0m\u001b[0m\n",
            "\u001b[0;32m/usr/local/lib/python3.7/dist-packages/sklearn/utils/validation.py\u001b[0m in \u001b[0;36minner_f\u001b[0;34m(*args, **kwargs)\u001b[0m\n\u001b[1;32m     61\u001b[0m             \u001b[0mextra_args\u001b[0m \u001b[0;34m=\u001b[0m \u001b[0mlen\u001b[0m\u001b[0;34m(\u001b[0m\u001b[0margs\u001b[0m\u001b[0;34m)\u001b[0m \u001b[0;34m-\u001b[0m \u001b[0mlen\u001b[0m\u001b[0;34m(\u001b[0m\u001b[0mall_args\u001b[0m\u001b[0;34m)\u001b[0m\u001b[0;34m\u001b[0m\u001b[0;34m\u001b[0m\u001b[0m\n\u001b[1;32m     62\u001b[0m             \u001b[0;32mif\u001b[0m \u001b[0mextra_args\u001b[0m \u001b[0;34m<=\u001b[0m \u001b[0;36m0\u001b[0m\u001b[0;34m:\u001b[0m\u001b[0;34m\u001b[0m\u001b[0;34m\u001b[0m\u001b[0m\n\u001b[0;32m---> 63\u001b[0;31m                 \u001b[0;32mreturn\u001b[0m \u001b[0mf\u001b[0m\u001b[0;34m(\u001b[0m\u001b[0;34m*\u001b[0m\u001b[0margs\u001b[0m\u001b[0;34m,\u001b[0m \u001b[0;34m**\u001b[0m\u001b[0mkwargs\u001b[0m\u001b[0;34m)\u001b[0m\u001b[0;34m\u001b[0m\u001b[0;34m\u001b[0m\u001b[0m\n\u001b[0m\u001b[1;32m     64\u001b[0m \u001b[0;34m\u001b[0m\u001b[0m\n\u001b[1;32m     65\u001b[0m             \u001b[0;31m# extra_args > 0\u001b[0m\u001b[0;34m\u001b[0m\u001b[0;34m\u001b[0m\u001b[0;34m\u001b[0m\u001b[0m\n",
            "\u001b[0;32m/usr/local/lib/python3.7/dist-packages/sklearn/model_selection/_search.py\u001b[0m in \u001b[0;36mfit\u001b[0;34m(self, X, y, groups, **fit_params)\u001b[0m\n\u001b[1;32m    839\u001b[0m                 \u001b[0;32mreturn\u001b[0m \u001b[0mresults\u001b[0m\u001b[0;34m\u001b[0m\u001b[0;34m\u001b[0m\u001b[0m\n\u001b[1;32m    840\u001b[0m \u001b[0;34m\u001b[0m\u001b[0m\n\u001b[0;32m--> 841\u001b[0;31m             \u001b[0mself\u001b[0m\u001b[0;34m.\u001b[0m\u001b[0m_run_search\u001b[0m\u001b[0;34m(\u001b[0m\u001b[0mevaluate_candidates\u001b[0m\u001b[0;34m)\u001b[0m\u001b[0;34m\u001b[0m\u001b[0;34m\u001b[0m\u001b[0m\n\u001b[0m\u001b[1;32m    842\u001b[0m \u001b[0;34m\u001b[0m\u001b[0m\n\u001b[1;32m    843\u001b[0m             \u001b[0;31m# multimetric is determined here because in the case of a callable\u001b[0m\u001b[0;34m\u001b[0m\u001b[0;34m\u001b[0m\u001b[0;34m\u001b[0m\u001b[0m\n",
            "\u001b[0;32m/usr/local/lib/python3.7/dist-packages/sklearn/model_selection/_search.py\u001b[0m in \u001b[0;36m_run_search\u001b[0;34m(self, evaluate_candidates)\u001b[0m\n\u001b[1;32m   1294\u001b[0m     \u001b[0;32mdef\u001b[0m \u001b[0m_run_search\u001b[0m\u001b[0;34m(\u001b[0m\u001b[0mself\u001b[0m\u001b[0;34m,\u001b[0m \u001b[0mevaluate_candidates\u001b[0m\u001b[0;34m)\u001b[0m\u001b[0;34m:\u001b[0m\u001b[0;34m\u001b[0m\u001b[0;34m\u001b[0m\u001b[0m\n\u001b[1;32m   1295\u001b[0m         \u001b[0;34m\"\"\"Search all candidates in param_grid\"\"\"\u001b[0m\u001b[0;34m\u001b[0m\u001b[0;34m\u001b[0m\u001b[0m\n\u001b[0;32m-> 1296\u001b[0;31m         \u001b[0mevaluate_candidates\u001b[0m\u001b[0;34m(\u001b[0m\u001b[0mParameterGrid\u001b[0m\u001b[0;34m(\u001b[0m\u001b[0mself\u001b[0m\u001b[0;34m.\u001b[0m\u001b[0mparam_grid\u001b[0m\u001b[0;34m)\u001b[0m\u001b[0;34m)\u001b[0m\u001b[0;34m\u001b[0m\u001b[0;34m\u001b[0m\u001b[0m\n\u001b[0m\u001b[1;32m   1297\u001b[0m \u001b[0;34m\u001b[0m\u001b[0m\n\u001b[1;32m   1298\u001b[0m \u001b[0;34m\u001b[0m\u001b[0m\n",
            "\u001b[0;32m/usr/local/lib/python3.7/dist-packages/sklearn/model_selection/_search.py\u001b[0m in \u001b[0;36mevaluate_candidates\u001b[0;34m(candidate_params, cv, more_results)\u001b[0m\n\u001b[1;32m    825\u001b[0m                 \u001b[0;31m# of out will be done in `_insert_error_scores`.\u001b[0m\u001b[0;34m\u001b[0m\u001b[0;34m\u001b[0m\u001b[0;34m\u001b[0m\u001b[0m\n\u001b[1;32m    826\u001b[0m                 \u001b[0;32mif\u001b[0m \u001b[0mcallable\u001b[0m\u001b[0;34m(\u001b[0m\u001b[0mself\u001b[0m\u001b[0;34m.\u001b[0m\u001b[0mscoring\u001b[0m\u001b[0;34m)\u001b[0m\u001b[0;34m:\u001b[0m\u001b[0;34m\u001b[0m\u001b[0;34m\u001b[0m\u001b[0m\n\u001b[0;32m--> 827\u001b[0;31m                     \u001b[0m_insert_error_scores\u001b[0m\u001b[0;34m(\u001b[0m\u001b[0mout\u001b[0m\u001b[0;34m,\u001b[0m \u001b[0mself\u001b[0m\u001b[0;34m.\u001b[0m\u001b[0merror_score\u001b[0m\u001b[0;34m)\u001b[0m\u001b[0;34m\u001b[0m\u001b[0;34m\u001b[0m\u001b[0m\n\u001b[0m\u001b[1;32m    828\u001b[0m                 \u001b[0mall_candidate_params\u001b[0m\u001b[0;34m.\u001b[0m\u001b[0mextend\u001b[0m\u001b[0;34m(\u001b[0m\u001b[0mcandidate_params\u001b[0m\u001b[0;34m)\u001b[0m\u001b[0;34m\u001b[0m\u001b[0;34m\u001b[0m\u001b[0m\n\u001b[1;32m    829\u001b[0m                 \u001b[0mall_out\u001b[0m\u001b[0;34m.\u001b[0m\u001b[0mextend\u001b[0m\u001b[0;34m(\u001b[0m\u001b[0mout\u001b[0m\u001b[0;34m)\u001b[0m\u001b[0;34m\u001b[0m\u001b[0;34m\u001b[0m\u001b[0m\n",
            "\u001b[0;32m/usr/local/lib/python3.7/dist-packages/sklearn/model_selection/_validation.py\u001b[0m in \u001b[0;36m_insert_error_scores\u001b[0;34m(results, error_score)\u001b[0m\n\u001b[1;32m    299\u001b[0m \u001b[0;34m\u001b[0m\u001b[0m\n\u001b[1;32m    300\u001b[0m     \u001b[0;32mif\u001b[0m \u001b[0msuccessful_score\u001b[0m \u001b[0;32mis\u001b[0m \u001b[0;32mNone\u001b[0m\u001b[0;34m:\u001b[0m\u001b[0;34m\u001b[0m\u001b[0;34m\u001b[0m\u001b[0m\n\u001b[0;32m--> 301\u001b[0;31m         \u001b[0;32mraise\u001b[0m \u001b[0mNotFittedError\u001b[0m\u001b[0;34m(\u001b[0m\u001b[0;34m\"All estimators failed to fit\"\u001b[0m\u001b[0;34m)\u001b[0m\u001b[0;34m\u001b[0m\u001b[0;34m\u001b[0m\u001b[0m\n\u001b[0m\u001b[1;32m    302\u001b[0m \u001b[0;34m\u001b[0m\u001b[0m\n\u001b[1;32m    303\u001b[0m     \u001b[0;32mif\u001b[0m \u001b[0misinstance\u001b[0m\u001b[0;34m(\u001b[0m\u001b[0msuccessful_score\u001b[0m\u001b[0;34m,\u001b[0m \u001b[0mdict\u001b[0m\u001b[0;34m)\u001b[0m\u001b[0;34m:\u001b[0m\u001b[0;34m\u001b[0m\u001b[0;34m\u001b[0m\u001b[0m\n",
            "\u001b[0;31mNotFittedError\u001b[0m: All estimators failed to fit"
          ]
        }
      ]
    },
    {
      "cell_type": "code",
      "metadata": {
        "colab": {
          "base_uri": "https://localhost:8080/"
        },
        "id": "xlA66fqKzBMS",
        "outputId": "9772d8af-8f55-428c-8b7e-bfeef5f1f748"
      },
      "source": [
        "from sklearn.metrics import multilabel_confusion_matrix as ml_cm\n",
        "from sklearn.metrics import classification_report as clf_report\n",
        "\n",
        "# Predict with test data and best model\n",
        "y_pred = best_RF_clf.predict(X_test)\n",
        "\n",
        "# Print Report\n",
        "print(clf_report(y_test, y_pred))"
      ],
      "execution_count": null,
      "outputs": [
        {
          "output_type": "stream",
          "text": [
            "[Parallel(n_jobs=1)]: Using backend SequentialBackend with 1 concurrent workers.\n"
          ],
          "name": "stderr"
        },
        {
          "output_type": "stream",
          "text": [
            "              precision    recall  f1-score   support\n",
            "\n",
            "           0       0.55      0.41      0.47     18012\n",
            "           1       0.00      0.00      0.00         0\n",
            "           2       0.00      0.00      0.00         0\n",
            "           3       0.00      0.50      0.01         2\n",
            "           4       0.18      0.02      0.03      2843\n",
            "           5       0.41      0.40      0.40     10541\n",
            "           6       0.31      0.32      0.31      4651\n",
            "\n",
            "    accuracy                           0.37     36049\n",
            "   macro avg       0.21      0.23      0.18     36049\n",
            "weighted avg       0.45      0.37      0.40     36049\n",
            "\n"
          ],
          "name": "stdout"
        },
        {
          "output_type": "stream",
          "text": [
            "[Parallel(n_jobs=1)]: Done 150 out of 150 | elapsed:    0.9s finished\n",
            "/usr/local/lib/python3.7/dist-packages/sklearn/metrics/_classification.py:1248: UndefinedMetricWarning: Recall and F-score are ill-defined and being set to 0.0 in labels with no true samples. Use `zero_division` parameter to control this behavior.\n",
            "  _warn_prf(average, modifier, msg_start, len(result))\n",
            "/usr/local/lib/python3.7/dist-packages/sklearn/metrics/_classification.py:1248: UndefinedMetricWarning: Recall and F-score are ill-defined and being set to 0.0 in labels with no true samples. Use `zero_division` parameter to control this behavior.\n",
            "  _warn_prf(average, modifier, msg_start, len(result))\n",
            "/usr/local/lib/python3.7/dist-packages/sklearn/metrics/_classification.py:1248: UndefinedMetricWarning: Recall and F-score are ill-defined and being set to 0.0 in labels with no true samples. Use `zero_division` parameter to control this behavior.\n",
            "  _warn_prf(average, modifier, msg_start, len(result))\n"
          ],
          "name": "stderr"
        },
        {
          "output_type": "execute_result",
          "data": {
            "text/plain": [
              "array([[[12043, 10540],\n",
              "        [ 5994,  7472]],\n",
              "\n",
              "       [[34950,     0],\n",
              "        [ 1099,     0]],\n",
              "\n",
              "       [[30043,     0],\n",
              "        [ 6006,     0]],\n",
              "\n",
              "       [[35776,     1],\n",
              "        [  271,     1]],\n",
              "\n",
              "       [[33003,  2798],\n",
              "        [  203,    45]],\n",
              "\n",
              "       [[19500,  6341],\n",
              "        [ 6008,  4200]],\n",
              "\n",
              "       [[28116,  3183],\n",
              "        [ 3282,  1468]]])"
            ]
          },
          "metadata": {
            "tags": []
          },
          "execution_count": 46
        }
      ]
    },
    {
      "cell_type": "markdown",
      "metadata": {
        "id": "o3lPIjc9YP_I"
      },
      "source": [
        "#### Iteration 2.3.5\n",
        "This iteration continues to tune hyperparameters by leveraging a bagging ensmble method. Through this method several base estimators are examined and the use of the `imblanced` api assists in over sampling the minority classes through this process. \n",
        "\n",
        "Using `BalancedBaggingClassifier()`. The documentation can be found [here](https://imbalanced-learn.org/dev/references/generated/imblearn.ensemble.BalancedBaggingClassifier.html)."
      ]
    },
    {
      "cell_type": "code",
      "metadata": {
        "id": "paHmuSswZbzt"
      },
      "source": [
        "# Install imbalacned-learn\n",
        "!pip install -U imbalanced-learn"
      ],
      "execution_count": null,
      "outputs": []
    },
    {
      "cell_type": "code",
      "metadata": {
        "id": "yO564gCdZFK5"
      },
      "source": [
        "from imblearn.ensemble import BalancedBaggingClassifier \n",
        "from sklearn.ensemble import RandomForestClassifier\n",
        "from sklearn.model_selection import GridSearchCV\n",
        "\n",
        "# Establish base estimators\n",
        "## RandomForestClassifier\n",
        "RF_clf = RamdomForestClassifier()\n",
        "\n",
        "# Establish the count for the number of occurences for each class\n",
        "n_per_class = pd.Series(index=range(len(np.unique(y_train))))\n",
        "for i in range(len(np.unique(y_train))):\n",
        "  n_per_class[i] = np.count_nonzero(y_train == i)\n",
        "\n",
        "# Estalish the class with the highest number of occurences\n",
        "max_class = max_class = np.int_(np.max(n_per_class))\n",
        "\n",
        "# Parameter Grid\n",
        "params = {\n",
        " \"bootstrap\": [True, False],\n",
        " \"bootstrap_features\": [True, False],    \n",
        " \"n_estimators\": [100,125,150],\n",
        " \"sampling_strategy\":{0:max_class,\n",
        "                      1:round(max_class*0.15),\n",
        "                      2:np.count_nonzero(y_train==2),\n",
        "                      3:round(max_class*0.20),\n",
        "                      4:round(max_class*0.075),\n",
        "                      5:np.count_nonzero(y_train==5),\n",
        "                      6:np.count_nonzero(y_train==6)},\n",
        " 'max_samples' : [0.8, 1.0, 1.5],\n",
        " \"random_state\":[0],\n",
        " \"base_estimator__bootstrap\": [True, False],    \n",
        " \"base_estimator__n_estimators\": [125,150],\n",
        " \"base_estimator__max_depth\": [5,15,30],\n",
        " \"base_estimator__min_samples_split\": [2,3],\n",
        " \"base_estimator__min_samples_leaf\": [1,2],\n",
        " \"base_estimator__verbose\":[2],\n",
        " \"base_estimator__n_jobs\":[-1],\n",
        "}\n",
        "\n",
        "# Run the gridsearch with a 3-fold cross-validation\n",
        "bag_clf_gs = GridSearchCV(base_estimator=RF_clf, param_grid=params, cv=3,\n",
        "                          verbose=3)\n",
        "\n",
        "\n",
        "# Time to train: \n",
        "\n",
        "# Get Best RF frpm BaggingClassifier\n",
        "best_bag_clf = bag_clf_gs.best_estimator_\n",
        "\n",
        "import pickle\n",
        "\n",
        "# Path to save model\n",
        "mdl_path = \"/content/gdrive/My Drive/Colab Notebooks/pitch-sequence/serialized-models/\"\n",
        "# best mdl file name\n",
        "best_mdl_filename = \"best__bag_clf_GridSearch_iter-2.3.5.pkl\"\n",
        "# mdl file name\n",
        "mdl_filename = \"bag_clf_GridSearch_iter-2.3.5.pkl\"\n",
        "\n",
        "# Open file to be pickled (best)\n",
        "outfile_best = open(mdl_path+best_mdl_filename, \"wb\")\n",
        "print(\"Opened file for best estimator\")\n",
        "# Open file to be pickled (all)\n",
        "outfile_all = open(mdl_path+mdl_filename, \"wb\")\n",
        "print(\"Opened file for all\")\n",
        "# Pickle model (best)\n",
        "pickle.dump(RF_clf_gs, outfile_best)\n",
        "# Pickle model (all)\n",
        "pickle.dump(RF_clf_gs, outfile_all)\n",
        "# Close pickled model\n",
        "outfile_best.close()\n",
        "print(\"Closed best file\")\n",
        "# Close pickled model\n",
        "outfile_all.close()\n",
        "print(\"Closed all file\")"
      ],
      "execution_count": null,
      "outputs": []
    },
    {
      "cell_type": "code",
      "metadata": {
        "id": "VWeKCns5j-Un"
      },
      "source": [
        "print(\"Best parameters: \", bag_clf_gs.best_params_)\n",
        "print(\"Accuracy: \", bag_clf_gs.score(X_test, y_test))\n",
        "print(\"CV results: \", bag_clf_gs.cv_results_)"
      ],
      "execution_count": null,
      "outputs": []
    },
    {
      "cell_type": "code",
      "metadata": {
        "id": "KgzCd8s-j_7X"
      },
      "source": [
        "from sklearn.metrics import plot_confusion_matrix\n",
        "from sklearn.metrics import classification_report as clf_report\n",
        "from sklearn.metrics import confusion_matrix\n",
        "\n",
        "# Get best prediction from grid search\n",
        "y_pred = bag_clf_gs.best_estimator_.predict(X_test)\n",
        "\n",
        "# Print Report\n",
        "print(clf_report(y_test, y_pred, target_names=relev_event_new))\n",
        "\n",
        "# Plot\n",
        "fig, ax = plt.subplots(figsize=(12,12))\n",
        "plot_confusion_matrix(bag_clf_gs, X_test, y_test,\n",
        "                      cmap=\"gist_ncar_r\",\n",
        "                      display_labels=relev_event_new,\n",
        "                      normalize=\"all\",\n",
        "                      ax=ax)\n",
        "plt.show()\n",
        "plt.savefig(\"figures/confusion_matrix_bag_clf_gs-iter_2.2.1.png\", dpi=300)"
      ],
      "execution_count": null,
      "outputs": []
    },
    {
      "cell_type": "markdown",
      "metadata": {
        "id": "Ohfz3yuRme2o"
      },
      "source": [
        "### Examine Pickled Models\n"
      ]
    },
    {
      "cell_type": "code",
      "metadata": {
        "colab": {
          "base_uri": "https://localhost:8080/",
          "height": 212
        },
        "id": "xILL8Rbwmj-q",
        "outputId": "77d11506-4f56-4863-e3b4-ffb5fd5eb259"
      },
      "source": [
        "import pickle\n",
        "\n",
        "# Loading model to compare the results\n",
        "model_210 = pickle.load(open(\"/content/gdrive/MyDrive/Colab Notebooks/pitch-sequence/serialized-models/RF_clf_GridSearch_iter-2.1.0.pkl\",'rb'))"
      ],
      "execution_count": null,
      "outputs": [
        {
          "output_type": "error",
          "ename": "EOFError",
          "evalue": "ignored",
          "traceback": [
            "\u001b[0;31m---------------------------------------------------------------------------\u001b[0m",
            "\u001b[0;31mEOFError\u001b[0m                                  Traceback (most recent call last)",
            "\u001b[0;32m<ipython-input-24-7179a336b4d1>\u001b[0m in \u001b[0;36m<module>\u001b[0;34m()\u001b[0m\n\u001b[1;32m      2\u001b[0m \u001b[0;34m\u001b[0m\u001b[0m\n\u001b[1;32m      3\u001b[0m \u001b[0;31m# Loading model to compare the results\u001b[0m\u001b[0;34m\u001b[0m\u001b[0;34m\u001b[0m\u001b[0;34m\u001b[0m\u001b[0m\n\u001b[0;32m----> 4\u001b[0;31m \u001b[0mmodel_210\u001b[0m \u001b[0;34m=\u001b[0m \u001b[0mpickle\u001b[0m\u001b[0;34m.\u001b[0m\u001b[0mload\u001b[0m\u001b[0;34m(\u001b[0m\u001b[0mopen\u001b[0m\u001b[0;34m(\u001b[0m\u001b[0;34m'/content/gdrive/MyDrive/Colab Notebooks/pitch-sequence/serialized-models/RF_clf_GridSearch_iter-2.1.0.pkl'\u001b[0m\u001b[0;34m,\u001b[0m\u001b[0;34m'rb'\u001b[0m\u001b[0;34m)\u001b[0m\u001b[0;34m)\u001b[0m\u001b[0;34m\u001b[0m\u001b[0;34m\u001b[0m\u001b[0m\n\u001b[0m",
            "\u001b[0;31mEOFError\u001b[0m: Ran out of input"
          ]
        }
      ]
    },
    {
      "cell_type": "code",
      "metadata": {
        "colab": {
          "base_uri": "https://localhost:8080/"
        },
        "id": "gEFduXCNvuEs",
        "outputId": "b005343b-8c55-4d2a-953e-bb6febf2dff7"
      },
      "source": [
        "model_210"
      ],
      "execution_count": null,
      "outputs": [
        {
          "output_type": "execute_result",
          "data": {
            "text/plain": [
              "RandomForestClassifier(bootstrap=True, ccp_alpha=0.0, class_weight=None,\n",
              "                       criterion='gini', max_depth=2, max_features='auto',\n",
              "                       max_leaf_nodes=None, max_samples=None,\n",
              "                       min_impurity_decrease=0.0, min_impurity_split=None,\n",
              "                       min_samples_leaf=1, min_samples_split=2,\n",
              "                       min_weight_fraction_leaf=0.0, n_estimators=100,\n",
              "                       n_jobs=None, oob_score=False, random_state=42, verbose=0,\n",
              "                       warm_start=False)"
            ]
          },
          "metadata": {
            "tags": []
          },
          "execution_count": 23
        }
      ]
    },
    {
      "cell_type": "markdown",
      "metadata": {
        "id": "uHsKeQKBlRyr"
      },
      "source": [
        "## Model with H$_2$O\n",
        "As an alternative to sklearn, we can use H$_2$O api lirbary to conduct a similar model"
      ]
    },
    {
      "cell_type": "markdown",
      "metadata": {
        "id": "Siuxto1Ckw7_"
      },
      "source": [
        "Install H2O for modeling"
      ]
    },
    {
      "cell_type": "code",
      "metadata": {
        "colab": {
          "base_uri": "https://localhost:8080/"
        },
        "id": "Ni8tQyAAkz3G",
        "outputId": "afaaaa2a-b412-42fe-882b-33d8efeb4e3f"
      },
      "source": [
        "!pip install h2o"
      ],
      "execution_count": null,
      "outputs": [
        {
          "output_type": "stream",
          "text": [
            "Collecting h2o\n",
            "\u001b[?25l  Downloading https://files.pythonhosted.org/packages/95/b8/f8839b152e5b783b453a957432402e13350ca93b54741f0f848eee22bb08/h2o-3.32.1.2.tar.gz (164.8MB)\n",
            "\u001b[K     |████████████████████████████████| 164.8MB 79kB/s \n",
            "\u001b[?25hRequirement already satisfied: requests in /usr/local/lib/python3.7/dist-packages (from h2o) (2.23.0)\n",
            "Requirement already satisfied: tabulate in /usr/local/lib/python3.7/dist-packages (from h2o) (0.8.9)\n",
            "Requirement already satisfied: future in /usr/local/lib/python3.7/dist-packages (from h2o) (0.16.0)\n",
            "Collecting colorama>=0.3.8\n",
            "  Downloading https://files.pythonhosted.org/packages/44/98/5b86278fbbf250d239ae0ecb724f8572af1c91f4a11edf4d36a206189440/colorama-0.4.4-py2.py3-none-any.whl\n",
            "Requirement already satisfied: urllib3!=1.25.0,!=1.25.1,<1.26,>=1.21.1 in /usr/local/lib/python3.7/dist-packages (from requests->h2o) (1.24.3)\n",
            "Requirement already satisfied: certifi>=2017.4.17 in /usr/local/lib/python3.7/dist-packages (from requests->h2o) (2020.12.5)\n",
            "Requirement already satisfied: idna<3,>=2.5 in /usr/local/lib/python3.7/dist-packages (from requests->h2o) (2.10)\n",
            "Requirement already satisfied: chardet<4,>=3.0.2 in /usr/local/lib/python3.7/dist-packages (from requests->h2o) (3.0.4)\n",
            "Building wheels for collected packages: h2o\n",
            "  Building wheel for h2o (setup.py) ... \u001b[?25l\u001b[?25hdone\n",
            "  Created wheel for h2o: filename=h2o-3.32.1.2-py2.py3-none-any.whl size=164848811 sha256=b187e29e3d3ebbe5baaef50fb9f84a8ca55edd2418d341d54c43e1b8c76fee6a\n",
            "  Stored in directory: /root/.cache/pip/wheels/37/b6/c7/c1cfdcd471d476b2b5129f4d27a0fd89043858ee74eda7ee7a\n",
            "Successfully built h2o\n",
            "Installing collected packages: colorama, h2o\n",
            "Successfully installed colorama-0.4.4 h2o-3.32.1.2\n"
          ],
          "name": "stdout"
        }
      ]
    },
    {
      "cell_type": "code",
      "metadata": {
        "colab": {
          "base_uri": "https://localhost:8080/",
          "height": 555
        },
        "id": "OKJ_4ENDnM3W",
        "outputId": "532d2882-252a-4e28-9bf3-582ae761ab93"
      },
      "source": [
        "import h2o\n",
        "from h2o.estimators import H2ORandomForestEstimator\n",
        "# Instantiate h2o in workspace\n",
        "h2o.init()"
      ],
      "execution_count": null,
      "outputs": [
        {
          "output_type": "stream",
          "text": [
            "Checking whether there is an H2O instance running at http://localhost:54321 ..... not found.\n",
            "Attempting to start a local H2O server...\n",
            "  Java Version: openjdk version \"11.0.10\" 2021-01-19; OpenJDK Runtime Environment (build 11.0.10+9-Ubuntu-0ubuntu1.18.04); OpenJDK 64-Bit Server VM (build 11.0.10+9-Ubuntu-0ubuntu1.18.04, mixed mode, sharing)\n",
            "  Starting server from /usr/local/lib/python3.7/dist-packages/h2o/backend/bin/h2o.jar\n",
            "  Ice root: /tmp/tmpdelbw2ee\n",
            "  JVM stdout: /tmp/tmpdelbw2ee/h2o_unknownUser_started_from_python.out\n",
            "  JVM stderr: /tmp/tmpdelbw2ee/h2o_unknownUser_started_from_python.err\n",
            "  Server is running at http://127.0.0.1:54321\n",
            "Connecting to H2O server at http://127.0.0.1:54321 ... successful.\n"
          ],
          "name": "stdout"
        },
        {
          "output_type": "display_data",
          "data": {
            "text/html": [
              "<div style=\"overflow:auto\"><table style=\"width:50%\"><tr><td>H2O_cluster_uptime:</td>\n",
              "<td>03 secs</td></tr>\n",
              "<tr><td>H2O_cluster_timezone:</td>\n",
              "<td>Etc/UTC</td></tr>\n",
              "<tr><td>H2O_data_parsing_timezone:</td>\n",
              "<td>UTC</td></tr>\n",
              "<tr><td>H2O_cluster_version:</td>\n",
              "<td>3.32.1.2</td></tr>\n",
              "<tr><td>H2O_cluster_version_age:</td>\n",
              "<td>2 days </td></tr>\n",
              "<tr><td>H2O_cluster_name:</td>\n",
              "<td>H2O_from_python_unknownUser_jios4y</td></tr>\n",
              "<tr><td>H2O_cluster_total_nodes:</td>\n",
              "<td>1</td></tr>\n",
              "<tr><td>H2O_cluster_free_memory:</td>\n",
              "<td>3.180 Gb</td></tr>\n",
              "<tr><td>H2O_cluster_total_cores:</td>\n",
              "<td>2</td></tr>\n",
              "<tr><td>H2O_cluster_allowed_cores:</td>\n",
              "<td>2</td></tr>\n",
              "<tr><td>H2O_cluster_status:</td>\n",
              "<td>accepting new members, healthy</td></tr>\n",
              "<tr><td>H2O_connection_url:</td>\n",
              "<td>http://127.0.0.1:54321</td></tr>\n",
              "<tr><td>H2O_connection_proxy:</td>\n",
              "<td>{\"http\": null, \"https\": null}</td></tr>\n",
              "<tr><td>H2O_internal_security:</td>\n",
              "<td>False</td></tr>\n",
              "<tr><td>H2O_API_Extensions:</td>\n",
              "<td>Amazon S3, XGBoost, Algos, AutoML, Core V3, TargetEncoder, Core V4</td></tr>\n",
              "<tr><td>Python_version:</td>\n",
              "<td>3.7.10 final</td></tr></table></div>"
            ],
            "text/plain": [
              "--------------------------  ------------------------------------------------------------------\n",
              "H2O_cluster_uptime:         03 secs\n",
              "H2O_cluster_timezone:       Etc/UTC\n",
              "H2O_data_parsing_timezone:  UTC\n",
              "H2O_cluster_version:        3.32.1.2\n",
              "H2O_cluster_version_age:    2 days\n",
              "H2O_cluster_name:           H2O_from_python_unknownUser_jios4y\n",
              "H2O_cluster_total_nodes:    1\n",
              "H2O_cluster_free_memory:    3.180 Gb\n",
              "H2O_cluster_total_cores:    2\n",
              "H2O_cluster_allowed_cores:  2\n",
              "H2O_cluster_status:         accepting new members, healthy\n",
              "H2O_connection_url:         http://127.0.0.1:54321\n",
              "H2O_connection_proxy:       {\"http\": null, \"https\": null}\n",
              "H2O_internal_security:      False\n",
              "H2O_API_Extensions:         Amazon S3, XGBoost, Algos, AutoML, Core V3, TargetEncoder, Core V4\n",
              "Python_version:             3.7.10 final\n",
              "--------------------------  ------------------------------------------------------------------"
            ]
          },
          "metadata": {
            "tags": []
          }
        }
      ]
    },
    {
      "cell_type": "code",
      "metadata": {
        "id": "lYaXNFg0P5Jg"
      },
      "source": [
        "feat_list = df_prepped.iloc[:,1:].columns.to_list()"
      ],
      "execution_count": null,
      "outputs": []
    },
    {
      "cell_type": "code",
      "metadata": {
        "colab": {
          "base_uri": "https://localhost:8080/"
        },
        "id": "QNBmILMYlguu",
        "outputId": "31ea3e21-7769-4f53-bdf2-ca64618136e2"
      },
      "source": [
        "# Establish data to be modeled\n",
        "data = h2o.import_file(\"df_prepped.csv\")\n",
        "# Target variable\n",
        "response = \"event_new\"\n",
        "# Features\n",
        "data[\"score_delta\"] = data[\"p_score\"] - data[\"b_score\"]\n",
        "feats = feat_list+[\"score_delta\"]"
      ],
      "execution_count": null,
      "outputs": [
        {
          "output_type": "stream",
          "text": [
            "Parse progress: |█████████████████████████████████████████████████████████| 100%\n"
          ],
          "name": "stdout"
        }
      ]
    },
    {
      "cell_type": "markdown",
      "metadata": {
        "id": "RGGKfqfPmfjx"
      },
      "source": [
        "Train-test-split the data into training and testing dataframes"
      ]
    },
    {
      "cell_type": "code",
      "metadata": {
        "id": "QJ4Wj1xXme2Y"
      },
      "source": [
        "# Split data into train and testing\n",
        "train, test = data.split_frame(ratios=[0.8])"
      ],
      "execution_count": null,
      "outputs": []
    },
    {
      "cell_type": "markdown",
      "metadata": {
        "id": "_6IFP__emocX"
      },
      "source": [
        "Establish RF Classifier Model\n",
        "\n",
        "On first attempt, this model took 41 min to run.\n",
        "\n",
        "After running the model, save it to `model_path`. This will now be in the Colab folder under \"mdl_event_edit\""
      ]
    },
    {
      "cell_type": "code",
      "metadata": {
        "colab": {
          "base_uri": "https://localhost:8080/"
        },
        "id": "Ze9TCCm_mrBX",
        "outputId": "6eb38153-4747-4bcc-afa3-00444a9d93d8"
      },
      "source": [
        "# Define model\n",
        "model = H2ORandomForestEstimator(max_depth=5, nfolds=10, seed=42)\n",
        "\n",
        "# Train model\n",
        "model.train(x=feats, y=response, training_frame=train)\n",
        "model_path = h2o.save_model(model=model, path=\"mdl_event_edit\", force=True)"
      ],
      "execution_count": null,
      "outputs": [
        {
          "output_type": "stream",
          "text": [
            "drf Model Build progress: |███████████████████████████████████████████████| 100%\n"
          ],
          "name": "stdout"
        }
      ]
    },
    {
      "cell_type": "markdown",
      "metadata": {
        "id": "Uu4p1LjAm5_m"
      },
      "source": [
        "Examine Performance\n"
      ]
    },
    {
      "cell_type": "code",
      "metadata": {
        "colab": {
          "base_uri": "https://localhost:8080/",
          "height": 798
        },
        "id": "xkThCI-xm9Pe",
        "outputId": "71ac948b-311d-4ba0-9048-44efb4c33f9c"
      },
      "source": [
        "# Model performance\n",
        "performance = model.model_performance(test_data=test)\n",
        "\n",
        "print(performance)"
      ],
      "execution_count": null,
      "outputs": [
        {
          "output_type": "stream",
          "text": [
            "\n",
            "ModelMetricsMultinomial: drf\n",
            "** Reported on test data. **\n",
            "\n",
            "MSE: 0.5244604220836859\n",
            "RMSE: 0.7241963974528498\n",
            "LogLoss: 1.394454985480229\n",
            "Mean Per-Class Error: 0.7945646081392163\n",
            "AUC: NaN\n",
            "AUCPR: NaN\n",
            "Multinomial auc values: Table is not computed because it is disabled (model parameter 'auc_type' is set to AUTO or NONE) or due to domain size (maximum is 50 domains).\n",
            "Multinomial auc_pr values: Table is not computed because it is disabled (model parameter 'auc_type' is set to AUTO or NONE) or due to domain size (maximum is 50 domains).\n",
            "\n",
            "Confusion Matrix: Row labels: Actual class; Column labels: Predicted class\n"
          ],
          "name": "stdout"
        },
        {
          "output_type": "display_data",
          "data": {
            "text/html": [
              "<div>\n",
              "<style scoped>\n",
              "    .dataframe tbody tr th:only-of-type {\n",
              "        vertical-align: middle;\n",
              "    }\n",
              "\n",
              "    .dataframe tbody tr th {\n",
              "        vertical-align: top;\n",
              "    }\n",
              "\n",
              "    .dataframe thead th {\n",
              "        text-align: right;\n",
              "    }\n",
              "</style>\n",
              "<table border=\"1\" class=\"dataframe\">\n",
              "  <thead>\n",
              "    <tr style=\"text-align: right;\">\n",
              "      <th></th>\n",
              "      <th>Def Out</th>\n",
              "      <th>HR</th>\n",
              "      <th>Non-HR Hit</th>\n",
              "      <th>Other</th>\n",
              "      <th>Strikeout</th>\n",
              "      <th>Walk</th>\n",
              "      <th>Error</th>\n",
              "      <th>Rate</th>\n",
              "    </tr>\n",
              "  </thead>\n",
              "  <tbody>\n",
              "    <tr>\n",
              "      <th>0</th>\n",
              "      <td>45803.0</td>\n",
              "      <td>0.0</td>\n",
              "      <td>0.0</td>\n",
              "      <td>0.0</td>\n",
              "      <td>6887.0</td>\n",
              "      <td>1898.0</td>\n",
              "      <td>0.160933</td>\n",
              "      <td>8,785 / 54,588</td>\n",
              "    </tr>\n",
              "    <tr>\n",
              "      <th>1</th>\n",
              "      <td>3844.0</td>\n",
              "      <td>0.0</td>\n",
              "      <td>0.0</td>\n",
              "      <td>0.0</td>\n",
              "      <td>521.0</td>\n",
              "      <td>193.0</td>\n",
              "      <td>1.000000</td>\n",
              "      <td>4,558 / 4,558</td>\n",
              "    </tr>\n",
              "    <tr>\n",
              "      <th>2</th>\n",
              "      <td>19864.0</td>\n",
              "      <td>0.0</td>\n",
              "      <td>0.0</td>\n",
              "      <td>0.0</td>\n",
              "      <td>2926.0</td>\n",
              "      <td>790.0</td>\n",
              "      <td>1.000000</td>\n",
              "      <td>23,580 / 23,580</td>\n",
              "    </tr>\n",
              "    <tr>\n",
              "      <th>3</th>\n",
              "      <td>846.0</td>\n",
              "      <td>0.0</td>\n",
              "      <td>0.0</td>\n",
              "      <td>0.0</td>\n",
              "      <td>147.0</td>\n",
              "      <td>47.0</td>\n",
              "      <td>1.000000</td>\n",
              "      <td>1,040 / 1,040</td>\n",
              "    </tr>\n",
              "    <tr>\n",
              "      <th>4</th>\n",
              "      <td>29884.0</td>\n",
              "      <td>0.0</td>\n",
              "      <td>0.0</td>\n",
              "      <td>0.0</td>\n",
              "      <td>9413.0</td>\n",
              "      <td>1261.0</td>\n",
              "      <td>0.767913</td>\n",
              "      <td>31,145 / 40,558</td>\n",
              "    </tr>\n",
              "    <tr>\n",
              "      <th>5</th>\n",
              "      <td>13050.0</td>\n",
              "      <td>0.0</td>\n",
              "      <td>0.0</td>\n",
              "      <td>0.0</td>\n",
              "      <td>2619.0</td>\n",
              "      <td>3017.0</td>\n",
              "      <td>0.838542</td>\n",
              "      <td>15,669 / 18,686</td>\n",
              "    </tr>\n",
              "    <tr>\n",
              "      <th>6</th>\n",
              "      <td>113291.0</td>\n",
              "      <td>0.0</td>\n",
              "      <td>0.0</td>\n",
              "      <td>0.0</td>\n",
              "      <td>22513.0</td>\n",
              "      <td>7206.0</td>\n",
              "      <td>0.592805</td>\n",
              "      <td>84,777 / 143,010</td>\n",
              "    </tr>\n",
              "  </tbody>\n",
              "</table>\n",
              "</div>"
            ],
            "text/plain": [
              "    Def Out   HR  Non-HR Hit  ...    Walk     Error              Rate\n",
              "0   45803.0  0.0         0.0  ...  1898.0  0.160933    8,785 / 54,588\n",
              "1    3844.0  0.0         0.0  ...   193.0  1.000000     4,558 / 4,558\n",
              "2   19864.0  0.0         0.0  ...   790.0  1.000000   23,580 / 23,580\n",
              "3     846.0  0.0         0.0  ...    47.0  1.000000     1,040 / 1,040\n",
              "4   29884.0  0.0         0.0  ...  1261.0  0.767913   31,145 / 40,558\n",
              "5   13050.0  0.0         0.0  ...  3017.0  0.838542   15,669 / 18,686\n",
              "6  113291.0  0.0         0.0  ...  7206.0  0.592805  84,777 / 143,010\n",
              "\n",
              "[7 rows x 8 columns]"
            ]
          },
          "metadata": {
            "tags": []
          }
        },
        {
          "output_type": "stream",
          "text": [
            "\n",
            "Top-6 Hit Ratios: \n"
          ],
          "name": "stdout"
        },
        {
          "output_type": "display_data",
          "data": {
            "text/html": [
              "<div>\n",
              "<style scoped>\n",
              "    .dataframe tbody tr th:only-of-type {\n",
              "        vertical-align: middle;\n",
              "    }\n",
              "\n",
              "    .dataframe tbody tr th {\n",
              "        vertical-align: top;\n",
              "    }\n",
              "\n",
              "    .dataframe thead th {\n",
              "        text-align: right;\n",
              "    }\n",
              "</style>\n",
              "<table border=\"1\" class=\"dataframe\">\n",
              "  <thead>\n",
              "    <tr style=\"text-align: right;\">\n",
              "      <th></th>\n",
              "      <th>k</th>\n",
              "      <th>hit_ratio</th>\n",
              "    </tr>\n",
              "  </thead>\n",
              "  <tbody>\n",
              "    <tr>\n",
              "      <th>0</th>\n",
              "      <td>1</td>\n",
              "      <td>0.407195</td>\n",
              "    </tr>\n",
              "    <tr>\n",
              "      <th>1</th>\n",
              "      <td>2</td>\n",
              "      <td>0.678750</td>\n",
              "    </tr>\n",
              "    <tr>\n",
              "      <th>2</th>\n",
              "      <td>3</td>\n",
              "      <td>0.859206</td>\n",
              "    </tr>\n",
              "    <tr>\n",
              "      <th>3</th>\n",
              "      <td>4</td>\n",
              "      <td>0.960863</td>\n",
              "    </tr>\n",
              "    <tr>\n",
              "      <th>4</th>\n",
              "      <td>5</td>\n",
              "      <td>0.992749</td>\n",
              "    </tr>\n",
              "    <tr>\n",
              "      <th>5</th>\n",
              "      <td>6</td>\n",
              "      <td>1.000000</td>\n",
              "    </tr>\n",
              "  </tbody>\n",
              "</table>\n",
              "</div>"
            ],
            "text/plain": [
              "   k  hit_ratio\n",
              "0  1   0.407195\n",
              "1  2   0.678750\n",
              "2  3   0.859206\n",
              "3  4   0.960863\n",
              "4  5   0.992749\n",
              "5  6   1.000000"
            ]
          },
          "metadata": {
            "tags": []
          }
        },
        {
          "output_type": "stream",
          "text": [
            "\n"
          ],
          "name": "stdout"
        }
      ]
    },
    {
      "cell_type": "markdown",
      "metadata": {
        "id": "gwr-3k1JGCVI"
      },
      "source": [
        "Performance for each fold and a verbose summary of other metrics"
      ]
    },
    {
      "cell_type": "code",
      "metadata": {
        "colab": {
          "base_uri": "https://localhost:8080/",
          "height": 1000
        },
        "id": "qUZrqNM3FvJo",
        "outputId": "ba6200a6-4c99-460c-a967-cd2e7718785d"
      },
      "source": [
        "model.feature_frequencies"
      ],
      "execution_count": null,
      "outputs": [
        {
          "output_type": "stream",
          "text": [
            "Model Details\n",
            "=============\n",
            "H2ORandomForestEstimator :  Distributed Random Forest\n",
            "Model Key:  DRF_model_python_1619944967047_1\n",
            "\n",
            "\n",
            "Model Summary: \n"
          ],
          "name": "stdout"
        },
        {
          "output_type": "display_data",
          "data": {
            "text/html": [
              "<div>\n",
              "<style scoped>\n",
              "    .dataframe tbody tr th:only-of-type {\n",
              "        vertical-align: middle;\n",
              "    }\n",
              "\n",
              "    .dataframe tbody tr th {\n",
              "        vertical-align: top;\n",
              "    }\n",
              "\n",
              "    .dataframe thead th {\n",
              "        text-align: right;\n",
              "    }\n",
              "</style>\n",
              "<table border=\"1\" class=\"dataframe\">\n",
              "  <thead>\n",
              "    <tr style=\"text-align: right;\">\n",
              "      <th></th>\n",
              "      <th></th>\n",
              "      <th>number_of_trees</th>\n",
              "      <th>number_of_internal_trees</th>\n",
              "      <th>model_size_in_bytes</th>\n",
              "      <th>min_depth</th>\n",
              "      <th>max_depth</th>\n",
              "      <th>mean_depth</th>\n",
              "      <th>min_leaves</th>\n",
              "      <th>max_leaves</th>\n",
              "      <th>mean_leaves</th>\n",
              "    </tr>\n",
              "  </thead>\n",
              "  <tbody>\n",
              "    <tr>\n",
              "      <th>0</th>\n",
              "      <td></td>\n",
              "      <td>50.0</td>\n",
              "      <td>300.0</td>\n",
              "      <td>135092.0</td>\n",
              "      <td>5.0</td>\n",
              "      <td>5.0</td>\n",
              "      <td>5.0</td>\n",
              "      <td>20.0</td>\n",
              "      <td>32.0</td>\n",
              "      <td>31.163334</td>\n",
              "    </tr>\n",
              "  </tbody>\n",
              "</table>\n",
              "</div>"
            ],
            "text/plain": [
              "     number_of_trees  ...  max_leaves  mean_leaves\n",
              "0               50.0  ...        32.0    31.163334\n",
              "\n",
              "[1 rows x 10 columns]"
            ]
          },
          "metadata": {
            "tags": []
          }
        },
        {
          "output_type": "stream",
          "text": [
            "\n",
            "\n",
            "ModelMetricsMultinomial: drf\n",
            "** Reported on train data. **\n",
            "\n",
            "MSE: 0.524773527673836\n",
            "RMSE: 0.7244125396994698\n",
            "LogLoss: 1.3947110793864854\n",
            "Mean Per-Class Error: 0.7950591036828754\n",
            "AUC: NaN\n",
            "AUCPR: NaN\n",
            "Multinomial auc values: Table is not computed because it is disabled (model parameter 'auc_type' is set to AUTO or NONE) or due to domain size (maximum is 50 domains).\n",
            "Multinomial auc_pr values: Table is not computed because it is disabled (model parameter 'auc_type' is set to AUTO or NONE) or due to domain size (maximum is 50 domains).\n",
            "\n",
            "Confusion Matrix: Row labels: Actual class; Column labels: Predicted class\n"
          ],
          "name": "stdout"
        },
        {
          "output_type": "display_data",
          "data": {
            "text/html": [
              "<div>\n",
              "<style scoped>\n",
              "    .dataframe tbody tr th:only-of-type {\n",
              "        vertical-align: middle;\n",
              "    }\n",
              "\n",
              "    .dataframe tbody tr th {\n",
              "        vertical-align: top;\n",
              "    }\n",
              "\n",
              "    .dataframe thead th {\n",
              "        text-align: right;\n",
              "    }\n",
              "</style>\n",
              "<table border=\"1\" class=\"dataframe\">\n",
              "  <thead>\n",
              "    <tr style=\"text-align: right;\">\n",
              "      <th></th>\n",
              "      <th>Def Out</th>\n",
              "      <th>HR</th>\n",
              "      <th>Non-HR Hit</th>\n",
              "      <th>Other</th>\n",
              "      <th>Strikeout</th>\n",
              "      <th>Walk</th>\n",
              "      <th>Error</th>\n",
              "      <th>Rate</th>\n",
              "    </tr>\n",
              "  </thead>\n",
              "  <tbody>\n",
              "    <tr>\n",
              "      <th>0</th>\n",
              "      <td>181947.0</td>\n",
              "      <td>0.0</td>\n",
              "      <td>0.0</td>\n",
              "      <td>0.0</td>\n",
              "      <td>27960.0</td>\n",
              "      <td>7415.0</td>\n",
              "      <td>0.162777</td>\n",
              "      <td>35,375 / 217,322</td>\n",
              "    </tr>\n",
              "    <tr>\n",
              "      <th>1</th>\n",
              "      <td>14897.0</td>\n",
              "      <td>5.0</td>\n",
              "      <td>0.0</td>\n",
              "      <td>0.0</td>\n",
              "      <td>2213.0</td>\n",
              "      <td>772.0</td>\n",
              "      <td>0.999720</td>\n",
              "      <td>17,882 / 17,887</td>\n",
              "    </tr>\n",
              "    <tr>\n",
              "      <th>2</th>\n",
              "      <td>79738.0</td>\n",
              "      <td>0.0</td>\n",
              "      <td>0.0</td>\n",
              "      <td>0.0</td>\n",
              "      <td>12040.0</td>\n",
              "      <td>3160.0</td>\n",
              "      <td>1.000000</td>\n",
              "      <td>94,938 / 94,938</td>\n",
              "    </tr>\n",
              "    <tr>\n",
              "      <th>3</th>\n",
              "      <td>3478.0</td>\n",
              "      <td>0.0</td>\n",
              "      <td>0.0</td>\n",
              "      <td>0.0</td>\n",
              "      <td>537.0</td>\n",
              "      <td>132.0</td>\n",
              "      <td>1.000000</td>\n",
              "      <td>4,147 / 4,147</td>\n",
              "    </tr>\n",
              "    <tr>\n",
              "      <th>4</th>\n",
              "      <td>120318.0</td>\n",
              "      <td>0.0</td>\n",
              "      <td>0.0</td>\n",
              "      <td>0.0</td>\n",
              "      <td>38752.0</td>\n",
              "      <td>5079.0</td>\n",
              "      <td>0.763922</td>\n",
              "      <td>125,397 / 164,149</td>\n",
              "    </tr>\n",
              "    <tr>\n",
              "      <th>5</th>\n",
              "      <td>52423.0</td>\n",
              "      <td>0.0</td>\n",
              "      <td>0.0</td>\n",
              "      <td>0.0</td>\n",
              "      <td>10289.0</td>\n",
              "      <td>11597.0</td>\n",
              "      <td>0.843935</td>\n",
              "      <td>62,712 / 74,309</td>\n",
              "    </tr>\n",
              "    <tr>\n",
              "      <th>6</th>\n",
              "      <td>452801.0</td>\n",
              "      <td>5.0</td>\n",
              "      <td>0.0</td>\n",
              "      <td>0.0</td>\n",
              "      <td>91791.0</td>\n",
              "      <td>28155.0</td>\n",
              "      <td>0.594413</td>\n",
              "      <td>340,451 / 572,752</td>\n",
              "    </tr>\n",
              "  </tbody>\n",
              "</table>\n",
              "</div>"
            ],
            "text/plain": [
              "    Def Out   HR  Non-HR Hit  ...     Walk     Error               Rate\n",
              "0  181947.0  0.0         0.0  ...   7415.0  0.162777   35,375 / 217,322\n",
              "1   14897.0  5.0         0.0  ...    772.0  0.999720    17,882 / 17,887\n",
              "2   79738.0  0.0         0.0  ...   3160.0  1.000000    94,938 / 94,938\n",
              "3    3478.0  0.0         0.0  ...    132.0  1.000000      4,147 / 4,147\n",
              "4  120318.0  0.0         0.0  ...   5079.0  0.763922  125,397 / 164,149\n",
              "5   52423.0  0.0         0.0  ...  11597.0  0.843935    62,712 / 74,309\n",
              "6  452801.0  5.0         0.0  ...  28155.0  0.594413  340,451 / 572,752\n",
              "\n",
              "[7 rows x 8 columns]"
            ]
          },
          "metadata": {
            "tags": []
          }
        },
        {
          "output_type": "stream",
          "text": [
            "\n",
            "Top-6 Hit Ratios: \n"
          ],
          "name": "stdout"
        },
        {
          "output_type": "display_data",
          "data": {
            "text/html": [
              "<div>\n",
              "<style scoped>\n",
              "    .dataframe tbody tr th:only-of-type {\n",
              "        vertical-align: middle;\n",
              "    }\n",
              "\n",
              "    .dataframe tbody tr th {\n",
              "        vertical-align: top;\n",
              "    }\n",
              "\n",
              "    .dataframe thead th {\n",
              "        text-align: right;\n",
              "    }\n",
              "</style>\n",
              "<table border=\"1\" class=\"dataframe\">\n",
              "  <thead>\n",
              "    <tr style=\"text-align: right;\">\n",
              "      <th></th>\n",
              "      <th>k</th>\n",
              "      <th>hit_ratio</th>\n",
              "    </tr>\n",
              "  </thead>\n",
              "  <tbody>\n",
              "    <tr>\n",
              "      <th>0</th>\n",
              "      <td>1</td>\n",
              "      <td>0.405587</td>\n",
              "    </tr>\n",
              "    <tr>\n",
              "      <th>1</th>\n",
              "      <td>2</td>\n",
              "      <td>0.679273</td>\n",
              "    </tr>\n",
              "    <tr>\n",
              "      <th>2</th>\n",
              "      <td>3</td>\n",
              "      <td>0.858061</td>\n",
              "    </tr>\n",
              "    <tr>\n",
              "      <th>3</th>\n",
              "      <td>4</td>\n",
              "      <td>0.961556</td>\n",
              "    </tr>\n",
              "    <tr>\n",
              "      <th>4</th>\n",
              "      <td>5</td>\n",
              "      <td>0.992765</td>\n",
              "    </tr>\n",
              "    <tr>\n",
              "      <th>5</th>\n",
              "      <td>6</td>\n",
              "      <td>1.000000</td>\n",
              "    </tr>\n",
              "  </tbody>\n",
              "</table>\n",
              "</div>"
            ],
            "text/plain": [
              "   k  hit_ratio\n",
              "0  1   0.405587\n",
              "1  2   0.679273\n",
              "2  3   0.858061\n",
              "3  4   0.961556\n",
              "4  5   0.992765\n",
              "5  6   1.000000"
            ]
          },
          "metadata": {
            "tags": []
          }
        },
        {
          "output_type": "stream",
          "text": [
            "\n",
            "ModelMetricsMultinomial: drf\n",
            "** Reported on cross-validation data. **\n",
            "\n",
            "MSE: 0.524803709005949\n",
            "RMSE: 0.72443337099139\n",
            "LogLoss: 1.3945807271641213\n",
            "Mean Per-Class Error: 0.7950512795795007\n",
            "AUC: NaN\n",
            "AUCPR: NaN\n",
            "Multinomial auc values: Table is not computed because it is disabled (model parameter 'auc_type' is set to AUTO or NONE) or due to domain size (maximum is 50 domains).\n",
            "Multinomial auc_pr values: Table is not computed because it is disabled (model parameter 'auc_type' is set to AUTO or NONE) or due to domain size (maximum is 50 domains).\n",
            "\n",
            "Confusion Matrix: Row labels: Actual class; Column labels: Predicted class\n"
          ],
          "name": "stdout"
        },
        {
          "output_type": "display_data",
          "data": {
            "text/html": [
              "<div>\n",
              "<style scoped>\n",
              "    .dataframe tbody tr th:only-of-type {\n",
              "        vertical-align: middle;\n",
              "    }\n",
              "\n",
              "    .dataframe tbody tr th {\n",
              "        vertical-align: top;\n",
              "    }\n",
              "\n",
              "    .dataframe thead th {\n",
              "        text-align: right;\n",
              "    }\n",
              "</style>\n",
              "<table border=\"1\" class=\"dataframe\">\n",
              "  <thead>\n",
              "    <tr style=\"text-align: right;\">\n",
              "      <th></th>\n",
              "      <th>Def Out</th>\n",
              "      <th>HR</th>\n",
              "      <th>Non-HR Hit</th>\n",
              "      <th>Other</th>\n",
              "      <th>Strikeout</th>\n",
              "      <th>Walk</th>\n",
              "      <th>Error</th>\n",
              "      <th>Rate</th>\n",
              "    </tr>\n",
              "  </thead>\n",
              "  <tbody>\n",
              "    <tr>\n",
              "      <th>0</th>\n",
              "      <td>182700.0</td>\n",
              "      <td>1.0</td>\n",
              "      <td>1.0</td>\n",
              "      <td>0.0</td>\n",
              "      <td>27083.0</td>\n",
              "      <td>7537.0</td>\n",
              "      <td>0.159312</td>\n",
              "      <td>34,622 / 217,322</td>\n",
              "    </tr>\n",
              "    <tr>\n",
              "      <th>1</th>\n",
              "      <td>14940.0</td>\n",
              "      <td>1.0</td>\n",
              "      <td>0.0</td>\n",
              "      <td>0.0</td>\n",
              "      <td>2139.0</td>\n",
              "      <td>807.0</td>\n",
              "      <td>0.999944</td>\n",
              "      <td>17,886 / 17,887</td>\n",
              "    </tr>\n",
              "    <tr>\n",
              "      <th>2</th>\n",
              "      <td>80108.0</td>\n",
              "      <td>0.0</td>\n",
              "      <td>0.0</td>\n",
              "      <td>0.0</td>\n",
              "      <td>11614.0</td>\n",
              "      <td>3216.0</td>\n",
              "      <td>1.000000</td>\n",
              "      <td>94,938 / 94,938</td>\n",
              "    </tr>\n",
              "    <tr>\n",
              "      <th>3</th>\n",
              "      <td>3513.0</td>\n",
              "      <td>0.0</td>\n",
              "      <td>0.0</td>\n",
              "      <td>0.0</td>\n",
              "      <td>507.0</td>\n",
              "      <td>127.0</td>\n",
              "      <td>1.000000</td>\n",
              "      <td>4,147 / 4,147</td>\n",
              "    </tr>\n",
              "    <tr>\n",
              "      <th>4</th>\n",
              "      <td>121320.0</td>\n",
              "      <td>0.0</td>\n",
              "      <td>0.0</td>\n",
              "      <td>0.0</td>\n",
              "      <td>37724.0</td>\n",
              "      <td>5105.0</td>\n",
              "      <td>0.770184</td>\n",
              "      <td>126,425 / 164,149</td>\n",
              "    </tr>\n",
              "    <tr>\n",
              "      <th>5</th>\n",
              "      <td>52271.0</td>\n",
              "      <td>0.0</td>\n",
              "      <td>0.0</td>\n",
              "      <td>0.0</td>\n",
              "      <td>10213.0</td>\n",
              "      <td>11825.0</td>\n",
              "      <td>0.840867</td>\n",
              "      <td>62,484 / 74,309</td>\n",
              "    </tr>\n",
              "    <tr>\n",
              "      <th>6</th>\n",
              "      <td>454852.0</td>\n",
              "      <td>2.0</td>\n",
              "      <td>1.0</td>\n",
              "      <td>0.0</td>\n",
              "      <td>89280.0</td>\n",
              "      <td>28617.0</td>\n",
              "      <td>0.594502</td>\n",
              "      <td>340,502 / 572,752</td>\n",
              "    </tr>\n",
              "  </tbody>\n",
              "</table>\n",
              "</div>"
            ],
            "text/plain": [
              "    Def Out   HR  Non-HR Hit  ...     Walk     Error               Rate\n",
              "0  182700.0  1.0         1.0  ...   7537.0  0.159312   34,622 / 217,322\n",
              "1   14940.0  1.0         0.0  ...    807.0  0.999944    17,886 / 17,887\n",
              "2   80108.0  0.0         0.0  ...   3216.0  1.000000    94,938 / 94,938\n",
              "3    3513.0  0.0         0.0  ...    127.0  1.000000      4,147 / 4,147\n",
              "4  121320.0  0.0         0.0  ...   5105.0  0.770184  126,425 / 164,149\n",
              "5   52271.0  0.0         0.0  ...  11825.0  0.840867    62,484 / 74,309\n",
              "6  454852.0  2.0         1.0  ...  28617.0  0.594502  340,502 / 572,752\n",
              "\n",
              "[7 rows x 8 columns]"
            ]
          },
          "metadata": {
            "tags": []
          }
        },
        {
          "output_type": "stream",
          "text": [
            "\n",
            "Top-6 Hit Ratios: \n"
          ],
          "name": "stdout"
        },
        {
          "output_type": "display_data",
          "data": {
            "text/html": [
              "<div>\n",
              "<style scoped>\n",
              "    .dataframe tbody tr th:only-of-type {\n",
              "        vertical-align: middle;\n",
              "    }\n",
              "\n",
              "    .dataframe tbody tr th {\n",
              "        vertical-align: top;\n",
              "    }\n",
              "\n",
              "    .dataframe thead th {\n",
              "        text-align: right;\n",
              "    }\n",
              "</style>\n",
              "<table border=\"1\" class=\"dataframe\">\n",
              "  <thead>\n",
              "    <tr style=\"text-align: right;\">\n",
              "      <th></th>\n",
              "      <th>k</th>\n",
              "      <th>hit_ratio</th>\n",
              "    </tr>\n",
              "  </thead>\n",
              "  <tbody>\n",
              "    <tr>\n",
              "      <th>0</th>\n",
              "      <td>1</td>\n",
              "      <td>0.405498</td>\n",
              "    </tr>\n",
              "    <tr>\n",
              "      <th>1</th>\n",
              "      <td>2</td>\n",
              "      <td>0.678987</td>\n",
              "    </tr>\n",
              "    <tr>\n",
              "      <th>2</th>\n",
              "      <td>3</td>\n",
              "      <td>0.858344</td>\n",
              "    </tr>\n",
              "    <tr>\n",
              "      <th>3</th>\n",
              "      <td>4</td>\n",
              "      <td>0.961551</td>\n",
              "    </tr>\n",
              "    <tr>\n",
              "      <th>4</th>\n",
              "      <td>5</td>\n",
              "      <td>0.992760</td>\n",
              "    </tr>\n",
              "    <tr>\n",
              "      <th>5</th>\n",
              "      <td>6</td>\n",
              "      <td>1.000000</td>\n",
              "    </tr>\n",
              "  </tbody>\n",
              "</table>\n",
              "</div>"
            ],
            "text/plain": [
              "   k  hit_ratio\n",
              "0  1   0.405498\n",
              "1  2   0.678987\n",
              "2  3   0.858344\n",
              "3  4   0.961551\n",
              "4  5   0.992760\n",
              "5  6   1.000000"
            ]
          },
          "metadata": {
            "tags": []
          }
        },
        {
          "output_type": "stream",
          "text": [
            "\n",
            "Cross-Validation Metrics Summary: \n"
          ],
          "name": "stdout"
        },
        {
          "output_type": "display_data",
          "data": {
            "text/html": [
              "<div>\n",
              "<style scoped>\n",
              "    .dataframe tbody tr th:only-of-type {\n",
              "        vertical-align: middle;\n",
              "    }\n",
              "\n",
              "    .dataframe tbody tr th {\n",
              "        vertical-align: top;\n",
              "    }\n",
              "\n",
              "    .dataframe thead th {\n",
              "        text-align: right;\n",
              "    }\n",
              "</style>\n",
              "<table border=\"1\" class=\"dataframe\">\n",
              "  <thead>\n",
              "    <tr style=\"text-align: right;\">\n",
              "      <th></th>\n",
              "      <th></th>\n",
              "      <th>mean</th>\n",
              "      <th>sd</th>\n",
              "      <th>cv_1_valid</th>\n",
              "      <th>cv_2_valid</th>\n",
              "      <th>cv_3_valid</th>\n",
              "      <th>cv_4_valid</th>\n",
              "      <th>cv_5_valid</th>\n",
              "      <th>cv_6_valid</th>\n",
              "      <th>cv_7_valid</th>\n",
              "      <th>cv_8_valid</th>\n",
              "      <th>cv_9_valid</th>\n",
              "      <th>cv_10_valid</th>\n",
              "    </tr>\n",
              "  </thead>\n",
              "  <tbody>\n",
              "    <tr>\n",
              "      <th>0</th>\n",
              "      <td>accuracy</td>\n",
              "      <td>0.40549937</td>\n",
              "      <td>0.0021332395</td>\n",
              "      <td>0.40444803</td>\n",
              "      <td>0.40695015</td>\n",
              "      <td>0.4062817</td>\n",
              "      <td>0.40654254</td>\n",
              "      <td>0.40776378</td>\n",
              "      <td>0.40444994</td>\n",
              "      <td>0.40661338</td>\n",
              "      <td>0.40683225</td>\n",
              "      <td>0.40473238</td>\n",
              "      <td>0.40037966</td>\n",
              "    </tr>\n",
              "    <tr>\n",
              "      <th>1</th>\n",
              "      <td>auc</td>\n",
              "      <td>NaN</td>\n",
              "      <td>0.0</td>\n",
              "      <td>NaN</td>\n",
              "      <td>NaN</td>\n",
              "      <td>NaN</td>\n",
              "      <td>NaN</td>\n",
              "      <td>NaN</td>\n",
              "      <td>NaN</td>\n",
              "      <td>NaN</td>\n",
              "      <td>NaN</td>\n",
              "      <td>NaN</td>\n",
              "      <td>NaN</td>\n",
              "    </tr>\n",
              "    <tr>\n",
              "      <th>2</th>\n",
              "      <td>aucpr</td>\n",
              "      <td>NaN</td>\n",
              "      <td>0.0</td>\n",
              "      <td>NaN</td>\n",
              "      <td>NaN</td>\n",
              "      <td>NaN</td>\n",
              "      <td>NaN</td>\n",
              "      <td>NaN</td>\n",
              "      <td>NaN</td>\n",
              "      <td>NaN</td>\n",
              "      <td>NaN</td>\n",
              "      <td>NaN</td>\n",
              "      <td>NaN</td>\n",
              "    </tr>\n",
              "    <tr>\n",
              "      <th>3</th>\n",
              "      <td>err</td>\n",
              "      <td>0.5945006</td>\n",
              "      <td>0.0021332395</td>\n",
              "      <td>0.59555197</td>\n",
              "      <td>0.5930499</td>\n",
              "      <td>0.5937183</td>\n",
              "      <td>0.59345746</td>\n",
              "      <td>0.5922362</td>\n",
              "      <td>0.59555006</td>\n",
              "      <td>0.5933866</td>\n",
              "      <td>0.5931678</td>\n",
              "      <td>0.59526765</td>\n",
              "      <td>0.59962034</td>\n",
              "    </tr>\n",
              "    <tr>\n",
              "      <th>4</th>\n",
              "      <td>err_count</td>\n",
              "      <td>34050.2</td>\n",
              "      <td>160.60774</td>\n",
              "      <td>34062.0</td>\n",
              "      <td>33961.0</td>\n",
              "      <td>33950.0</td>\n",
              "      <td>33852.0</td>\n",
              "      <td>34037.0</td>\n",
              "      <td>34181.0</td>\n",
              "      <td>33934.0</td>\n",
              "      <td>34033.0</td>\n",
              "      <td>34063.0</td>\n",
              "      <td>34429.0</td>\n",
              "    </tr>\n",
              "    <tr>\n",
              "      <th>5</th>\n",
              "      <td>logloss</td>\n",
              "      <td>1.3945813</td>\n",
              "      <td>0.0028661175</td>\n",
              "      <td>1.3929193</td>\n",
              "      <td>1.3880005</td>\n",
              "      <td>1.3961605</td>\n",
              "      <td>1.394834</td>\n",
              "      <td>1.3940411</td>\n",
              "      <td>1.3940126</td>\n",
              "      <td>1.3974584</td>\n",
              "      <td>1.3936613</td>\n",
              "      <td>1.3975782</td>\n",
              "      <td>1.3971469</td>\n",
              "    </tr>\n",
              "    <tr>\n",
              "      <th>6</th>\n",
              "      <td>max_per_class_error</td>\n",
              "      <td>1.0</td>\n",
              "      <td>0.0</td>\n",
              "      <td>1.0</td>\n",
              "      <td>1.0</td>\n",
              "      <td>1.0</td>\n",
              "      <td>1.0</td>\n",
              "      <td>1.0</td>\n",
              "      <td>1.0</td>\n",
              "      <td>1.0</td>\n",
              "      <td>1.0</td>\n",
              "      <td>1.0</td>\n",
              "      <td>1.0</td>\n",
              "    </tr>\n",
              "    <tr>\n",
              "      <th>7</th>\n",
              "      <td>mean_per_class_accuracy</td>\n",
              "      <td>0.20494916</td>\n",
              "      <td>5.5803626E-4</td>\n",
              "      <td>0.20446391</td>\n",
              "      <td>0.20446157</td>\n",
              "      <td>0.20448679</td>\n",
              "      <td>0.20578167</td>\n",
              "      <td>0.20554262</td>\n",
              "      <td>0.2045857</td>\n",
              "      <td>0.20538</td>\n",
              "      <td>0.20563065</td>\n",
              "      <td>0.20466521</td>\n",
              "      <td>0.20449351</td>\n",
              "    </tr>\n",
              "    <tr>\n",
              "      <th>8</th>\n",
              "      <td>mean_per_class_error</td>\n",
              "      <td>0.79505086</td>\n",
              "      <td>5.5803626E-4</td>\n",
              "      <td>0.7955361</td>\n",
              "      <td>0.7955384</td>\n",
              "      <td>0.7955132</td>\n",
              "      <td>0.79421836</td>\n",
              "      <td>0.7944574</td>\n",
              "      <td>0.79541427</td>\n",
              "      <td>0.79462004</td>\n",
              "      <td>0.79436934</td>\n",
              "      <td>0.79533476</td>\n",
              "      <td>0.7955065</td>\n",
              "    </tr>\n",
              "    <tr>\n",
              "      <th>9</th>\n",
              "      <td>mse</td>\n",
              "      <td>0.5248036</td>\n",
              "      <td>7.174183E-4</td>\n",
              "      <td>0.52465063</td>\n",
              "      <td>0.5232856</td>\n",
              "      <td>0.5249154</td>\n",
              "      <td>0.5244956</td>\n",
              "      <td>0.5244129</td>\n",
              "      <td>0.5249602</td>\n",
              "      <td>0.5253434</td>\n",
              "      <td>0.52456164</td>\n",
              "      <td>0.5255566</td>\n",
              "      <td>0.5258538</td>\n",
              "    </tr>\n",
              "    <tr>\n",
              "      <th>10</th>\n",
              "      <td>pr_auc</td>\n",
              "      <td>NaN</td>\n",
              "      <td>0.0</td>\n",
              "      <td>NaN</td>\n",
              "      <td>NaN</td>\n",
              "      <td>NaN</td>\n",
              "      <td>NaN</td>\n",
              "      <td>NaN</td>\n",
              "      <td>NaN</td>\n",
              "      <td>NaN</td>\n",
              "      <td>NaN</td>\n",
              "      <td>NaN</td>\n",
              "      <td>NaN</td>\n",
              "    </tr>\n",
              "    <tr>\n",
              "      <th>11</th>\n",
              "      <td>r2</td>\n",
              "      <td>0.86325634</td>\n",
              "      <td>4.204016E-4</td>\n",
              "      <td>0.8630345</td>\n",
              "      <td>0.8638243</td>\n",
              "      <td>0.863362</td>\n",
              "      <td>0.8631955</td>\n",
              "      <td>0.86320513</td>\n",
              "      <td>0.8633511</td>\n",
              "      <td>0.8626991</td>\n",
              "      <td>0.8640211</td>\n",
              "      <td>0.8627222</td>\n",
              "      <td>0.86314857</td>\n",
              "    </tr>\n",
              "    <tr>\n",
              "      <th>12</th>\n",
              "      <td>rmse</td>\n",
              "      <td>0.7244331</td>\n",
              "      <td>4.9525325E-4</td>\n",
              "      <td>0.7243277</td>\n",
              "      <td>0.7233848</td>\n",
              "      <td>0.7245105</td>\n",
              "      <td>0.7242207</td>\n",
              "      <td>0.7241636</td>\n",
              "      <td>0.72454137</td>\n",
              "      <td>0.7248058</td>\n",
              "      <td>0.72426623</td>\n",
              "      <td>0.7249529</td>\n",
              "      <td>0.7251578</td>\n",
              "    </tr>\n",
              "  </tbody>\n",
              "</table>\n",
              "</div>"
            ],
            "text/plain": [
              "                                   mean  ...  cv_9_valid cv_10_valid\n",
              "0                  accuracy  0.40549937  ...  0.40473238  0.40037966\n",
              "1                       auc         NaN  ...         NaN         NaN\n",
              "2                     aucpr         NaN  ...         NaN         NaN\n",
              "3                       err   0.5945006  ...  0.59526765  0.59962034\n",
              "4                 err_count     34050.2  ...     34063.0     34429.0\n",
              "5                   logloss   1.3945813  ...   1.3975782   1.3971469\n",
              "6       max_per_class_error         1.0  ...         1.0         1.0\n",
              "7   mean_per_class_accuracy  0.20494916  ...  0.20466521  0.20449351\n",
              "8      mean_per_class_error  0.79505086  ...  0.79533476   0.7955065\n",
              "9                       mse   0.5248036  ...   0.5255566   0.5258538\n",
              "10                   pr_auc         NaN  ...         NaN         NaN\n",
              "11                       r2  0.86325634  ...   0.8627222  0.86314857\n",
              "12                     rmse   0.7244331  ...   0.7249529   0.7251578\n",
              "\n",
              "[13 rows x 13 columns]"
            ]
          },
          "metadata": {
            "tags": []
          }
        },
        {
          "output_type": "stream",
          "text": [
            "\n",
            "Scoring History: \n"
          ],
          "name": "stdout"
        },
        {
          "output_type": "display_data",
          "data": {
            "text/html": [
              "<div>\n",
              "<style scoped>\n",
              "    .dataframe tbody tr th:only-of-type {\n",
              "        vertical-align: middle;\n",
              "    }\n",
              "\n",
              "    .dataframe tbody tr th {\n",
              "        vertical-align: top;\n",
              "    }\n",
              "\n",
              "    .dataframe thead th {\n",
              "        text-align: right;\n",
              "    }\n",
              "</style>\n",
              "<table border=\"1\" class=\"dataframe\">\n",
              "  <thead>\n",
              "    <tr style=\"text-align: right;\">\n",
              "      <th></th>\n",
              "      <th></th>\n",
              "      <th>timestamp</th>\n",
              "      <th>duration</th>\n",
              "      <th>number_of_trees</th>\n",
              "      <th>training_rmse</th>\n",
              "      <th>training_logloss</th>\n",
              "      <th>training_classification_error</th>\n",
              "      <th>training_auc</th>\n",
              "      <th>training_pr_auc</th>\n",
              "    </tr>\n",
              "  </thead>\n",
              "  <tbody>\n",
              "    <tr>\n",
              "      <th>0</th>\n",
              "      <td></td>\n",
              "      <td>2021-05-02 09:08:51</td>\n",
              "      <td>21 min 28.058 sec</td>\n",
              "      <td>0.0</td>\n",
              "      <td>NaN</td>\n",
              "      <td>NaN</td>\n",
              "      <td>NaN</td>\n",
              "      <td>NaN</td>\n",
              "      <td>NaN</td>\n",
              "    </tr>\n",
              "    <tr>\n",
              "      <th>1</th>\n",
              "      <td></td>\n",
              "      <td>2021-05-02 09:08:53</td>\n",
              "      <td>21 min 29.802 sec</td>\n",
              "      <td>1.0</td>\n",
              "      <td>0.723530</td>\n",
              "      <td>1.397393</td>\n",
              "      <td>0.594036</td>\n",
              "      <td>NaN</td>\n",
              "      <td>NaN</td>\n",
              "    </tr>\n",
              "    <tr>\n",
              "      <th>2</th>\n",
              "      <td></td>\n",
              "      <td>2021-05-02 09:08:55</td>\n",
              "      <td>21 min 31.578 sec</td>\n",
              "      <td>2.0</td>\n",
              "      <td>0.723196</td>\n",
              "      <td>1.396826</td>\n",
              "      <td>0.594018</td>\n",
              "      <td>NaN</td>\n",
              "      <td>NaN</td>\n",
              "    </tr>\n",
              "    <tr>\n",
              "      <th>3</th>\n",
              "      <td></td>\n",
              "      <td>2021-05-02 09:09:00</td>\n",
              "      <td>21 min 37.531 sec</td>\n",
              "      <td>5.0</td>\n",
              "      <td>0.724132</td>\n",
              "      <td>1.397415</td>\n",
              "      <td>0.596225</td>\n",
              "      <td>NaN</td>\n",
              "      <td>NaN</td>\n",
              "    </tr>\n",
              "    <tr>\n",
              "      <th>4</th>\n",
              "      <td></td>\n",
              "      <td>2021-05-02 09:09:05</td>\n",
              "      <td>21 min 41.808 sec</td>\n",
              "      <td>7.0</td>\n",
              "      <td>0.724052</td>\n",
              "      <td>1.396430</td>\n",
              "      <td>0.595684</td>\n",
              "      <td>NaN</td>\n",
              "      <td>NaN</td>\n",
              "    </tr>\n",
              "    <tr>\n",
              "      <th>5</th>\n",
              "      <td></td>\n",
              "      <td>2021-05-02 09:09:09</td>\n",
              "      <td>21 min 46.124 sec</td>\n",
              "      <td>9.0</td>\n",
              "      <td>0.724083</td>\n",
              "      <td>1.395935</td>\n",
              "      <td>0.595656</td>\n",
              "      <td>NaN</td>\n",
              "      <td>NaN</td>\n",
              "    </tr>\n",
              "    <tr>\n",
              "      <th>6</th>\n",
              "      <td></td>\n",
              "      <td>2021-05-02 09:09:13</td>\n",
              "      <td>21 min 50.420 sec</td>\n",
              "      <td>11.0</td>\n",
              "      <td>0.723992</td>\n",
              "      <td>1.395337</td>\n",
              "      <td>0.595687</td>\n",
              "      <td>NaN</td>\n",
              "      <td>NaN</td>\n",
              "    </tr>\n",
              "    <tr>\n",
              "      <th>7</th>\n",
              "      <td></td>\n",
              "      <td>2021-05-02 09:09:17</td>\n",
              "      <td>21 min 54.538 sec</td>\n",
              "      <td>13.0</td>\n",
              "      <td>0.723730</td>\n",
              "      <td>1.394408</td>\n",
              "      <td>0.594813</td>\n",
              "      <td>NaN</td>\n",
              "      <td>NaN</td>\n",
              "    </tr>\n",
              "    <tr>\n",
              "      <th>8</th>\n",
              "      <td></td>\n",
              "      <td>2021-05-02 09:09:22</td>\n",
              "      <td>21 min 59.343 sec</td>\n",
              "      <td>16.0</td>\n",
              "      <td>0.724024</td>\n",
              "      <td>1.394787</td>\n",
              "      <td>0.595323</td>\n",
              "      <td>NaN</td>\n",
              "      <td>NaN</td>\n",
              "    </tr>\n",
              "    <tr>\n",
              "      <th>9</th>\n",
              "      <td></td>\n",
              "      <td>2021-05-02 09:09:26</td>\n",
              "      <td>22 min  3.468 sec</td>\n",
              "      <td>18.0</td>\n",
              "      <td>0.724119</td>\n",
              "      <td>1.394871</td>\n",
              "      <td>0.594985</td>\n",
              "      <td>NaN</td>\n",
              "      <td>NaN</td>\n",
              "    </tr>\n",
              "    <tr>\n",
              "      <th>10</th>\n",
              "      <td></td>\n",
              "      <td>2021-05-02 09:09:30</td>\n",
              "      <td>22 min  7.533 sec</td>\n",
              "      <td>20.0</td>\n",
              "      <td>0.724375</td>\n",
              "      <td>1.395268</td>\n",
              "      <td>0.595070</td>\n",
              "      <td>NaN</td>\n",
              "      <td>NaN</td>\n",
              "    </tr>\n",
              "    <tr>\n",
              "      <th>11</th>\n",
              "      <td></td>\n",
              "      <td>2021-05-02 09:09:35</td>\n",
              "      <td>22 min 11.930 sec</td>\n",
              "      <td>22.0</td>\n",
              "      <td>0.724369</td>\n",
              "      <td>1.395184</td>\n",
              "      <td>0.595296</td>\n",
              "      <td>NaN</td>\n",
              "      <td>NaN</td>\n",
              "    </tr>\n",
              "    <tr>\n",
              "      <th>12</th>\n",
              "      <td></td>\n",
              "      <td>2021-05-02 09:09:39</td>\n",
              "      <td>22 min 16.135 sec</td>\n",
              "      <td>24.0</td>\n",
              "      <td>0.724304</td>\n",
              "      <td>1.394952</td>\n",
              "      <td>0.594294</td>\n",
              "      <td>NaN</td>\n",
              "      <td>NaN</td>\n",
              "    </tr>\n",
              "    <tr>\n",
              "      <th>13</th>\n",
              "      <td></td>\n",
              "      <td>2021-05-02 09:09:43</td>\n",
              "      <td>22 min 20.389 sec</td>\n",
              "      <td>26.0</td>\n",
              "      <td>0.724218</td>\n",
              "      <td>1.394687</td>\n",
              "      <td>0.593802</td>\n",
              "      <td>NaN</td>\n",
              "      <td>NaN</td>\n",
              "    </tr>\n",
              "    <tr>\n",
              "      <th>14</th>\n",
              "      <td></td>\n",
              "      <td>2021-05-02 09:09:47</td>\n",
              "      <td>22 min 24.487 sec</td>\n",
              "      <td>28.0</td>\n",
              "      <td>0.724356</td>\n",
              "      <td>1.394937</td>\n",
              "      <td>0.594101</td>\n",
              "      <td>NaN</td>\n",
              "      <td>NaN</td>\n",
              "    </tr>\n",
              "    <tr>\n",
              "      <th>15</th>\n",
              "      <td></td>\n",
              "      <td>2021-05-02 09:09:52</td>\n",
              "      <td>22 min 28.769 sec</td>\n",
              "      <td>30.0</td>\n",
              "      <td>0.724267</td>\n",
              "      <td>1.394715</td>\n",
              "      <td>0.593696</td>\n",
              "      <td>NaN</td>\n",
              "      <td>NaN</td>\n",
              "    </tr>\n",
              "    <tr>\n",
              "      <th>16</th>\n",
              "      <td></td>\n",
              "      <td>2021-05-02 09:09:56</td>\n",
              "      <td>22 min 32.855 sec</td>\n",
              "      <td>32.0</td>\n",
              "      <td>0.724262</td>\n",
              "      <td>1.394659</td>\n",
              "      <td>0.594081</td>\n",
              "      <td>NaN</td>\n",
              "      <td>NaN</td>\n",
              "    </tr>\n",
              "    <tr>\n",
              "      <th>17</th>\n",
              "      <td></td>\n",
              "      <td>2021-05-02 09:10:00</td>\n",
              "      <td>22 min 37.059 sec</td>\n",
              "      <td>34.0</td>\n",
              "      <td>0.724261</td>\n",
              "      <td>1.394686</td>\n",
              "      <td>0.594248</td>\n",
              "      <td>NaN</td>\n",
              "      <td>NaN</td>\n",
              "    </tr>\n",
              "    <tr>\n",
              "      <th>18</th>\n",
              "      <td></td>\n",
              "      <td>2021-05-02 09:10:04</td>\n",
              "      <td>22 min 41.355 sec</td>\n",
              "      <td>36.0</td>\n",
              "      <td>0.724306</td>\n",
              "      <td>1.394821</td>\n",
              "      <td>0.594344</td>\n",
              "      <td>NaN</td>\n",
              "      <td>NaN</td>\n",
              "    </tr>\n",
              "    <tr>\n",
              "      <th>19</th>\n",
              "      <td></td>\n",
              "      <td>2021-05-02 09:10:09</td>\n",
              "      <td>22 min 45.789 sec</td>\n",
              "      <td>38.0</td>\n",
              "      <td>0.724384</td>\n",
              "      <td>1.394913</td>\n",
              "      <td>0.594549</td>\n",
              "      <td>NaN</td>\n",
              "      <td>NaN</td>\n",
              "    </tr>\n",
              "  </tbody>\n",
              "</table>\n",
              "</div>"
            ],
            "text/plain": [
              "                timestamp  ... training_auc  training_pr_auc\n",
              "0     2021-05-02 09:08:51  ...          NaN              NaN\n",
              "1     2021-05-02 09:08:53  ...          NaN              NaN\n",
              "2     2021-05-02 09:08:55  ...          NaN              NaN\n",
              "3     2021-05-02 09:09:00  ...          NaN              NaN\n",
              "4     2021-05-02 09:09:05  ...          NaN              NaN\n",
              "5     2021-05-02 09:09:09  ...          NaN              NaN\n",
              "6     2021-05-02 09:09:13  ...          NaN              NaN\n",
              "7     2021-05-02 09:09:17  ...          NaN              NaN\n",
              "8     2021-05-02 09:09:22  ...          NaN              NaN\n",
              "9     2021-05-02 09:09:26  ...          NaN              NaN\n",
              "10    2021-05-02 09:09:30  ...          NaN              NaN\n",
              "11    2021-05-02 09:09:35  ...          NaN              NaN\n",
              "12    2021-05-02 09:09:39  ...          NaN              NaN\n",
              "13    2021-05-02 09:09:43  ...          NaN              NaN\n",
              "14    2021-05-02 09:09:47  ...          NaN              NaN\n",
              "15    2021-05-02 09:09:52  ...          NaN              NaN\n",
              "16    2021-05-02 09:09:56  ...          NaN              NaN\n",
              "17    2021-05-02 09:10:00  ...          NaN              NaN\n",
              "18    2021-05-02 09:10:04  ...          NaN              NaN\n",
              "19    2021-05-02 09:10:09  ...          NaN              NaN\n",
              "\n",
              "[20 rows x 9 columns]"
            ]
          },
          "metadata": {
            "tags": []
          }
        },
        {
          "output_type": "stream",
          "text": [
            "\n",
            "See the whole table with table.as_data_frame()\n",
            "\n",
            "Variable Importances: \n"
          ],
          "name": "stdout"
        },
        {
          "output_type": "display_data",
          "data": {
            "text/html": [
              "<div>\n",
              "<style scoped>\n",
              "    .dataframe tbody tr th:only-of-type {\n",
              "        vertical-align: middle;\n",
              "    }\n",
              "\n",
              "    .dataframe tbody tr th {\n",
              "        vertical-align: top;\n",
              "    }\n",
              "\n",
              "    .dataframe thead th {\n",
              "        text-align: right;\n",
              "    }\n",
              "</style>\n",
              "<table border=\"1\" class=\"dataframe\">\n",
              "  <thead>\n",
              "    <tr style=\"text-align: right;\">\n",
              "      <th></th>\n",
              "      <th>variable</th>\n",
              "      <th>relative_importance</th>\n",
              "      <th>scaled_importance</th>\n",
              "      <th>percentage</th>\n",
              "    </tr>\n",
              "  </thead>\n",
              "  <tbody>\n",
              "    <tr>\n",
              "      <th>0</th>\n",
              "      <td>b_count</td>\n",
              "      <td>128168.164062</td>\n",
              "      <td>1.000000</td>\n",
              "      <td>0.441139</td>\n",
              "    </tr>\n",
              "    <tr>\n",
              "      <th>1</th>\n",
              "      <td>pitch_num</td>\n",
              "      <td>87504.492188</td>\n",
              "      <td>0.682732</td>\n",
              "      <td>0.301180</td>\n",
              "    </tr>\n",
              "    <tr>\n",
              "      <th>2</th>\n",
              "      <td>s_count</td>\n",
              "      <td>41869.820312</td>\n",
              "      <td>0.326679</td>\n",
              "      <td>0.144111</td>\n",
              "    </tr>\n",
              "    <tr>\n",
              "      <th>3</th>\n",
              "      <td>pitch_type</td>\n",
              "      <td>15648.855469</td>\n",
              "      <td>0.122096</td>\n",
              "      <td>0.053861</td>\n",
              "    </tr>\n",
              "    <tr>\n",
              "      <th>4</th>\n",
              "      <td>start_speed</td>\n",
              "      <td>6553.925781</td>\n",
              "      <td>0.051135</td>\n",
              "      <td>0.022558</td>\n",
              "    </tr>\n",
              "    <tr>\n",
              "      <th>5</th>\n",
              "      <td>end_speed</td>\n",
              "      <td>3747.200928</td>\n",
              "      <td>0.029237</td>\n",
              "      <td>0.012897</td>\n",
              "    </tr>\n",
              "    <tr>\n",
              "      <th>6</th>\n",
              "      <td>inning</td>\n",
              "      <td>2438.934326</td>\n",
              "      <td>0.019029</td>\n",
              "      <td>0.008395</td>\n",
              "    </tr>\n",
              "    <tr>\n",
              "      <th>7</th>\n",
              "      <td>score_delta</td>\n",
              "      <td>1566.135498</td>\n",
              "      <td>0.012219</td>\n",
              "      <td>0.005390</td>\n",
              "    </tr>\n",
              "    <tr>\n",
              "      <th>8</th>\n",
              "      <td>b_score</td>\n",
              "      <td>1352.155518</td>\n",
              "      <td>0.010550</td>\n",
              "      <td>0.004654</td>\n",
              "    </tr>\n",
              "    <tr>\n",
              "      <th>9</th>\n",
              "      <td>outs</td>\n",
              "      <td>997.066772</td>\n",
              "      <td>0.007779</td>\n",
              "      <td>0.003432</td>\n",
              "    </tr>\n",
              "    <tr>\n",
              "      <th>10</th>\n",
              "      <td>p_score</td>\n",
              "      <td>581.235840</td>\n",
              "      <td>0.004535</td>\n",
              "      <td>0.002001</td>\n",
              "    </tr>\n",
              "    <tr>\n",
              "      <th>11</th>\n",
              "      <td>p_throws</td>\n",
              "      <td>111.131844</td>\n",
              "      <td>0.000867</td>\n",
              "      <td>0.000383</td>\n",
              "    </tr>\n",
              "  </tbody>\n",
              "</table>\n",
              "</div>"
            ],
            "text/plain": [
              "       variable  relative_importance  scaled_importance  percentage\n",
              "0       b_count        128168.164062           1.000000    0.441139\n",
              "1     pitch_num         87504.492188           0.682732    0.301180\n",
              "2       s_count         41869.820312           0.326679    0.144111\n",
              "3    pitch_type         15648.855469           0.122096    0.053861\n",
              "4   start_speed          6553.925781           0.051135    0.022558\n",
              "5     end_speed          3747.200928           0.029237    0.012897\n",
              "6        inning          2438.934326           0.019029    0.008395\n",
              "7   score_delta          1566.135498           0.012219    0.005390\n",
              "8       b_score          1352.155518           0.010550    0.004654\n",
              "9          outs           997.066772           0.007779    0.003432\n",
              "10      p_score           581.235840           0.004535    0.002001\n",
              "11     p_throws           111.131844           0.000867    0.000383"
            ]
          },
          "metadata": {
            "tags": []
          }
        },
        {
          "output_type": "execute_result",
          "data": {
            "text/plain": [
              "<bound method ModelBase.feature_frequencies of >"
            ]
          },
          "metadata": {
            "tags": []
          },
          "execution_count": 243
        }
      ]
    },
    {
      "cell_type": "markdown",
      "metadata": {
        "id": "-uEUyb4r_kT9"
      },
      "source": [
        "Visualize performance\\\n",
        "*The eighteenth row indicates the total count*\n",
        "\n",
        "According to the [documentation](http://docs.h2o.ai/h2o/latest-stable/h2o-docs/performance-and-prediction.html#confusion-matrix) for CMs using H2O, this model did really well with predicting strikeouts, it only missed 3% of the classifications. This model did not do well at all with predicting small classes reinforcing the idea that we map some of them to other classes. Likely, the best method will be to map classes into:\n",
        "- Hit\n",
        "- HR\n",
        "- Defensive Out\n",
        "- Strikeout\n",
        "- Walk\n"
      ]
    },
    {
      "cell_type": "code",
      "metadata": {
        "colab": {
          "base_uri": "https://localhost:8080/",
          "height": 295
        },
        "id": "BXNV1uey_j-b",
        "outputId": "fd7b512a-a971-4a97-cb81-774cafcb5144"
      },
      "source": [
        "# Confusion Matrix\n",
        "cm = model.confusion_matrix(test)\n",
        "cm"
      ],
      "execution_count": null,
      "outputs": [
        {
          "output_type": "stream",
          "text": [
            "\n",
            "Confusion Matrix: Row labels: Actual class; Column labels: Predicted class\n"
          ],
          "name": "stdout"
        },
        {
          "output_type": "display_data",
          "data": {
            "text/html": [
              "<div>\n",
              "<style scoped>\n",
              "    .dataframe tbody tr th:only-of-type {\n",
              "        vertical-align: middle;\n",
              "    }\n",
              "\n",
              "    .dataframe tbody tr th {\n",
              "        vertical-align: top;\n",
              "    }\n",
              "\n",
              "    .dataframe thead th {\n",
              "        text-align: right;\n",
              "    }\n",
              "</style>\n",
              "<table border=\"1\" class=\"dataframe\">\n",
              "  <thead>\n",
              "    <tr style=\"text-align: right;\">\n",
              "      <th></th>\n",
              "      <th>Def Out</th>\n",
              "      <th>HR</th>\n",
              "      <th>Non-HR Hit</th>\n",
              "      <th>Other</th>\n",
              "      <th>Strikeout</th>\n",
              "      <th>Walk</th>\n",
              "      <th>Error</th>\n",
              "      <th>Rate</th>\n",
              "    </tr>\n",
              "  </thead>\n",
              "  <tbody>\n",
              "    <tr>\n",
              "      <th>0</th>\n",
              "      <td>45803.0</td>\n",
              "      <td>0.0</td>\n",
              "      <td>0.0</td>\n",
              "      <td>0.0</td>\n",
              "      <td>6887.0</td>\n",
              "      <td>1898.0</td>\n",
              "      <td>0.160933</td>\n",
              "      <td>8,785 / 54,588</td>\n",
              "    </tr>\n",
              "    <tr>\n",
              "      <th>1</th>\n",
              "      <td>3844.0</td>\n",
              "      <td>0.0</td>\n",
              "      <td>0.0</td>\n",
              "      <td>0.0</td>\n",
              "      <td>521.0</td>\n",
              "      <td>193.0</td>\n",
              "      <td>1.000000</td>\n",
              "      <td>4,558 / 4,558</td>\n",
              "    </tr>\n",
              "    <tr>\n",
              "      <th>2</th>\n",
              "      <td>19864.0</td>\n",
              "      <td>0.0</td>\n",
              "      <td>0.0</td>\n",
              "      <td>0.0</td>\n",
              "      <td>2926.0</td>\n",
              "      <td>790.0</td>\n",
              "      <td>1.000000</td>\n",
              "      <td>23,580 / 23,580</td>\n",
              "    </tr>\n",
              "    <tr>\n",
              "      <th>3</th>\n",
              "      <td>846.0</td>\n",
              "      <td>0.0</td>\n",
              "      <td>0.0</td>\n",
              "      <td>0.0</td>\n",
              "      <td>147.0</td>\n",
              "      <td>47.0</td>\n",
              "      <td>1.000000</td>\n",
              "      <td>1,040 / 1,040</td>\n",
              "    </tr>\n",
              "    <tr>\n",
              "      <th>4</th>\n",
              "      <td>29884.0</td>\n",
              "      <td>0.0</td>\n",
              "      <td>0.0</td>\n",
              "      <td>0.0</td>\n",
              "      <td>9413.0</td>\n",
              "      <td>1261.0</td>\n",
              "      <td>0.767913</td>\n",
              "      <td>31,145 / 40,558</td>\n",
              "    </tr>\n",
              "    <tr>\n",
              "      <th>5</th>\n",
              "      <td>13050.0</td>\n",
              "      <td>0.0</td>\n",
              "      <td>0.0</td>\n",
              "      <td>0.0</td>\n",
              "      <td>2619.0</td>\n",
              "      <td>3017.0</td>\n",
              "      <td>0.838542</td>\n",
              "      <td>15,669 / 18,686</td>\n",
              "    </tr>\n",
              "    <tr>\n",
              "      <th>6</th>\n",
              "      <td>113291.0</td>\n",
              "      <td>0.0</td>\n",
              "      <td>0.0</td>\n",
              "      <td>0.0</td>\n",
              "      <td>22513.0</td>\n",
              "      <td>7206.0</td>\n",
              "      <td>0.592805</td>\n",
              "      <td>84,777 / 143,010</td>\n",
              "    </tr>\n",
              "  </tbody>\n",
              "</table>\n",
              "</div>"
            ],
            "text/plain": [
              "    Def Out   HR  Non-HR Hit  ...    Walk     Error              Rate\n",
              "0   45803.0  0.0         0.0  ...  1898.0  0.160933    8,785 / 54,588\n",
              "1    3844.0  0.0         0.0  ...   193.0  1.000000     4,558 / 4,558\n",
              "2   19864.0  0.0         0.0  ...   790.0  1.000000   23,580 / 23,580\n",
              "3     846.0  0.0         0.0  ...    47.0  1.000000     1,040 / 1,040\n",
              "4   29884.0  0.0         0.0  ...  1261.0  0.767913   31,145 / 40,558\n",
              "5   13050.0  0.0         0.0  ...  3017.0  0.838542   15,669 / 18,686\n",
              "6  113291.0  0.0         0.0  ...  7206.0  0.592805  84,777 / 143,010\n",
              "\n",
              "[7 rows x 8 columns]"
            ]
          },
          "metadata": {
            "tags": []
          }
        },
        {
          "output_type": "execute_result",
          "data": {
            "text/plain": [
              ""
            ]
          },
          "metadata": {
            "tags": []
          },
          "execution_count": 244
        }
      ]
    },
    {
      "cell_type": "code",
      "metadata": {
        "colab": {
          "base_uri": "https://localhost:8080/",
          "height": 579
        },
        "id": "qs3I_wskAKjI",
        "outputId": "d6c285a0-8e19-43bd-846b-7841c214849b"
      },
      "source": [
        "# Variable Importance plot\n",
        "model.varimp_plot()"
      ],
      "execution_count": null,
      "outputs": [
        {
          "output_type": "display_data",
          "data": {
            "image/png": "[encoded data removed]",
            "text/plain": [
              "<Figure size 1008x720 with 1 Axes>"
            ]
          },
          "metadata": {
            "tags": []
          }
        }
      ]
    }
  ]
}