{
  "nbformat": 4,
  "nbformat_minor": 0,
  "metadata": {
    "colab": {
      "name": "pitch-sequence-classification-ML",
      "provenance": [],
      "collapsed_sections": [
        "-O2129bc2bfA"
      ],
      "authorship_tag": "ABX9TyP2Ms/mNNnrN/m0aLpO9bCH",
      "include_colab_link": true
    },
    "kernelspec": {
      "name": "python3",
      "display_name": "Python 3"
    },
    "language_info": {
      "name": "python"
    }
  },
  "cells": [
    {
      "cell_type": "markdown",
      "metadata": {
        "id": "view-in-github",
        "colab_type": "text"
      },
      "source": [
        "<a href=\"https://colab.research.google.com/github/907Resident/pitch-sequence/blob/main/pitch_sequence_classification_ML.ipynb\" target=\"_parent\"><img src=\"https://colab.research.google.com/assets/colab-badge.svg\" alt=\"Open In Colab\"/></a>"
      ]
    },
    {
      "cell_type": "markdown",
      "metadata": {
        "id": "WDZn86trlvti"
      },
      "source": [
        "# Classifying Baseball Events\n",
        "Using pitch data, can we predict what pitch type will lead to specific events?\n",
        "\n",
        "See [pitch-sequence repo](https://github.com/907Resident/pitch-sequence) for more details."
      ]
    },
    {
      "cell_type": "markdown",
      "metadata": {
        "id": "BiBB-G8Rm9BZ"
      },
      "source": [
        "## Mount Google Drive \n",
        "This can be accomplished manually using the by clicking the file folder icon on the left or can be accomplished programmatically by executing the code in this cell"
      ]
    },
    {
      "cell_type": "code",
      "metadata": {
        "colab": {
          "base_uri": "https://localhost:8080/"
        },
        "id": "YYSpTESXlisA",
        "outputId": "5c89a246-4922-4009-e93a-f3769662a075"
      },
      "source": [
        "# Mount Google Drive\n",
        "from google.colab import drive\n",
        "drive.mount('/content/gdrive')"
      ],
      "execution_count": 1,
      "outputs": [
        {
          "output_type": "stream",
          "text": [
            "Mounted at /content/gdrive\n"
          ],
          "name": "stdout"
        }
      ]
    },
    {
      "cell_type": "code",
      "metadata": {
        "colab": {
          "base_uri": "https://localhost:8080/"
        },
        "id": "9pKZLTwenlNw",
        "outputId": "83aeca4a-82be-46b1-c657-390afda706f4"
      },
      "source": [
        "# Point toward pitch-sequence subdirectory\n",
        "%cd /content/gdrive/My Drive/Colab Notebooks/pitch-sequence"
      ],
      "execution_count": 54,
      "outputs": [
        {
          "output_type": "stream",
          "text": [
            "/content/gdrive/My Drive/Colab Notebooks/pitch-sequence\n"
          ],
          "name": "stdout"
        }
      ]
    },
    {
      "cell_type": "markdown",
      "metadata": {
        "id": "CVTymyfcrJhR"
      },
      "source": [
        "### Import modules and data"
      ]
    },
    {
      "cell_type": "code",
      "metadata": {
        "id": "OLFYxbEcoHuA"
      },
      "source": [
        "# Import necessary libaries\n",
        "import pandas as pd\n",
        "import numpy as np\n",
        "import matplotlib.pyplot as plt\n",
        "import seaborn as sns"
      ],
      "execution_count": 51,
      "outputs": []
    },
    {
      "cell_type": "markdown",
      "metadata": {
        "id": "yHLMkkH2n1WR"
      },
      "source": [
        "## Preprocessing and ML Preparation\n",
        "Import necessary modules, updates, data files, and organize data for heavier lifting in the subsequent sections"
      ]
    },
    {
      "cell_type": "markdown",
      "metadata": {
        "id": "Gh4ysD4lrNPR"
      },
      "source": [
        "\"clean_pitching_data.csv\" was created in the EDA phase with another notebook in this project (pitch-sequence-SO.ipynb). It has been cleaned for this purpose but no feature engineering has been applied"
      ]
    },
    {
      "cell_type": "markdown",
      "metadata": {
        "id": "Z3GARWArJzlx"
      },
      "source": [
        "### Import data\n"
      ]
    },
    {
      "cell_type": "code",
      "metadata": {
        "colab": {
          "base_uri": "https://localhost:8080/",
          "height": 236
        },
        "id": "fVVj4veLodrJ",
        "outputId": "cc16a615-2f8b-4cf1-cf8a-4137e2856358"
      },
      "source": [
        "# Establish preferred data types\n",
        "preferred_dtypes ={\"start_speed\":\"float64\", \"end_speed\":\"float64\", \n",
        "                   \"code\":\"category\", \"pitch_type\":\"category\", \"outs\":\"int\", \n",
        "                   \"event\":\"category\", \"b_count\":\"category\",\"s_count\":\"category\", \n",
        "                   \"p_score\":\"int\", \"pitch_num\":\"int\", \"inning\":\"int\", \n",
        "                   \"ab_id\":\"int64\", \"first_name\":\"str\",\n",
        "                   \"last_name\":\"str\"}\n",
        "# Import data into workspace\n",
        "df_main = pd.read_csv(\"clean_pitching_data.csv\", dtype=preferred_dtypes)\n",
        "# Confirm that \"ab_id\" is a string so that it does not show up in scientific\n",
        "# notation\n",
        "df_main[\"ab_id\"] = df_main.ab_id.astype(\"int64\").astype(\"str\")\n",
        "# Confirm \"pitch_type\" and \"code\" are categories\n",
        "df_main[\"code\"] = df_main.code.astype(\"category\")\n",
        "df_main[\"pitch_type\"] = df_main.pitch_type.astype(\"category\")\n",
        "## From the EDA notebook, we knwo to drop three of the pitch types\n",
        "relevant_pitch_types = ['CH', 'CU', 'FC', 'FF', 'FS', 'FT', 'KC', \n",
        "                        'SI', 'SL']\n",
        "filter_mask = df_main.pitch_type.isin(relevant_pitch_types)\n",
        "df_main = df_main.loc[filter_mask]\n",
        "# Drop spin, confidence, and nasty columns\n",
        "df_main.drop(columns=[\"nasty\", \"spin_dir\", \"spin_rate\", \"type_confidence\"], \n",
        "             inplace=True)\n",
        "# Preview dataframe\n",
        "print(df_main.shape)\n",
        "df_main.head()"
      ],
      "execution_count": 149,
      "outputs": [
        {
          "output_type": "stream",
          "text": [
            "(721876, 17)\n"
          ],
          "name": "stdout"
        },
        {
          "output_type": "execute_result",
          "data": {
            "text/html": [
              "<div>\n",
              "<style scoped>\n",
              "    .dataframe tbody tr th:only-of-type {\n",
              "        vertical-align: middle;\n",
              "    }\n",
              "\n",
              "    .dataframe tbody tr th {\n",
              "        vertical-align: top;\n",
              "    }\n",
              "\n",
              "    .dataframe thead th {\n",
              "        text-align: right;\n",
              "    }\n",
              "</style>\n",
              "<table border=\"1\" class=\"dataframe\">\n",
              "  <thead>\n",
              "    <tr style=\"text-align: right;\">\n",
              "      <th></th>\n",
              "      <th>pitcher_id</th>\n",
              "      <th>first_name</th>\n",
              "      <th>last_name</th>\n",
              "      <th>start_speed</th>\n",
              "      <th>end_speed</th>\n",
              "      <th>code</th>\n",
              "      <th>pitch_type</th>\n",
              "      <th>b_score</th>\n",
              "      <th>ab_id</th>\n",
              "      <th>b_count</th>\n",
              "      <th>s_count</th>\n",
              "      <th>outs</th>\n",
              "      <th>pitch_num</th>\n",
              "      <th>inning</th>\n",
              "      <th>p_score</th>\n",
              "      <th>p_throws</th>\n",
              "      <th>event</th>\n",
              "    </tr>\n",
              "  </thead>\n",
              "  <tbody>\n",
              "    <tr>\n",
              "      <th>0</th>\n",
              "      <td>571666</td>\n",
              "      <td>Mike</td>\n",
              "      <td>Fiers</td>\n",
              "      <td>88.8</td>\n",
              "      <td>80.7</td>\n",
              "      <td>X</td>\n",
              "      <td>FF</td>\n",
              "      <td>0.0</td>\n",
              "      <td>2019000001</td>\n",
              "      <td>0</td>\n",
              "      <td>0</td>\n",
              "      <td>0</td>\n",
              "      <td>1</td>\n",
              "      <td>1</td>\n",
              "      <td>0</td>\n",
              "      <td>R</td>\n",
              "      <td>Flyout</td>\n",
              "    </tr>\n",
              "    <tr>\n",
              "      <th>1</th>\n",
              "      <td>571666</td>\n",
              "      <td>Mike</td>\n",
              "      <td>Fiers</td>\n",
              "      <td>89.9</td>\n",
              "      <td>81.8</td>\n",
              "      <td>C</td>\n",
              "      <td>FF</td>\n",
              "      <td>0.0</td>\n",
              "      <td>2019000002</td>\n",
              "      <td>0</td>\n",
              "      <td>0</td>\n",
              "      <td>1</td>\n",
              "      <td>1</td>\n",
              "      <td>1</td>\n",
              "      <td>0</td>\n",
              "      <td>R</td>\n",
              "      <td>Flyout</td>\n",
              "    </tr>\n",
              "    <tr>\n",
              "      <th>2</th>\n",
              "      <td>571666</td>\n",
              "      <td>Mike</td>\n",
              "      <td>Fiers</td>\n",
              "      <td>85.7</td>\n",
              "      <td>79.6</td>\n",
              "      <td>S</td>\n",
              "      <td>SL</td>\n",
              "      <td>0.0</td>\n",
              "      <td>2019000002</td>\n",
              "      <td>0</td>\n",
              "      <td>0</td>\n",
              "      <td>1</td>\n",
              "      <td>2</td>\n",
              "      <td>1</td>\n",
              "      <td>0</td>\n",
              "      <td>R</td>\n",
              "      <td>Flyout</td>\n",
              "    </tr>\n",
              "    <tr>\n",
              "      <th>3</th>\n",
              "      <td>571666</td>\n",
              "      <td>Mike</td>\n",
              "      <td>Fiers</td>\n",
              "      <td>85.4</td>\n",
              "      <td>78.5</td>\n",
              "      <td>B</td>\n",
              "      <td>CH</td>\n",
              "      <td>0.0</td>\n",
              "      <td>2019000002</td>\n",
              "      <td>0</td>\n",
              "      <td>1</td>\n",
              "      <td>1</td>\n",
              "      <td>3</td>\n",
              "      <td>1</td>\n",
              "      <td>0</td>\n",
              "      <td>R</td>\n",
              "      <td>Flyout</td>\n",
              "    </tr>\n",
              "    <tr>\n",
              "      <th>4</th>\n",
              "      <td>571666</td>\n",
              "      <td>Mike</td>\n",
              "      <td>Fiers</td>\n",
              "      <td>84.6</td>\n",
              "      <td>77.6</td>\n",
              "      <td>B</td>\n",
              "      <td>CH</td>\n",
              "      <td>0.0</td>\n",
              "      <td>2019000002</td>\n",
              "      <td>1</td>\n",
              "      <td>1</td>\n",
              "      <td>1</td>\n",
              "      <td>4</td>\n",
              "      <td>1</td>\n",
              "      <td>0</td>\n",
              "      <td>R</td>\n",
              "      <td>Flyout</td>\n",
              "    </tr>\n",
              "  </tbody>\n",
              "</table>\n",
              "</div>"
            ],
            "text/plain": [
              "   pitcher_id first_name last_name  ...  p_score  p_throws   event\n",
              "0      571666       Mike     Fiers  ...        0         R  Flyout\n",
              "1      571666       Mike     Fiers  ...        0         R  Flyout\n",
              "2      571666       Mike     Fiers  ...        0         R  Flyout\n",
              "3      571666       Mike     Fiers  ...        0         R  Flyout\n",
              "4      571666       Mike     Fiers  ...        0         R  Flyout\n",
              "\n",
              "[5 rows x 17 columns]"
            ]
          },
          "metadata": {
            "tags": []
          },
          "execution_count": 149
        }
      ]
    },
    {
      "cell_type": "markdown",
      "metadata": {
        "id": "wee3oiecvRj0"
      },
      "source": [
        "### Preprocess Data\n",
        "In this section the cleaned data is processed into a format that is conducive for ML. "
      ]
    },
    {
      "cell_type": "markdown",
      "metadata": {
        "id": "nQXjWIo1vcFD"
      },
      "source": [
        "Visualize the number of occurences for the target variable, `event`."
      ]
    },
    {
      "cell_type": "code",
      "metadata": {
        "colab": {
          "base_uri": "https://localhost:8080/",
          "height": 452
        },
        "id": "4vbfIH9Y085i",
        "outputId": "2194b0bc-d671-4523-a12c-753d2cdcc75b"
      },
      "source": [
        "# Target variable: Graph the frequency of outcomes\n",
        "sns.set_theme(context=\"notebook\", style=\"darkgrid\", palette=\"gist_ncar_r\")\n",
        "\n",
        "# Events\n",
        "plt.figure(figsize=(20,12))\n",
        "sns.countplot(y=\"event\", data=df_main, orient=\"h\")\n",
        "plt.xscale(\"linear\")\n",
        "plt.show()"
      ],
      "execution_count": 150,
      "outputs": [
        {
          "output_type": "display_data",
          "data": {
            "image/png": "[encoded data removed]",
            "text/plain": [
              "<Figure size 1440x864 with 1 Axes>"
            ]
          },
          "metadata": {
            "tags": []
          }
        }
      ]
    },
    {
      "cell_type": "code",
      "metadata": {
        "colab": {
          "base_uri": "https://localhost:8080/"
        },
        "id": "VGenIsWbv3mb",
        "outputId": "f8b65403-27b9-46db-8fd5-f3afeaf06a26"
      },
      "source": [
        "# Sort Events by Occurences\n",
        "df_main.groupby(\"event\").event.count().sort_values(ascending=False)"
      ],
      "execution_count": 151,
      "outputs": [
        {
          "output_type": "execute_result",
          "data": {
            "text/plain": [
              "event\n",
              "Strikeout                       203797\n",
              "Groundout                       110503\n",
              "Single                           87245\n",
              "Walk                             86506\n",
              "Flyout                           67275\n",
              "Lineout                          38074\n",
              "Pop Out                          29822\n",
              "Double                           28475\n",
              "Home Run                         22445\n",
              "Forceout                         11065\n",
              "Grounded Into DP                 10862\n",
              "Hit By Pitch                      6072\n",
              "Field Error                       4663\n",
              "Sac Fly                           3693\n",
              "Triple                            2798\n",
              "Sac Bunt                          1471\n",
              "Double Play                       1419\n",
              "Fielders Choice                   1358\n",
              "Fielders Choice Out                951\n",
              "Strikeout Double Play              910\n",
              "Caught Stealing 2B                 498\n",
              "Intent Walk                        417\n",
              "Bunt Groundout                     364\n",
              "Catcher Interference               216\n",
              "Batter Interference                189\n",
              "Bunt Pop Out                       186\n",
              "Fan Interference                   119\n",
              "Runner Out                         100\n",
              "Pickoff Caught Stealing 2B          78\n",
              "Pickoff 1B                          74\n",
              "Caught Stealing Home                49\n",
              "Sac Fly Double Play                 37\n",
              "Caught Stealing 3B                  26\n",
              "Pickoff 2B                          21\n",
              "Bunt Lineout                        17\n",
              "Pickoff Caught Stealing Home        14\n",
              "Triple Play                         14\n",
              "Wild Pitch                          13\n",
              "Pickoff 3B                          10\n",
              "Sac Bunt Double Play                 7\n",
              "Runner Double Play                   6\n",
              "Pickoff Caught Stealing 3B           6\n",
              "Game Advisory                        5\n",
              "Passed Ball                          3\n",
              "Pickoff Error 1B                     2\n",
              "Stolen Base 2B                       1\n",
              "Name: event, dtype: int64"
            ]
          },
          "metadata": {
            "tags": []
          },
          "execution_count": 151
        }
      ]
    },
    {
      "cell_type": "markdown",
      "metadata": {
        "id": "NrFc3LwQvk-j"
      },
      "source": [
        "### Mapped data: Lumping similar together\n",
        "It is pretty clear that strikeout leads the way followed by ground, single, and walk. However, we can use our baseball knowledge to better make sense of which catrgories are similar. Since some events are relatively low, we will combine them together to increase the likelihood that our model can predict the \"lumped\" together `event`. \n",
        "\n",
        "Thus, combining the data above and knowledge of baseball, we get the following six outcomes for our target variable\n",
        "- Non-HR Hit <- Single, Double, Triple\n",
        "- HR < - Home Run\n",
        "- Defensive Out <- Groundout, Flyout, Lineout, Pop Out, Forceout, Grounded Into DP, Double Play, Bunt Groundout, Fielders Choice, Fielders Choice Out, Bunt Lineout, Bunt Pop Out, Triple Play\n",
        "- Strikeout <- Strikeout, Strikeout Double Play\n",
        "- Walk <- Walk, Hit by Pitch, Intent Walk\n",
        "- Sacrifice <- Sac Fly, Sac Bunt, Sac Fly Double Play, Sac Bunt Double Play\n",
        "- Other <- Field Error, Catcher Interference, Batter Interference, Fan Interference\n",
        "\n",
        "Sacrifice plays are an interesting subcategory because the rely on the presence and location of baserunners, the score of the game, and the prowress of the batter. Sacrifice events ($n = 5208$) such as:\n",
        "- Sac Fly\n",
        "- Sac Bunt\n",
        "- Sac Fly Double Play\n",
        "- Sac Bunt Double Play\n",
        "\n",
        "will be scruitinzed carefully due to the fact these are not registered statistically as at bats. Furthermore, it will be intriguing to see how `pitch_type`, a charactristic of the pitcher, will relate to this play that is largely guided by factors external to the pitchers decision to throw a a specific pitch.\n",
        "\n",
        "Similarly, plays that do not require the interaction between the pitcher and the batter are also dropped. For example, the [pickoff play](https://en.wikipedia.org/wiki/Pickoff) involves the pitcher throwing to a fellow defensive player to get an out. This does not require the interaction between the pitcher and the batter. Therefore the following inter-pitch events ($n = 801$) are also dropped: \n",
        "- Caught Stealing 2B\n",
        "- Pickoff Caught Stealing 2B\n",
        "- Pickoff 1B\n",
        "- Caught Stealing Home\n",
        "- Caught Stealing 3B\n",
        "- Pickoff 2B\n",
        "- Pickoff Caught Stealing Home\n",
        "- Wild Pitch\n",
        "- Pickoff 3B\n",
        "- Pickoff Caught Stealing 3B\n",
        "- Passed Ball\n",
        "- Pickoff Error 1B\n",
        "- Stolen Base 2B\n",
        "- Runner Double Play\n",
        "- Runner Out\n",
        "\n"
      ]
    },
    {
      "cell_type": "code",
      "metadata": {
        "colab": {
          "base_uri": "https://localhost:8080/"
        },
        "id": "E7_sigwEWrvp",
        "outputId": "66895013-7390-4618-a561-da8ca68f19b0"
      },
      "source": [
        "# Create new dataframe \"df_prepped\"\n",
        "df_prepped = df_main.reset_index(drop=True)\n",
        "\n",
        "# List of non-at bat events\n",
        "non_at_bat_subs_lst = \\\n",
        "[\"Caught Stealing 2B\", \"Pickoff Caught Stealing 2B\", \"Pickoff 1B\", \n",
        " \"Caught Stealing Home\", \"Caught Stealing 3B\", \"Pickoff 2B\", \n",
        " \"Pickoff Caught Stealing Home\", \"Wild Pitch\", \"Pickoff 3B\", \n",
        " \"Pickoff Caught Stealing 3B\", \"Passed Ball\", \"Pickoff Error 1B\", \n",
        " \"Stolen Base 2B\", \"Runner Double Play\", \"Runner Out\"]\n",
        "\n",
        "# Drop non-at bat events\n",
        "mask = df_prepped.event.isin(non_at_bat_subs_lst)\n",
        "df_prepped.event.iloc[mask] = np.nan\n",
        "df_prepped = df_prepped[df_prepped[\"event\"].notna()]\n",
        "\n",
        "# Preview the loss of rows\n",
        "df_prepped.shape"
      ],
      "execution_count": 207,
      "outputs": [
        {
          "output_type": "execute_result",
          "data": {
            "text/plain": [
              "(720975, 17)"
            ]
          },
          "metadata": {
            "tags": []
          },
          "execution_count": 207
        }
      ]
    },
    {
      "cell_type": "markdown",
      "metadata": {
        "id": "Sl1CH4qk0fEi"
      },
      "source": [
        "Roughly 901 rows (0.13 %) were dropped when the non-at bat scenarios were removed from the dataset. These seem a little low because Bill James [reports](https://www.billjamesonline.com/legally_stolen_bases/#:~:text=The%202019%20Philadelphia%20Phillies%20allowed%2066%20stolen%20bases%2C,is%20the%20starting%20point%20of%20our%20process%20here.) that the Philadelphia Phillies caught 50 runners stealing bases in 2019. Expanded to all 30 teams that would mean 1500 runners were caught stealing, which almost doubles the amount here. Finding caught stealing stats proves to be difficult."
      ]
    },
    {
      "cell_type": "code",
      "metadata": {
        "colab": {
          "base_uri": "https://localhost:8080/"
        },
        "id": "l8MI-ozqCevu",
        "outputId": "8d107a63-e012-4676-d250-3ec5fef14f39"
      },
      "source": [
        "# Organize the subevents into lists\n",
        "## Non-Hit HR\n",
        "non_hit_HR_subs_lst = [\"Single\", \"Double\", \"Triple\"]\n",
        "## HR\n",
        "HR_subs_lst = [\"Home Run\"]\n",
        "## Defensive Out\n",
        "defensive_out_subs_lst =\\\n",
        " [\"Groundout\", \"Flyout\", \"Lineout\", \"Pop Out\",  \"Forceout\", \"Grounded Into DP\", \n",
        "  \"Double Play\",\"Bunt Groundout\", \"Fielders Choice\", \"Fielders Choice Out\", \n",
        "  \"Bunt Lineout\", \"Bunt Pop Out\", \"Triple Play\"]\n",
        "## Strikeout\n",
        "strikeout_subs_lst = [\"Strikeout\", \"Strikeout Double Play\"]\n",
        "## Walk\n",
        "walk_subs_lst = [\"Walk\", \"Hit By Pitch\", \"Intent Walk\"]\n",
        "## Sacrifice\n",
        "sac_subs_lst = [\"Sac Fly\", \"Sac Bunt\", \n",
        "                \"Sac Fly Double Play\", \"Sac Bunt Double Play\"]\n",
        "## Other\n",
        "other_subs_lst = [\"Field Error\", \"Catcher Interference\", \"Batter Interference\",\n",
        "                  \"Fan Interference\"]\n",
        "# Create empty series for updated events\n",
        "event_new = pd.Series(index=range(len(df_main)))\n",
        "\n",
        "# Map subcategories of event\n",
        "relev_events = [\"Non-HR Hit\", \"HR\", \"Def Out\", \"Strikeout\", \"Walk\", \"Sacrifice\",\n",
        "                \"Other\"]\n",
        "\n",
        "# Use boolean masks to map the data accordingly\n",
        "## Non-Hit HR\n",
        "mask = df_main.event.isin(non_hit_HR_subs_lst)\n",
        "event_new.iloc[mask] = relev_events[0]\n",
        "## HR\n",
        "mask = df_main.event.isin(HR_subs_lst)\n",
        "event_new.iloc[mask] = relev_events[1]\n",
        "## Defensive Out\n",
        "mask = df_main.event.isin(defensive_out_subs_lst)\n",
        "event_new.iloc[mask] = relev_events[2]\n",
        "## Strikeout\n",
        "mask = df_main.event.isin(strikeout_subs_lst)\n",
        "event_new.iloc[mask] = relev_events[3]\n",
        "## Walk\n",
        "mask = df_main.event.isin(walk_subs_lst)\n",
        "event_new.iloc[mask] = relev_events[4]\n",
        "## Sacrifice\n",
        "mask = df_main.event.isin(sac_subs_lst)\n",
        "event_new.iloc[mask] = relev_events[5]\n",
        "## Other\n",
        "mask = df_main.event.isin(other_subs_lst)\n",
        "event_new.iloc[mask] = relev_events[-1]\n",
        "\n",
        "# Add event_new to dataframe \n",
        "df_prepped.insert(0, \"event_new\", event_new)"
      ],
      "execution_count": 208,
      "outputs": [
        {
          "output_type": "stream",
          "text": [
            "/usr/local/lib/python3.7/dist-packages/ipykernel_launcher.py:18: DeprecationWarning: The default dtype for empty Series will be 'object' instead of 'float64' in a future version. Specify a dtype explicitly to silence this warning.\n"
          ],
          "name": "stderr"
        }
      ]
    },
    {
      "cell_type": "markdown",
      "metadata": {
        "id": "WXuw6D9a3WmH"
      },
      "source": [
        "From a previous iteration of the ML model, we know that `code` is an unfair feature to use because it effectively records what happens after the pitch is thrown. Since the objective is predict what pitches and scenarios lead to the various events, `code` is dropped from the dataframe."
      ]
    },
    {
      "cell_type": "code",
      "metadata": {
        "id": "cj-lYUKV3ycn"
      },
      "source": [
        "# Drop \"code\"\n",
        "df_prepped = df_prepped.drop(axis=1, columns=[\"code\"])\n",
        "\n",
        "# Also, drop the un-lumped \"event\", \"first_name\", \"last_name\", \"pitcher_id\", \n",
        "# and \"ab_id\" columns. \"event_new\" will be the new target variable and \"ab_id\"\n",
        "# is not useful \n",
        "df_prepped = df_prepped.drop(axis=1, columns=[\"event\", \"pitcher_id\", \"ab_id\", \n",
        "                                              \"first_name\", \"last_name\"])"
      ],
      "execution_count": 209,
      "outputs": []
    },
    {
      "cell_type": "code",
      "metadata": {
        "colab": {
          "base_uri": "https://localhost:8080/",
          "height": 218
        },
        "id": "g0-sDkWBi3AT",
        "outputId": "be75f9d7-ac87-4b98-e8a0-9f5255782dc5"
      },
      "source": [
        "df_prepped.head()"
      ],
      "execution_count": 210,
      "outputs": [
        {
          "output_type": "execute_result",
          "data": {
            "text/html": [
              "<div>\n",
              "<style scoped>\n",
              "    .dataframe tbody tr th:only-of-type {\n",
              "        vertical-align: middle;\n",
              "    }\n",
              "\n",
              "    .dataframe tbody tr th {\n",
              "        vertical-align: top;\n",
              "    }\n",
              "\n",
              "    .dataframe thead th {\n",
              "        text-align: right;\n",
              "    }\n",
              "</style>\n",
              "<table border=\"1\" class=\"dataframe\">\n",
              "  <thead>\n",
              "    <tr style=\"text-align: right;\">\n",
              "      <th></th>\n",
              "      <th>event_new</th>\n",
              "      <th>start_speed</th>\n",
              "      <th>end_speed</th>\n",
              "      <th>pitch_type</th>\n",
              "      <th>b_score</th>\n",
              "      <th>b_count</th>\n",
              "      <th>s_count</th>\n",
              "      <th>outs</th>\n",
              "      <th>pitch_num</th>\n",
              "      <th>inning</th>\n",
              "      <th>p_score</th>\n",
              "      <th>p_throws</th>\n",
              "    </tr>\n",
              "  </thead>\n",
              "  <tbody>\n",
              "    <tr>\n",
              "      <th>0</th>\n",
              "      <td>Def Out</td>\n",
              "      <td>88.8</td>\n",
              "      <td>80.7</td>\n",
              "      <td>FF</td>\n",
              "      <td>0.0</td>\n",
              "      <td>0</td>\n",
              "      <td>0</td>\n",
              "      <td>0</td>\n",
              "      <td>1</td>\n",
              "      <td>1</td>\n",
              "      <td>0</td>\n",
              "      <td>R</td>\n",
              "    </tr>\n",
              "    <tr>\n",
              "      <th>1</th>\n",
              "      <td>Def Out</td>\n",
              "      <td>89.9</td>\n",
              "      <td>81.8</td>\n",
              "      <td>FF</td>\n",
              "      <td>0.0</td>\n",
              "      <td>0</td>\n",
              "      <td>0</td>\n",
              "      <td>1</td>\n",
              "      <td>1</td>\n",
              "      <td>1</td>\n",
              "      <td>0</td>\n",
              "      <td>R</td>\n",
              "    </tr>\n",
              "    <tr>\n",
              "      <th>2</th>\n",
              "      <td>Def Out</td>\n",
              "      <td>85.7</td>\n",
              "      <td>79.6</td>\n",
              "      <td>SL</td>\n",
              "      <td>0.0</td>\n",
              "      <td>0</td>\n",
              "      <td>0</td>\n",
              "      <td>1</td>\n",
              "      <td>2</td>\n",
              "      <td>1</td>\n",
              "      <td>0</td>\n",
              "      <td>R</td>\n",
              "    </tr>\n",
              "    <tr>\n",
              "      <th>3</th>\n",
              "      <td>Def Out</td>\n",
              "      <td>85.4</td>\n",
              "      <td>78.5</td>\n",
              "      <td>CH</td>\n",
              "      <td>0.0</td>\n",
              "      <td>0</td>\n",
              "      <td>1</td>\n",
              "      <td>1</td>\n",
              "      <td>3</td>\n",
              "      <td>1</td>\n",
              "      <td>0</td>\n",
              "      <td>R</td>\n",
              "    </tr>\n",
              "    <tr>\n",
              "      <th>4</th>\n",
              "      <td>Def Out</td>\n",
              "      <td>84.6</td>\n",
              "      <td>77.6</td>\n",
              "      <td>CH</td>\n",
              "      <td>0.0</td>\n",
              "      <td>1</td>\n",
              "      <td>1</td>\n",
              "      <td>1</td>\n",
              "      <td>4</td>\n",
              "      <td>1</td>\n",
              "      <td>0</td>\n",
              "      <td>R</td>\n",
              "    </tr>\n",
              "  </tbody>\n",
              "</table>\n",
              "</div>"
            ],
            "text/plain": [
              "  event_new  start_speed  end_speed  ... inning  p_score p_throws\n",
              "0   Def Out         88.8       80.7  ...      1        0        R\n",
              "1   Def Out         89.9       81.8  ...      1        0        R\n",
              "2   Def Out         85.7       79.6  ...      1        0        R\n",
              "3   Def Out         85.4       78.5  ...      1        0        R\n",
              "4   Def Out         84.6       77.6  ...      1        0        R\n",
              "\n",
              "[5 rows x 12 columns]"
            ]
          },
          "metadata": {
            "tags": []
          },
          "execution_count": 210
        }
      ]
    },
    {
      "cell_type": "markdown",
      "metadata": {
        "id": "-O2129bc2bfA"
      },
      "source": [
        "### Un-mapped data: Dropping unrelevant columns\n",
        "After viewing the most common events, drop all rows  where the number of events is less than \"Fielders Choice\" \n",
        "\n",
        "This is an alternative strategy that can be used if one is only interested the most prevalent events."
      ]
    },
    {
      "cell_type": "code",
      "metadata": {
        "colab": {
          "base_uri": "https://localhost:8080/"
        },
        "id": "oDRH41_e1Pkw",
        "outputId": "bca01956-38e0-4cab-b56a-71325d76281f"
      },
      "source": [
        "# Count the number of events that end in \"Fielders Choice\"\n",
        "event_count = df_main.groupby(by=\"event\").count().iloc[:,0]\n",
        "event_count = event_count[event_count >= event_count[\"Fielders Choice\"]]\n",
        "# Collect the relevent columns\n",
        "relevant_events = event_count.index.to_list()\n",
        "# Create dataframe filtered by events that occured as much or greater than\n",
        "# \"Fielders Choice\"\n",
        "filter_mask = df_main.event.isin(relevant_events)\n",
        "df_event_edit = df_main.loc[filter_mask]\n",
        "# Preview the edited size\n",
        "df_event_edit.shape"
      ],
      "execution_count": null,
      "outputs": [
        {
          "output_type": "execute_result",
          "data": {
            "text/plain": [
              "(717543, 17)"
            ]
          },
          "metadata": {
            "tags": []
          },
          "execution_count": 31
        }
      ]
    },
    {
      "cell_type": "code",
      "metadata": {
        "id": "m_9M3uFLM3gC"
      },
      "source": [
        "# Correct to numeric\n",
        "df_event_edit[\"s_count\"] = df_event_edit.s_count.astype(\"int64\")\n",
        "df_event_edit[\"b_count\"] = df_event_edit.b_count.astype(\"int64\")\n",
        "df_event_edit[\"outs\"] = df_event_edit.outs.astype(\"int64\")\n",
        "df_event_edit[\"b_score\"] = df_event_edit.b_score.astype(\"int64\")\n",
        "df_event_edit[\"p_score\"] = df_event_edit.p_score.astype(\"int64\")\n",
        "# Correct to categorical\n",
        "df_event_edit[\"inning\"] = df_event_edit.inning.astype(\"category\")\n",
        "df_event_edit[\"p_throws\"] = df_event_edit.p_throws.astype(\"category\")\n",
        "# Preview data types\n",
        "df_event_edit.shape"
      ],
      "execution_count": null,
      "outputs": []
    },
    {
      "cell_type": "code",
      "metadata": {
        "colab": {
          "base_uri": "https://localhost:8080/"
        },
        "id": "mL5VQDw7eQPp",
        "outputId": "6dbf0d91-3a51-4d0b-a59a-4e64705510c9"
      },
      "source": [
        "# Drop first and names from dataframe\n",
        "df_event_edit.drop(columns=[\"last_name\", \"first_name\"], axis=1, inplace=True)\n",
        "# Export the dataframe to a .csv\n",
        "df_event_edit.to_csv(\"df_event_edit.csv\", index=True)"
      ],
      "execution_count": null,
      "outputs": [
        {
          "output_type": "stream",
          "text": [
            "/usr/local/lib/python3.7/dist-packages/pandas/core/frame.py:4174: SettingWithCopyWarning: \n",
            "A value is trying to be set on a copy of a slice from a DataFrame\n",
            "\n",
            "See the caveats in the documentation: https://pandas.pydata.org/pandas-docs/stable/user_guide/indexing.html#returning-a-view-versus-a-copy\n",
            "  errors=errors,\n"
          ],
          "name": "stderr"
        }
      ]
    },
    {
      "cell_type": "markdown",
      "metadata": {
        "id": "zlpL38xk-50d"
      },
      "source": [
        "## Model with sklearn"
      ]
    },
    {
      "cell_type": "markdown",
      "metadata": {
        "id": "nnQdQzISd89A"
      },
      "source": [
        "### Feature Engineering\n",
        "Build features to help model with predictions"
      ]
    },
    {
      "cell_type": "code",
      "metadata": {
        "id": "8O-iakj9Un6g"
      },
      "source": [
        "# Create a feature score_delta that relates the score of the game relative to pitcher\n",
        "df_prepped[\"score_delta\"] = df_prepped.p_score - df_prepped.b_score"
      ],
      "execution_count": 211,
      "outputs": []
    },
    {
      "cell_type": "code",
      "metadata": {
        "id": "mbNC4pFoetbY"
      },
      "source": [
        "# Export to csv\n",
        "df_prepped.to_csv(\"df_prepped.csv\", sep=\",\", index=False)\n",
        "\n",
        "# Preview datatype\n",
        "df_prepped.dtypes"
      ],
      "execution_count": 231,
      "outputs": []
    },
    {
      "cell_type": "markdown",
      "metadata": {
        "id": "VR9wSwPjrjrI"
      },
      "source": [
        "### Encode categorical variables\n",
        "There are several categorical variables in this dataset including the target variable, \"event.\" For the ML algorithms to prcesss them appropriately, they need to be encoded as numeric values. Further guidance on incorporating categorical variables into ML models was gleaned from [Frank and Hall (2001)](https://www.cs.waikato.ac.nz/~eibe/pubs/ordinal_tech_report.pdf). "
      ]
    },
    {
      "cell_type": "markdown",
      "metadata": {
        "id": "G7pINJ8cH0EP"
      },
      "source": [
        "Target Variable: `event_new`\n",
        "\n",
        "To use `sklearn` we will need to apply an encoder to ensure that the target is recorded as numerical information instead of text\n",
        "\n",
        "The `sklearn` [`label_encoder()`](https://sklearn.org/modules/generated/sklearn.preprocessing.LabelEncoder.html#:~:text=sklearn.preprocessing%20.LabelEncoder%20%C2%B6%20%20%20fit%20%28y%29%20,of%20this%20estimator.%20%201%20more%20rows%20) works well for this purpose. "
      ]
    },
    {
      "cell_type": "code",
      "metadata": {
        "id": "gJTscMVg-SEm"
      },
      "source": [
        "from sklearn.preprocessing import LabelEncoder\n",
        "# Instantiate the encoder\n",
        "target_encoder_le = LabelEncoder()\n",
        "\n",
        "# Fit and transform the encoder to the target variable\n",
        "## Separate target variable from explanatory features\n",
        "y = df_prepped.iloc[:,0]\n",
        "## Apply encoder\n",
        "y = target_encoder_le.fit_transform(y.astype(str))"
      ],
      "execution_count": 213,
      "outputs": []
    },
    {
      "cell_type": "markdown",
      "metadata": {
        "id": "qj5XxgI0jbwI"
      },
      "source": [
        "Features: All variables that are not the target\n",
        "\n",
        "Just like the target variable, the categorical variables from the explanatory data (i.e. features) will need to transformed with encoding."
      ]
    },
    {
      "cell_type": "code",
      "metadata": {
        "id": "ZSUFShFQjWrw"
      },
      "source": [
        "# Instantiate the encoder\n",
        "explanatory_encoder_le = LabelEncoder()\n",
        "\n",
        "# Fit and transform the encoder to the explanatory variable\n",
        "## Separate explanatory variables from the target variable\n",
        "X = df_prepped.iloc[:, 1:].values\n",
        "\n",
        "## Apply encoder\n",
        "### pitch_type\n",
        "X[:,2] = explanatory_encoder_le.fit_transform(X[:,2].astype(str))\n",
        "### b_count\n",
        "X[:,4] = explanatory_encoder_le.fit_transform(X[:,4].astype(str))\n",
        "### s_count\n",
        "X[:,5] = explanatory_encoder_le.fit_transform(X[:,5].astype(str))\n",
        "### p_throws\n",
        "X[:,10] = explanatory_encoder_le.fit_transform(X[:,10].astype(str))"
      ],
      "execution_count": 215,
      "outputs": []
    },
    {
      "cell_type": "markdown",
      "metadata": {
        "id": "wNeaJ7YQHzWp"
      },
      "source": [
        "Data Type corrections: last chance to confirm data types are correct"
      ]
    },
    {
      "cell_type": "markdown",
      "metadata": {
        "id": "pATY9xcNknr6"
      },
      "source": [
        "### Establish response and features separately"
      ]
    },
    {
      "cell_type": "markdown",
      "metadata": {
        "id": "iA953k1ExqFR"
      },
      "source": [
        "- iteration 1.0: H2O only\n",
        "- iteration 2.0: RF Classifier with max depth at 2 and seed at 42 (`code`) dropped as discussed with Josh\n",
        "-iteration 2.1: grid search across parameters for RF"
      ]
    },
    {
      "cell_type": "code",
      "metadata": {
        "id": "AK_ZR4gaaWFX"
      },
      "source": [
        "# Split dataframe into test and train sets\n",
        "from sklearn.model_selection import train_test_split\n",
        "from sklearn.preprocessing import StandardScaler\n",
        "# Train-test-split \n",
        "X_train, X_test, y_train, y_test = train_test_split(X, y, test_size=0.2, \n",
        "                                                    random_state=0)\n"
      ],
      "execution_count": 216,
      "outputs": []
    },
    {
      "cell_type": "code",
      "metadata": {
        "id": "tXUlPGZWbBNS"
      },
      "source": [
        "from sklearn.ensemble import RandomForestClassifier\n",
        "# Intantiate classifier\n",
        "RF_clf = RandomForestClassifier(max_depth=2, random_state=0)\n",
        "# Fit Classifier\n",
        "RF_clf.fit(X_train, y_train)\n",
        "# Create Predictions\n",
        "y_pred = RF_clf.predict(X_test)\n"
      ],
      "execution_count": 219,
      "outputs": []
    },
    {
      "cell_type": "code",
      "metadata": {
        "id": "4EIBoJUadblP",
        "colab": {
          "base_uri": "https://localhost:8080/"
        },
        "outputId": "375fd740-71f5-4b2f-e9a3-7cf3eecf852d"
      },
      "source": [
        "# Estimate perfromance metrics\n",
        "from sklearn.metrics import accuracy_score\n",
        "print(\"Accuracy: \", accuracy_score(y_test, y_pred))"
      ],
      "execution_count": 221,
      "outputs": [
        {
          "output_type": "stream",
          "text": [
            "Accuracy:  0.38547799854363884\n"
          ],
          "name": "stdout"
        }
      ]
    },
    {
      "cell_type": "code",
      "metadata": {
        "colab": {
          "base_uri": "https://localhost:8080/",
          "height": 689
        },
        "id": "oOOK05C7LxEp",
        "outputId": "d1ff4ccc-269d-4bc4-9616-ab8d200bdb8e"
      },
      "source": [
        "from sklearn.metrics import plot_confusion_matrix\n",
        "fig, ax = plt.subplots(figsize=(12,12))\n",
        "plot_confusion_matrix(RF_clf, X_test, y_test,\n",
        "                      cmap=\"gist_ncar_r\",\n",
        "                      display_labels=relev_events,\n",
        "                      normalize=\"all\",\n",
        "                      ax=ax)\n",
        "plt.show()\n",
        "plt.savefig(\"figures/confusion_matrix_RF.png\", dpi=300)"
      ],
      "execution_count": 229,
      "outputs": [
        {
          "output_type": "display_data",
          "data": {
            "image/png": "[encoded data removed]",
            "text/plain": [
              "<Figure size 864x864 with 2 Axes>"
            ]
          },
          "metadata": {
            "tags": []
          }
        }
      ]
    },
    {
      "cell_type": "markdown",
      "metadata": {
        "id": "uHsKeQKBlRyr"
      },
      "source": [
        "## Model with H$_2$O\n",
        "As an alternative to sklearn, we can use H$_2$O api lirbary to conduct a similar model"
      ]
    },
    {
      "cell_type": "markdown",
      "metadata": {
        "id": "Siuxto1Ckw7_"
      },
      "source": [
        "Install H2O for modeling"
      ]
    },
    {
      "cell_type": "code",
      "metadata": {
        "colab": {
          "base_uri": "https://localhost:8080/"
        },
        "id": "Ni8tQyAAkz3G",
        "outputId": "afaaaa2a-b412-42fe-882b-33d8efeb4e3f"
      },
      "source": [
        "!pip install h2o"
      ],
      "execution_count": 230,
      "outputs": [
        {
          "output_type": "stream",
          "text": [
            "Collecting h2o\n",
            "\u001b[?25l  Downloading https://files.pythonhosted.org/packages/95/b8/f8839b152e5b783b453a957432402e13350ca93b54741f0f848eee22bb08/h2o-3.32.1.2.tar.gz (164.8MB)\n",
            "\u001b[K     |████████████████████████████████| 164.8MB 79kB/s \n",
            "\u001b[?25hRequirement already satisfied: requests in /usr/local/lib/python3.7/dist-packages (from h2o) (2.23.0)\n",
            "Requirement already satisfied: tabulate in /usr/local/lib/python3.7/dist-packages (from h2o) (0.8.9)\n",
            "Requirement already satisfied: future in /usr/local/lib/python3.7/dist-packages (from h2o) (0.16.0)\n",
            "Collecting colorama>=0.3.8\n",
            "  Downloading https://files.pythonhosted.org/packages/44/98/5b86278fbbf250d239ae0ecb724f8572af1c91f4a11edf4d36a206189440/colorama-0.4.4-py2.py3-none-any.whl\n",
            "Requirement already satisfied: urllib3!=1.25.0,!=1.25.1,<1.26,>=1.21.1 in /usr/local/lib/python3.7/dist-packages (from requests->h2o) (1.24.3)\n",
            "Requirement already satisfied: certifi>=2017.4.17 in /usr/local/lib/python3.7/dist-packages (from requests->h2o) (2020.12.5)\n",
            "Requirement already satisfied: idna<3,>=2.5 in /usr/local/lib/python3.7/dist-packages (from requests->h2o) (2.10)\n",
            "Requirement already satisfied: chardet<4,>=3.0.2 in /usr/local/lib/python3.7/dist-packages (from requests->h2o) (3.0.4)\n",
            "Building wheels for collected packages: h2o\n",
            "  Building wheel for h2o (setup.py) ... \u001b[?25l\u001b[?25hdone\n",
            "  Created wheel for h2o: filename=h2o-3.32.1.2-py2.py3-none-any.whl size=164848811 sha256=b187e29e3d3ebbe5baaef50fb9f84a8ca55edd2418d341d54c43e1b8c76fee6a\n",
            "  Stored in directory: /root/.cache/pip/wheels/37/b6/c7/c1cfdcd471d476b2b5129f4d27a0fd89043858ee74eda7ee7a\n",
            "Successfully built h2o\n",
            "Installing collected packages: colorama, h2o\n",
            "Successfully installed colorama-0.4.4 h2o-3.32.1.2\n"
          ],
          "name": "stdout"
        }
      ]
    },
    {
      "cell_type": "code",
      "metadata": {
        "colab": {
          "base_uri": "https://localhost:8080/",
          "height": 555
        },
        "id": "OKJ_4ENDnM3W",
        "outputId": "532d2882-252a-4e28-9bf3-582ae761ab93"
      },
      "source": [
        "import h2o\n",
        "from h2o.estimators import H2ORandomForestEstimator\n",
        "# Instantiate h2o in workspace\n",
        "h2o.init()"
      ],
      "execution_count": 232,
      "outputs": [
        {
          "output_type": "stream",
          "text": [
            "Checking whether there is an H2O instance running at http://localhost:54321 ..... not found.\n",
            "Attempting to start a local H2O server...\n",
            "  Java Version: openjdk version \"11.0.10\" 2021-01-19; OpenJDK Runtime Environment (build 11.0.10+9-Ubuntu-0ubuntu1.18.04); OpenJDK 64-Bit Server VM (build 11.0.10+9-Ubuntu-0ubuntu1.18.04, mixed mode, sharing)\n",
            "  Starting server from /usr/local/lib/python3.7/dist-packages/h2o/backend/bin/h2o.jar\n",
            "  Ice root: /tmp/tmpdelbw2ee\n",
            "  JVM stdout: /tmp/tmpdelbw2ee/h2o_unknownUser_started_from_python.out\n",
            "  JVM stderr: /tmp/tmpdelbw2ee/h2o_unknownUser_started_from_python.err\n",
            "  Server is running at http://127.0.0.1:54321\n",
            "Connecting to H2O server at http://127.0.0.1:54321 ... successful.\n"
          ],
          "name": "stdout"
        },
        {
          "output_type": "display_data",
          "data": {
            "text/html": [
              "<div style=\"overflow:auto\"><table style=\"width:50%\"><tr><td>H2O_cluster_uptime:</td>\n",
              "<td>03 secs</td></tr>\n",
              "<tr><td>H2O_cluster_timezone:</td>\n",
              "<td>Etc/UTC</td></tr>\n",
              "<tr><td>H2O_data_parsing_timezone:</td>\n",
              "<td>UTC</td></tr>\n",
              "<tr><td>H2O_cluster_version:</td>\n",
              "<td>3.32.1.2</td></tr>\n",
              "<tr><td>H2O_cluster_version_age:</td>\n",
              "<td>2 days </td></tr>\n",
              "<tr><td>H2O_cluster_name:</td>\n",
              "<td>H2O_from_python_unknownUser_jios4y</td></tr>\n",
              "<tr><td>H2O_cluster_total_nodes:</td>\n",
              "<td>1</td></tr>\n",
              "<tr><td>H2O_cluster_free_memory:</td>\n",
              "<td>3.180 Gb</td></tr>\n",
              "<tr><td>H2O_cluster_total_cores:</td>\n",
              "<td>2</td></tr>\n",
              "<tr><td>H2O_cluster_allowed_cores:</td>\n",
              "<td>2</td></tr>\n",
              "<tr><td>H2O_cluster_status:</td>\n",
              "<td>accepting new members, healthy</td></tr>\n",
              "<tr><td>H2O_connection_url:</td>\n",
              "<td>http://127.0.0.1:54321</td></tr>\n",
              "<tr><td>H2O_connection_proxy:</td>\n",
              "<td>{\"http\": null, \"https\": null}</td></tr>\n",
              "<tr><td>H2O_internal_security:</td>\n",
              "<td>False</td></tr>\n",
              "<tr><td>H2O_API_Extensions:</td>\n",
              "<td>Amazon S3, XGBoost, Algos, AutoML, Core V3, TargetEncoder, Core V4</td></tr>\n",
              "<tr><td>Python_version:</td>\n",
              "<td>3.7.10 final</td></tr></table></div>"
            ],
            "text/plain": [
              "--------------------------  ------------------------------------------------------------------\n",
              "H2O_cluster_uptime:         03 secs\n",
              "H2O_cluster_timezone:       Etc/UTC\n",
              "H2O_data_parsing_timezone:  UTC\n",
              "H2O_cluster_version:        3.32.1.2\n",
              "H2O_cluster_version_age:    2 days\n",
              "H2O_cluster_name:           H2O_from_python_unknownUser_jios4y\n",
              "H2O_cluster_total_nodes:    1\n",
              "H2O_cluster_free_memory:    3.180 Gb\n",
              "H2O_cluster_total_cores:    2\n",
              "H2O_cluster_allowed_cores:  2\n",
              "H2O_cluster_status:         accepting new members, healthy\n",
              "H2O_connection_url:         http://127.0.0.1:54321\n",
              "H2O_connection_proxy:       {\"http\": null, \"https\": null}\n",
              "H2O_internal_security:      False\n",
              "H2O_API_Extensions:         Amazon S3, XGBoost, Algos, AutoML, Core V3, TargetEncoder, Core V4\n",
              "Python_version:             3.7.10 final\n",
              "--------------------------  ------------------------------------------------------------------"
            ]
          },
          "metadata": {
            "tags": []
          }
        }
      ]
    },
    {
      "cell_type": "code",
      "metadata": {
        "id": "lYaXNFg0P5Jg"
      },
      "source": [
        "feat_list = df_prepped.iloc[:,1:].columns.to_list()"
      ],
      "execution_count": 235,
      "outputs": []
    },
    {
      "cell_type": "code",
      "metadata": {
        "colab": {
          "base_uri": "https://localhost:8080/"
        },
        "id": "QNBmILMYlguu",
        "outputId": "31ea3e21-7769-4f53-bdf2-ca64618136e2"
      },
      "source": [
        "# Establish data to be modeled\n",
        "data = h2o.import_file(\"df_prepped.csv\")\n",
        "# Target variable\n",
        "response = \"event_new\"\n",
        "# Features\n",
        "data[\"score_delta\"] = data[\"p_score\"] - data[\"b_score\"]\n",
        "feats = feat_list+[\"score_delta\"]"
      ],
      "execution_count": 239,
      "outputs": [
        {
          "output_type": "stream",
          "text": [
            "Parse progress: |█████████████████████████████████████████████████████████| 100%\n"
          ],
          "name": "stdout"
        }
      ]
    },
    {
      "cell_type": "markdown",
      "metadata": {
        "id": "RGGKfqfPmfjx"
      },
      "source": [
        "Train-test-split the data into training and testing dataframes"
      ]
    },
    {
      "cell_type": "code",
      "metadata": {
        "id": "QJ4Wj1xXme2Y"
      },
      "source": [
        "# Split data into train and testing\n",
        "train, test = data.split_frame(ratios=[0.8])"
      ],
      "execution_count": 240,
      "outputs": []
    },
    {
      "cell_type": "markdown",
      "metadata": {
        "id": "_6IFP__emocX"
      },
      "source": [
        "Establish RF Classifier Model\n",
        "\n",
        "On first attempt, this model took 41 min to run.\n",
        "\n",
        "After running the model, save it to `model_path`. This will now be in the Colab folder under \"mdl_event_edit\""
      ]
    },
    {
      "cell_type": "code",
      "metadata": {
        "colab": {
          "base_uri": "https://localhost:8080/"
        },
        "id": "Ze9TCCm_mrBX",
        "outputId": "6eb38153-4747-4bcc-afa3-00444a9d93d8"
      },
      "source": [
        "# Define model\n",
        "model = H2ORandomForestEstimator(max_depth=5, nfolds=10, seed=42)\n",
        "\n",
        "# Train model\n",
        "model.train(x=feats, y=response, training_frame=train)\n",
        "model_path = h2o.save_model(model=model, path=\"mdl_event_edit\", force=True)"
      ],
      "execution_count": 241,
      "outputs": [
        {
          "output_type": "stream",
          "text": [
            "drf Model Build progress: |███████████████████████████████████████████████| 100%\n"
          ],
          "name": "stdout"
        }
      ]
    },
    {
      "cell_type": "markdown",
      "metadata": {
        "id": "Uu4p1LjAm5_m"
      },
      "source": [
        "Examine Performance\n"
      ]
    },
    {
      "cell_type": "code",
      "metadata": {
        "colab": {
          "base_uri": "https://localhost:8080/",
          "height": 798
        },
        "id": "xkThCI-xm9Pe",
        "outputId": "71ac948b-311d-4ba0-9048-44efb4c33f9c"
      },
      "source": [
        "# Model performance\n",
        "performance = model.model_performance(test_data=test)\n",
        "\n",
        "print(performance)"
      ],
      "execution_count": 242,
      "outputs": [
        {
          "output_type": "stream",
          "text": [
            "\n",
            "ModelMetricsMultinomial: drf\n",
            "** Reported on test data. **\n",
            "\n",
            "MSE: 0.5244604220836859\n",
            "RMSE: 0.7241963974528498\n",
            "LogLoss: 1.394454985480229\n",
            "Mean Per-Class Error: 0.7945646081392163\n",
            "AUC: NaN\n",
            "AUCPR: NaN\n",
            "Multinomial auc values: Table is not computed because it is disabled (model parameter 'auc_type' is set to AUTO or NONE) or due to domain size (maximum is 50 domains).\n",
            "Multinomial auc_pr values: Table is not computed because it is disabled (model parameter 'auc_type' is set to AUTO or NONE) or due to domain size (maximum is 50 domains).\n",
            "\n",
            "Confusion Matrix: Row labels: Actual class; Column labels: Predicted class\n"
          ],
          "name": "stdout"
        },
        {
          "output_type": "display_data",
          "data": {
            "text/html": [
              "<div>\n",
              "<style scoped>\n",
              "    .dataframe tbody tr th:only-of-type {\n",
              "        vertical-align: middle;\n",
              "    }\n",
              "\n",
              "    .dataframe tbody tr th {\n",
              "        vertical-align: top;\n",
              "    }\n",
              "\n",
              "    .dataframe thead th {\n",
              "        text-align: right;\n",
              "    }\n",
              "</style>\n",
              "<table border=\"1\" class=\"dataframe\">\n",
              "  <thead>\n",
              "    <tr style=\"text-align: right;\">\n",
              "      <th></th>\n",
              "      <th>Def Out</th>\n",
              "      <th>HR</th>\n",
              "      <th>Non-HR Hit</th>\n",
              "      <th>Other</th>\n",
              "      <th>Strikeout</th>\n",
              "      <th>Walk</th>\n",
              "      <th>Error</th>\n",
              "      <th>Rate</th>\n",
              "    </tr>\n",
              "  </thead>\n",
              "  <tbody>\n",
              "    <tr>\n",
              "      <th>0</th>\n",
              "      <td>45803.0</td>\n",
              "      <td>0.0</td>\n",
              "      <td>0.0</td>\n",
              "      <td>0.0</td>\n",
              "      <td>6887.0</td>\n",
              "      <td>1898.0</td>\n",
              "      <td>0.160933</td>\n",
              "      <td>8,785 / 54,588</td>\n",
              "    </tr>\n",
              "    <tr>\n",
              "      <th>1</th>\n",
              "      <td>3844.0</td>\n",
              "      <td>0.0</td>\n",
              "      <td>0.0</td>\n",
              "      <td>0.0</td>\n",
              "      <td>521.0</td>\n",
              "      <td>193.0</td>\n",
              "      <td>1.000000</td>\n",
              "      <td>4,558 / 4,558</td>\n",
              "    </tr>\n",
              "    <tr>\n",
              "      <th>2</th>\n",
              "      <td>19864.0</td>\n",
              "      <td>0.0</td>\n",
              "      <td>0.0</td>\n",
              "      <td>0.0</td>\n",
              "      <td>2926.0</td>\n",
              "      <td>790.0</td>\n",
              "      <td>1.000000</td>\n",
              "      <td>23,580 / 23,580</td>\n",
              "    </tr>\n",
              "    <tr>\n",
              "      <th>3</th>\n",
              "      <td>846.0</td>\n",
              "      <td>0.0</td>\n",
              "      <td>0.0</td>\n",
              "      <td>0.0</td>\n",
              "      <td>147.0</td>\n",
              "      <td>47.0</td>\n",
              "      <td>1.000000</td>\n",
              "      <td>1,040 / 1,040</td>\n",
              "    </tr>\n",
              "    <tr>\n",
              "      <th>4</th>\n",
              "      <td>29884.0</td>\n",
              "      <td>0.0</td>\n",
              "      <td>0.0</td>\n",
              "      <td>0.0</td>\n",
              "      <td>9413.0</td>\n",
              "      <td>1261.0</td>\n",
              "      <td>0.767913</td>\n",
              "      <td>31,145 / 40,558</td>\n",
              "    </tr>\n",
              "    <tr>\n",
              "      <th>5</th>\n",
              "      <td>13050.0</td>\n",
              "      <td>0.0</td>\n",
              "      <td>0.0</td>\n",
              "      <td>0.0</td>\n",
              "      <td>2619.0</td>\n",
              "      <td>3017.0</td>\n",
              "      <td>0.838542</td>\n",
              "      <td>15,669 / 18,686</td>\n",
              "    </tr>\n",
              "    <tr>\n",
              "      <th>6</th>\n",
              "      <td>113291.0</td>\n",
              "      <td>0.0</td>\n",
              "      <td>0.0</td>\n",
              "      <td>0.0</td>\n",
              "      <td>22513.0</td>\n",
              "      <td>7206.0</td>\n",
              "      <td>0.592805</td>\n",
              "      <td>84,777 / 143,010</td>\n",
              "    </tr>\n",
              "  </tbody>\n",
              "</table>\n",
              "</div>"
            ],
            "text/plain": [
              "    Def Out   HR  Non-HR Hit  ...    Walk     Error              Rate\n",
              "0   45803.0  0.0         0.0  ...  1898.0  0.160933    8,785 / 54,588\n",
              "1    3844.0  0.0         0.0  ...   193.0  1.000000     4,558 / 4,558\n",
              "2   19864.0  0.0         0.0  ...   790.0  1.000000   23,580 / 23,580\n",
              "3     846.0  0.0         0.0  ...    47.0  1.000000     1,040 / 1,040\n",
              "4   29884.0  0.0         0.0  ...  1261.0  0.767913   31,145 / 40,558\n",
              "5   13050.0  0.0         0.0  ...  3017.0  0.838542   15,669 / 18,686\n",
              "6  113291.0  0.0         0.0  ...  7206.0  0.592805  84,777 / 143,010\n",
              "\n",
              "[7 rows x 8 columns]"
            ]
          },
          "metadata": {
            "tags": []
          }
        },
        {
          "output_type": "stream",
          "text": [
            "\n",
            "Top-6 Hit Ratios: \n"
          ],
          "name": "stdout"
        },
        {
          "output_type": "display_data",
          "data": {
            "text/html": [
              "<div>\n",
              "<style scoped>\n",
              "    .dataframe tbody tr th:only-of-type {\n",
              "        vertical-align: middle;\n",
              "    }\n",
              "\n",
              "    .dataframe tbody tr th {\n",
              "        vertical-align: top;\n",
              "    }\n",
              "\n",
              "    .dataframe thead th {\n",
              "        text-align: right;\n",
              "    }\n",
              "</style>\n",
              "<table border=\"1\" class=\"dataframe\">\n",
              "  <thead>\n",
              "    <tr style=\"text-align: right;\">\n",
              "      <th></th>\n",
              "      <th>k</th>\n",
              "      <th>hit_ratio</th>\n",
              "    </tr>\n",
              "  </thead>\n",
              "  <tbody>\n",
              "    <tr>\n",
              "      <th>0</th>\n",
              "      <td>1</td>\n",
              "      <td>0.407195</td>\n",
              "    </tr>\n",
              "    <tr>\n",
              "      <th>1</th>\n",
              "      <td>2</td>\n",
              "      <td>0.678750</td>\n",
              "    </tr>\n",
              "    <tr>\n",
              "      <th>2</th>\n",
              "      <td>3</td>\n",
              "      <td>0.859206</td>\n",
              "    </tr>\n",
              "    <tr>\n",
              "      <th>3</th>\n",
              "      <td>4</td>\n",
              "      <td>0.960863</td>\n",
              "    </tr>\n",
              "    <tr>\n",
              "      <th>4</th>\n",
              "      <td>5</td>\n",
              "      <td>0.992749</td>\n",
              "    </tr>\n",
              "    <tr>\n",
              "      <th>5</th>\n",
              "      <td>6</td>\n",
              "      <td>1.000000</td>\n",
              "    </tr>\n",
              "  </tbody>\n",
              "</table>\n",
              "</div>"
            ],
            "text/plain": [
              "   k  hit_ratio\n",
              "0  1   0.407195\n",
              "1  2   0.678750\n",
              "2  3   0.859206\n",
              "3  4   0.960863\n",
              "4  5   0.992749\n",
              "5  6   1.000000"
            ]
          },
          "metadata": {
            "tags": []
          }
        },
        {
          "output_type": "stream",
          "text": [
            "\n"
          ],
          "name": "stdout"
        }
      ]
    },
    {
      "cell_type": "markdown",
      "metadata": {
        "id": "gwr-3k1JGCVI"
      },
      "source": [
        "Performance for each fold and a verbose summary of other metrics"
      ]
    },
    {
      "cell_type": "code",
      "metadata": {
        "colab": {
          "base_uri": "https://localhost:8080/",
          "height": 1000
        },
        "id": "qUZrqNM3FvJo",
        "outputId": "ba6200a6-4c99-460c-a967-cd2e7718785d"
      },
      "source": [
        "model.feature_frequencies"
      ],
      "execution_count": 243,
      "outputs": [
        {
          "output_type": "stream",
          "text": [
            "Model Details\n",
            "=============\n",
            "H2ORandomForestEstimator :  Distributed Random Forest\n",
            "Model Key:  DRF_model_python_1619944967047_1\n",
            "\n",
            "\n",
            "Model Summary: \n"
          ],
          "name": "stdout"
        },
        {
          "output_type": "display_data",
          "data": {
            "text/html": [
              "<div>\n",
              "<style scoped>\n",
              "    .dataframe tbody tr th:only-of-type {\n",
              "        vertical-align: middle;\n",
              "    }\n",
              "\n",
              "    .dataframe tbody tr th {\n",
              "        vertical-align: top;\n",
              "    }\n",
              "\n",
              "    .dataframe thead th {\n",
              "        text-align: right;\n",
              "    }\n",
              "</style>\n",
              "<table border=\"1\" class=\"dataframe\">\n",
              "  <thead>\n",
              "    <tr style=\"text-align: right;\">\n",
              "      <th></th>\n",
              "      <th></th>\n",
              "      <th>number_of_trees</th>\n",
              "      <th>number_of_internal_trees</th>\n",
              "      <th>model_size_in_bytes</th>\n",
              "      <th>min_depth</th>\n",
              "      <th>max_depth</th>\n",
              "      <th>mean_depth</th>\n",
              "      <th>min_leaves</th>\n",
              "      <th>max_leaves</th>\n",
              "      <th>mean_leaves</th>\n",
              "    </tr>\n",
              "  </thead>\n",
              "  <tbody>\n",
              "    <tr>\n",
              "      <th>0</th>\n",
              "      <td></td>\n",
              "      <td>50.0</td>\n",
              "      <td>300.0</td>\n",
              "      <td>135092.0</td>\n",
              "      <td>5.0</td>\n",
              "      <td>5.0</td>\n",
              "      <td>5.0</td>\n",
              "      <td>20.0</td>\n",
              "      <td>32.0</td>\n",
              "      <td>31.163334</td>\n",
              "    </tr>\n",
              "  </tbody>\n",
              "</table>\n",
              "</div>"
            ],
            "text/plain": [
              "     number_of_trees  ...  max_leaves  mean_leaves\n",
              "0               50.0  ...        32.0    31.163334\n",
              "\n",
              "[1 rows x 10 columns]"
            ]
          },
          "metadata": {
            "tags": []
          }
        },
        {
          "output_type": "stream",
          "text": [
            "\n",
            "\n",
            "ModelMetricsMultinomial: drf\n",
            "** Reported on train data. **\n",
            "\n",
            "MSE: 0.524773527673836\n",
            "RMSE: 0.7244125396994698\n",
            "LogLoss: 1.3947110793864854\n",
            "Mean Per-Class Error: 0.7950591036828754\n",
            "AUC: NaN\n",
            "AUCPR: NaN\n",
            "Multinomial auc values: Table is not computed because it is disabled (model parameter 'auc_type' is set to AUTO or NONE) or due to domain size (maximum is 50 domains).\n",
            "Multinomial auc_pr values: Table is not computed because it is disabled (model parameter 'auc_type' is set to AUTO or NONE) or due to domain size (maximum is 50 domains).\n",
            "\n",
            "Confusion Matrix: Row labels: Actual class; Column labels: Predicted class\n"
          ],
          "name": "stdout"
        },
        {
          "output_type": "display_data",
          "data": {
            "text/html": [
              "<div>\n",
              "<style scoped>\n",
              "    .dataframe tbody tr th:only-of-type {\n",
              "        vertical-align: middle;\n",
              "    }\n",
              "\n",
              "    .dataframe tbody tr th {\n",
              "        vertical-align: top;\n",
              "    }\n",
              "\n",
              "    .dataframe thead th {\n",
              "        text-align: right;\n",
              "    }\n",
              "</style>\n",
              "<table border=\"1\" class=\"dataframe\">\n",
              "  <thead>\n",
              "    <tr style=\"text-align: right;\">\n",
              "      <th></th>\n",
              "      <th>Def Out</th>\n",
              "      <th>HR</th>\n",
              "      <th>Non-HR Hit</th>\n",
              "      <th>Other</th>\n",
              "      <th>Strikeout</th>\n",
              "      <th>Walk</th>\n",
              "      <th>Error</th>\n",
              "      <th>Rate</th>\n",
              "    </tr>\n",
              "  </thead>\n",
              "  <tbody>\n",
              "    <tr>\n",
              "      <th>0</th>\n",
              "      <td>181947.0</td>\n",
              "      <td>0.0</td>\n",
              "      <td>0.0</td>\n",
              "      <td>0.0</td>\n",
              "      <td>27960.0</td>\n",
              "      <td>7415.0</td>\n",
              "      <td>0.162777</td>\n",
              "      <td>35,375 / 217,322</td>\n",
              "    </tr>\n",
              "    <tr>\n",
              "      <th>1</th>\n",
              "      <td>14897.0</td>\n",
              "      <td>5.0</td>\n",
              "      <td>0.0</td>\n",
              "      <td>0.0</td>\n",
              "      <td>2213.0</td>\n",
              "      <td>772.0</td>\n",
              "      <td>0.999720</td>\n",
              "      <td>17,882 / 17,887</td>\n",
              "    </tr>\n",
              "    <tr>\n",
              "      <th>2</th>\n",
              "      <td>79738.0</td>\n",
              "      <td>0.0</td>\n",
              "      <td>0.0</td>\n",
              "      <td>0.0</td>\n",
              "      <td>12040.0</td>\n",
              "      <td>3160.0</td>\n",
              "      <td>1.000000</td>\n",
              "      <td>94,938 / 94,938</td>\n",
              "    </tr>\n",
              "    <tr>\n",
              "      <th>3</th>\n",
              "      <td>3478.0</td>\n",
              "      <td>0.0</td>\n",
              "      <td>0.0</td>\n",
              "      <td>0.0</td>\n",
              "      <td>537.0</td>\n",
              "      <td>132.0</td>\n",
              "      <td>1.000000</td>\n",
              "      <td>4,147 / 4,147</td>\n",
              "    </tr>\n",
              "    <tr>\n",
              "      <th>4</th>\n",
              "      <td>120318.0</td>\n",
              "      <td>0.0</td>\n",
              "      <td>0.0</td>\n",
              "      <td>0.0</td>\n",
              "      <td>38752.0</td>\n",
              "      <td>5079.0</td>\n",
              "      <td>0.763922</td>\n",
              "      <td>125,397 / 164,149</td>\n",
              "    </tr>\n",
              "    <tr>\n",
              "      <th>5</th>\n",
              "      <td>52423.0</td>\n",
              "      <td>0.0</td>\n",
              "      <td>0.0</td>\n",
              "      <td>0.0</td>\n",
              "      <td>10289.0</td>\n",
              "      <td>11597.0</td>\n",
              "      <td>0.843935</td>\n",
              "      <td>62,712 / 74,309</td>\n",
              "    </tr>\n",
              "    <tr>\n",
              "      <th>6</th>\n",
              "      <td>452801.0</td>\n",
              "      <td>5.0</td>\n",
              "      <td>0.0</td>\n",
              "      <td>0.0</td>\n",
              "      <td>91791.0</td>\n",
              "      <td>28155.0</td>\n",
              "      <td>0.594413</td>\n",
              "      <td>340,451 / 572,752</td>\n",
              "    </tr>\n",
              "  </tbody>\n",
              "</table>\n",
              "</div>"
            ],
            "text/plain": [
              "    Def Out   HR  Non-HR Hit  ...     Walk     Error               Rate\n",
              "0  181947.0  0.0         0.0  ...   7415.0  0.162777   35,375 / 217,322\n",
              "1   14897.0  5.0         0.0  ...    772.0  0.999720    17,882 / 17,887\n",
              "2   79738.0  0.0         0.0  ...   3160.0  1.000000    94,938 / 94,938\n",
              "3    3478.0  0.0         0.0  ...    132.0  1.000000      4,147 / 4,147\n",
              "4  120318.0  0.0         0.0  ...   5079.0  0.763922  125,397 / 164,149\n",
              "5   52423.0  0.0         0.0  ...  11597.0  0.843935    62,712 / 74,309\n",
              "6  452801.0  5.0         0.0  ...  28155.0  0.594413  340,451 / 572,752\n",
              "\n",
              "[7 rows x 8 columns]"
            ]
          },
          "metadata": {
            "tags": []
          }
        },
        {
          "output_type": "stream",
          "text": [
            "\n",
            "Top-6 Hit Ratios: \n"
          ],
          "name": "stdout"
        },
        {
          "output_type": "display_data",
          "data": {
            "text/html": [
              "<div>\n",
              "<style scoped>\n",
              "    .dataframe tbody tr th:only-of-type {\n",
              "        vertical-align: middle;\n",
              "    }\n",
              "\n",
              "    .dataframe tbody tr th {\n",
              "        vertical-align: top;\n",
              "    }\n",
              "\n",
              "    .dataframe thead th {\n",
              "        text-align: right;\n",
              "    }\n",
              "</style>\n",
              "<table border=\"1\" class=\"dataframe\">\n",
              "  <thead>\n",
              "    <tr style=\"text-align: right;\">\n",
              "      <th></th>\n",
              "      <th>k</th>\n",
              "      <th>hit_ratio</th>\n",
              "    </tr>\n",
              "  </thead>\n",
              "  <tbody>\n",
              "    <tr>\n",
              "      <th>0</th>\n",
              "      <td>1</td>\n",
              "      <td>0.405587</td>\n",
              "    </tr>\n",
              "    <tr>\n",
              "      <th>1</th>\n",
              "      <td>2</td>\n",
              "      <td>0.679273</td>\n",
              "    </tr>\n",
              "    <tr>\n",
              "      <th>2</th>\n",
              "      <td>3</td>\n",
              "      <td>0.858061</td>\n",
              "    </tr>\n",
              "    <tr>\n",
              "      <th>3</th>\n",
              "      <td>4</td>\n",
              "      <td>0.961556</td>\n",
              "    </tr>\n",
              "    <tr>\n",
              "      <th>4</th>\n",
              "      <td>5</td>\n",
              "      <td>0.992765</td>\n",
              "    </tr>\n",
              "    <tr>\n",
              "      <th>5</th>\n",
              "      <td>6</td>\n",
              "      <td>1.000000</td>\n",
              "    </tr>\n",
              "  </tbody>\n",
              "</table>\n",
              "</div>"
            ],
            "text/plain": [
              "   k  hit_ratio\n",
              "0  1   0.405587\n",
              "1  2   0.679273\n",
              "2  3   0.858061\n",
              "3  4   0.961556\n",
              "4  5   0.992765\n",
              "5  6   1.000000"
            ]
          },
          "metadata": {
            "tags": []
          }
        },
        {
          "output_type": "stream",
          "text": [
            "\n",
            "ModelMetricsMultinomial: drf\n",
            "** Reported on cross-validation data. **\n",
            "\n",
            "MSE: 0.524803709005949\n",
            "RMSE: 0.72443337099139\n",
            "LogLoss: 1.3945807271641213\n",
            "Mean Per-Class Error: 0.7950512795795007\n",
            "AUC: NaN\n",
            "AUCPR: NaN\n",
            "Multinomial auc values: Table is not computed because it is disabled (model parameter 'auc_type' is set to AUTO or NONE) or due to domain size (maximum is 50 domains).\n",
            "Multinomial auc_pr values: Table is not computed because it is disabled (model parameter 'auc_type' is set to AUTO or NONE) or due to domain size (maximum is 50 domains).\n",
            "\n",
            "Confusion Matrix: Row labels: Actual class; Column labels: Predicted class\n"
          ],
          "name": "stdout"
        },
        {
          "output_type": "display_data",
          "data": {
            "text/html": [
              "<div>\n",
              "<style scoped>\n",
              "    .dataframe tbody tr th:only-of-type {\n",
              "        vertical-align: middle;\n",
              "    }\n",
              "\n",
              "    .dataframe tbody tr th {\n",
              "        vertical-align: top;\n",
              "    }\n",
              "\n",
              "    .dataframe thead th {\n",
              "        text-align: right;\n",
              "    }\n",
              "</style>\n",
              "<table border=\"1\" class=\"dataframe\">\n",
              "  <thead>\n",
              "    <tr style=\"text-align: right;\">\n",
              "      <th></th>\n",
              "      <th>Def Out</th>\n",
              "      <th>HR</th>\n",
              "      <th>Non-HR Hit</th>\n",
              "      <th>Other</th>\n",
              "      <th>Strikeout</th>\n",
              "      <th>Walk</th>\n",
              "      <th>Error</th>\n",
              "      <th>Rate</th>\n",
              "    </tr>\n",
              "  </thead>\n",
              "  <tbody>\n",
              "    <tr>\n",
              "      <th>0</th>\n",
              "      <td>182700.0</td>\n",
              "      <td>1.0</td>\n",
              "      <td>1.0</td>\n",
              "      <td>0.0</td>\n",
              "      <td>27083.0</td>\n",
              "      <td>7537.0</td>\n",
              "      <td>0.159312</td>\n",
              "      <td>34,622 / 217,322</td>\n",
              "    </tr>\n",
              "    <tr>\n",
              "      <th>1</th>\n",
              "      <td>14940.0</td>\n",
              "      <td>1.0</td>\n",
              "      <td>0.0</td>\n",
              "      <td>0.0</td>\n",
              "      <td>2139.0</td>\n",
              "      <td>807.0</td>\n",
              "      <td>0.999944</td>\n",
              "      <td>17,886 / 17,887</td>\n",
              "    </tr>\n",
              "    <tr>\n",
              "      <th>2</th>\n",
              "      <td>80108.0</td>\n",
              "      <td>0.0</td>\n",
              "      <td>0.0</td>\n",
              "      <td>0.0</td>\n",
              "      <td>11614.0</td>\n",
              "      <td>3216.0</td>\n",
              "      <td>1.000000</td>\n",
              "      <td>94,938 / 94,938</td>\n",
              "    </tr>\n",
              "    <tr>\n",
              "      <th>3</th>\n",
              "      <td>3513.0</td>\n",
              "      <td>0.0</td>\n",
              "      <td>0.0</td>\n",
              "      <td>0.0</td>\n",
              "      <td>507.0</td>\n",
              "      <td>127.0</td>\n",
              "      <td>1.000000</td>\n",
              "      <td>4,147 / 4,147</td>\n",
              "    </tr>\n",
              "    <tr>\n",
              "      <th>4</th>\n",
              "      <td>121320.0</td>\n",
              "      <td>0.0</td>\n",
              "      <td>0.0</td>\n",
              "      <td>0.0</td>\n",
              "      <td>37724.0</td>\n",
              "      <td>5105.0</td>\n",
              "      <td>0.770184</td>\n",
              "      <td>126,425 / 164,149</td>\n",
              "    </tr>\n",
              "    <tr>\n",
              "      <th>5</th>\n",
              "      <td>52271.0</td>\n",
              "      <td>0.0</td>\n",
              "      <td>0.0</td>\n",
              "      <td>0.0</td>\n",
              "      <td>10213.0</td>\n",
              "      <td>11825.0</td>\n",
              "      <td>0.840867</td>\n",
              "      <td>62,484 / 74,309</td>\n",
              "    </tr>\n",
              "    <tr>\n",
              "      <th>6</th>\n",
              "      <td>454852.0</td>\n",
              "      <td>2.0</td>\n",
              "      <td>1.0</td>\n",
              "      <td>0.0</td>\n",
              "      <td>89280.0</td>\n",
              "      <td>28617.0</td>\n",
              "      <td>0.594502</td>\n",
              "      <td>340,502 / 572,752</td>\n",
              "    </tr>\n",
              "  </tbody>\n",
              "</table>\n",
              "</div>"
            ],
            "text/plain": [
              "    Def Out   HR  Non-HR Hit  ...     Walk     Error               Rate\n",
              "0  182700.0  1.0         1.0  ...   7537.0  0.159312   34,622 / 217,322\n",
              "1   14940.0  1.0         0.0  ...    807.0  0.999944    17,886 / 17,887\n",
              "2   80108.0  0.0         0.0  ...   3216.0  1.000000    94,938 / 94,938\n",
              "3    3513.0  0.0         0.0  ...    127.0  1.000000      4,147 / 4,147\n",
              "4  121320.0  0.0         0.0  ...   5105.0  0.770184  126,425 / 164,149\n",
              "5   52271.0  0.0         0.0  ...  11825.0  0.840867    62,484 / 74,309\n",
              "6  454852.0  2.0         1.0  ...  28617.0  0.594502  340,502 / 572,752\n",
              "\n",
              "[7 rows x 8 columns]"
            ]
          },
          "metadata": {
            "tags": []
          }
        },
        {
          "output_type": "stream",
          "text": [
            "\n",
            "Top-6 Hit Ratios: \n"
          ],
          "name": "stdout"
        },
        {
          "output_type": "display_data",
          "data": {
            "text/html": [
              "<div>\n",
              "<style scoped>\n",
              "    .dataframe tbody tr th:only-of-type {\n",
              "        vertical-align: middle;\n",
              "    }\n",
              "\n",
              "    .dataframe tbody tr th {\n",
              "        vertical-align: top;\n",
              "    }\n",
              "\n",
              "    .dataframe thead th {\n",
              "        text-align: right;\n",
              "    }\n",
              "</style>\n",
              "<table border=\"1\" class=\"dataframe\">\n",
              "  <thead>\n",
              "    <tr style=\"text-align: right;\">\n",
              "      <th></th>\n",
              "      <th>k</th>\n",
              "      <th>hit_ratio</th>\n",
              "    </tr>\n",
              "  </thead>\n",
              "  <tbody>\n",
              "    <tr>\n",
              "      <th>0</th>\n",
              "      <td>1</td>\n",
              "      <td>0.405498</td>\n",
              "    </tr>\n",
              "    <tr>\n",
              "      <th>1</th>\n",
              "      <td>2</td>\n",
              "      <td>0.678987</td>\n",
              "    </tr>\n",
              "    <tr>\n",
              "      <th>2</th>\n",
              "      <td>3</td>\n",
              "      <td>0.858344</td>\n",
              "    </tr>\n",
              "    <tr>\n",
              "      <th>3</th>\n",
              "      <td>4</td>\n",
              "      <td>0.961551</td>\n",
              "    </tr>\n",
              "    <tr>\n",
              "      <th>4</th>\n",
              "      <td>5</td>\n",
              "      <td>0.992760</td>\n",
              "    </tr>\n",
              "    <tr>\n",
              "      <th>5</th>\n",
              "      <td>6</td>\n",
              "      <td>1.000000</td>\n",
              "    </tr>\n",
              "  </tbody>\n",
              "</table>\n",
              "</div>"
            ],
            "text/plain": [
              "   k  hit_ratio\n",
              "0  1   0.405498\n",
              "1  2   0.678987\n",
              "2  3   0.858344\n",
              "3  4   0.961551\n",
              "4  5   0.992760\n",
              "5  6   1.000000"
            ]
          },
          "metadata": {
            "tags": []
          }
        },
        {
          "output_type": "stream",
          "text": [
            "\n",
            "Cross-Validation Metrics Summary: \n"
          ],
          "name": "stdout"
        },
        {
          "output_type": "display_data",
          "data": {
            "text/html": [
              "<div>\n",
              "<style scoped>\n",
              "    .dataframe tbody tr th:only-of-type {\n",
              "        vertical-align: middle;\n",
              "    }\n",
              "\n",
              "    .dataframe tbody tr th {\n",
              "        vertical-align: top;\n",
              "    }\n",
              "\n",
              "    .dataframe thead th {\n",
              "        text-align: right;\n",
              "    }\n",
              "</style>\n",
              "<table border=\"1\" class=\"dataframe\">\n",
              "  <thead>\n",
              "    <tr style=\"text-align: right;\">\n",
              "      <th></th>\n",
              "      <th></th>\n",
              "      <th>mean</th>\n",
              "      <th>sd</th>\n",
              "      <th>cv_1_valid</th>\n",
              "      <th>cv_2_valid</th>\n",
              "      <th>cv_3_valid</th>\n",
              "      <th>cv_4_valid</th>\n",
              "      <th>cv_5_valid</th>\n",
              "      <th>cv_6_valid</th>\n",
              "      <th>cv_7_valid</th>\n",
              "      <th>cv_8_valid</th>\n",
              "      <th>cv_9_valid</th>\n",
              "      <th>cv_10_valid</th>\n",
              "    </tr>\n",
              "  </thead>\n",
              "  <tbody>\n",
              "    <tr>\n",
              "      <th>0</th>\n",
              "      <td>accuracy</td>\n",
              "      <td>0.40549937</td>\n",
              "      <td>0.0021332395</td>\n",
              "      <td>0.40444803</td>\n",
              "      <td>0.40695015</td>\n",
              "      <td>0.4062817</td>\n",
              "      <td>0.40654254</td>\n",
              "      <td>0.40776378</td>\n",
              "      <td>0.40444994</td>\n",
              "      <td>0.40661338</td>\n",
              "      <td>0.40683225</td>\n",
              "      <td>0.40473238</td>\n",
              "      <td>0.40037966</td>\n",
              "    </tr>\n",
              "    <tr>\n",
              "      <th>1</th>\n",
              "      <td>auc</td>\n",
              "      <td>NaN</td>\n",
              "      <td>0.0</td>\n",
              "      <td>NaN</td>\n",
              "      <td>NaN</td>\n",
              "      <td>NaN</td>\n",
              "      <td>NaN</td>\n",
              "      <td>NaN</td>\n",
              "      <td>NaN</td>\n",
              "      <td>NaN</td>\n",
              "      <td>NaN</td>\n",
              "      <td>NaN</td>\n",
              "      <td>NaN</td>\n",
              "    </tr>\n",
              "    <tr>\n",
              "      <th>2</th>\n",
              "      <td>aucpr</td>\n",
              "      <td>NaN</td>\n",
              "      <td>0.0</td>\n",
              "      <td>NaN</td>\n",
              "      <td>NaN</td>\n",
              "      <td>NaN</td>\n",
              "      <td>NaN</td>\n",
              "      <td>NaN</td>\n",
              "      <td>NaN</td>\n",
              "      <td>NaN</td>\n",
              "      <td>NaN</td>\n",
              "      <td>NaN</td>\n",
              "      <td>NaN</td>\n",
              "    </tr>\n",
              "    <tr>\n",
              "      <th>3</th>\n",
              "      <td>err</td>\n",
              "      <td>0.5945006</td>\n",
              "      <td>0.0021332395</td>\n",
              "      <td>0.59555197</td>\n",
              "      <td>0.5930499</td>\n",
              "      <td>0.5937183</td>\n",
              "      <td>0.59345746</td>\n",
              "      <td>0.5922362</td>\n",
              "      <td>0.59555006</td>\n",
              "      <td>0.5933866</td>\n",
              "      <td>0.5931678</td>\n",
              "      <td>0.59526765</td>\n",
              "      <td>0.59962034</td>\n",
              "    </tr>\n",
              "    <tr>\n",
              "      <th>4</th>\n",
              "      <td>err_count</td>\n",
              "      <td>34050.2</td>\n",
              "      <td>160.60774</td>\n",
              "      <td>34062.0</td>\n",
              "      <td>33961.0</td>\n",
              "      <td>33950.0</td>\n",
              "      <td>33852.0</td>\n",
              "      <td>34037.0</td>\n",
              "      <td>34181.0</td>\n",
              "      <td>33934.0</td>\n",
              "      <td>34033.0</td>\n",
              "      <td>34063.0</td>\n",
              "      <td>34429.0</td>\n",
              "    </tr>\n",
              "    <tr>\n",
              "      <th>5</th>\n",
              "      <td>logloss</td>\n",
              "      <td>1.3945813</td>\n",
              "      <td>0.0028661175</td>\n",
              "      <td>1.3929193</td>\n",
              "      <td>1.3880005</td>\n",
              "      <td>1.3961605</td>\n",
              "      <td>1.394834</td>\n",
              "      <td>1.3940411</td>\n",
              "      <td>1.3940126</td>\n",
              "      <td>1.3974584</td>\n",
              "      <td>1.3936613</td>\n",
              "      <td>1.3975782</td>\n",
              "      <td>1.3971469</td>\n",
              "    </tr>\n",
              "    <tr>\n",
              "      <th>6</th>\n",
              "      <td>max_per_class_error</td>\n",
              "      <td>1.0</td>\n",
              "      <td>0.0</td>\n",
              "      <td>1.0</td>\n",
              "      <td>1.0</td>\n",
              "      <td>1.0</td>\n",
              "      <td>1.0</td>\n",
              "      <td>1.0</td>\n",
              "      <td>1.0</td>\n",
              "      <td>1.0</td>\n",
              "      <td>1.0</td>\n",
              "      <td>1.0</td>\n",
              "      <td>1.0</td>\n",
              "    </tr>\n",
              "    <tr>\n",
              "      <th>7</th>\n",
              "      <td>mean_per_class_accuracy</td>\n",
              "      <td>0.20494916</td>\n",
              "      <td>5.5803626E-4</td>\n",
              "      <td>0.20446391</td>\n",
              "      <td>0.20446157</td>\n",
              "      <td>0.20448679</td>\n",
              "      <td>0.20578167</td>\n",
              "      <td>0.20554262</td>\n",
              "      <td>0.2045857</td>\n",
              "      <td>0.20538</td>\n",
              "      <td>0.20563065</td>\n",
              "      <td>0.20466521</td>\n",
              "      <td>0.20449351</td>\n",
              "    </tr>\n",
              "    <tr>\n",
              "      <th>8</th>\n",
              "      <td>mean_per_class_error</td>\n",
              "      <td>0.79505086</td>\n",
              "      <td>5.5803626E-4</td>\n",
              "      <td>0.7955361</td>\n",
              "      <td>0.7955384</td>\n",
              "      <td>0.7955132</td>\n",
              "      <td>0.79421836</td>\n",
              "      <td>0.7944574</td>\n",
              "      <td>0.79541427</td>\n",
              "      <td>0.79462004</td>\n",
              "      <td>0.79436934</td>\n",
              "      <td>0.79533476</td>\n",
              "      <td>0.7955065</td>\n",
              "    </tr>\n",
              "    <tr>\n",
              "      <th>9</th>\n",
              "      <td>mse</td>\n",
              "      <td>0.5248036</td>\n",
              "      <td>7.174183E-4</td>\n",
              "      <td>0.52465063</td>\n",
              "      <td>0.5232856</td>\n",
              "      <td>0.5249154</td>\n",
              "      <td>0.5244956</td>\n",
              "      <td>0.5244129</td>\n",
              "      <td>0.5249602</td>\n",
              "      <td>0.5253434</td>\n",
              "      <td>0.52456164</td>\n",
              "      <td>0.5255566</td>\n",
              "      <td>0.5258538</td>\n",
              "    </tr>\n",
              "    <tr>\n",
              "      <th>10</th>\n",
              "      <td>pr_auc</td>\n",
              "      <td>NaN</td>\n",
              "      <td>0.0</td>\n",
              "      <td>NaN</td>\n",
              "      <td>NaN</td>\n",
              "      <td>NaN</td>\n",
              "      <td>NaN</td>\n",
              "      <td>NaN</td>\n",
              "      <td>NaN</td>\n",
              "      <td>NaN</td>\n",
              "      <td>NaN</td>\n",
              "      <td>NaN</td>\n",
              "      <td>NaN</td>\n",
              "    </tr>\n",
              "    <tr>\n",
              "      <th>11</th>\n",
              "      <td>r2</td>\n",
              "      <td>0.86325634</td>\n",
              "      <td>4.204016E-4</td>\n",
              "      <td>0.8630345</td>\n",
              "      <td>0.8638243</td>\n",
              "      <td>0.863362</td>\n",
              "      <td>0.8631955</td>\n",
              "      <td>0.86320513</td>\n",
              "      <td>0.8633511</td>\n",
              "      <td>0.8626991</td>\n",
              "      <td>0.8640211</td>\n",
              "      <td>0.8627222</td>\n",
              "      <td>0.86314857</td>\n",
              "    </tr>\n",
              "    <tr>\n",
              "      <th>12</th>\n",
              "      <td>rmse</td>\n",
              "      <td>0.7244331</td>\n",
              "      <td>4.9525325E-4</td>\n",
              "      <td>0.7243277</td>\n",
              "      <td>0.7233848</td>\n",
              "      <td>0.7245105</td>\n",
              "      <td>0.7242207</td>\n",
              "      <td>0.7241636</td>\n",
              "      <td>0.72454137</td>\n",
              "      <td>0.7248058</td>\n",
              "      <td>0.72426623</td>\n",
              "      <td>0.7249529</td>\n",
              "      <td>0.7251578</td>\n",
              "    </tr>\n",
              "  </tbody>\n",
              "</table>\n",
              "</div>"
            ],
            "text/plain": [
              "                                   mean  ...  cv_9_valid cv_10_valid\n",
              "0                  accuracy  0.40549937  ...  0.40473238  0.40037966\n",
              "1                       auc         NaN  ...         NaN         NaN\n",
              "2                     aucpr         NaN  ...         NaN         NaN\n",
              "3                       err   0.5945006  ...  0.59526765  0.59962034\n",
              "4                 err_count     34050.2  ...     34063.0     34429.0\n",
              "5                   logloss   1.3945813  ...   1.3975782   1.3971469\n",
              "6       max_per_class_error         1.0  ...         1.0         1.0\n",
              "7   mean_per_class_accuracy  0.20494916  ...  0.20466521  0.20449351\n",
              "8      mean_per_class_error  0.79505086  ...  0.79533476   0.7955065\n",
              "9                       mse   0.5248036  ...   0.5255566   0.5258538\n",
              "10                   pr_auc         NaN  ...         NaN         NaN\n",
              "11                       r2  0.86325634  ...   0.8627222  0.86314857\n",
              "12                     rmse   0.7244331  ...   0.7249529   0.7251578\n",
              "\n",
              "[13 rows x 13 columns]"
            ]
          },
          "metadata": {
            "tags": []
          }
        },
        {
          "output_type": "stream",
          "text": [
            "\n",
            "Scoring History: \n"
          ],
          "name": "stdout"
        },
        {
          "output_type": "display_data",
          "data": {
            "text/html": [
              "<div>\n",
              "<style scoped>\n",
              "    .dataframe tbody tr th:only-of-type {\n",
              "        vertical-align: middle;\n",
              "    }\n",
              "\n",
              "    .dataframe tbody tr th {\n",
              "        vertical-align: top;\n",
              "    }\n",
              "\n",
              "    .dataframe thead th {\n",
              "        text-align: right;\n",
              "    }\n",
              "</style>\n",
              "<table border=\"1\" class=\"dataframe\">\n",
              "  <thead>\n",
              "    <tr style=\"text-align: right;\">\n",
              "      <th></th>\n",
              "      <th></th>\n",
              "      <th>timestamp</th>\n",
              "      <th>duration</th>\n",
              "      <th>number_of_trees</th>\n",
              "      <th>training_rmse</th>\n",
              "      <th>training_logloss</th>\n",
              "      <th>training_classification_error</th>\n",
              "      <th>training_auc</th>\n",
              "      <th>training_pr_auc</th>\n",
              "    </tr>\n",
              "  </thead>\n",
              "  <tbody>\n",
              "    <tr>\n",
              "      <th>0</th>\n",
              "      <td></td>\n",
              "      <td>2021-05-02 09:08:51</td>\n",
              "      <td>21 min 28.058 sec</td>\n",
              "      <td>0.0</td>\n",
              "      <td>NaN</td>\n",
              "      <td>NaN</td>\n",
              "      <td>NaN</td>\n",
              "      <td>NaN</td>\n",
              "      <td>NaN</td>\n",
              "    </tr>\n",
              "    <tr>\n",
              "      <th>1</th>\n",
              "      <td></td>\n",
              "      <td>2021-05-02 09:08:53</td>\n",
              "      <td>21 min 29.802 sec</td>\n",
              "      <td>1.0</td>\n",
              "      <td>0.723530</td>\n",
              "      <td>1.397393</td>\n",
              "      <td>0.594036</td>\n",
              "      <td>NaN</td>\n",
              "      <td>NaN</td>\n",
              "    </tr>\n",
              "    <tr>\n",
              "      <th>2</th>\n",
              "      <td></td>\n",
              "      <td>2021-05-02 09:08:55</td>\n",
              "      <td>21 min 31.578 sec</td>\n",
              "      <td>2.0</td>\n",
              "      <td>0.723196</td>\n",
              "      <td>1.396826</td>\n",
              "      <td>0.594018</td>\n",
              "      <td>NaN</td>\n",
              "      <td>NaN</td>\n",
              "    </tr>\n",
              "    <tr>\n",
              "      <th>3</th>\n",
              "      <td></td>\n",
              "      <td>2021-05-02 09:09:00</td>\n",
              "      <td>21 min 37.531 sec</td>\n",
              "      <td>5.0</td>\n",
              "      <td>0.724132</td>\n",
              "      <td>1.397415</td>\n",
              "      <td>0.596225</td>\n",
              "      <td>NaN</td>\n",
              "      <td>NaN</td>\n",
              "    </tr>\n",
              "    <tr>\n",
              "      <th>4</th>\n",
              "      <td></td>\n",
              "      <td>2021-05-02 09:09:05</td>\n",
              "      <td>21 min 41.808 sec</td>\n",
              "      <td>7.0</td>\n",
              "      <td>0.724052</td>\n",
              "      <td>1.396430</td>\n",
              "      <td>0.595684</td>\n",
              "      <td>NaN</td>\n",
              "      <td>NaN</td>\n",
              "    </tr>\n",
              "    <tr>\n",
              "      <th>5</th>\n",
              "      <td></td>\n",
              "      <td>2021-05-02 09:09:09</td>\n",
              "      <td>21 min 46.124 sec</td>\n",
              "      <td>9.0</td>\n",
              "      <td>0.724083</td>\n",
              "      <td>1.395935</td>\n",
              "      <td>0.595656</td>\n",
              "      <td>NaN</td>\n",
              "      <td>NaN</td>\n",
              "    </tr>\n",
              "    <tr>\n",
              "      <th>6</th>\n",
              "      <td></td>\n",
              "      <td>2021-05-02 09:09:13</td>\n",
              "      <td>21 min 50.420 sec</td>\n",
              "      <td>11.0</td>\n",
              "      <td>0.723992</td>\n",
              "      <td>1.395337</td>\n",
              "      <td>0.595687</td>\n",
              "      <td>NaN</td>\n",
              "      <td>NaN</td>\n",
              "    </tr>\n",
              "    <tr>\n",
              "      <th>7</th>\n",
              "      <td></td>\n",
              "      <td>2021-05-02 09:09:17</td>\n",
              "      <td>21 min 54.538 sec</td>\n",
              "      <td>13.0</td>\n",
              "      <td>0.723730</td>\n",
              "      <td>1.394408</td>\n",
              "      <td>0.594813</td>\n",
              "      <td>NaN</td>\n",
              "      <td>NaN</td>\n",
              "    </tr>\n",
              "    <tr>\n",
              "      <th>8</th>\n",
              "      <td></td>\n",
              "      <td>2021-05-02 09:09:22</td>\n",
              "      <td>21 min 59.343 sec</td>\n",
              "      <td>16.0</td>\n",
              "      <td>0.724024</td>\n",
              "      <td>1.394787</td>\n",
              "      <td>0.595323</td>\n",
              "      <td>NaN</td>\n",
              "      <td>NaN</td>\n",
              "    </tr>\n",
              "    <tr>\n",
              "      <th>9</th>\n",
              "      <td></td>\n",
              "      <td>2021-05-02 09:09:26</td>\n",
              "      <td>22 min  3.468 sec</td>\n",
              "      <td>18.0</td>\n",
              "      <td>0.724119</td>\n",
              "      <td>1.394871</td>\n",
              "      <td>0.594985</td>\n",
              "      <td>NaN</td>\n",
              "      <td>NaN</td>\n",
              "    </tr>\n",
              "    <tr>\n",
              "      <th>10</th>\n",
              "      <td></td>\n",
              "      <td>2021-05-02 09:09:30</td>\n",
              "      <td>22 min  7.533 sec</td>\n",
              "      <td>20.0</td>\n",
              "      <td>0.724375</td>\n",
              "      <td>1.395268</td>\n",
              "      <td>0.595070</td>\n",
              "      <td>NaN</td>\n",
              "      <td>NaN</td>\n",
              "    </tr>\n",
              "    <tr>\n",
              "      <th>11</th>\n",
              "      <td></td>\n",
              "      <td>2021-05-02 09:09:35</td>\n",
              "      <td>22 min 11.930 sec</td>\n",
              "      <td>22.0</td>\n",
              "      <td>0.724369</td>\n",
              "      <td>1.395184</td>\n",
              "      <td>0.595296</td>\n",
              "      <td>NaN</td>\n",
              "      <td>NaN</td>\n",
              "    </tr>\n",
              "    <tr>\n",
              "      <th>12</th>\n",
              "      <td></td>\n",
              "      <td>2021-05-02 09:09:39</td>\n",
              "      <td>22 min 16.135 sec</td>\n",
              "      <td>24.0</td>\n",
              "      <td>0.724304</td>\n",
              "      <td>1.394952</td>\n",
              "      <td>0.594294</td>\n",
              "      <td>NaN</td>\n",
              "      <td>NaN</td>\n",
              "    </tr>\n",
              "    <tr>\n",
              "      <th>13</th>\n",
              "      <td></td>\n",
              "      <td>2021-05-02 09:09:43</td>\n",
              "      <td>22 min 20.389 sec</td>\n",
              "      <td>26.0</td>\n",
              "      <td>0.724218</td>\n",
              "      <td>1.394687</td>\n",
              "      <td>0.593802</td>\n",
              "      <td>NaN</td>\n",
              "      <td>NaN</td>\n",
              "    </tr>\n",
              "    <tr>\n",
              "      <th>14</th>\n",
              "      <td></td>\n",
              "      <td>2021-05-02 09:09:47</td>\n",
              "      <td>22 min 24.487 sec</td>\n",
              "      <td>28.0</td>\n",
              "      <td>0.724356</td>\n",
              "      <td>1.394937</td>\n",
              "      <td>0.594101</td>\n",
              "      <td>NaN</td>\n",
              "      <td>NaN</td>\n",
              "    </tr>\n",
              "    <tr>\n",
              "      <th>15</th>\n",
              "      <td></td>\n",
              "      <td>2021-05-02 09:09:52</td>\n",
              "      <td>22 min 28.769 sec</td>\n",
              "      <td>30.0</td>\n",
              "      <td>0.724267</td>\n",
              "      <td>1.394715</td>\n",
              "      <td>0.593696</td>\n",
              "      <td>NaN</td>\n",
              "      <td>NaN</td>\n",
              "    </tr>\n",
              "    <tr>\n",
              "      <th>16</th>\n",
              "      <td></td>\n",
              "      <td>2021-05-02 09:09:56</td>\n",
              "      <td>22 min 32.855 sec</td>\n",
              "      <td>32.0</td>\n",
              "      <td>0.724262</td>\n",
              "      <td>1.394659</td>\n",
              "      <td>0.594081</td>\n",
              "      <td>NaN</td>\n",
              "      <td>NaN</td>\n",
              "    </tr>\n",
              "    <tr>\n",
              "      <th>17</th>\n",
              "      <td></td>\n",
              "      <td>2021-05-02 09:10:00</td>\n",
              "      <td>22 min 37.059 sec</td>\n",
              "      <td>34.0</td>\n",
              "      <td>0.724261</td>\n",
              "      <td>1.394686</td>\n",
              "      <td>0.594248</td>\n",
              "      <td>NaN</td>\n",
              "      <td>NaN</td>\n",
              "    </tr>\n",
              "    <tr>\n",
              "      <th>18</th>\n",
              "      <td></td>\n",
              "      <td>2021-05-02 09:10:04</td>\n",
              "      <td>22 min 41.355 sec</td>\n",
              "      <td>36.0</td>\n",
              "      <td>0.724306</td>\n",
              "      <td>1.394821</td>\n",
              "      <td>0.594344</td>\n",
              "      <td>NaN</td>\n",
              "      <td>NaN</td>\n",
              "    </tr>\n",
              "    <tr>\n",
              "      <th>19</th>\n",
              "      <td></td>\n",
              "      <td>2021-05-02 09:10:09</td>\n",
              "      <td>22 min 45.789 sec</td>\n",
              "      <td>38.0</td>\n",
              "      <td>0.724384</td>\n",
              "      <td>1.394913</td>\n",
              "      <td>0.594549</td>\n",
              "      <td>NaN</td>\n",
              "      <td>NaN</td>\n",
              "    </tr>\n",
              "  </tbody>\n",
              "</table>\n",
              "</div>"
            ],
            "text/plain": [
              "                timestamp  ... training_auc  training_pr_auc\n",
              "0     2021-05-02 09:08:51  ...          NaN              NaN\n",
              "1     2021-05-02 09:08:53  ...          NaN              NaN\n",
              "2     2021-05-02 09:08:55  ...          NaN              NaN\n",
              "3     2021-05-02 09:09:00  ...          NaN              NaN\n",
              "4     2021-05-02 09:09:05  ...          NaN              NaN\n",
              "5     2021-05-02 09:09:09  ...          NaN              NaN\n",
              "6     2021-05-02 09:09:13  ...          NaN              NaN\n",
              "7     2021-05-02 09:09:17  ...          NaN              NaN\n",
              "8     2021-05-02 09:09:22  ...          NaN              NaN\n",
              "9     2021-05-02 09:09:26  ...          NaN              NaN\n",
              "10    2021-05-02 09:09:30  ...          NaN              NaN\n",
              "11    2021-05-02 09:09:35  ...          NaN              NaN\n",
              "12    2021-05-02 09:09:39  ...          NaN              NaN\n",
              "13    2021-05-02 09:09:43  ...          NaN              NaN\n",
              "14    2021-05-02 09:09:47  ...          NaN              NaN\n",
              "15    2021-05-02 09:09:52  ...          NaN              NaN\n",
              "16    2021-05-02 09:09:56  ...          NaN              NaN\n",
              "17    2021-05-02 09:10:00  ...          NaN              NaN\n",
              "18    2021-05-02 09:10:04  ...          NaN              NaN\n",
              "19    2021-05-02 09:10:09  ...          NaN              NaN\n",
              "\n",
              "[20 rows x 9 columns]"
            ]
          },
          "metadata": {
            "tags": []
          }
        },
        {
          "output_type": "stream",
          "text": [
            "\n",
            "See the whole table with table.as_data_frame()\n",
            "\n",
            "Variable Importances: \n"
          ],
          "name": "stdout"
        },
        {
          "output_type": "display_data",
          "data": {
            "text/html": [
              "<div>\n",
              "<style scoped>\n",
              "    .dataframe tbody tr th:only-of-type {\n",
              "        vertical-align: middle;\n",
              "    }\n",
              "\n",
              "    .dataframe tbody tr th {\n",
              "        vertical-align: top;\n",
              "    }\n",
              "\n",
              "    .dataframe thead th {\n",
              "        text-align: right;\n",
              "    }\n",
              "</style>\n",
              "<table border=\"1\" class=\"dataframe\">\n",
              "  <thead>\n",
              "    <tr style=\"text-align: right;\">\n",
              "      <th></th>\n",
              "      <th>variable</th>\n",
              "      <th>relative_importance</th>\n",
              "      <th>scaled_importance</th>\n",
              "      <th>percentage</th>\n",
              "    </tr>\n",
              "  </thead>\n",
              "  <tbody>\n",
              "    <tr>\n",
              "      <th>0</th>\n",
              "      <td>b_count</td>\n",
              "      <td>128168.164062</td>\n",
              "      <td>1.000000</td>\n",
              "      <td>0.441139</td>\n",
              "    </tr>\n",
              "    <tr>\n",
              "      <th>1</th>\n",
              "      <td>pitch_num</td>\n",
              "      <td>87504.492188</td>\n",
              "      <td>0.682732</td>\n",
              "      <td>0.301180</td>\n",
              "    </tr>\n",
              "    <tr>\n",
              "      <th>2</th>\n",
              "      <td>s_count</td>\n",
              "      <td>41869.820312</td>\n",
              "      <td>0.326679</td>\n",
              "      <td>0.144111</td>\n",
              "    </tr>\n",
              "    <tr>\n",
              "      <th>3</th>\n",
              "      <td>pitch_type</td>\n",
              "      <td>15648.855469</td>\n",
              "      <td>0.122096</td>\n",
              "      <td>0.053861</td>\n",
              "    </tr>\n",
              "    <tr>\n",
              "      <th>4</th>\n",
              "      <td>start_speed</td>\n",
              "      <td>6553.925781</td>\n",
              "      <td>0.051135</td>\n",
              "      <td>0.022558</td>\n",
              "    </tr>\n",
              "    <tr>\n",
              "      <th>5</th>\n",
              "      <td>end_speed</td>\n",
              "      <td>3747.200928</td>\n",
              "      <td>0.029237</td>\n",
              "      <td>0.012897</td>\n",
              "    </tr>\n",
              "    <tr>\n",
              "      <th>6</th>\n",
              "      <td>inning</td>\n",
              "      <td>2438.934326</td>\n",
              "      <td>0.019029</td>\n",
              "      <td>0.008395</td>\n",
              "    </tr>\n",
              "    <tr>\n",
              "      <th>7</th>\n",
              "      <td>score_delta</td>\n",
              "      <td>1566.135498</td>\n",
              "      <td>0.012219</td>\n",
              "      <td>0.005390</td>\n",
              "    </tr>\n",
              "    <tr>\n",
              "      <th>8</th>\n",
              "      <td>b_score</td>\n",
              "      <td>1352.155518</td>\n",
              "      <td>0.010550</td>\n",
              "      <td>0.004654</td>\n",
              "    </tr>\n",
              "    <tr>\n",
              "      <th>9</th>\n",
              "      <td>outs</td>\n",
              "      <td>997.066772</td>\n",
              "      <td>0.007779</td>\n",
              "      <td>0.003432</td>\n",
              "    </tr>\n",
              "    <tr>\n",
              "      <th>10</th>\n",
              "      <td>p_score</td>\n",
              "      <td>581.235840</td>\n",
              "      <td>0.004535</td>\n",
              "      <td>0.002001</td>\n",
              "    </tr>\n",
              "    <tr>\n",
              "      <th>11</th>\n",
              "      <td>p_throws</td>\n",
              "      <td>111.131844</td>\n",
              "      <td>0.000867</td>\n",
              "      <td>0.000383</td>\n",
              "    </tr>\n",
              "  </tbody>\n",
              "</table>\n",
              "</div>"
            ],
            "text/plain": [
              "       variable  relative_importance  scaled_importance  percentage\n",
              "0       b_count        128168.164062           1.000000    0.441139\n",
              "1     pitch_num         87504.492188           0.682732    0.301180\n",
              "2       s_count         41869.820312           0.326679    0.144111\n",
              "3    pitch_type         15648.855469           0.122096    0.053861\n",
              "4   start_speed          6553.925781           0.051135    0.022558\n",
              "5     end_speed          3747.200928           0.029237    0.012897\n",
              "6        inning          2438.934326           0.019029    0.008395\n",
              "7   score_delta          1566.135498           0.012219    0.005390\n",
              "8       b_score          1352.155518           0.010550    0.004654\n",
              "9          outs           997.066772           0.007779    0.003432\n",
              "10      p_score           581.235840           0.004535    0.002001\n",
              "11     p_throws           111.131844           0.000867    0.000383"
            ]
          },
          "metadata": {
            "tags": []
          }
        },
        {
          "output_type": "execute_result",
          "data": {
            "text/plain": [
              "<bound method ModelBase.feature_frequencies of >"
            ]
          },
          "metadata": {
            "tags": []
          },
          "execution_count": 243
        }
      ]
    },
    {
      "cell_type": "markdown",
      "metadata": {
        "id": "-uEUyb4r_kT9"
      },
      "source": [
        "Visualize performance\\\n",
        "*The eighteenth row indicates the total count*\n",
        "\n",
        "According to the [documentation](http://docs.h2o.ai/h2o/latest-stable/h2o-docs/performance-and-prediction.html#confusion-matrix) for CMs using H2O, this model did really well with predicting strikeouts, it only missed 3% of the classifications. This model did not do well at all with predicting small classes reinforcing the idea that we map some of them to other classes. Likely, the best method will be to map classes into:\n",
        "- Hit\n",
        "- HR\n",
        "- Defensive Out\n",
        "- Strikeout\n",
        "- Walk\n"
      ]
    },
    {
      "cell_type": "code",
      "metadata": {
        "colab": {
          "base_uri": "https://localhost:8080/",
          "height": 295
        },
        "id": "BXNV1uey_j-b",
        "outputId": "fd7b512a-a971-4a97-cb81-774cafcb5144"
      },
      "source": [
        "# Confusion Matrix\n",
        "cm = model.confusion_matrix(test)\n",
        "cm"
      ],
      "execution_count": 244,
      "outputs": [
        {
          "output_type": "stream",
          "text": [
            "\n",
            "Confusion Matrix: Row labels: Actual class; Column labels: Predicted class\n"
          ],
          "name": "stdout"
        },
        {
          "output_type": "display_data",
          "data": {
            "text/html": [
              "<div>\n",
              "<style scoped>\n",
              "    .dataframe tbody tr th:only-of-type {\n",
              "        vertical-align: middle;\n",
              "    }\n",
              "\n",
              "    .dataframe tbody tr th {\n",
              "        vertical-align: top;\n",
              "    }\n",
              "\n",
              "    .dataframe thead th {\n",
              "        text-align: right;\n",
              "    }\n",
              "</style>\n",
              "<table border=\"1\" class=\"dataframe\">\n",
              "  <thead>\n",
              "    <tr style=\"text-align: right;\">\n",
              "      <th></th>\n",
              "      <th>Def Out</th>\n",
              "      <th>HR</th>\n",
              "      <th>Non-HR Hit</th>\n",
              "      <th>Other</th>\n",
              "      <th>Strikeout</th>\n",
              "      <th>Walk</th>\n",
              "      <th>Error</th>\n",
              "      <th>Rate</th>\n",
              "    </tr>\n",
              "  </thead>\n",
              "  <tbody>\n",
              "    <tr>\n",
              "      <th>0</th>\n",
              "      <td>45803.0</td>\n",
              "      <td>0.0</td>\n",
              "      <td>0.0</td>\n",
              "      <td>0.0</td>\n",
              "      <td>6887.0</td>\n",
              "      <td>1898.0</td>\n",
              "      <td>0.160933</td>\n",
              "      <td>8,785 / 54,588</td>\n",
              "    </tr>\n",
              "    <tr>\n",
              "      <th>1</th>\n",
              "      <td>3844.0</td>\n",
              "      <td>0.0</td>\n",
              "      <td>0.0</td>\n",
              "      <td>0.0</td>\n",
              "      <td>521.0</td>\n",
              "      <td>193.0</td>\n",
              "      <td>1.000000</td>\n",
              "      <td>4,558 / 4,558</td>\n",
              "    </tr>\n",
              "    <tr>\n",
              "      <th>2</th>\n",
              "      <td>19864.0</td>\n",
              "      <td>0.0</td>\n",
              "      <td>0.0</td>\n",
              "      <td>0.0</td>\n",
              "      <td>2926.0</td>\n",
              "      <td>790.0</td>\n",
              "      <td>1.000000</td>\n",
              "      <td>23,580 / 23,580</td>\n",
              "    </tr>\n",
              "    <tr>\n",
              "      <th>3</th>\n",
              "      <td>846.0</td>\n",
              "      <td>0.0</td>\n",
              "      <td>0.0</td>\n",
              "      <td>0.0</td>\n",
              "      <td>147.0</td>\n",
              "      <td>47.0</td>\n",
              "      <td>1.000000</td>\n",
              "      <td>1,040 / 1,040</td>\n",
              "    </tr>\n",
              "    <tr>\n",
              "      <th>4</th>\n",
              "      <td>29884.0</td>\n",
              "      <td>0.0</td>\n",
              "      <td>0.0</td>\n",
              "      <td>0.0</td>\n",
              "      <td>9413.0</td>\n",
              "      <td>1261.0</td>\n",
              "      <td>0.767913</td>\n",
              "      <td>31,145 / 40,558</td>\n",
              "    </tr>\n",
              "    <tr>\n",
              "      <th>5</th>\n",
              "      <td>13050.0</td>\n",
              "      <td>0.0</td>\n",
              "      <td>0.0</td>\n",
              "      <td>0.0</td>\n",
              "      <td>2619.0</td>\n",
              "      <td>3017.0</td>\n",
              "      <td>0.838542</td>\n",
              "      <td>15,669 / 18,686</td>\n",
              "    </tr>\n",
              "    <tr>\n",
              "      <th>6</th>\n",
              "      <td>113291.0</td>\n",
              "      <td>0.0</td>\n",
              "      <td>0.0</td>\n",
              "      <td>0.0</td>\n",
              "      <td>22513.0</td>\n",
              "      <td>7206.0</td>\n",
              "      <td>0.592805</td>\n",
              "      <td>84,777 / 143,010</td>\n",
              "    </tr>\n",
              "  </tbody>\n",
              "</table>\n",
              "</div>"
            ],
            "text/plain": [
              "    Def Out   HR  Non-HR Hit  ...    Walk     Error              Rate\n",
              "0   45803.0  0.0         0.0  ...  1898.0  0.160933    8,785 / 54,588\n",
              "1    3844.0  0.0         0.0  ...   193.0  1.000000     4,558 / 4,558\n",
              "2   19864.0  0.0         0.0  ...   790.0  1.000000   23,580 / 23,580\n",
              "3     846.0  0.0         0.0  ...    47.0  1.000000     1,040 / 1,040\n",
              "4   29884.0  0.0         0.0  ...  1261.0  0.767913   31,145 / 40,558\n",
              "5   13050.0  0.0         0.0  ...  3017.0  0.838542   15,669 / 18,686\n",
              "6  113291.0  0.0         0.0  ...  7206.0  0.592805  84,777 / 143,010\n",
              "\n",
              "[7 rows x 8 columns]"
            ]
          },
          "metadata": {
            "tags": []
          }
        },
        {
          "output_type": "execute_result",
          "data": {
            "text/plain": [
              ""
            ]
          },
          "metadata": {
            "tags": []
          },
          "execution_count": 244
        }
      ]
    },
    {
      "cell_type": "code",
      "metadata": {
        "colab": {
          "base_uri": "https://localhost:8080/",
          "height": 579
        },
        "id": "qs3I_wskAKjI",
        "outputId": "d6c285a0-8e19-43bd-846b-7841c214849b"
      },
      "source": [
        "# Variable Importance plot\n",
        "model.varimp_plot()"
      ],
      "execution_count": 245,
      "outputs": [
        {
          "output_type": "display_data",
          "data": {
            "image/png": "[encoded data removed]",
            "text/plain": [
              "<Figure size 1008x720 with 1 Axes>"
            ]
          },
          "metadata": {
            "tags": []
          }
        }
      ]
    }
  ]
}